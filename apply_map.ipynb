{
 "cells": [
  {
   "attachments": {},
   "cell_type": "markdown",
   "metadata": {},
   "source": [
    "In Python, the functions `.map()`, `.apply()`, and `.applymap()` are used to apply a function to elements in a pandas DataFrame or Series. <br>\n",
    "Each of these functions has specific use cases and behaviors, so let's go through them one by one with examples:\n",
    "\n",
    "\n",
    "1. `.map()`:\n",
    "The `.map()` function is used to apply a function to each element of a pandas Series. <br>\n",
    "It works with Series objects and is generally used for element-wise transformations. <br>\n",
    "The input can be a dictionary, a Series, or a function that maps the old values to the new ones.\n"
   ]
  },
  {
   "cell_type": "code",
   "execution_count": 1,
   "metadata": {},
   "outputs": [
    {
     "name": "stdout",
     "output_type": "stream",
     "text": [
      "Alice      B\n",
      "Bob        A\n",
      "Charlie    C\n",
      "David      A\n",
      "dtype: object\n"
     ]
    }
   ],
   "source": [
    "import pandas as pd\n",
    "\n",
    "# Sample Series\n",
    "grades = pd.Series({'Alice': 85, 'Bob': 90, 'Charlie': 78, 'David': 92})\n",
    "\n",
    "# Mapping grades to categories\n",
    "def get_category(grade):\n",
    "    if grade >= 90: return 'A'\n",
    "    elif grade >= 80: return 'B'\n",
    "    elif grade >= 70: return 'C'\n",
    "    elif grade >= 60: return 'D'\n",
    "    elif grade >= 50: return 'E'\n",
    "    else: return 'F'\n",
    "\n",
    "# Using .map() to transform grades to categories\n",
    "grade_categories = grades.map(get_category)\n",
    "print(grade_categories)"
   ]
  },
  {
   "attachments": {},
   "cell_type": "markdown",
   "metadata": {},
   "source": [
    "2. `.apply()`:\n",
    "The `.apply()` function can be used with both Series and DataFrames. It applies a function along the specified axis of the DataFrame (by default, `axis=0` for columns). When used with a Series, it works similarly to `.map()` but provides more flexibility for custom functions."
   ]
  },
  {
   "cell_type": "code",
   "execution_count": 2,
   "metadata": {},
   "outputs": [
    {
     "name": "stdout",
     "output_type": "stream",
     "text": [
      "   A   B\n",
      "0  2  10\n",
      "1  4  12\n",
      "2  6  14\n",
      "3  8  16\n"
     ]
    }
   ],
   "source": [
    "import pandas as pd\n",
    "\n",
    "# Sample DataFrame\n",
    "df = pd.DataFrame({'A': [1, 2, 3, 4], 'B': [5, 6, 7, 8]})\n",
    "\n",
    "# Define a custom function to double the values\n",
    "def double(x):\n",
    "    return 2 * x\n",
    "\n",
    "# Using .apply() to double the values in each column\n",
    "doubled_df = df.apply(double)\n",
    "print(doubled_df)"
   ]
  },
  {
   "attachments": {},
   "cell_type": "markdown",
   "metadata": {},
   "source": [
    "3. `.applymap()`:<br>\n",
    "The `.applymap()` function is used only with DataFrames and applies a function element-wise <br>\n",
    "to all the elements of the DataFrame. It is similar to `.map()` but works on the entire <br>\n",
    "DataFrame rather than just a Series.\n"
   ]
  },
  {
   "cell_type": "code",
   "execution_count": 3,
   "metadata": {},
   "outputs": [
    {
     "name": "stdout",
     "output_type": "stream",
     "text": [
      "    A   B   C\n",
      "0  11  14  17\n",
      "1  12  15  18\n",
      "2  13  16  19\n"
     ]
    }
   ],
   "source": [
    "import pandas as pd\n",
    "\n",
    "# Sample DataFrame\n",
    "df = pd.DataFrame({'A': [1, 2, 3], 'B': [4, 5, 6], 'C': [7, 8, 9]})\n",
    "\n",
    "# Define a custom function to add 10 to each element\n",
    "def add_10(x): return x + 10\n",
    "\n",
    "# Using .applymap() to add 10 to all elements\n",
    "result_df = df.applymap(add_10)\n",
    "print(result_df)\n"
   ]
  },
  {
   "attachments": {},
   "cell_type": "markdown",
   "metadata": {},
   "source": [
    "\n",
    "In summary:\n",
    "- `.map()` is used for element-wise transformation on Series, often using a mapping dictionary or function.\n",
    "- `.apply()` is used for applying a function along a specific axis (columns or rows) of a DataFrame or Series.\n",
    "- `.applymap()` is used for element-wise transformation on all elements of a DataFrame."
   ]
  }
 ],
 "metadata": {
  "kernelspec": {
   "display_name": "dsr_b35",
   "language": "python",
   "name": "python3"
  },
  "language_info": {
   "codemirror_mode": {
    "name": "ipython",
    "version": 3
   },
   "file_extension": ".py",
   "mimetype": "text/x-python",
   "name": "python",
   "nbconvert_exporter": "python",
   "pygments_lexer": "ipython3",
   "version": "3.10.11"
  },
  "orig_nbformat": 4
 },
 "nbformat": 4,
 "nbformat_minor": 2
}
