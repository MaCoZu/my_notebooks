{
 "cells": [
  {
   "cell_type": "code",
   "execution_count": 1,
   "metadata": {},
   "outputs": [
    {
     "name": "stdout",
     "output_type": "stream",
     "text": [
      "hello world\n"
     ]
    }
   ],
   "source": [
    "print(\"hello world\")"
   ]
  },
  {
   "attachments": {},
   "cell_type": "markdown",
   "metadata": {},
   "source": [
    "# The Zen of Python"
   ]
  },
  {
   "cell_type": "code",
   "execution_count": 1,
   "metadata": {},
   "outputs": [
    {
     "name": "stdout",
     "output_type": "stream",
     "text": [
      "The Zen of Python, by Tim Peters\n",
      "\n",
      "Beautiful is better than ugly.\n",
      "Explicit is better than implicit.\n",
      "Simple is better than complex.\n",
      "Complex is better than complicated.\n",
      "Flat is better than nested.\n",
      "Sparse is better than dense.\n",
      "Readability counts.\n",
      "Special cases aren't special enough to break the rules.\n",
      "Although practicality beats purity.\n",
      "Errors should never pass silently.\n",
      "Unless explicitly silenced.\n",
      "In the face of ambiguity, refuse the temptation to guess.\n",
      "There should be one-- and preferably only one --obvious way to do it.\n",
      "Although that way may not be obvious at first unless you're Dutch.\n",
      "Now is better than never.\n",
      "Although never is often better than *right* now.\n",
      "If the implementation is hard to explain, it's a bad idea.\n",
      "If the implementation is easy to explain, it may be a good idea.\n",
      "Namespaces are one honking great idea -- let's do more of those!\n"
     ]
    }
   ],
   "source": [
    "import this"
   ]
  },
  {
   "cell_type": "markdown",
   "metadata": {},
   "source": [
    "# constant"
   ]
  },
  {
   "cell_type": "code",
   "execution_count": 3,
   "metadata": {},
   "outputs": [],
   "source": [
    "from typing import Final\n",
    "\n",
    "# Final will tell static type checkers (like mypy) that your variable shouldn't be reassigned\n",
    "VERSION: Final[str] = '1.0.12'"
   ]
  },
  {
   "attachments": {},
   "cell_type": "markdown",
   "metadata": {},
   "source": [
    "# variables\n",
    "\n",
    "**Scalar types** <br>\n",
    "The five ubiquitous scalar types (i.e., single or atomic values) are:<br>\n",
    "• bool (logical) <br>\n",
    "• int , float , complex (numeric)<br>\n",
    "• str (character)\n",
    "\n",
    "**Logical Values** <br>\n",
    "There are only two possible logical (Boolean) values: **True** and **False**.<br>\n",
    "\n",
    "**Numeric values** <br>\n",
    "The three numeric scalar types are: <br>\n",
    "• **int** – integers, e.g., 1 , -42 , 1_000_000 ;<br>\n",
    "• **float** – floating-point (real) numbers, e.g., -1.0 , 3.14159 , 1.23e-4 ;<br>\n",
    "• **complex** (*) – complex numbers, e.g., 1+2j \n",
    "\n",
    "1.23e-4 and 9.8e5 are examples of numbers entered using the so-called scientific<br>\n",
    "notation, where “e2” stands for “times 10 to the power of 2”.\n",
    "\n",
    " Keep in mind that computers’ floating-point arithmetic is precise only up to\n",
    "a few significant digits."
   ]
  },
  {
   "cell_type": "code",
   "execution_count": 13,
   "metadata": {},
   "outputs": [
    {
     "name": "stdout",
     "output_type": "stream",
     "text": [
      "price: 19.95\n",
      "a = 5000.0\n",
      "b = 0.005\n",
      "2 * [(4 / 2) * 3] = 12\n"
     ]
    }
   ],
   "source": [
    "# Variable Assignment\n",
    "age = 20  # integer - whole number\n",
    "price = 19.95  # float - decimal\n",
    "first_name = \"Mario\"  # string - underscore_for readability\n",
    "is_online = True  # boolean - python is case-sensitive\n",
    "print(f\"price: {price}\")  # f-string\n",
    "\n",
    "# Scientific Notation\n",
    "a = 5e3  # 5*10^3=5000\n",
    "b = 5e-3  # 5*10^(-3) = 0.005\n",
    "print(f\"a = {a}\\nb = {b}\")  # \\n - line break\n",
    "\n",
    "\n",
    "x = 4  # Assignment - let `x` from now on be equal to 4\n",
    "x = x / 2  # New variable based on existing ones x = 2\n",
    "x *= x * 3  # Augmented assignments\n",
    "print(\n",
    "    f\"2 * [(4 / 2) * 3] = {int(x)}\"\n",
    ")  # you can use functions and other operations inside f-strings"
   ]
  },
  {
   "cell_type": "code",
   "execution_count": 1,
   "metadata": {},
   "outputs": [
    {
     "data": {
      "text/plain": [
       "complex"
      ]
     },
     "execution_count": 1,
     "metadata": {},
     "output_type": "execute_result"
    }
   ],
   "source": [
    "# Python is an object-oriented programming language. Each object is an instance of\n",
    "# some class whose name we can reveal by calling the type function:\n",
    "x = 1 + 2j\n",
    "type(x)"
   ]
  },
  {
   "cell_type": "code",
   "execution_count": 2,
   "metadata": {},
   "outputs": [
    {
     "name": "stdout",
     "output_type": "stream",
     "text": [
      "Help on class complex in module builtins:\n",
      "\n",
      "class complex(object)\n",
      " |  complex(real=0, imag=0)\n",
      " |  \n",
      " |  Create a complex number from a real part and an optional imaginary part.\n",
      " |  \n",
      " |  This is equivalent to (real + imag*1j) where imag defaults to 0.\n",
      " |  \n",
      " |  Methods defined here:\n",
      " |  \n",
      " |  __abs__(self, /)\n",
      " |      abs(self)\n",
      " |  \n",
      " |  __add__(self, value, /)\n",
      " |      Return self+value.\n",
      " |  \n",
      " |  __bool__(self, /)\n",
      " |      True if self else False\n",
      " |  \n",
      " |  __eq__(self, value, /)\n",
      " |      Return self==value.\n",
      " |  \n",
      " |  __format__(self, format_spec, /)\n",
      " |      Convert to a string according to format_spec.\n",
      " |  \n",
      " |  __ge__(self, value, /)\n",
      " |      Return self>=value.\n",
      " |  \n",
      " |  __getattribute__(self, name, /)\n",
      " |      Return getattr(self, name).\n",
      " |  \n",
      " |  __getnewargs__(self, /)\n",
      " |  \n",
      " |  __gt__(self, value, /)\n",
      " |      Return self>value.\n",
      " |  \n",
      " |  __hash__(self, /)\n",
      " |      Return hash(self).\n",
      " |  \n",
      " |  __le__(self, value, /)\n",
      " |      Return self<=value.\n",
      " |  \n",
      " |  __lt__(self, value, /)\n",
      " |      Return self<value.\n",
      " |  \n",
      " |  __mul__(self, value, /)\n",
      " |      Return self*value.\n",
      " |  \n",
      " |  __ne__(self, value, /)\n",
      " |      Return self!=value.\n",
      " |  \n",
      " |  __neg__(self, /)\n",
      " |      -self\n",
      " |  \n",
      " |  __pos__(self, /)\n",
      " |      +self\n",
      " |  \n",
      " |  __pow__(self, value, mod=None, /)\n",
      " |      Return pow(self, value, mod).\n",
      " |  \n",
      " |  __radd__(self, value, /)\n",
      " |      Return value+self.\n",
      " |  \n",
      " |  __repr__(self, /)\n",
      " |      Return repr(self).\n",
      " |  \n",
      " |  __rmul__(self, value, /)\n",
      " |      Return value*self.\n",
      " |  \n",
      " |  __rpow__(self, value, mod=None, /)\n",
      " |      Return pow(value, self, mod).\n",
      " |  \n",
      " |  __rsub__(self, value, /)\n",
      " |      Return value-self.\n",
      " |  \n",
      " |  __rtruediv__(self, value, /)\n",
      " |      Return value/self.\n",
      " |  \n",
      " |  __sub__(self, value, /)\n",
      " |      Return self-value.\n",
      " |  \n",
      " |  __truediv__(self, value, /)\n",
      " |      Return self/value.\n",
      " |  \n",
      " |  conjugate(self, /)\n",
      " |      Return the complex conjugate of its argument. (3-4j).conjugate() == 3+4j.\n",
      " |  \n",
      " |  ----------------------------------------------------------------------\n",
      " |  Static methods defined here:\n",
      " |  \n",
      " |  __new__(*args, **kwargs) from builtins.type\n",
      " |      Create and return a new object.  See help(type) for accurate signature.\n",
      " |  \n",
      " |  ----------------------------------------------------------------------\n",
      " |  Data descriptors defined here:\n",
      " |  \n",
      " |  imag\n",
      " |      the imaginary part of a complex number\n",
      " |  \n",
      " |  real\n",
      " |      the real part of a complex number\n",
      "\n"
     ]
    }
   ],
   "source": [
    "help(\"complex\")"
   ]
  },
  {
   "cell_type": "code",
   "execution_count": null,
   "metadata": {},
   "outputs": [
    {
     "name": "stdout",
     "output_type": "stream",
     "text": [
      "1.0\n",
      "2.0\n"
     ]
    },
    {
     "data": {
      "text/plain": [
       "(1-2j)"
      ]
     },
     "metadata": {},
     "output_type": "display_data"
    }
   ],
   "source": [
    "print(x.real)  # access slot `real` of object `x` of the class `complex`\n",
    "print(x.imag)\n",
    "\n",
    "# And here is an example of a method call:\n",
    "x.conjugate()  # equivalently: complex.conjugate(x)"
   ]
  },
  {
   "attachments": {},
   "cell_type": "markdown",
   "metadata": {},
   "source": [
    "## multiple assignment"
   ]
  },
  {
   "cell_type": "code",
   "execution_count": 1,
   "metadata": {},
   "outputs": [
    {
     "name": "stdout",
     "output_type": "stream",
     "text": [
      "Orange Banana Cherry\n",
      "Orange Orange Orange\n"
     ]
    }
   ],
   "source": [
    "## define many variables in one go\n",
    "x, y, z = \"Orange\", \"Banana\", \"Cherry\"\n",
    "print(x, y, z)\n",
    "\n",
    "# all variables are \"Orange\" now\n",
    "x = y = z = \"Orange\"\n",
    "print(x, y, z)"
   ]
  },
  {
   "attachments": {},
   "cell_type": "markdown",
   "metadata": {},
   "source": [
    "## unpacking \n",
    "... a collection"
   ]
  },
  {
   "cell_type": "code",
   "execution_count": 5,
   "metadata": {},
   "outputs": [
    {
     "name": "stdout",
     "output_type": "stream",
     "text": [
      "apple banana cherry\n",
      "Bananas Apples\n",
      "min: 3 -- max: 5\n"
     ]
    }
   ],
   "source": [
    "fruits = [\"apple\", \"banana\", \"cherry\"]\n",
    "x, y, z = fruits\n",
    "print(x, y, z)\n",
    "\n",
    "# unpacking let's you swap values without one value getting lost in the process,\n",
    "# bc. if you'd overwrite b = a in a seperate step the value stored in b is then lost\n",
    "a, b = \"Apples\", \"Bananas\"\n",
    "b, a = a, b\n",
    "print(a, b)\n",
    "\n",
    "# this might help in a situation where two values where mixed up\n",
    "min_ = 5\n",
    "max_ = 3\n",
    "\n",
    "if min_ > max_:\n",
    "    min_, max_ = max_, min_  # switch the values\n",
    "\n",
    "print(f\"min: {min_} -- max: {max_}\")"
   ]
  },
  {
   "attachments": {},
   "cell_type": "markdown",
   "metadata": {},
   "source": [
    "## unpacking -- partial assignment"
   ]
  },
  {
   "cell_type": "code",
   "execution_count": 14,
   "metadata": {},
   "outputs": [
    {
     "name": "stdout",
     "output_type": "stream",
     "text": [
      "first: 1,   last: 7,   rest: [2, 3, 5]\n",
      "1 2 [3, 4, 5, 6] 7\n"
     ]
    }
   ],
   "source": [
    "# Use the asterisk operator (*) to unpack all the values of an iterable that are not assigned yet.\n",
    "# * is a container for all values that are not explicitly assigned.\n",
    "first, *unused, last = [1, 2, 3, 5, 7]\n",
    "print(f\"first: {first},   last: {last},   rest: {unused}\")\n",
    "\n",
    "a, b, *c, d = ( 1, 2, 3, 4, 5, 6, 7, )  # c takes all values which have no corresponding variable\n",
    "print(a, b, c, d)"
   ]
  },
  {
   "attachments": {},
   "cell_type": "markdown",
   "metadata": {},
   "source": [
    "## ignoring values \n",
    "... with underscore _"
   ]
  },
  {
   "cell_type": "code",
   "execution_count": 15,
   "metadata": {},
   "outputs": [
    {
     "name": "stdout",
     "output_type": "stream",
     "text": [
      "1 2\n",
      "1 7\n"
     ]
    }
   ],
   "source": [
    "# If we want to ignore some variables we can use underscore (dummy variable) and avoid error messages.\n",
    "# Variables and values need to match, when you assign like this:\n",
    "j, k, _, _ = (1, 2, 3, 4)\n",
    "print(j, k)\n",
    "\n",
    "# Here the all the values that are not assigned will be ignored.\n",
    "# Variables and values don't need to match in number.\n",
    "first, *_, last = [1, 2, 3, 5, 7]\n",
    "print(first, last)"
   ]
  },
  {
   "attachments": {},
   "cell_type": "markdown",
   "metadata": {},
   "source": [
    "## type conversion"
   ]
  },
  {
   "cell_type": "code",
   "execution_count": 6,
   "metadata": {},
   "outputs": [
    {
     "data": {
      "text/plain": [
       "False"
      ]
     },
     "execution_count": 6,
     "metadata": {},
     "output_type": "execute_result"
    }
   ],
   "source": [
    "int(1.3556)  # make float an int\n",
    "float(23)  # int to float\n",
    "type(str(40))  # int to string\n",
    "bool(0)  # int to bool"
   ]
  },
  {
   "cell_type": "markdown",
   "metadata": {},
   "source": [
    "## type annotation"
   ]
  },
  {
   "cell_type": "code",
   "execution_count": 1,
   "metadata": {},
   "outputs": [],
   "source": [
    "age = 'Bob'\n",
    "age: int = 'Bob'"
   ]
  },
  {
   "attachments": {},
   "cell_type": "markdown",
   "metadata": {},
   "source": [
    "## round "
   ]
  },
  {
   "cell_type": "code",
   "execution_count": 18,
   "metadata": {},
   "outputs": [
    {
     "name": "stdout",
     "output_type": "stream",
     "text": [
      "2606.9\n",
      "2606.90\n"
     ]
    }
   ],
   "source": [
    "x = 2606.89579999999\n",
    "round(x)  # default is to round to whole number\n",
    "print(round(x, 2))  # even if two decimal are asked it returns only one\n",
    "print(f\"{x:.2f}\")  # using an f-string"
   ]
  },
  {
   "attachments": {},
   "cell_type": "markdown",
   "metadata": {},
   "source": [
    "# arithmetic operator"
   ]
  },
  {
   "cell_type": "code",
   "execution_count": 1,
   "metadata": {},
   "outputs": [
    {
     "name": "stdout",
     "output_type": "stream",
     "text": [
      "12\n",
      "3.3333333333333335\n",
      "3\n",
      "1\n",
      "1000\n"
     ]
    }
   ],
   "source": [
    "print(10 + 2)\n",
    "print(10 / 3)  # decimal division\n",
    "print(10 // 3)  # integer division, floor division\n",
    "print(10 % 3)  # modulos gives remainder of the integer divison\n",
    "print(10**3)  # exponent 10 to the power of three"
   ]
  },
  {
   "attachments": {},
   "cell_type": "markdown",
   "metadata": {},
   "source": [
    "Some arithmetic operators were overloaded for certain sequential types, <br>\n",
    "but they carry different meanings than those for integers and floats.<br>\n",
    "In particular, ` + ` can be used to join (concatenate) strings, lists, and tuples:"
   ]
  },
  {
   "cell_type": "code",
   "execution_count": 19,
   "metadata": {},
   "outputs": [
    {
     "name": "stdout",
     "output_type": "stream",
     "text": [
      "spam bacon\n",
      "[1, 2, 3, 4]\n",
      "(4, 3, 1, 2)\n",
      "spamspamspam\n"
     ]
    }
   ],
   "source": [
    "print(\"spam\" + \" \" + \"bacon\")  # concatenate strings\n",
    "print([1, 2, 3] + [4])  # concat lists\n",
    "print((4, 3) + (1, 2))\n",
    "\n",
    "print(\"spam\" * 3)  #   * duplicates (recycles) a given sequence"
   ]
  },
  {
   "attachments": {},
   "cell_type": "markdown",
   "metadata": {},
   "source": [
    "## augmented assignment operator"
   ]
  },
  {
   "cell_type": "code",
   "execution_count": 2,
   "metadata": {},
   "outputs": [
    {
     "name": "stdout",
     "output_type": "stream",
     "text": [
      "13\n",
      "16\n",
      "48\n"
     ]
    }
   ],
   "source": [
    "x = 10\n",
    "x += 3  # x = 10 + 3\n",
    "print(x)\n",
    "x *= 3  # x = 13 * 3\n",
    "print(x)"
   ]
  },
  {
   "attachments": {},
   "cell_type": "markdown",
   "metadata": {},
   "source": [
    "## operater precedence"
   ]
  },
  {
   "attachments": {},
   "cell_type": "markdown",
   "metadata": {},
   "source": [
    "<details>\n",
    "<summary>Operator precedence order - Click to expand</summary>\n",
    "\n",
    "In Python, operators have different levels of precedence, which determines the order in which they are evaluated in an expression. Here is the order of operator precedence in Python, from highest to lowest:\n",
    "\n",
    "1. Parentheses: `( )`\n",
    "2. Exponentiation: `**`\n",
    "3. Unary positive and negative: `+x`, `-x`\n",
    "4. Multiplication, division, and modulo: `*`, `/`, `//`, `%`\n",
    "5. Addition and subtraction: `+`, `-`\n",
    "6. Bitwise shift operators: `<<`, `>>`\n",
    "7. Bitwise AND: `&`\n",
    "8. Bitwise OR: `|`\n",
    "9. Bitwise XOR: `^`\n",
    "10. Comparison operators: `<`, `<=`, `>`, `>=`, `==`, `!=`\n",
    "11. Membership operators: `in`, `not in`\n",
    "12. Identity operators: `is`, `is not`\n",
    "13. Logical NOT: `not`\n",
    "14. Logical AND: `and`\n",
    "15. Logical OR: `or`\n",
    "\n",
    "It's important to note that when operators have the same precedence, their evaluation order is determined by their associativity, which is usually left-to-right for most operators.\n",
    "\n",
    "To ensure the desired order of evaluation, you can use parentheses to explicitly group parts of an expression.\n",
    "\n",
    "</details>\n"
   ]
  },
  {
   "cell_type": "code",
   "execution_count": 3,
   "metadata": {},
   "outputs": [
    {
     "name": "stdout",
     "output_type": "stream",
     "text": [
      "16\n",
      "26\n"
     ]
    }
   ],
   "source": [
    "# first multiplication then addition\n",
    "print(10 + 3 * 2)\n",
    "\n",
    "# 13 * 2\n",
    "print((10 + 3) * 2)"
   ]
  },
  {
   "attachments": {},
   "cell_type": "markdown",
   "metadata": {},
   "source": [
    "## comparison operators"
   ]
  },
  {
   "cell_type": "code",
   "execution_count": 11,
   "metadata": {},
   "outputs": [
    {
     "name": "stdout",
     "output_type": "stream",
     "text": [
      "True\n",
      "True\n",
      "True\n",
      "False\n",
      "True\n"
     ]
    }
   ],
   "source": [
    "# creates a boolean,  <, <=, >=, also work\n",
    "print(3 > 2)\n",
    "print(4 <= 4)\n",
    "print(50 <= 50 < 250)\n",
    "\n",
    "# equality operator, not to be confused with \"=\" assignment operator\n",
    "print(3 == 2)\n",
    "\n",
    "# unequal\n",
    "print(4 != 2)"
   ]
  },
  {
   "attachments": {},
   "cell_type": "markdown",
   "metadata": {},
   "source": [
    "# logical operators\n",
    "\n"
   ]
  },
  {
   "cell_type": "code",
   "execution_count": 27,
   "metadata": {},
   "outputs": [
    {
     "name": "stdout",
     "output_type": "stream",
     "text": [
      "True\n",
      "True\n",
      "True\n",
      "True\n",
      "False\n",
      "False\n",
      "True\n"
     ]
    }
   ],
   "source": [
    "price = 25\n",
    "\n",
    "print(price > 10 and price < 30)  # both have to be hold\n",
    "print(price > 10 or price < 20)  # one has to hold\n",
    "print(price <= 25 and not price >= 50)\n",
    "print(price == 25)\n",
    "print(not price > 10)  # changes the boolean output\n",
    "print((price > 30) ^ (price > 26))  # XOR - true if only one is true\n",
    "print((price < 12) ^ (price > 12))  # XOR - true if only one is true"
   ]
  },
  {
   "attachments": {},
   "cell_type": "markdown",
   "metadata": {},
   "source": [
    "## all() & any()"
   ]
  },
  {
   "cell_type": "code",
   "execution_count": 13,
   "metadata": {},
   "outputs": [
    {
     "name": "stdout",
     "output_type": "stream",
     "text": [
      "True\n",
      "False\n",
      "True\n",
      "True\n",
      "False\n"
     ]
    }
   ],
   "source": [
    "# all - returns True if all items are true or iterable is empty\n",
    "print(all([True, True, True]))\n",
    "print(all([True, False, True]))\n",
    "print(all([]))\n",
    "\n",
    "# any\n",
    "print(any([0, 1, False]))  # returns True if any (one) item in an iterable is true\n",
    "print(any([]))  # If the iterable object is empty, the any() returns False"
   ]
  },
  {
   "cell_type": "code",
   "execution_count": 1,
   "metadata": {},
   "outputs": [
    {
     "name": "stdout",
     "output_type": "stream",
     "text": [
      "At least one True\n",
      "At least one True and one False\n"
     ]
    }
   ],
   "source": [
    "x = [True, True, False]\n",
    "if any(x):\n",
    "    print(\"At least one True\")\n",
    "if all(x):\n",
    "    print(\"Not one False\")\n",
    "if any(x) and not all(x):\n",
    "    print(\"At least one True and one False\")"
   ]
  },
  {
   "attachments": {},
   "cell_type": "markdown",
   "metadata": {},
   "source": [
    "## if\n",
    "The if statement allows us to execute a chunk of code conditionally, based on whether\n",
    "the provided expression is true or not. \n",
    "\n",
    "Multiple elif (else-if ) parts can also be added. They can be followed by an optional else\n",
    "part, which is executed if all the conditions tested are not true."
   ]
  },
  {
   "cell_type": "code",
   "execution_count": 6,
   "metadata": {},
   "outputs": [
    {
     "name": "stdout",
     "output_type": "stream",
     "text": [
      "bacon!\n"
     ]
    }
   ],
   "source": [
    "import numpy as np\n",
    "\n",
    "x = np.random.rand()\n",
    "if x < 0.25:\n",
    "    print(\"spam!\")\n",
    "elif x < 0.5:\n",
    "    print(\"ham!\")  # i.e., x in [0.25, 0.5)\n",
    "elif x < 0.75:\n",
    "    print(\"bacon!\")  # i.e., x in [0.5, 0.75)\n",
    "else:\n",
    "    print(\"eggs!\")  # i.e., x >= 0.75"
   ]
  },
  {
   "attachments": {},
   "cell_type": "markdown",
   "metadata": {},
   "source": [
    "## nested if"
   ]
  },
  {
   "cell_type": "code",
   "execution_count": 2,
   "metadata": {},
   "outputs": [
    {
     "name": "stdout",
     "output_type": "stream",
     "text": [
      "x greater than 5\n",
      "x is not more than 10\n"
     ]
    }
   ],
   "source": [
    "x = 7\n",
    "if x > 5:\n",
    "    print(\"x greater than 5\")\n",
    "    if x > 10:\n",
    "        print(\"x greater than 10\")\n",
    "    else:\n",
    "        print(\"x is not more than 10\")"
   ]
  },
  {
   "attachments": {},
   "cell_type": "markdown",
   "metadata": {},
   "source": [
    "## Ternary Operators, or Conditional Expressions"
   ]
  },
  {
   "cell_type": "code",
   "execution_count": 1,
   "metadata": {},
   "outputs": [
    {
     "name": "stdout",
     "output_type": "stream",
     "text": [
      "a is greater than b\n",
      "A\n",
      "C > B\n",
      "a isn't 30\n"
     ]
    }
   ],
   "source": [
    "# If you have only one statement to execute,\n",
    "# you can put it on the same line as the if statement.\n",
    "a = 50\n",
    "b = 40\n",
    "c = 60\n",
    "if a > b:\n",
    "    print(\"a is greater than b\")\n",
    "\n",
    "print(\"A\") if a > b else print(\"B\")\n",
    "\n",
    "# This technique is known as Ternary Operators, or Conditional Expressions.\n",
    "print(\"B > C\") if b > c else print(\"B=C\") if b == c else print(\"C > B\")\n",
    "\n",
    "# assign value depending on if...else\n",
    "print(\"a is 30\") if a == 30 else print(\"a isn't 30\")"
   ]
  },
  {
   "attachments": {},
   "cell_type": "markdown",
   "metadata": {},
   "source": [
    "# sequential objects: collections, containers\n",
    "- lists: mutable sequence of values\n",
    "- tuple: fixed squence of values\n",
    "- set: sequence of distinct values\n",
    "- dictionary: mutable set of key-value pairs\n",
    "- ranges\n",
    "- strings"
   ]
  },
  {
   "attachments": {},
   "cell_type": "markdown",
   "metadata": {},
   "source": [
    "## lists\n",
    "- List items are indexed, the first item has index [0],\n",
    "- to store multiple items of different types in a single variable.\n",
    "- List items are ordered, changeable, and allow duplicate values."
   ]
  },
  {
   "cell_type": "code",
   "execution_count": 29,
   "metadata": {},
   "outputs": [],
   "source": [
    "x = [True, \"two\", 3, [4j, 5, \"six\"], None]"
   ]
  },
  {
   "cell_type": "code",
   "execution_count": 20,
   "metadata": {},
   "outputs": [
    {
     "name": "stdout",
     "output_type": "stream",
     "text": [
      "['__add__', '__class__', '__class_getitem__']\n"
     ]
    },
    {
     "data": {
      "text/plain": [
       "['append',\n",
       " 'clear',\n",
       " 'copy',\n",
       " 'count',\n",
       " 'extend',\n",
       " 'index',\n",
       " 'insert',\n",
       " 'pop',\n",
       " 'remove',\n",
       " 'reverse',\n",
       " 'sort']"
      ]
     },
     "execution_count": 20,
     "metadata": {},
     "output_type": "execute_result"
    }
   ],
   "source": [
    "### list methods\n",
    "print(dir(x)[:3])\n",
    "\n",
    "# see list methods\n",
    "[fct for fct in dir(x) if \"__\" not in fct]  # exclude __dunder__"
   ]
  },
  {
   "cell_type": "code",
   "execution_count": 28,
   "metadata": {},
   "outputs": [
    {
     "name": "stdout",
     "output_type": "stream",
     "text": [
      "Help on method_descriptor:\n",
      "\n",
      "count(self, value, /)\n",
      "    Return number of occurrences of value.\n",
      "\n"
     ]
    }
   ],
   "source": [
    "help(list.count)"
   ]
  },
  {
   "attachments": {},
   "cell_type": "markdown",
   "metadata": {},
   "source": [
    "<details>\n",
    "<summary> List methods - Click to expand</summary>\n",
    "\n",
    "append()    # Adds an element at the end of the list  <br>\n",
    "clear()\t        # Removes all the elements from the list <br>\n",
    "copy()          # Returns a copy of the list <br>\n",
    "count()\t       # Returns the number of elements with the specified value <br>\n",
    "extend()\t  # Add the elements of a list (or any iterable), to the end of the current list <br>\n",
    "index()\t        # Returns the index of the first element with the specified value <br>\n",
    "insert()\t    # Adds an element at the specified position <br>\n",
    "pop()\t        # Removes the element at the specified position <br>\n",
    "remove()\t# Removes the item with the specified value <br>\n",
    "reverse()\t # Reverses the order of the list <br>\n",
    "sort()\t        # Sorts the list <br>\n",
    "\n",
    "</details>"
   ]
  },
  {
   "cell_type": "code",
   "execution_count": 30,
   "metadata": {},
   "outputs": [
    {
     "data": {
      "text/plain": [
       "3"
      ]
     },
     "execution_count": 30,
     "metadata": {},
     "output_type": "execute_result"
    }
   ],
   "source": [
    "l = [0, 1, 2, 2, 2, 3, 4, 5, 6, 7, 8, 9]\n",
    "len(l)  # get lenght of list\n",
    "type(l)  # get data type\n",
    "sum(l)  # sum elements\n",
    "l.count(2)  # count the twos"
   ]
  },
  {
   "attachments": {},
   "cell_type": "markdown",
   "metadata": {},
   "source": [
    "### list indexing"
   ]
  },
  {
   "cell_type": "code",
   "execution_count": 34,
   "metadata": {},
   "outputs": [
    {
     "data": {
      "text/plain": [
       "34"
      ]
     },
     "execution_count": 34,
     "metadata": {},
     "output_type": "execute_result"
    }
   ],
   "source": [
    "list1 = [\"abc\", 34, True, 40, \"male\", \"male\"]\n",
    "list1[5]  # get element by index\n",
    "list1[-1]  # last element\n",
    "list1[2]  # 3rd element\n",
    "list1[-5]  # 5th from the right"
   ]
  },
  {
   "attachments": {},
   "cell_type": "markdown",
   "metadata": {},
   "source": [
    "### slicing"
   ]
  },
  {
   "cell_type": "code",
   "execution_count": 33,
   "metadata": {},
   "outputs": [
    {
     "name": "stdout",
     "output_type": "stream",
     "text": [
      "[1, 2, 3]\n",
      "[9, 7, 5, 3, 1]\n",
      "[0, 3, 6, 9]\n",
      "[9, 8, 7]\n",
      "[9, 7, 5, 3, 1]\n"
     ]
    }
   ],
   "source": [
    "x = [0, 1, 2, 3, 4, 5, 6, 7, 8, 9]\n",
    "# A slice can take a third argument to indicate its stride, which can be negative\n",
    "# from: to : by\n",
    "\n",
    "print(x[1:4])  # from 2nd to 5th (exclusive)\n",
    "print(x[-1:0:-2])  # from last to first (exclusive) by every 2nd backwards\n",
    "\n",
    "print(x[::3])  # every third\n",
    "print(x[10:6:-1])  # tenth to seventh element (exclusive)"
   ]
  },
  {
   "attachments": {},
   "cell_type": "markdown",
   "metadata": {},
   "source": [
    "### extraction is not subsetting\n",
    "Knowing the difference between element extraction and subsetting a sequence (creating a subsequence) is crucial."
   ]
  },
  {
   "cell_type": "code",
   "execution_count": 38,
   "metadata": {},
   "outputs": [
    {
     "name": "stdout",
     "output_type": "stream",
     "text": [
      "<class 'int'>\n",
      "<class 'list'>\n"
     ]
    }
   ],
   "source": [
    "x = [9, 3, 4]\n",
    "\n",
    "# extraction (indexing with a single integer)\n",
    "print(type(x[0]))\n",
    "\n",
    "# subsetting (indexing with a slice), gives the object of the same type as x (here, a list)\n",
    "print(type(x[0:1]))"
   ]
  },
  {
   "attachments": {},
   "cell_type": "markdown",
   "metadata": {},
   "source": [
    "### list of lists \n",
    "concatenate lists"
   ]
  },
  {
   "cell_type": "code",
   "execution_count": 43,
   "metadata": {},
   "outputs": [
    {
     "data": {
      "text/plain": [
       "[1, 2, 3, 'hello', 4, 6]"
      ]
     },
     "execution_count": 43,
     "metadata": {},
     "output_type": "execute_result"
    }
   ],
   "source": [
    "int_list = [1, 2, 3]\n",
    "hetero_list = [\"string\", 0.1, True]\n",
    "[int_list, hetero_list, [2, 4]]  # list concatenation\n",
    "int_list + [\"hello\", 4, 6]  # concatenate with +"
   ]
  },
  {
   "attachments": {},
   "cell_type": "markdown",
   "metadata": {},
   "source": [
    "### list constructor"
   ]
  },
  {
   "cell_type": "code",
   "execution_count": 46,
   "metadata": {},
   "outputs": [],
   "source": [
    "names = list(\n",
    "    (\"John\", \"Marco\", \"Marry\", \"Julia\", \"John\")\n",
    ")  # note the double round-bracketsc"
   ]
  },
  {
   "cell_type": "code",
   "execution_count": 1,
   "metadata": {},
   "outputs": [],
   "source": [
    "### change lists, extend, append, pop, removes"
   ]
  },
  {
   "cell_type": "code",
   "execution_count": 49,
   "metadata": {},
   "outputs": [
    {
     "name": "stdout",
     "output_type": "stream",
     "text": [
      "['Hannah', 'Ria', 'Marco', 'Marry', 'Julia', 'John']\n",
      "['Hannah', 'Ria', 'Marco', 'Marry', 'Julia', 'John', 'Frederik', 'Youssuf']\n",
      "['Hannah', 'Ria', 'Marco', 'Marry', 'Julia', 'John', 'Frederik', 'Youssuf', 'Latifa']\n",
      "['Hannah', 'Ria', 'Marco', 'Marry', 'Julia', 'John', 'Frederik', 'Youssuf']\n",
      "['Hannah', 'Ria', 'Marco', 'Marry', 'Julia', 'Frederik', 'Youssuf']\n"
     ]
    }
   ],
   "source": [
    "names = list(\n",
    "    (\"John\", \"Marco\", \"Marry\", \"Julia\", \"John\")\n",
    ")  # note the double round-bracketsc\n",
    "\n",
    "names[0] = \"Jon\"  # updates the list/ replace a value lists are mutable\n",
    "names[0:1] = [\"Hannah\", \"Ria\"]  # replace first two\n",
    "print(names)\n",
    "\n",
    "names.extend([\"Frederik\", \"Youssuf\"])\n",
    "print(names)\n",
    "\n",
    "names.append(\"Latifa\")\n",
    "print(names)\n",
    "\n",
    "names.pop()  # drops last entry\n",
    "print(names)\n",
    "\n",
    "names.remove(\"John\")  # removes John\n",
    "print(names)"
   ]
  },
  {
   "attachments": {},
   "cell_type": "markdown",
   "metadata": {},
   "source": [
    "### modifying elements "
   ]
  },
  {
   "cell_type": "code",
   "execution_count": 23,
   "metadata": {},
   "outputs": [
    {
     "name": "stdout",
     "output_type": "stream",
     "text": [
      "['spam', 'two', 'bacon', 'eggs']\n"
     ]
    }
   ],
   "source": [
    "x = [\"one\", \"two\", \"three\", \"four\", \"five\"]\n",
    "x[0] = \"spam\"  # replace the first element\n",
    "x[-3:] = [\"bacon\", \"eggs\"]  # replace last three with given two\n",
    "print(x)"
   ]
  },
  {
   "cell_type": "code",
   "execution_count": 24,
   "metadata": {},
   "outputs": [
    {
     "name": "stdout",
     "output_type": "stream",
     "text": [
      "Help on class list in module builtins:\n",
      "\n",
      "class list(object)\n",
      " |  list(iterable=(), /)\n",
      " |  \n",
      " |  Built-in mutable sequence.\n",
      " |  \n",
      " |  If no argument is given, the constructor creates a new empty list.\n",
      " |  The argument must be an iterable if specified.\n",
      " |  \n",
      " |  Methods defined here:\n",
      " |  \n",
      " |  __add__(self, value, /)\n",
      " |      Return self+value.\n",
      " |  \n",
      " |  __contains__(self, key, /)\n",
      " |      Return key in self.\n",
      " |  \n",
      " |  __delitem__(self, key, /)\n",
      " |      Delete self[key].\n",
      " |  \n",
      " |  __eq__(self, value, /)\n",
      " |      Return self==value.\n",
      " |  \n",
      " |  __ge__(self, value, /)\n",
      " |      Return self>=value.\n",
      " |  \n",
      " |  __getattribute__(self, name, /)\n",
      " |      Return getattr(self, name).\n",
      " |  \n",
      " |  __getitem__(...)\n",
      " |      x.__getitem__(y) <==> x[y]\n",
      " |  \n",
      " |  __gt__(self, value, /)\n",
      " |      Return self>value.\n",
      " |  \n",
      " |  __iadd__(self, value, /)\n",
      " |      Implement self+=value.\n",
      " |  \n",
      " |  __imul__(self, value, /)\n",
      " |      Implement self*=value.\n",
      " |  \n",
      " |  __init__(self, /, *args, **kwargs)\n",
      " |      Initialize self.  See help(type(self)) for accurate signature.\n",
      " |  \n",
      " |  __iter__(self, /)\n",
      " |      Implement iter(self).\n",
      " |  \n",
      " |  __le__(self, value, /)\n",
      " |      Return self<=value.\n",
      " |  \n",
      " |  __len__(self, /)\n",
      " |      Return len(self).\n",
      " |  \n",
      " |  __lt__(self, value, /)\n",
      " |      Return self<value.\n",
      " |  \n",
      " |  __mul__(self, value, /)\n",
      " |      Return self*value.\n",
      " |  \n",
      " |  __ne__(self, value, /)\n",
      " |      Return self!=value.\n",
      " |  \n",
      " |  __repr__(self, /)\n",
      " |      Return repr(self).\n",
      " |  \n",
      " |  __reversed__(self, /)\n",
      " |      Return a reverse iterator over the list.\n",
      " |  \n",
      " |  __rmul__(self, value, /)\n",
      " |      Return value*self.\n",
      " |  \n",
      " |  __setitem__(self, key, value, /)\n",
      " |      Set self[key] to value.\n",
      " |  \n",
      " |  __sizeof__(self, /)\n",
      " |      Return the size of the list in memory, in bytes.\n",
      " |  \n",
      " |  append(self, object, /)\n",
      " |      Append object to the end of the list.\n",
      " |  \n",
      " |  clear(self, /)\n",
      " |      Remove all items from list.\n",
      " |  \n",
      " |  copy(self, /)\n",
      " |      Return a shallow copy of the list.\n",
      " |  \n",
      " |  count(self, value, /)\n",
      " |      Return number of occurrences of value.\n",
      " |  \n",
      " |  extend(self, iterable, /)\n",
      " |      Extend list by appending elements from the iterable.\n",
      " |  \n",
      " |  index(self, value, start=0, stop=9223372036854775807, /)\n",
      " |      Return first index of value.\n",
      " |      \n",
      " |      Raises ValueError if the value is not present.\n",
      " |  \n",
      " |  insert(self, index, object, /)\n",
      " |      Insert object before index.\n",
      " |  \n",
      " |  pop(self, index=-1, /)\n",
      " |      Remove and return item at index (default last).\n",
      " |      \n",
      " |      Raises IndexError if list is empty or index is out of range.\n",
      " |  \n",
      " |  remove(self, value, /)\n",
      " |      Remove first occurrence of value.\n",
      " |      \n",
      " |      Raises ValueError if the value is not present.\n",
      " |  \n",
      " |  reverse(self, /)\n",
      " |      Reverse *IN PLACE*.\n",
      " |  \n",
      " |  sort(self, /, *, key=None, reverse=False)\n",
      " |      Sort the list in ascending order and return None.\n",
      " |      \n",
      " |      The sort is in-place (i.e. the list itself is modified) and stable (i.e. the\n",
      " |      order of two equal elements is maintained).\n",
      " |      \n",
      " |      If a key function is given, apply it once to each list item and sort them,\n",
      " |      ascending or descending, according to their function values.\n",
      " |      \n",
      " |      The reverse flag can be set to sort in descending order.\n",
      " |  \n",
      " |  ----------------------------------------------------------------------\n",
      " |  Class methods defined here:\n",
      " |  \n",
      " |  __class_getitem__(...) from builtins.type\n",
      " |      See PEP 585\n",
      " |  \n",
      " |  ----------------------------------------------------------------------\n",
      " |  Static methods defined here:\n",
      " |  \n",
      " |  __new__(*args, **kwargs) from builtins.type\n",
      " |      Create and return a new object.  See help(type) for accurate signature.\n",
      " |  \n",
      " |  ----------------------------------------------------------------------\n",
      " |  Data and other attributes defined here:\n",
      " |  \n",
      " |  __hash__ = None\n",
      "\n"
     ]
    }
   ],
   "source": [
    "help(\"list\")"
   ]
  },
  {
   "attachments": {},
   "cell_type": "markdown",
   "metadata": {},
   "source": [
    "### list comprehension\n",
    "- offers a shorter syntax when you want to create a new list based on the values of an existing list.\n",
    "- Syntax - newlist = [expression for item in iterable if condition == True]"
   ]
  },
  {
   "cell_type": "code",
   "execution_count": null,
   "metadata": {},
   "outputs": [
    {
     "name": "stdout",
     "output_type": "stream",
     "text": [
      "[\"HELLO IT'S SMALL LETTERS GOING BIG\"]\n"
     ]
    }
   ],
   "source": [
    "letters = [\"hello it's small letters going big\"]\n",
    "comp_upcase_list = [i.upper() for i in letters]  # same as above in one line\n",
    "print(comp_upcase_list)"
   ]
  },
  {
   "attachments": {},
   "cell_type": "markdown",
   "metadata": {},
   "source": [
    "### list methods"
   ]
  },
  {
   "cell_type": "code",
   "execution_count": 64,
   "id": "e9d1fd5a-7e4a-40d8-b88c-be2c0d93ea5e",
   "metadata": {},
   "outputs": [],
   "source": [
    "m = [\"herbert\"]\n",
    "o = [\"murat\", \"gaston\"]\n",
    "m.append(o)\n",
    "o.insert(1, \"ferdinand\")\n",
    "o.index(\"gaston\")  # gives index of the value \"gaston\" back\n",
    "o.insert(1, \"gaston\")\n",
    "o.count(\"gaston\")  # number of gastons in a list\n",
    "o.sort()\n",
    "o.pop()\n",
    "o.reverse()"
   ]
  },
  {
   "attachments": {},
   "cell_type": "markdown",
   "metadata": {},
   "source": [
    "### append"
   ]
  },
  {
   "cell_type": "code",
   "execution_count": null,
   "metadata": {},
   "outputs": [
    {
     "data": {
      "text/plain": [
       "[1, 2, 3, 4, 5, 6]"
      ]
     },
     "metadata": {},
     "output_type": "display_data"
    }
   ],
   "source": [
    "numbers = [1, 2, 3, 4, 5]\n",
    "numbers.append(6)  # adds a element at the end\n",
    "numbers"
   ]
  },
  {
   "attachments": {},
   "cell_type": "markdown",
   "metadata": {},
   "source": [
    "### insert"
   ]
  },
  {
   "cell_type": "code",
   "execution_count": null,
   "metadata": {},
   "outputs": [
    {
     "data": {
      "text/plain": [
       "[-1, 1, 2, 45, 3, 4, 5, 6]"
      ]
     },
     "metadata": {},
     "output_type": "display_data"
    }
   ],
   "source": [
    "numbers.insert(0, -1)  # insert(position, value) add an element at the beginning\n",
    "numbers.insert(3, 45)  # add 45 on 4th place\n",
    "numbers"
   ]
  },
  {
   "attachments": {},
   "cell_type": "markdown",
   "metadata": {},
   "source": [
    "### remove, del, pop"
   ]
  },
  {
   "cell_type": "code",
   "execution_count": null,
   "metadata": {},
   "outputs": [
    {
     "data": {
      "text/plain": [
       "[0, 1, 2, 4]"
      ]
     },
     "metadata": {},
     "output_type": "display_data"
    }
   ],
   "source": [
    "numbers = [0, 1, 2, 3, 4, 5, 6]\n",
    "numbers.remove(3)  # removes the value 3, just the first intance of the value is deleted\n",
    "del numbers[4]  # deletes value at position 5\n",
    "numbers.pop()  # removes the last item in a list\n",
    "numbers"
   ]
  },
  {
   "attachments": {},
   "cell_type": "markdown",
   "metadata": {},
   "source": [
    "### clear"
   ]
  },
  {
   "cell_type": "code",
   "execution_count": 65,
   "metadata": {},
   "outputs": [
    {
     "data": {
      "text/plain": [
       "[]"
      ]
     },
     "execution_count": 65,
     "metadata": {},
     "output_type": "execute_result"
    }
   ],
   "source": [
    "numbers = [0, 1, 2, 3, 4, 5, 6]\n",
    "numbers.clear()  # clears the whole list\n",
    "numbers"
   ]
  },
  {
   "attachments": {},
   "cell_type": "markdown",
   "metadata": {},
   "source": [
    "### in, len"
   ]
  },
  {
   "cell_type": "code",
   "execution_count": null,
   "metadata": {},
   "outputs": [
    {
     "name": "stdout",
     "output_type": "stream",
     "text": [
      "True\n",
      "5\n"
     ]
    }
   ],
   "source": [
    "numbers = [1, 2, 3, 4, 5]\n",
    "print(1 in numbers)  # is there a \"1\" in \"numbers\"?\n",
    "\n",
    "numbers = [1, 2, 3, 4, 5]\n",
    "print(len(numbers))"
   ]
  },
  {
   "attachments": {},
   "cell_type": "markdown",
   "metadata": {},
   "source": [
    "### sort, sorted\n",
    "- sorted() function has an optional parameter called ‘key’ which takes a function as its value."
   ]
  },
  {
   "cell_type": "code",
   "execution_count": 3,
   "metadata": {},
   "outputs": [
    {
     "name": "stdout",
     "output_type": "stream",
     "text": [
      "[1, 2, 3, 4, 9, 89]\n",
      "[2, 3, 89, 4, 9, 1]\n"
     ]
    },
    {
     "data": {
      "text/plain": [
       "['by', 'ciao', 'hello', 'see you']"
      ]
     },
     "execution_count": 3,
     "metadata": {},
     "output_type": "execute_result"
    }
   ],
   "source": [
    "x = [2, 3, 89, 4, 9, 1]\n",
    "print(sorted(x))  # temporarily sorted\n",
    "print(x)\n",
    "\n",
    "s = [\"hello\", \"ciao\", \"by\", \"see you\"]\n",
    "sorted(s, key=len)  # sorts by len()"
   ]
  },
  {
   "cell_type": "code",
   "execution_count": 70,
   "metadata": {},
   "outputs": [
    {
     "name": "stdout",
     "output_type": "stream",
     "text": [
      "[89, 9, 4, 3, 2, 1]\n",
      "0\n"
     ]
    }
   ],
   "source": [
    "x = [2, 3, 89, 4, 9, 1]\n",
    "\n",
    "x.sort(\n",
    "    reverse=True\n",
    ")  # sorts the original list permanently, from smallest to highest value or reversed\n",
    "print(x)\n",
    "\n",
    "print(numbers.count(5))  # counts the occurences"
   ]
  },
  {
   "attachments": {},
   "cell_type": "markdown",
   "metadata": {},
   "source": [
    "### reversed"
   ]
  },
  {
   "cell_type": "code",
   "execution_count": 66,
   "metadata": {},
   "outputs": [
    {
     "data": {
      "text/plain": [
       "[7, 6, 5, 4, 3, 2, 1]"
      ]
     },
     "execution_count": 66,
     "metadata": {},
     "output_type": "execute_result"
    }
   ],
   "source": [
    "x = [1, 2, 3, 4, 5, 6, 7]\n",
    "y = list(reversed(x))\n",
    "y"
   ]
  },
  {
   "attachments": {},
   "cell_type": "markdown",
   "metadata": {},
   "source": [
    "### .index()"
   ]
  },
  {
   "cell_type": "code",
   "execution_count": null,
   "metadata": {},
   "outputs": [],
   "source": [
    "numbers = [1, 2, 4, 5, 8, 5, 10]\n",
    "print(numbers.index(10))  # give back index of the value"
   ]
  },
  {
   "attachments": {},
   "cell_type": "markdown",
   "metadata": {},
   "source": [
    "### copy()"
   ]
  },
  {
   "cell_type": "code",
   "execution_count": null,
   "metadata": {},
   "outputs": [],
   "source": [
    "numbers2 = numbers.copy()  # make a copy not a reference"
   ]
  },
  {
   "attachments": {},
   "cell_type": "markdown",
   "metadata": {},
   "source": [
    "### nested lists"
   ]
  },
  {
   "cell_type": "code",
   "execution_count": null,
   "metadata": {},
   "outputs": [
    {
     "name": "stdout",
     "output_type": "stream",
     "text": [
      "[['a', 'b', 'c'], [1, 2, 3]]\n"
     ]
    }
   ],
   "source": [
    "a = [\"a\", \"b\", \"c\"]\n",
    "n = [1, 2, 3]\n",
    "x = [a, n]\n",
    "print(x)"
   ]
  },
  {
   "attachments": {},
   "cell_type": "markdown",
   "metadata": {},
   "source": [
    "### list of pairs"
   ]
  },
  {
   "cell_type": "code",
   "execution_count": null,
   "metadata": {},
   "outputs": [
    {
     "data": {
      "text/plain": [
       "[(0, 1), (0, 2), (1, 2), (1, 3), (2, 3), (3, 4)]"
      ]
     },
     "metadata": {},
     "output_type": "display_data"
    }
   ],
   "source": [
    "friendship_pairs = [\n",
    "    (0, 1),\n",
    "    (0, 2),\n",
    "    (1, 2),\n",
    "    (1, 3),\n",
    "    (2, 3),\n",
    "    (3, 4),\n",
    "    (4, 5),\n",
    "    (5, 6),\n",
    "    (5, 7),\n",
    "    (6, 8),\n",
    "    (7, 8),\n",
    "    (8, 9),\n",
    "]\n",
    "friendship_pairs[0:6]"
   ]
  },
  {
   "attachments": {},
   "cell_type": "markdown",
   "metadata": {},
   "source": [
    "### iterate over a list  - range"
   ]
  },
  {
   "cell_type": "code",
   "execution_count": null,
   "metadata": {},
   "outputs": [
    {
     "name": "stdout",
     "output_type": "stream",
     "text": [
      "Index 0 in supplies is: pens\n",
      "Index 1 in supplies is: staplers\n",
      "Index 2 in supplies is: flamethrowers\n",
      "Index 3 in supplies is: binders\n"
     ]
    }
   ],
   "source": [
    "supplies = [\"pens\", \"staplers\", \"flamethrowers\", \"binders\"]\n",
    "for i in range(len(supplies)):\n",
    "    print(\"Index \" + str(i) + \" in supplies is: \" + supplies[i])"
   ]
  },
  {
   "attachments": {},
   "cell_type": "markdown",
   "metadata": {},
   "source": [
    "### enumarate()\n",
    "enumerate() will return two values: the index and the item in the list."
   ]
  },
  {
   "cell_type": "code",
   "execution_count": null,
   "metadata": {},
   "outputs": [
    {
     "name": "stdout",
     "output_type": "stream",
     "text": [
      "0 pens\n",
      "1 staplers\n",
      "2 flamethrowers\n",
      "3 binders\n"
     ]
    }
   ],
   "source": [
    "supplies = [\"pens\", \"staplers\", \"flamethrowers\", \"binders\"]\n",
    "for index, item in enumerate(supplies):\n",
    "    print(index, item)"
   ]
  },
  {
   "attachments": {},
   "cell_type": "markdown",
   "id": "57e2c5c6-45cf-4405-b6fa-8f602facb400",
   "metadata": {},
   "source": [
    "### flattening "
   ]
  },
  {
   "cell_type": "code",
   "execution_count": null,
   "id": "a3ada331-7f9e-47d6-a4a9-3a026523bf9c",
   "metadata": {
    "tags": []
   },
   "outputs": [
    {
     "data": {
      "text/plain": [
       "[0, 1, 2, 3, 4, 5, 6, 7, 8]"
      ]
     },
     "metadata": {},
     "output_type": "display_data"
    }
   ],
   "source": [
    "from pandas.core.common import flatten\n",
    "\n",
    "l = [0, 1, 2, [3, 4, 5, [6, 7, 8]]]\n",
    "m = list(flatten(l))\n",
    "m"
   ]
  },
  {
   "attachments": {},
   "cell_type": "markdown",
   "metadata": {},
   "source": [
    "### random choice -->"
   ]
  },
  {
   "cell_type": "code",
   "execution_count": 75,
   "metadata": {},
   "outputs": [
    {
     "name": "stdout",
     "output_type": "stream",
     "text": [
      "Husalka\n",
      "['Anna', 'Harald', 'Husalka', 'Julia', 'Gerd']\n",
      "17\n"
     ]
    }
   ],
   "source": [
    "import random\n",
    "\n",
    "names = [\"Gerd\", \"Harald\", \"Husalka\", \"Anna\", \"Julia\"]\n",
    "print(random.choice(names))  # chooese one of the names in the list\n",
    "random.shuffle(names)\n",
    "print(names)\n",
    "\n",
    "import random\n",
    "\n",
    "print(random.randint(10, 30))  # cooses numer between 10 and 30"
   ]
  },
  {
   "cell_type": "code",
   "execution_count": 76,
   "metadata": {},
   "outputs": [
    {
     "name": "stdout",
     "output_type": "stream",
     "text": [
      "(1, 1)\n"
     ]
    }
   ],
   "source": [
    "import random\n",
    "\n",
    "\n",
    "class Dice:\n",
    "    def roll():\n",
    "        x = random.randint(1, 6)  # random no. between 1 and 6\n",
    "        y = random.randint(1, 6)\n",
    "        return x, y\n",
    "\n",
    "\n",
    "dice1 = Dice\n",
    "print(dice1.roll())"
   ]
  },
  {
   "attachments": {},
   "cell_type": "markdown",
   "metadata": {},
   "source": [
    "### matrix -- 2D lists"
   ]
  },
  {
   "cell_type": "code",
   "execution_count": null,
   "metadata": {},
   "outputs": [
    {
     "data": {
      "text/plain": [
       "[[1, 20, 3], [4, 5, 6], [7, 8, 9], [[1, 2], [3, 4], [6, 5]]]"
      ]
     },
     "metadata": {},
     "output_type": "display_data"
    }
   ],
   "source": [
    "matrix = [[1, 2, 3], [4, 5, 6], [7, 8, 9], [[1, 2], [3, 4], [6, 5]]]\n",
    "\n",
    "matrix[0][1] = 20  # change value to 20 [row][item]\n",
    "matrix"
   ]
  },
  {
   "cell_type": "code",
   "execution_count": null,
   "metadata": {},
   "outputs": [
    {
     "name": "stdout",
     "output_type": "stream",
     "text": [
      "20\n"
     ]
    },
    {
     "data": {
      "text/plain": [
       "[[1, 20, 3],\n",
       " [4, 5, 6],\n",
       " [7, 8, 9],\n",
       " [{'age': '22', 'life_expect': '65'}, [22, 65], (90, 100)]]"
      ]
     },
     "metadata": {},
     "output_type": "display_data"
    }
   ],
   "source": [
    "print(matrix[0][1])  # access the matrix[first row][second item]\n",
    "matrix[3][1] = [22, 65]  # change the values in the nested matrix - list\n",
    "matrix[3][2] = 90, 100  # change the values in the nested matrix - tupel\n",
    "matrix[3][0] = {\"age\": \"22\", \"life_expect\": \"65\"}  # puts a dictionary in the list\n",
    "matrix"
   ]
  },
  {
   "cell_type": "code",
   "execution_count": null,
   "metadata": {},
   "outputs": [
    {
     "name": "stdout",
     "output_type": "stream",
     "text": [
      "22\n"
     ]
    }
   ],
   "source": [
    "print(matrix[3][0].get(\"age\"))  # gets the value of the key age out of the nested dict"
   ]
  },
  {
   "cell_type": "code",
   "execution_count": null,
   "metadata": {},
   "outputs": [
    {
     "name": "stdout",
     "output_type": "stream",
     "text": [
      "1\n",
      "20\n",
      "3\n",
      "4\n",
      "5\n",
      "6\n",
      "7\n",
      "8\n",
      "9\n",
      "{'age': '22', 'life_expect': '65'}\n",
      "[22, 65]\n",
      "(90, 100)\n"
     ]
    }
   ],
   "source": [
    "for row in matrix:\n",
    "    for item in row:\n",
    "        print(item)"
   ]
  },
  {
   "attachments": {},
   "cell_type": "markdown",
   "metadata": {},
   "source": [
    "### delete duplicates"
   ]
  },
  {
   "cell_type": "code",
   "execution_count": 79,
   "metadata": {},
   "outputs": [
    {
     "data": {
      "text/plain": [
       "[1, 2, 4, 5, 8, 6, 7]"
      ]
     },
     "execution_count": 79,
     "metadata": {},
     "output_type": "execute_result"
    }
   ],
   "source": [
    "numbers = [1, 2, 4, 5, 8, 5, 6, 7, 7]\n",
    "uniques = []\n",
    "\n",
    "for number in numbers:\n",
    "    if number not in uniques:\n",
    "        uniques.append(number)\n",
    "\n",
    "uniques"
   ]
  },
  {
   "attachments": {},
   "cell_type": "markdown",
   "metadata": {},
   "source": [
    "\n",
    "## tuple \n",
    "- is ordered and IMMUTABLE-> they're indexed\n",
    "- allows duplicate values \n",
    "- use them when you need an ordered sequence of values that never changes.\n",
    "- because they are immutable, using tuples is slightly faster than code using lists.\n",
    "- Tuples are a convenient way to return multiple values from functions\n"
   ]
  },
  {
   "cell_type": "code",
   "execution_count": 29,
   "metadata": {},
   "outputs": [
    {
     "name": "stdout",
     "output_type": "stream",
     "text": [
      "<class 'int'>\n",
      "<class 'tuple'>\n",
      "<class 'tuple'>\n",
      "<class 'tuple'>\n"
     ]
    }
   ],
   "source": [
    "numbers = (1, 2, 4)  # tuples are unchangeable\n",
    "numbers2 = 1, 2, 4  # also a tuple\n",
    "number3 = (4,)  # also a tuple, with trailing comma\n",
    "# numbers[1] = 8             # TypeError b/c unchangable\n",
    "print(type(numbers[2]))  # item with index 2\n",
    "print(type(numbers))\n",
    "print(type(numbers2))\n",
    "print(type(number3))"
   ]
  },
  {
   "cell_type": "code",
   "execution_count": 38,
   "metadata": {},
   "outputs": [
    {
     "name": "stdout",
     "output_type": "stream",
     "text": [
      "2\n",
      "2\n"
     ]
    }
   ],
   "source": [
    "#  Tuple Methods\n",
    "numbers = (1, 2, 3, 3)\n",
    "print(numbers.count(3))  # count() the occurances of the value 3\n",
    "print(numbers.index(3))  # returns the position of element in the ()"
   ]
  },
  {
   "cell_type": "code",
   "execution_count": 39,
   "metadata": {},
   "outputs": [
    {
     "name": "stdout",
     "output_type": "stream",
     "text": [
      "('abc', 34, True, 40, 'male')\n",
      "('apple',)\n",
      "<class 'tuple'>\n",
      "[0, 1, 2, 3, 4, 5, 6]\n"
     ]
    }
   ],
   "source": [
    "tuple1 = (\"abc\", 34, True, 40, \"male\")\n",
    "tuple2 = (\"apple\",)  # tuple with one item - mind the comma\n",
    "print(tuple1)\n",
    "print(tuple2)\n",
    "print(type(tuple2))\n",
    "\n",
    "# If we want to unpack all the values of an iterable to a single variable, we must set up a tuple,\n",
    "# hence adding a simple comma will be enough\n",
    "(*string,) = range(7)\n",
    "print(string)"
   ]
  },
  {
   "cell_type": "code",
   "execution_count": 41,
   "metadata": {},
   "outputs": [
    {
     "name": "stdout",
     "output_type": "stream",
     "text": [
      "(5, 6)\n",
      "5 6\n"
     ]
    }
   ],
   "source": [
    "def sum_and_product(x, y):\n",
    "    return (x + y), (x * y)\n",
    "\n",
    "\n",
    "sp = sum_and_product(2, 3)  # get a tuple return\n",
    "s, p = sum_and_product(2, 3)  # get single values from returned tuple\n",
    "\n",
    "print(sp)\n",
    "print(s, p)"
   ]
  },
  {
   "cell_type": "code",
   "execution_count": 186,
   "metadata": {},
   "outputs": [
    {
     "name": "stdout",
     "output_type": "stream",
     "text": [
      "1 2\n",
      "2 1\n"
     ]
    }
   ],
   "source": [
    "# tuple unpacking\n",
    "mytuple = 1, 2\n",
    "\n",
    "# unpacking \n",
    "x, y = mytuple\n",
    "print(x, y)\n",
    "\n",
    "# also allows for easy swapping of values\n",
    "x, y = y, x\n",
    "print(x, y)"
   ]
  },
  {
   "cell_type": "markdown",
   "metadata": {},
   "source": [
    "## range\n",
    "Objects defi ned by calling range(from, to) or range(from, to, by) represent arithmetic progressions of integers."
   ]
  },
  {
   "cell_type": "code",
   "execution_count": 32,
   "metadata": {},
   "outputs": [
    {
     "name": "stdout",
     "output_type": "stream",
     "text": [
      "[0, 1, 2, 3, 4]\n",
      "[10, 9, 8, 7, 6, 5, 4, 3, 2, 1]\n",
      "9\n"
     ]
    }
   ],
   "source": [
    "print(list(range(0, 5)))  # from 0 to 5 (exclusive) by 1\n",
    "print(list(range(10, 0, -1)))  # from 10 to 0 (exclusive) by -1\n",
    "print(range(0, 10)[-1])  # extract from range"
   ]
  },
  {
   "attachments": {},
   "cell_type": "markdown",
   "metadata": {},
   "source": [
    "## set \n",
    "- collection  of distinct elements, which is both unordered and unindexed\n",
    "- set items are unordered, unchangeable, and do not allow duplicate values.\n",
    "- **If we have a large collection of items that we want to use\n",
    "for a membership test, a set is more appropriate than a list**\n",
    "- Sets are used for membership testing and eliminating duplicate entries. "
   ]
  },
  {
   "cell_type": "code",
   "execution_count": 5,
   "metadata": {},
   "outputs": [
    {
     "data": {
      "text/plain": [
       "{16, 17}"
      ]
     },
     "execution_count": 5,
     "metadata": {},
     "output_type": "execute_result"
    }
   ],
   "source": [
    "s = set(list(map(int, input().split())))\n",
    "s"
   ]
  },
  {
   "cell_type": "code",
   "execution_count": 23,
   "metadata": {},
   "outputs": [
    {
     "data": {
      "text/plain": [
       "{(3, 5), 1, 102, 9, 99, 'a', 'b'}"
      ]
     },
     "execution_count": 23,
     "metadata": {},
     "output_type": "execute_result"
    }
   ],
   "source": [
    "set2 = {1, 2}  # directly\n",
    "l = [\"a\", \"b\"]\n",
    "set2 = set(l)  # from list\n",
    "set2.add(\"c\")\n",
    "set2.add((3, 5))  # add tuple\n",
    "set2.update([1, 7, 9], {99, 102})  # add elements of iterable\n",
    "set2.discard(10)  #  If that value is not present, discard() does nothing\n",
    "set2.remove(7)  # remove() will raise a KeyError exception when value is not present\n",
    "set2"
   ]
  },
  {
   "cell_type": "code",
   "execution_count": 24,
   "metadata": {},
   "outputs": [
    {
     "data": {
      "text/plain": [
       "1"
      ]
     },
     "execution_count": 24,
     "metadata": {},
     "output_type": "execute_result"
    }
   ],
   "source": [
    "set2.pop()  # removes and return an arbitrary element from the set"
   ]
  },
  {
   "cell_type": "code",
   "execution_count": 10,
   "metadata": {},
   "outputs": [
    {
     "data": {
      "text/plain": [
       "{2, 4, 5, 9, 11, 12}"
      ]
     },
     "execution_count": 10,
     "metadata": {},
     "output_type": "execute_result"
    }
   ],
   "source": [
    "a = {2, 4, 5, 9}\n",
    "b = {2, 4, 11, 12}\n",
    "a.intersection(b)  # Values which exist in a and b\n",
    "a.difference(b)  # Values which exist in a but not in b, alternative: a-b\n",
    "b.difference(a)  # Values which exist in a but not in b, alternative: b-a\n",
    "a.union(b)  # Values which exist in a or b, alternative: a | b"
   ]
  },
  {
   "cell_type": "code",
   "execution_count": 13,
   "metadata": {},
   "outputs": [
    {
     "data": {
      "text/plain": [
       "{5, 9, 11, 12}"
      ]
     },
     "execution_count": 13,
     "metadata": {},
     "output_type": "execute_result"
    }
   ],
   "source": [
    "# .symmetric_difference() returns what's in and but not in both\n",
    "a.symmetric_difference(b)\n",
    "a.difference(b).union(b.difference(a))  # what sym_diff does\n",
    "a ^ b  # shortcut"
   ]
  },
  {
   "cell_type": "code",
   "execution_count": 20,
   "metadata": {},
   "outputs": [
    {
     "data": {
      "text/plain": [
       "False"
      ]
     },
     "execution_count": 20,
     "metadata": {},
     "output_type": "execute_result"
    }
   ],
   "source": [
    "# union() and intersection() functions are symmetric methods\n",
    "a.union(b) == b.union(a)\n",
    "a.intersection(b) == b.intersection(a)\n",
    "a.difference(b) == b.difference(a)"
   ]
  },
  {
   "cell_type": "code",
   "execution_count": 13,
   "metadata": {},
   "outputs": [
    {
     "data": {
      "text/plain": [
       "3"
      ]
     },
     "execution_count": 13,
     "metadata": {},
     "output_type": "execute_result"
    }
   ],
   "source": [
    "item_list = [1, 2, 3, 1, 2, 3]  # 6 elements\n",
    "item_set = set(item_list)  # in a set there is noe duplicates\n",
    "len(item_set)  # only 3 distinct items"
   ]
  },
  {
   "cell_type": "code",
   "execution_count": 36,
   "metadata": {},
   "outputs": [
    {
     "data": {
      "text/plain": [
       "[1, 2, 3]"
      ]
     },
     "execution_count": 36,
     "metadata": {},
     "output_type": "execute_result"
    }
   ],
   "source": [
    "# The new object will have a “set” type, if you want it to be a list convert back to list\n",
    "# filtered only distinct items\n",
    "list(item_set)"
   ]
  },
  {
   "cell_type": "code",
   "execution_count": null,
   "metadata": {},
   "outputs": [
    {
     "name": "stdout",
     "output_type": "stream",
     "text": [
      "('a', 'b', 'c')\n",
      "(1, 2, 3)\n"
     ]
    }
   ],
   "source": [
    "# use the zip fct. together with unpacking operator * to separate tuples.\n",
    "pairs = [(\"a\", 1), (\"b\", 2), (\"c\", 3)]\n",
    "letters, numbers = zip(*pairs)\n",
    "print(letters)\n",
    "print(numbers)"
   ]
  },
  {
   "attachments": {},
   "cell_type": "markdown",
   "metadata": {},
   "source": [
    "## dictionary \n",
    "- contain key-value pairs\n",
    "- changeable, ordered, indexed \n",
    "- keys have to be unique\n",
    "- values can be anything"
   ]
  },
  {
   "cell_type": "code",
   "execution_count": 115,
   "metadata": {},
   "outputs": [
    {
     "name": "stdout",
     "output_type": "stream",
     "text": [
      "{'name': 'John', 'age': 36, 'country': 'Norway'}\n"
     ]
    },
    {
     "data": {
      "text/plain": [
       "'John Smith'"
      ]
     },
     "execution_count": 115,
     "metadata": {},
     "output_type": "execute_result"
    }
   ],
   "source": [
    "customer = {\n",
    "    \"name\": \"John Smith\",  # key - value pair\n",
    "    \"age\": 30,  # each key must be unique\n",
    "    \"is_verified\": True,  # key can have any value\n",
    "}\n",
    "\n",
    "# dictionary constructor\n",
    "x = dict(name=\"John\", age=36, country=\"Norway\")  # less Pythonic\n",
    "\n",
    "\n",
    "print(x)\n",
    "customer[\"name\"]  # get value from dict"
   ]
  },
  {
   "cell_type": "code",
   "execution_count": 116,
   "metadata": {},
   "outputs": [
    {
     "name": "stdout",
     "output_type": "stream",
     "text": [
      "Jack Smith\n",
      "someday\n",
      "{'name': 'John Smith', 'is_verified': True, 'status': 'active'}\n"
     ]
    }
   ],
   "source": [
    "customer[\"name\"] = \"Jack Smith\"  # change value\n",
    "print(customer[\"name\"])  # gives the value of the key \"name\" = John Smith\n",
    "print(customer.get(\"birthdate\", \"someday\") )  # get does not produce an error if no birthdate is in the dict\n",
    "customer[\"status\"] = \"active\"  # adds new key-value pair\n",
    "customer.update({\"name\": \"John Smith\"})\n",
    "customer.pop(\"age\")  # remove key\n",
    "print(customer)"
   ]
  },
  {
   "cell_type": "code",
   "execution_count": 86,
   "metadata": {},
   "outputs": [
    {
     "name": "stdout",
     "output_type": "stream",
     "text": [
      "name\n",
      "age\n",
      "is_verified\n",
      "John Smith\n",
      "30\n",
      "True\n"
     ]
    }
   ],
   "source": [
    "## key is the default, no need to reference it\n",
    "for key in customer:\n",
    "    print(key)\n",
    "\n",
    "# get the values directly if keys are not needed\n",
    "for val in customer.values():\n",
    "    print(val)"
   ]
  },
  {
   "cell_type": "code",
   "execution_count": 117,
   "metadata": {},
   "outputs": [
    {
     "name": "stdout",
     "output_type": "stream",
     "text": [
      "False False True\n"
     ]
    },
    {
     "data": {
      "text/plain": [
       "'name is_verified status gender'"
      ]
     },
     "execution_count": 117,
     "metadata": {},
     "output_type": "execute_result"
    }
   ],
   "source": [
    "# keys is checked by default\n",
    "# The in operator checks whether a given key exists\n",
    "print(\"age\" in customer, \"is_verified\" not in customer, \"name\" in customer)\n",
    "\n",
    "if \"gender\" not in customer:  # is there a certain key\n",
    "    customer[\"gender\"] = \"male\"  # if not, set one\n",
    "\n",
    "# see by joining the default return of the dictionary -- it's the keys\n",
    "\" \".join( customer )  "
   ]
  },
  {
   "cell_type": "markdown",
   "metadata": {},
   "source": [
    "### get() has default / fallback value\n",
    "<details>\n",
    "\n",
    "- get() has a default parameter that can be used as a fallback. \n",
    "- the EAFP(easier to ask for forgivness than for permission) principle suggests that right away, <br>\n",
    "you should do what you expect to work. If it doesn’t work and an exception happens, <br>\n",
    "then just catch the exception and handle it appropriately.<br>\n",
    "- In the following you could catch the error with `try ... except KeyError: ...` or even more <br>\n",
    "consice use the default parameter.\n",
    "-  Avoid explicit key in dict checks when testing for membership.\n",
    "  \n",
    "</details>"
   ]
  },
  {
   "cell_type": "code",
   "execution_count": 101,
   "metadata": {},
   "outputs": [
    {
     "data": {
      "text/plain": [
       "{'name': 'John Smith',\n",
       " 'is_verified': True,\n",
       " 'status': 'active',\n",
       " 'gender': 'male'}"
      ]
     },
     "execution_count": 101,
     "metadata": {},
     "output_type": "execute_result"
    }
   ],
   "source": [
    "# get the value of \"name\" key or a fallback value if theres is no such key\n",
    "name_for_userid = {\n",
    "    382: \"Alice\",\n",
    "    950: \"Bob\",\n",
    "    590: \"Dilbert\",\n",
    "}\n",
    "\n",
    "\n",
    "def greeting(userid):\n",
    "    return f\"Hi {name_for_userid.get(userid, 'there')}!\"\n",
    "\n",
    "\n",
    "print(greeting(382))\n",
    "print(greeting(372))"
   ]
  },
  {
   "attachments": {},
   "cell_type": "markdown",
   "metadata": {},
   "source": [
    "### setdefault"
   ]
  },
  {
   "cell_type": "code",
   "execution_count": 118,
   "metadata": {},
   "outputs": [
    {
     "data": {
      "text/plain": [
       "{'name': 'John Smith',\n",
       " 'is_verified': True,\n",
       " 'status': 'active',\n",
       " 'gender': 'male',\n",
       " 'color': 'white'}"
      ]
     },
     "execution_count": 118,
     "metadata": {},
     "output_type": "execute_result"
    }
   ],
   "source": [
    "# asks for the value of \"color\" if there is no such key its sets the key-value pair\n",
    "customer.setdefault(\"color\", \"white\")\n",
    "customer"
   ]
  },
  {
   "attachments": {},
   "cell_type": "markdown",
   "metadata": {},
   "source": [
    "### dictionary function\n"
   ]
  },
  {
   "cell_type": "code",
   "execution_count": null,
   "metadata": {},
   "outputs": [
    {
     "name": "stdout",
     "output_type": "stream",
     "text": [
      "dict_keys(['name', 'age', 'is_verified', 'status', 'gender', 'color'])\n",
      "dict_values(['Jack Smith', 30, True, 'active', 'male', 'white'])\n",
      "dict_items([('name', 'Jack Smith'), ('age', 30), ('is_verified', True), ('status', 'active'), ('gender', 'male'), ('color', 'white')])\n"
     ]
    }
   ],
   "source": [
    "print(customer.keys())  # returns keys of the dict\n",
    "print(customer.values())  # returns values\n",
    "print(customer.items())  # returns both"
   ]
  },
  {
   "cell_type": "markdown",
   "metadata": {},
   "source": [
    "### sort dictionaries with key funcs"
   ]
  },
  {
   "cell_type": "code",
   "execution_count": 99,
   "metadata": {},
   "outputs": [
    {
     "name": "stdout",
     "output_type": "stream",
     "text": [
      "[('a', 4), ('b', 3), ('c', 2), ('d', 1)]\n",
      "[('d', 1), ('c', 2), ('b', 3), ('a', 4)]\n",
      "[('a', 4), ('b', 3), ('c', 2), ('d', 1)]\n"
     ]
    },
    {
     "data": {
      "text/plain": [
       "[('d', 1), ('c', 2), ('b', 3), ('a', 4)]"
      ]
     },
     "execution_count": 99,
     "metadata": {},
     "output_type": "execute_result"
    }
   ],
   "source": [
    "xs = {\"a\": 4, \"c\": 2, \"b\": 3, \"d\": 1}\n",
    "# lexicographical ordering, sorts by keys\n",
    "sorted_by_key = sorted(xs.items())\n",
    "print(sorted_by_key)\n",
    "\n",
    "# sort by values with key funcs which uses the values x[...] as the thing to sort by\n",
    "sorted_by_value = sorted(xs.items(), key=lambda x: x[1])\n",
    "print(sorted_by_value)\n",
    "\n",
    "# lambda allowas for more customizing\n",
    "value_reversed = sorted(xs.items(), key=lambda x: x[1], reverse=True)\n",
    "print(value_reversed)\n",
    "\n",
    "# the operator modul implements some of the key funcs functionality with functions\n",
    "import operator\n",
    "\n",
    "sorted(xs.items(), key=operator.itemgetter(1))"
   ]
  },
  {
   "cell_type": "code",
   "execution_count": 119,
   "metadata": {},
   "outputs": [
    {
     "name": "stdout",
     "output_type": "stream",
     "text": [
      "dict_items([('name', 'John Smith'), ('is_verified', True), ('gender', 'male')])\n",
      "dict_items([])\n"
     ]
    },
    {
     "ename": "NameError",
     "evalue": "name 'customer' is not defined",
     "output_type": "error",
     "traceback": [
      "\u001b[0;31m---------------------------------------------------------------------------\u001b[0m",
      "\u001b[0;31mNameError\u001b[0m                                 Traceback (most recent call last)",
      "\u001b[1;32m/home/mz/code/MaCoZu/python_notebooks/1.0_Python_Basics.ipynb Cell 137\u001b[0m line \u001b[0;36m1\n\u001b[1;32m     <a href='vscode-notebook-cell://wsl%2Bubuntu/home/mz/code/MaCoZu/python_notebooks/1.0_Python_Basics.ipynb#Z1005sdnNjb2RlLXJlbW90ZQ%3D%3D?line=12'>13</a>\u001b[0m \u001b[39m# del dict\u001b[39;00m\n\u001b[1;32m     <a href='vscode-notebook-cell://wsl%2Bubuntu/home/mz/code/MaCoZu/python_notebooks/1.0_Python_Basics.ipynb#Z1005sdnNjb2RlLXJlbW90ZQ%3D%3D?line=13'>14</a>\u001b[0m \u001b[39mdel\u001b[39;00m customer                    \u001b[39m# deletes the dictionary\u001b[39;00m\n\u001b[0;32m---> <a href='vscode-notebook-cell://wsl%2Bubuntu/home/mz/code/MaCoZu/python_notebooks/1.0_Python_Basics.ipynb#Z1005sdnNjb2RlLXJlbW90ZQ%3D%3D?line=14'>15</a>\u001b[0m \u001b[39mprint\u001b[39m(customer\u001b[39m.\u001b[39mitems())\n",
      "\u001b[0;31mNameError\u001b[0m: name 'customer' is not defined"
     ]
    }
   ],
   "source": [
    "# popitem()\n",
    "customer.popitem()  # removes the last inserted item\n",
    "customer.items()\n",
    "\n",
    "# del item\n",
    "del customer[\"status\"]  # deletes specified key\n",
    "print(customer.items())\n",
    "\n",
    "# clear\n",
    "customer.clear()  # empties the dictionary\n",
    "print(customer.items())\n",
    "\n",
    "# del dict\n",
    "del customer  # deletes the dictionary\n",
    "print(customer.items())"
   ]
  },
  {
   "attachments": {},
   "cell_type": "markdown",
   "metadata": {},
   "source": [
    "### zip\n",
    "Iterate over several iterables in parallel, producing tuples with an item from each one."
   ]
  },
  {
   "cell_type": "code",
   "execution_count": 110,
   "metadata": {},
   "outputs": [
    {
     "name": "stdout",
     "output_type": "stream",
     "text": [
      "{'BMW': 2175, 'IBM': 1127, 'SHELL': 2750}\n",
      "('BMW', 2175)\n",
      "('IBM', 1127)\n",
      "('SHELL', 2750)\n"
     ]
    }
   ],
   "source": [
    "stocks = [\"BMW\", \"IBM\", \"SHELL\"]\n",
    "prices = [2175, 1127, 2750]\n",
    "dictionary = dict(zip(stocks, prices))\n",
    "\n",
    "print(dictionary)"
   ]
  },
  {
   "attachments": {},
   "cell_type": "markdown",
   "metadata": {},
   "source": [
    "### dict comprehension"
   ]
  },
  {
   "cell_type": "code",
   "execution_count": 112,
   "metadata": {},
   "outputs": [
    {
     "name": "stdout",
     "output_type": "stream",
     "text": [
      "{'Bangladesh': 880, 'Brazil': 55, 'China': 86, 'India': 91, 'Indonesia': 62, 'Japan': 81, 'Nigeria': 234, 'Pakistan': 92, 'Russia': 7, 'United States': 1}\n",
      "{55: 'BRAZIL', 62: 'INDONESIA', 7: 'RUSSIA', 1: 'UNITED STATES'}\n"
     ]
    }
   ],
   "source": [
    "dial_codes = [\n",
    "    (880, \"Bangladesh\"),\n",
    "    (55, \"Brazil\"),\n",
    "    (86, \"China\"),\n",
    "    (91, \"India\"),\n",
    "    (62, \"Indonesia\"),\n",
    "    (81, \"Japan\"),\n",
    "    (234, \"Nigeria\"),\n",
    "    (92, \"Pakistan\"),\n",
    "    (7, \"Russia\"),\n",
    "    (1, \"United States\"),\n",
    "]\n",
    "\n",
    "# we could use the dict constructur but here want to swap code and country\n",
    "country_dial = {country: code for code, country in dial_codes}\n",
    "print(country_dial)\n",
    "\n",
    "# or add a condition and sort and apply the upper fct.\n",
    "country_upper = {\n",
    "    code: country.upper() for country, code in sorted(country_dial.items()) if code < 70\n",
    "}\n",
    "print(country_upper)"
   ]
  },
  {
   "cell_type": "code",
   "execution_count": 1,
   "id": "d07ffffa-d678-4b62-b268-d64f7af991f7",
   "metadata": {
    "collapsed": true,
    "jupyter": {
     "outputs_hidden": true
    }
   },
   "outputs": [
    {
     "data": {
      "text/plain": [
       "{'a': 20, 'b': 40, 'c': 60, 'd': 80, 'e': 100}"
      ]
     },
     "execution_count": 1,
     "metadata": {},
     "output_type": "execute_result"
    }
   ],
   "source": [
    "dict1 = {\"a\": 1, \"b\": 2, \"c\": 3, \"d\": 4, \"e\": 5}\n",
    "\n",
    "# multiply each value in the dictionary\n",
    "{k: v * 20 for (k, v) in dict1.items()}"
   ]
  },
  {
   "attachments": {},
   "cell_type": "markdown",
   "metadata": {},
   "source": [
    "### index() to get a key from a value"
   ]
  },
  {
   "cell_type": "code",
   "execution_count": 127,
   "metadata": {},
   "outputs": [
    {
     "data": {
      "text/plain": [
       "'java'"
      ]
     },
     "execution_count": 127,
     "metadata": {},
     "output_type": "execute_result"
    }
   ],
   "source": [
    "my_dict = {\"java\": 100, \"python\": 112, \"c\": 11}\n",
    "idx = list(my_dict.values()).index(100)  # get index where value '100'\n",
    "list(my_dict.keys())[idx]  # look at key at this index"
   ]
  },
  {
   "attachments": {},
   "cell_type": "markdown",
   "metadata": {},
   "source": [
    "### coping a dictionary"
   ]
  },
  {
   "cell_type": "code",
   "execution_count": 137,
   "metadata": {},
   "outputs": [
    {
     "name": "stdout",
     "output_type": "stream",
     "text": [
      "dict_items([('brand', 'Audi'), ('model', 'Mustang'), ('year', 1964)])\n",
      "dict_items([('brand', 'Mercedes'), ('model', 'Mustang'), ('year', 1964)])\n",
      "dict_items([('brand', 'Audi'), ('model', 'Mustang'), ('year', 1964)])\n",
      "dict_items([('brand', 'Mercedes'), ('model', 'Mustang'), ('year', 1964)])\n"
     ]
    }
   ],
   "source": [
    "car = {\"brand\": \"Ford\", \"model\": \"Mustang\", \"year\": 1964}\n",
    "\n",
    "# car2 is just a reference to car\n",
    "car2 = car\n",
    "\n",
    "# changes in car happen to also to car2\n",
    "car.update({\"brand\": \"Audi\"})\n",
    "print(car2.items())\n",
    "\n",
    "# make a proper copy of car\n",
    "car3 = car.copy()\n",
    "\n",
    "# change to car does not apply to car3\n",
    "car[\"brand\"] = \"Mercedes\"\n",
    "\n",
    "print(car.items())\n",
    "print(car3.items())\n",
    "\n",
    "car4 = dict(car)  # another method to make a copy\n",
    "print(car4.items())"
   ]
  },
  {
   "attachments": {},
   "cell_type": "markdown",
   "metadata": {},
   "source": [
    "### merge dictionaries\n",
    "since python 3.9 we can use | to merge dictionaries"
   ]
  },
  {
   "cell_type": "code",
   "execution_count": 6,
   "metadata": {},
   "outputs": [
    {
     "data": {
      "text/plain": [
       "{'fish': 3, 'meat': 5, 'pasta': 'happiness', 'red': 'intensity'}"
      ]
     },
     "execution_count": 6,
     "metadata": {},
     "output_type": "execute_result"
    }
   ],
   "source": [
    "food = {\"fish\": 3, \"meat\": 5, \"pasta\": 9}\n",
    "colors = {\"red\": \"intensity\", \"pasta\": \"happiness\"}\n",
    "# unpacking trick, **can be used multiple times\n",
    "# In this case, duplicate keys are allowed. Later occurrences overwrite previous ones\n",
    "merged_dict = {**food, **colors}\n",
    "merged_dict"
   ]
  },
  {
   "cell_type": "code",
   "execution_count": 7,
   "id": "cee77127-37ee-4068-9ecc-4a2d6105b98f",
   "metadata": {
    "collapsed": true,
    "jupyter": {
     "outputs_hidden": true
    }
   },
   "outputs": [
    {
     "data": {
      "text/plain": [
       "{'Jessa': 70, 'Arul': 80, 'Emma': 66, 'Kelly': 68, 'Harry': 50}"
      ]
     },
     "execution_count": 7,
     "metadata": {},
     "output_type": "execute_result"
    }
   ],
   "source": [
    "dict1 = {\"Jessa\": 70, \"Arul\": 80, \"Emma\": 55}\n",
    "dict2 = {\"Kelly\": 68, \"Harry\": 50, \"Emma\": 66}\n",
    "# Merging Mappings with | works since python3.9\n",
    "dict1 | dict2"
   ]
  },
  {
   "attachments": {},
   "cell_type": "markdown",
   "metadata": {},
   "source": [
    "### nested dictionary - dict in a dict"
   ]
  },
  {
   "cell_type": "code",
   "execution_count": 8,
   "metadata": {},
   "outputs": [
    {
     "name": "stdout",
     "output_type": "stream",
     "text": [
      "{'name': 'Emil', 'year': 2004}\n",
      "Emil\n"
     ]
    }
   ],
   "source": [
    "myfamily = {\n",
    "    \"child1\": {\"name\": \"Emil\", \"year\": 2004},\n",
    "    \"child2\": {\"name\": \"Tobias\", \"year\": 2007},\n",
    "}\n",
    "print(myfamily[\"child1\"])\n",
    "print(myfamily[\"child1\"][\"name\"])  # get value of nested dict"
   ]
  },
  {
   "cell_type": "code",
   "execution_count": 10,
   "metadata": {},
   "outputs": [
    {
     "name": "stdout",
     "output_type": "stream",
     "text": [
      "{'name': 'Luna', 'year': '2004', 'health': 'obese'}\n",
      "{'name': 'Luna', 'year': '2004'}\n"
     ]
    }
   ],
   "source": [
    "myfamily[\"child3\"] = {\"name\": \"Luna\"}  # add a item/key-value pair\n",
    "myfamily[\"child3\"][\"year\"] = \"2004\"  # add value afterwards\n",
    "myfamily[\"child3\"][\"health\"] = \"obese\"  # add an extra key\n",
    "\n",
    "print(myfamily[\"child3\"])\n",
    "del myfamily[\"child3\"][\"health\"]  # delete an item in the nested dict\n",
    "print(myfamily[\"child3\"])"
   ]
  },
  {
   "attachments": {},
   "cell_type": "markdown",
   "id": "8a9787c7-b32f-4751-bc90-cd6aec393e19",
   "metadata": {},
   "source": [
    "### dictionay of dictionaries"
   ]
  },
  {
   "cell_type": "code",
   "execution_count": 11,
   "metadata": {},
   "outputs": [],
   "source": [
    "class_six = {\n",
    "    \"student1\": {\"name\": \"Jessa\", \"state\": \"Texas\", \"city\": \"Houston\", \"marks\": 75},\n",
    "    \"student2\": {\"name\": \"Emma\", \"state\": \"Texas\", \"city\": \"Dallas\", \"marks\": 60},\n",
    "    \"student3\": {\"name\": \"Kelly\", \"state\": \"Texas\", \"city\": \"Austin\", \"marks\": 85},\n",
    "}"
   ]
  },
  {
   "cell_type": "code",
   "execution_count": 12,
   "id": "d5725bc3-7156-402e-94aa-1df20684d5a9",
   "metadata": {
    "collapsed": true,
    "jupyter": {
     "outputs_hidden": true
    },
    "tags": []
   },
   "outputs": [
    {
     "name": "stdout",
     "output_type": "stream",
     "text": [
      "\n",
      "Class details\n",
      "\n",
      "student1\n",
      "name : Jessa\n",
      "state : Texas\n",
      "city : Houston\n",
      "marks : 75\n",
      "\n",
      "\n",
      "student2\n",
      "name : Emma\n",
      "state : Texas\n",
      "city : Dallas\n",
      "marks : 60\n",
      "\n",
      "\n",
      "student3\n",
      "name : Kelly\n",
      "state : Texas\n",
      "city : Austin\n",
      "marks : 85\n",
      "\n",
      "\n"
     ]
    }
   ],
   "source": [
    "# Iterating outer dictionary\n",
    "print(\"\\nClass details\\n\")\n",
    "for key, value in class_six.items():  # Iterating through nested dictionary\n",
    "    print(key)\n",
    "    for nested_key, nested_value in value.items():  # Display each student data\n",
    "        print(nested_key, \":\", nested_value)\n",
    "    print(\"\\n\")"
   ]
  },
  {
   "attachments": {},
   "cell_type": "markdown",
   "metadata": {},
   "source": [
    "### max or min of a dictionary"
   ]
  },
  {
   "cell_type": "code",
   "execution_count": 31,
   "id": "98a90070-93e0-4c1f-80b2-afc4ef26cc47",
   "metadata": {},
   "outputs": [
    {
     "data": {
      "text/plain": [
       "1"
      ]
     },
     "execution_count": 31,
     "metadata": {},
     "output_type": "execute_result"
    }
   ],
   "source": [
    "d = {1: \"aaa\", 2: \"bbb\", 3: \"AAA\"}\n",
    "max(d)  # 3\n",
    "min(d)  # 1"
   ]
  },
  {
   "attachments": {},
   "cell_type": "markdown",
   "metadata": {},
   "source": [
    "### dictionary + any & all"
   ]
  },
  {
   "cell_type": "code",
   "execution_count": 149,
   "id": "6cae57c0-dd0f-45c5-ac41-1557c1dcc2e6",
   "metadata": {},
   "outputs": [
    {
     "name": "stdout",
     "output_type": "stream",
     "text": [
      "True\n",
      "False\n",
      "\n",
      "True\n",
      "True\n",
      "\n",
      "False\n",
      "False\n"
     ]
    }
   ],
   "source": [
    "# any is a equivalent to writing a series of OR statements\n",
    "# all is eq. to a series of AND statements\n",
    "print(any({1: \"True\", 1: \"True\"}))\n",
    "print(all({1: \"True\", 0: \"False\"}))\n",
    "print()\n",
    "print(any({1: True}))\n",
    "print(all({1: True}))\n",
    "print()\n",
    "print(any({0: False}))\n",
    "print(all({0: False}))"
   ]
  },
  {
   "attachments": {},
   "cell_type": "markdown",
   "id": "dd7bed50-3883-4681-987f-35024020b1c6",
   "metadata": {},
   "source": [
    "### dictionaries summary"
   ]
  },
  {
   "cell_type": "code",
   "execution_count": 184,
   "id": "2654e4a7-cfc4-400a-a69f-3eacd22aa4b0",
   "metadata": {},
   "outputs": [
    {
     "data": {
      "text/plain": [
       "{1198.8: 'HF', 720.0: 'IG', 1200: 'ZJ', 850: 'KL'}"
      ]
     },
     "execution_count": 184,
     "metadata": {},
     "output_type": "execute_result"
    }
   ],
   "source": [
    "d1 = {\"a\": 10, \"b\": 20}  # Create a dictionary using a dict() constructor.\n",
    "d2 = {}  # Create an empty dictionary.\n",
    "d3 = {'f': 90, 'h':120}\n",
    "\n",
    "d2[\"c\"] = 40  # add new key-value pair\n",
    "\n",
    "# update existing value\n",
    "d1[\"b\"] = 30\n",
    "d1.update({\"a\": 50})\n",
    "d1.update(d2)  # Add all items of dictionary d2 into d1.\n",
    "\n",
    "# Retrieve value using the key name a.\n",
    "d1[\"a\"]\n",
    "d1.get(\"a\")\n",
    "\n",
    "\n",
    "\n",
    "# keys, values, items\n",
    "d1.keys()  # list of keys\n",
    "d1.values()  # list with all the values\n",
    "d1.items()  # list of all the items,  each key-value pair as a tuple.\n",
    "\n",
    "len(d1)  # Returns number of items in a dictionary.\n",
    "d2.setdefault(\"g\", 70)  # Set the default value if a key doesn’t exist.\n",
    "\"key\" in d1.keys()  # Check if a key exists in a dictionary.\n",
    "\n",
    "# remove key\n",
    "d1.pop(\"a\")\n",
    "d1.popitem()  # Remove any random item from a dictionary.\n",
    "d2.clear()  # Removes all items from the dictionary.\n",
    "\n",
    "d2 = d1.copy()  # Copy dictionary d1 into d2.\n",
    "\n",
    "\n",
    "d4 = {**d1, **d3}  # Join two dictionaries.\n",
    "\n",
    "max(d1)  # Returns the key with the maximum value in the dictionary d1\n",
    "min(d1)  # Returns the key with the minimum value in the dictionary d1\n",
    "\n",
    "sorted(d4.items(), key=lambda x: x[1], reverse=True) # reverse sorted by values\n",
    "\n",
    "# glue key-value pairs together form two lists with corresponding elements\n",
    "a = ['IG', 'HF']\n",
    "b = [600, 999]\n",
    "z = dict(zip(a,b))\n",
    "z\n",
    "\n",
    "# dictionary comprehension\n",
    "comp = {number*1.2: code for code, number in sorted(z.items()) if number >  500}\n",
    "comp\n",
    "\n",
    "# find values or keys by the index of their counterpart\n",
    "idx = list(comp.keys()).index(720)\n",
    "list(comp.values())[idx]\n",
    "\n",
    "c = {1200: 'ZJ', 850:'KL'}\n",
    "# merge dictionaries\n",
    "comp | c"
   ]
  },
  {
   "attachments": {},
   "cell_type": "markdown",
   "metadata": {},
   "source": [
    "## advanced collections\n",
    "- are found in  collections module\n",
    "- The collections module provides alternatives to built-in container data types\n",
    "- see extra collections notebook in this repo.\n",
    "\n",
    "**collections**\n",
    "- __namedtuple()__ - factory function for creating tuple subclasses with named fields\n",
    "- __deque__ - list-like container with fast appends and pops on either end\n",
    "- __ChainMap__ - dict-like class for creating a single view of multiple mappings\n",
    "- __Counter__ - dict subclass for counting hashable objects\n",
    "- __OrderedDict__ - dict subclass that remembers the order entries were added\n",
    "- __defaultdict__ - dict subclass that calls a factory function to supply missing values\n",
    "- __UserDict__ - wrapper around dictionary objects for easier dict subclassing\n",
    "- __UserList__ - wrapper around list objects for easier list subclassing\n",
    "- __UserString__ - wrapper around string objects for easier string subclassing"
   ]
  },
  {
   "attachments": {},
   "cell_type": "markdown",
   "id": "eba4b137",
   "metadata": {},
   "source": [
    "# Comprehensions"
   ]
  },
  {
   "attachments": {},
   "cell_type": "markdown",
   "id": "1351c36f",
   "metadata": {},
   "source": [
    "## list comprehension\n",
    "concise way to create a list from an existing list or any iterable. It’s a one-liner that can replace a for loop, making your code more efficient and readable."
   ]
  },
  {
   "cell_type": "code",
   "execution_count": 12,
   "metadata": {},
   "outputs": [
    {
     "data": {
      "text/plain": [
       "[1, 4, 9, 16, 25]"
      ]
     },
     "execution_count": 12,
     "metadata": {},
     "output_type": "execute_result"
    }
   ],
   "source": [
    "[x**2 for x in range(1, 6)]"
   ]
  },
  {
   "cell_type": "code",
   "execution_count": 18,
   "id": "0f56ad57",
   "metadata": {},
   "outputs": [
    {
     "name": "stdout",
     "output_type": "stream",
     "text": [
      "[89.6, 149.0, 219.2, 413.6]\n",
      "[89.6, 149.0, 219.2, 413.6]\n"
     ]
    },
    {
     "data": {
      "text/plain": [
       "[89.6, 149.0, 219.2, 413.6]"
      ]
     },
     "execution_count": 18,
     "metadata": {},
     "output_type": "execute_result"
    }
   ],
   "source": [
    "lst = [32, 65, 104, 212]\n",
    "\n",
    "\n",
    "# a list of converted elements can be produced like this or...\n",
    "def FahrenheitToCelsius(t):\n",
    "    return (t * 9 / 5) + 32\n",
    "\n",
    "\n",
    "print(list(map(FahrenheitToCelsius, lst)))\n",
    "\n",
    "# and even a lambda fct is more laborious\n",
    "fahrenheit = lambda t: (t * 9 / 5) + 32\n",
    "print(list(map(fahrenheit, lst)))\n",
    "\n",
    "# than a list comprehension\n",
    "[(t * 9 / 5) + 32 for t in lst]"
   ]
  },
  {
   "attachments": {},
   "cell_type": "markdown",
   "id": "39100425",
   "metadata": {},
   "source": [
    "## comprehension with predicate expression / condition"
   ]
  },
  {
   "cell_type": "code",
   "execution_count": null,
   "id": "b2dd9679",
   "metadata": {},
   "outputs": [
    {
     "data": {
      "text/plain": [
       "[25, 49, 81, 121, 169, 225]"
      ]
     },
     "metadata": {},
     "output_type": "display_data"
    }
   ],
   "source": [
    "odds = [1, 3, 5, 7, 9, 11, 13, 15, 17, 19]\n",
    "[e**2 for e in odds if e > 3 and e < 17]"
   ]
  },
  {
   "attachments": {},
   "cell_type": "markdown",
   "id": "8f4630e1",
   "metadata": {},
   "source": [
    "## dictionary comprehension"
   ]
  },
  {
   "cell_type": "code",
   "execution_count": 20,
   "id": "388f763d",
   "metadata": {},
   "outputs": [
    {
     "name": "stdout",
     "output_type": "stream",
     "text": [
      "{0: 32.0, 12: 53.6, 34: 93.2}\n",
      "53.6\n"
     ]
    }
   ],
   "source": [
    "ctemps = [0, 12, 34, 100]\n",
    "tempDict = {\n",
    "    t: (t * 9 / 5) + 32 for t in ctemps if t < 100\n",
    "}  # just put braces instead of brackets\n",
    "print(tempDict)\n",
    "print(tempDict[12])  # fetch value of dict with key=12"
   ]
  },
  {
   "cell_type": "code",
   "execution_count": 21,
   "id": "ee0935da",
   "metadata": {},
   "outputs": [
    {
     "name": "stdout",
     "output_type": "stream",
     "text": [
      "{'Jones': 24, 'Jameson': 18, 'Smith': 58, 'Burns': 7, 'White': 12, 'Macke': 88, 'Pierce': 4}\n"
     ]
    }
   ],
   "source": [
    "team1 = {\"Jones\": 24, \"Jameson\": 18, \"Smith\": 58, \"Burns\": 7}\n",
    "team2 = {\"White\": 12, \"Macke\": 88, \"Pierce\": 4}\n",
    "\n",
    "# do not get more complex in a comprehension\n",
    "newTeam = {k: v for team in (team1, team2) for k, v in team.items()}\n",
    "print(newTeam)"
   ]
  },
  {
   "attachments": {},
   "cell_type": "markdown",
   "id": "2a44d73b",
   "metadata": {},
   "source": [
    "## set comprehension"
   ]
  },
  {
   "cell_type": "code",
   "execution_count": null,
   "id": "f4ca0f75",
   "metadata": {},
   "outputs": [
    {
     "name": "stdout",
     "output_type": "stream",
     "text": [
      "[0.0, 18.0, 21.6, 25.2, 18.0, 41.4, 21.6, 61.2, 61.2, 180.0, 180.0]\n",
      "{0.0, 41.4, 18.0, 180.0, 21.6, 25.2, 61.2}\n"
     ]
    }
   ],
   "source": [
    "ctemps = [0, 10, 12, 14, 10, 23, 12, 34, 34, 100, 100]\n",
    "ftemps1 = [(t * 9 / 5) for t in ctemps]  # this is a list\n",
    "\n",
    "# when we do not use kev-value pairs\n",
    "# curly brackets create a set, sets do not allow duplicates\n",
    "ftemps2 = {(t * 9 / 5) for t in ctemps}\n",
    "print(ftemps1)\n",
    "print(ftemps2)"
   ]
  },
  {
   "cell_type": "code",
   "execution_count": null,
   "id": "6758d662",
   "metadata": {},
   "outputs": [
    {
     "name": "stdout",
     "output_type": "stream",
     "text": [
      "['A', 'B', 'C', 'D', 'E', 'F', 'G', 'H', 'I', 'J', 'K', 'L', 'M', 'N', 'O', 'P', 'Q', 'R', 'T', 'U', 'V', 'W', 'X', 'Y', 'Z']\n"
     ]
    }
   ],
   "source": [
    "sTemp = \"The quick brown fox jumped over the lazy dog\"\n",
    "chars = {c.upper() for c in sTemp if not c.isspace()}\n",
    "print(sorted(chars))"
   ]
  },
  {
   "attachments": {},
   "cell_type": "markdown",
   "metadata": {},
   "source": [
    "# copy() and deepcopy()"
   ]
  },
  {
   "cell_type": "code",
   "execution_count": null,
   "metadata": {},
   "outputs": [
    {
     "name": "stdout",
     "output_type": "stream",
     "text": [
      "[1, 'hello', 3]   id: 139714182565312\n",
      "[1, 2, 3]         id: 139714182565376\n"
     ]
    }
   ],
   "source": [
    "import copy\n",
    "\n",
    "spam = [1, 2, 3]\n",
    "nspam = copy.copy(spam)  # nspam looks like spam but is not referencing the same list\n",
    "spam[1] = \"hello\"\n",
    "print(f\"{spam}   id: {id(spam)}\")\n",
    "print(\n",
    "    f\"{nspam}         id: {id(nspam)}\"\n",
    ")  # thus is stored in a different memory storage"
   ]
  },
  {
   "attachments": {},
   "cell_type": "markdown",
   "metadata": {},
   "source": [
    "### shallow copy -for list in lists use\n",
    "- A shallow copy creates a new object which stores the reference of the original elements.\n",
    "- So, a shallow copy doesn't create a copy of nested objects, instead it just copies the reference of nested objects. \n",
    "- This means, a copy process does not recurse or create copies of nested objects itself.\n"
   ]
  },
  {
   "cell_type": "code",
   "execution_count": null,
   "metadata": {},
   "outputs": [
    {
     "name": "stdout",
     "output_type": "stream",
     "text": [
      "Old list: [[1, 2, 3], [4, 5, 6], [7, 8, 9]]\n",
      "New list: [[1, 2, 3], [4, 5, 6], [7, 8, 9]]\n"
     ]
    }
   ],
   "source": [
    "import copy\n",
    "\n",
    "old_list = [[1, 2, 3], [4, 5, 6], [7, 8, 9]]\n",
    "new_list = copy.copy(old_list)\n",
    "print(\"Old list:\", old_list)\n",
    "print(\"New list:\", new_list)"
   ]
  },
  {
   "attachments": {},
   "cell_type": "markdown",
   "metadata": {},
   "source": [
    "- We create a shallow copy of old_list. The new_list contains references to original nested objects stored in old_list. \n",
    "- Then we add the new list i.e [4, 4, 4] into old_list. This new sublist is not copied in new_list.\n",
    "- However, when you change any nested objects in old_list, the changes appear in new_list."
   ]
  },
  {
   "cell_type": "code",
   "execution_count": null,
   "metadata": {},
   "outputs": [
    {
     "name": "stdout",
     "output_type": "stream",
     "text": [
      "Old list: [[1, 1, 1], [2, 2, 2], [3, 3, 3], [4, 4, 4]]\n",
      "New list: [[1, 1, 1], [2, 2, 2], [3, 3, 3]]\n",
      "Old list: [[1, 1, 1], [2, 'AA', 2], [3, 3, 3], [4, 4, 4]]\n",
      "New list: [[1, 1, 1], [2, 'AA', 2], [3, 3, 3]]\n"
     ]
    }
   ],
   "source": [
    "old_list = [[1, 1, 1], [2, 2, 2], [3, 3, 3]]\n",
    "new_list = copy.copy(old_list)\n",
    "old_list.append([4, 4, 4])\n",
    "\n",
    "print(\"Old list:\", old_list)\n",
    "print(\"New list:\", new_list)\n",
    "\n",
    "old_list[1][1] = \"AA\"\n",
    "print(\"Old list:\", old_list)\n",
    "print(\"New list:\", new_list)"
   ]
  },
  {
   "attachments": {},
   "cell_type": "markdown",
   "metadata": {},
   "source": [
    "## deepcopy\n",
    "- A deep copy creates a new object and recursively adds the copies of nested objects present in the original elements.\n",
    "- The deep copy creates independent copy of original object and all its nested objects."
   ]
  },
  {
   "cell_type": "code",
   "execution_count": null,
   "metadata": {},
   "outputs": [
    {
     "name": "stdout",
     "output_type": "stream",
     "text": [
      "Old list: [[1, 1, 1], ['BB', 2, 2], [3, 3, 3]]\n",
      "New list: [[1, 1, 1], [2, 2, 2], [3, 3, 3]]\n"
     ]
    }
   ],
   "source": [
    "old_list = [[1, 1, 1], [2, 2, 2], [3, 3, 3]]\n",
    "new_list = copy.deepcopy(old_list)\n",
    "\n",
    "old_list[1][0] = \"BB\"\n",
    "print(\"Old list:\", old_list)\n",
    "print(\"New list:\", new_list)"
   ]
  },
  {
   "attachments": {},
   "cell_type": "markdown",
   "metadata": {},
   "source": [
    "# loops\n",
    "- repetitive execution of statements"
   ]
  },
  {
   "attachments": {},
   "cell_type": "markdown",
   "metadata": {},
   "source": [
    "## for loop\n",
    "- iterate over a sequence"
   ]
  },
  {
   "cell_type": "code",
   "execution_count": null,
   "metadata": {},
   "outputs": [
    {
     "name": "stdout",
     "output_type": "stream",
     "text": [
      "1\n",
      "2\n",
      "3\n",
      "4\n",
      "5\n"
     ]
    }
   ],
   "source": [
    "numbers = [\n",
    "    1,\n",
    "    2,\n",
    "    3,\n",
    "    4,\n",
    "    5,\n",
    "]  # iterates over the members of a sequence in order, executing the block each time.\n",
    "for item in numbers:\n",
    "    print(item)"
   ]
  },
  {
   "attachments": {},
   "cell_type": "markdown",
   "metadata": {},
   "source": [
    "## range()\n",
    "- for repetiton you need a sequence range() helps you create one"
   ]
  },
  {
   "cell_type": "code",
   "execution_count": 4,
   "metadata": {},
   "outputs": [
    {
     "name": "stdout",
     "output_type": "stream",
     "text": [
      "range\n",
      "range\n",
      "range\n",
      "range\n",
      "range exhausted\n"
     ]
    }
   ],
   "source": [
    "for x in range(4):\n",
    "    print(\"range\")\n",
    "else:\n",
    "    print(\"range exhausted\")"
   ]
  },
  {
   "attachments": {},
   "cell_type": "markdown",
   "metadata": {},
   "source": [
    "## if statement\n",
    "- for nested if statements and ternary operators look at chapter logical operators"
   ]
  },
  {
   "cell_type": "code",
   "execution_count": null,
   "metadata": {},
   "outputs": [
    {
     "name": "stdout",
     "output_type": "stream",
     "text": [
      "cold\n",
      "done\n"
     ]
    }
   ],
   "source": [
    "temperature = 9\n",
    "\n",
    "if temperature > 30:  # block fo code starts if true\n",
    "    print(\"It's a hot day\")\n",
    "    print(\"drink my son\")\n",
    "elif (\n",
    "    temperature > 20\n",
    "):  # in case the first 'if' is FALSE the 'elif' block is executed when TRUE\n",
    "    print(\"it's a nice day\")\n",
    "elif temperature > 10:\n",
    "    print(\"coldish\")\n",
    "else:  # if nothing of the above holds\n",
    "    print(\"cold\")\n",
    "    print(\"done\")  # not part of the block"
   ]
  },
  {
   "attachments": {},
   "cell_type": "markdown",
   "metadata": {},
   "source": [
    "\n",
    "## while loops\n",
    "- The while loop executes a given statement or a series of statements as long as a given\n",
    "condition is true."
   ]
  },
  {
   "cell_type": "code",
   "execution_count": 5,
   "metadata": {},
   "outputs": [
    {
     "name": "stdout",
     "output_type": "stream",
     "text": [
      "*\n",
      "**\n",
      "***\n",
      "****\n",
      "*****\n"
     ]
    }
   ],
   "source": [
    "i = 1\n",
    "while i <= 5:  # block will continue till condition is met\n",
    "    print(i * \"*\")  # repeats the string i times\n",
    "    i = (\n",
    "        i + 1\n",
    "    )  # incrementing the counter is important, otherwise loop would continue endless"
   ]
  },
  {
   "cell_type": "code",
   "execution_count": 8,
   "metadata": {},
   "outputs": [
    {
     "name": "stdout",
     "output_type": "stream",
     "text": [
      "102\n"
     ]
    }
   ],
   "source": [
    "count = 0\n",
    "while np.random.rand() > 0.01:\n",
    "    count = count + 1\n",
    "print(count)"
   ]
  },
  {
   "attachments": {},
   "cell_type": "markdown",
   "metadata": {},
   "source": [
    "## while True"
   ]
  },
  {
   "cell_type": "code",
   "execution_count": null,
   "metadata": {},
   "outputs": [],
   "source": [
    "while True:  # allways ask name\n",
    "    print(\"Who are you?\")\n",
    "    name = input()\n",
    "    if name != \"Joe\":  # if not Joe asks again\n",
    "        print(f\"There's no {name} in our database\")\n",
    "        continue  # jumps back to while loop if True, if False (Joe) goes to next line\n",
    "\n",
    "    print(\"Hello, Joe. What is the password? (It is a fish.)\")\n",
    "    password = input()\n",
    "    if password != \"swordfish\":\n",
    "        print(\"Wrong password\")\n",
    "    else:\n",
    "        break  # if password is correct if, goes to next line\n",
    "    print(\"Access granted.\")"
   ]
  },
  {
   "attachments": {},
   "cell_type": "markdown",
   "metadata": {},
   "source": [
    "## sys.exit() function to terminate program"
   ]
  },
  {
   "cell_type": "code",
   "execution_count": 14,
   "metadata": {},
   "outputs": [
    {
     "name": "stdout",
     "output_type": "stream",
     "text": [
      "Type exit to exit.\n",
      "Type exit to exit.\n"
     ]
    },
    {
     "ename": "SystemExit",
     "evalue": "",
     "output_type": "error",
     "traceback": [
      "An exception has occurred, use %tb to see the full traceback.\n",
      "\u001b[0;31mSystemExit\u001b[0m\n"
     ]
    }
   ],
   "source": [
    "import sys\n",
    "\n",
    "while True:\n",
    "    print(\"Type exit to exit.\")\n",
    "    response = input()\n",
    "    if response == \"exit\":\n",
    "        sys.exit()\n",
    "\n",
    "print(f\"You typed {response}.\")"
   ]
  },
  {
   "attachments": {},
   "cell_type": "markdown",
   "metadata": {},
   "source": [
    "## nested loop, one loop inside another\n",
    "- The \"inner loop\" will be executed one time for each iteration of the \"outer loop\":"
   ]
  },
  {
   "cell_type": "code",
   "execution_count": 2,
   "metadata": {},
   "outputs": [
    {
     "name": "stdout",
     "output_type": "stream",
     "text": [
      "(0, 0)\n",
      "(0, 1)\n",
      "(1, 0)\n",
      "(1, 1)\n",
      "(2, 0)\n",
      "(2, 1)\n",
      "\n",
      "\n",
      "(0, 0)\n",
      "(0, 1)\n",
      "(1, 0)\n",
      "(1, 1)\n",
      "(2, 0)\n",
      "(2, 1)\n"
     ]
    }
   ],
   "source": [
    "for x in range(3):  # inner loop excecutes times the outer loop\n",
    "    for y in range(\n",
    "        2\n",
    "    ):  # outer loop gets started again after inner loop terminates, and iterates\n",
    "        print(f\"({x}, {y})\")  # than inner loop starts again\n",
    "\n",
    "print(\"\\n\")\n",
    "\n",
    "# alternative with itertools\n",
    "import itertools\n",
    "\n",
    "for x, y in itertools.product(range(3), range(2)):\n",
    "    print(f\"({x}, {y})\")  # than inner loop starts again"
   ]
  },
  {
   "attachments": {},
   "cell_type": "markdown",
   "metadata": {},
   "source": [
    "## pass\n",
    "pass - is a placeholder when a statement is syntactically required but you do not <br>\n",
    "want any command or code to execute."
   ]
  },
  {
   "cell_type": "code",
   "execution_count": 354,
   "metadata": {},
   "outputs": [],
   "source": [
    "for x in [0, 1, 2]:\n",
    "    pass"
   ]
  },
  {
   "attachments": {},
   "cell_type": "markdown",
   "metadata": {},
   "source": [
    "## break\n",
    "- stops the excution of the current loop\n",
    "- the control will pass to the statements that are present after the break statement"
   ]
  },
  {
   "cell_type": "code",
   "execution_count": 3,
   "metadata": {},
   "outputs": [
    {
     "name": "stdout",
     "output_type": "stream",
     "text": [
      "l\n",
      "o\n",
      "o\n",
      "k\n",
      " \n",
      "f\n",
      "o\n",
      "r\n",
      " \n",
      "s\n",
      "Out of for loop\n"
     ]
    }
   ],
   "source": [
    "s = \"look for s or e\"\n",
    "for letter in s:\n",
    "    print(letter)\n",
    "    # break the loop as soon it sees 'e' or 's'\n",
    "    if letter in [\"e\", \"s\"]:\n",
    "        break\n",
    "\n",
    "print(\"Out of for loop\")"
   ]
  },
  {
   "cell_type": "code",
   "execution_count": 9,
   "metadata": {},
   "outputs": [
    {
     "name": "stdout",
     "output_type": "stream",
     "text": [
      "1\n",
      "2\n",
      "3\n",
      "4\n"
     ]
    }
   ],
   "source": [
    "i = 1\n",
    "while i < 9:\n",
    "    if i == 5:\n",
    "        break  # here break stops before the print\n",
    "    print(i)\n",
    "    i += 1"
   ]
  },
  {
   "attachments": {},
   "cell_type": "markdown",
   "metadata": {},
   "source": [
    "## continue\n",
    "- continue statement is opposite to that of break statement, <br>\n",
    "instead of terminating the loop, it forces to execute the next iteration of the loop.\n",
    "- When the continue statement is executed in the loop, the code inside the loop <br>\n",
    "following the continue statement will be skipped and the next iteration of the loop will begin."
   ]
  },
  {
   "cell_type": "code",
   "execution_count": 10,
   "metadata": {},
   "outputs": [
    {
     "name": "stdout",
     "output_type": "stream",
     "text": [
      "cat\n",
      "dog\n",
      "hamster\n"
     ]
    }
   ],
   "source": [
    "for i in [\"cat\", \"dog\", \"bunny\", \"hamster\"]:\n",
    "    if i == \"bunny\":\n",
    "        # jumps over the current iteration of the loop and leave 'bunny' out\n",
    "        continue\n",
    "    print(i)"
   ]
  },
  {
   "attachments": {},
   "cell_type": "markdown",
   "metadata": {},
   "source": [
    "## error message\n"
   ]
  },
  {
   "cell_type": "code",
   "execution_count": 329,
   "metadata": {},
   "outputs": [
    {
     "name": "stdout",
     "output_type": "stream",
     "text": [
      "Please give me an integer\n"
     ]
    }
   ],
   "source": [
    "try:\n",
    "    age = int(input(\"Age: \"))\n",
    "    print(age)\n",
    "    zero_divison = 200 / age\n",
    "    print(zero_divison)\n",
    "except ValueError:  # when we try to divide by 0\n",
    "    print(\"Please give me an integer\")\n",
    "except ZeroDivisionError:\n",
    "    print(\"no division with zero\")"
   ]
  },
  {
   "attachments": {},
   "cell_type": "markdown",
   "metadata": {},
   "source": [
    "## range() function\n",
    "The range() function returns a sequence of numbers,\n",
    "starting from 0 by default, and increments by 1 (by default),\n",
    "and ends at a specified number.\n"
   ]
  },
  {
   "cell_type": "code",
   "execution_count": 171,
   "metadata": {},
   "outputs": [
    {
     "name": "stdout",
     "output_type": "stream",
     "text": [
      "5\n",
      "7\n",
      "9\n"
     ]
    }
   ],
   "source": [
    "for number in range(5, 10, 2):  # range from 5 to 9, with a step of 2\n",
    "    print(number)"
   ]
  },
  {
   "cell_type": "code",
   "execution_count": null,
   "id": "f07c6cc4-6b0c-4e41-9ceb-16c3cff2c4fa",
   "metadata": {
    "collapsed": true,
    "jupyter": {
     "outputs_hidden": true
    },
    "tags": []
   },
   "outputs": [
    {
     "data": {
      "text/plain": [
       "[20, 17, 14, 11, 8, 5, 2, -1, -4, -7, -10, -13]"
      ]
     },
     "metadata": {},
     "output_type": "display_data"
    }
   ],
   "source": [
    "x = list(range(20, -15, -3))\n",
    "x"
   ]
  },
  {
   "cell_type": "code",
   "execution_count": null,
   "id": "1ef67623-8bdf-4c8c-ad70-97f3a83fd130",
   "metadata": {
    "collapsed": true,
    "jupyter": {
     "outputs_hidden": true
    },
    "tags": []
   },
   "outputs": [
    {
     "name": "stdout",
     "output_type": "stream",
     "text": [
      "70\n",
      "78\n",
      "86\n",
      "94\n"
     ]
    }
   ],
   "source": [
    "for i in range(70, 100, 8):\n",
    "    print(i)"
   ]
  },
  {
   "attachments": {},
   "cell_type": "markdown",
   "id": "7bcfdb03-e0b5-4867-98bf-e41af4bafa44",
   "metadata": {},
   "source": [
    "##  reversed"
   ]
  },
  {
   "cell_type": "code",
   "execution_count": null,
   "id": "26527b02-2618-4e3a-bf13-6a3e3bb4f37a",
   "metadata": {
    "collapsed": true,
    "jupyter": {
     "outputs_hidden": true
    },
    "tags": []
   },
   "outputs": [
    {
     "data": {
      "text/plain": [
       "[19, 17, 15, 13, 11, 9, 7, 5, 3, 1, -1, -3, -5, -7, -9, -11, -13, -15]"
      ]
     },
     "metadata": {},
     "output_type": "display_data"
    }
   ],
   "source": [
    "list(reversed(range(-15, 21, 2)))"
   ]
  },
  {
   "cell_type": "code",
   "execution_count": null,
   "id": "c339d1a0-5306-4ab2-914e-a3826a1382a9",
   "metadata": {
    "collapsed": true,
    "jupyter": {
     "outputs_hidden": true
    },
    "tags": []
   },
   "outputs": [
    {
     "data": {
      "text/plain": [
       "'olleH'"
      ]
     },
     "metadata": {},
     "output_type": "display_data"
    }
   ],
   "source": [
    "s = \"Hello\"\n",
    "result = \"\"\n",
    "for i in reversed(s):\n",
    "    result += i\n",
    "\n",
    "result"
   ]
  },
  {
   "attachments": {},
   "cell_type": "markdown",
   "id": "1078ccc3-9770-4f59-81c5-86362dbab7a0",
   "metadata": {},
   "source": [
    "## iterate a list using range()"
   ]
  },
  {
   "cell_type": "code",
   "execution_count": null,
   "id": "a53aca08-9d20-4ef2-b659-1feab0535240",
   "metadata": {
    "collapsed": true,
    "jupyter": {
     "outputs_hidden": true
    }
   },
   "outputs": [
    {
     "name": "stdout",
     "output_type": "stream",
     "text": [
      "Jessa\n",
      "Emma\n",
      "20\n",
      "75.5\n"
     ]
    }
   ],
   "source": [
    "list1 = [\"Jessa\", \"Emma\", 20, 75.5]\n",
    "for i in range(len(list1)):\n",
    "    print(list1[i])"
   ]
  },
  {
   "cell_type": "code",
   "execution_count": null,
   "id": "7deefad9-f2f5-4df3-94c2-bc07e4f84cbf",
   "metadata": {
    "collapsed": true,
    "jupyter": {
     "outputs_hidden": true
    }
   },
   "outputs": [
    {
     "name": "stdout",
     "output_type": "stream",
     "text": [
      "20 18 16 14 12 10 "
     ]
    }
   ],
   "source": [
    "for i in reversed(range(10, 21, 2)):\n",
    "    print(i, end=\" \")"
   ]
  },
  {
   "cell_type": "code",
   "execution_count": null,
   "id": "2d46fc44-3fd0-4161-af37-ed97290546e3",
   "metadata": {
    "collapsed": true,
    "jupyter": {
     "outputs_hidden": true
    }
   },
   "outputs": [
    {
     "data": {
      "text/plain": [
       "[20, 22, 24, 26, 28, 30, 32, 34, 36, 38]"
      ]
     },
     "metadata": {},
     "output_type": "display_data"
    }
   ],
   "source": [
    "list(\n",
    "    range(20, 40, 2)\n",
    ")  # range object needs to be convererted to list to show its content"
   ]
  },
  {
   "attachments": {},
   "cell_type": "markdown",
   "id": "34be3787-4e04-4e3d-89c2-b52e727dd898",
   "metadata": {},
   "source": [
    "### inclusive range"
   ]
  },
  {
   "cell_type": "code",
   "execution_count": 31,
   "id": "b3ec27ef-07ec-4f2d-8a21-eb8df4198252",
   "metadata": {
    "collapsed": true,
    "jupyter": {
     "outputs_hidden": true
    }
   },
   "outputs": [
    {
     "data": {
      "text/plain": [
       "[20, 22, 24, 26, 28, 30, 32, 34, 36, 38, 40]"
      ]
     },
     "execution_count": 31,
     "metadata": {},
     "output_type": "execute_result"
    }
   ],
   "source": [
    "list(range(20, 40 + 2, 2))"
   ]
  },
  {
   "attachments": {},
   "cell_type": "markdown",
   "id": "57a82ba1-626f-4247-a1f2-8f4dc745d09e",
   "metadata": {},
   "source": [
    "## range has indices"
   ]
  },
  {
   "cell_type": "code",
   "execution_count": 28,
   "id": "754736ae-6816-4e45-ac6a-a0eb9f1f8466",
   "metadata": {
    "collapsed": true,
    "jupyter": {
     "outputs_hidden": true
    }
   },
   "outputs": [
    {
     "name": "stdout",
     "output_type": "stream",
     "text": [
      "[10, 12, 14, 16, 18, 20, 22, 24, 26, 28]\n",
      "16\n",
      "10\n",
      "29\n",
      "28\n"
     ]
    }
   ],
   "source": [
    "r1 = range(10, 30, 2)\n",
    "print(list(r1))\n",
    "print(r1[3])\n",
    "print(r1.start)\n",
    "print(r1.stop - 1)\n",
    "print(r1[-1])"
   ]
  },
  {
   "attachments": {},
   "cell_type": "markdown",
   "metadata": {},
   "source": [
    "# Strings"
   ]
  },
  {
   "cell_type": "code",
   "execution_count": 152,
   "metadata": {},
   "outputs": [
    {
     "name": "stdout",
     "output_type": "stream",
     "text": [
      "Python's Course\n",
      "Python for \"Beginners\"\n"
     ]
    }
   ],
   "source": [
    "course = \"Python's Course\"  # apostrohpe\n",
    "course1 = 'Python for \"Beginners\"'  # double quotes\n",
    "print(course)\n",
    "print(course1)"
   ]
  },
  {
   "cell_type": "code",
   "execution_count": 26,
   "metadata": {},
   "outputs": [],
   "source": [
    "## Concat and multiply Strings"
   ]
  },
  {
   "cell_type": "code",
   "execution_count": 30,
   "metadata": {},
   "outputs": [
    {
     "name": "stdout",
     "output_type": "stream",
     "text": [
      "hey there\n",
      "heyheyheyheyhey\n"
     ]
    }
   ],
   "source": [
    "str1 = \"hey\"\n",
    "str2 = \" there\"\n",
    "str3 = \"\\n\"\n",
    "\n",
    "print(str1 + str2)\n",
    "print(str1 * 5)  # do arithmetics with non-numbers too."
   ]
  },
  {
   "cell_type": "markdown",
   "metadata": {},
   "source": [
    "### line continuation"
   ]
  },
  {
   "cell_type": "code",
   "execution_count": null,
   "metadata": {},
   "outputs": [
    {
     "name": "stdout",
     "output_type": "stream",
     "text": [
      "hello there\n"
     ]
    }
   ],
   "source": [
    "print(\"hello \" + \"there\")"
   ]
  },
  {
   "attachments": {},
   "cell_type": "markdown",
   "metadata": {},
   "source": [
    "## Comments"
   ]
  },
  {
   "attachments": {},
   "cell_type": "markdown",
   "metadata": {},
   "source": [
    "### multiline comment\n",
    "comments - not what but why and how, explain assumptions"
   ]
  },
  {
   "cell_type": "code",
   "execution_count": 278,
   "metadata": {},
   "outputs": [
    {
     "data": {
      "text/plain": [
       "'\\nthis is a\\nmultiline comment\\nand can go on and\\non\\n'"
      ]
     },
     "execution_count": 278,
     "metadata": {},
     "output_type": "execute_result"
    }
   ],
   "source": [
    "\"\"\"\n",
    "this is a\n",
    "multiline comment\n",
    "and can go on and\n",
    "on\n",
    "\"\"\""
   ]
  },
  {
   "attachments": {},
   "cell_type": "markdown",
   "metadata": {},
   "source": [
    "## Triple quotes: (Multiline Strings)"
   ]
  },
  {
   "cell_type": "code",
   "execution_count": 22,
   "metadata": {},
   "outputs": [
    {
     "name": "stdout",
     "output_type": "stream",
     "text": [
      "Hallo,\n",
      "das ist eine\n",
      "mehrzeilige Ausgabe\n",
      "in Python\n"
     ]
    }
   ],
   "source": [
    "# multiline string - gets rid of the new-line in the beginning\n",
    "print(\n",
    "    \"\"\"\\\n",
    "Hallo,\n",
    "das ist eine\n",
    "mehrzeilige Ausgabe\n",
    "in Python\"\"\"\n",
    ")"
   ]
  },
  {
   "attachments": {},
   "cell_type": "markdown",
   "metadata": {},
   "source": [
    "## Escape characters"
   ]
  },
  {
   "cell_type": "code",
   "execution_count": null,
   "metadata": {},
   "outputs": [],
   "source": [
    "# \\' Single quote\n",
    "# \\\" Double quote\n",
    "# \\t Tab\n",
    "# \\n Newline (line break)\n",
    "# \\\\ Backslash\n",
    "\n",
    "# print function\n",
    "# Syntax: print(object(s), sep=separator, end=end, file=file, flush=flush)\n",
    "print(\"Hello\", \"how are you?\", sep=\"---\")\n",
    "print(\"no line break after the last print statement -- \", end=\"\")\n",
    "print(\"end\")\n",
    "print(\"I’m Marco’s subconciousness\")  # prints single quotes\n",
    "print('He said: \"No way\"')  # prints double quotes '' (not these``)\n",
    "print('He said: \"No way\"')  # escape character\n",
    "print(\"tap \\t tab\")  # \\t    for tab\n",
    "print(\"Line \\nBreak\")  # \\n    for newline\n",
    "print(\"friend\\\\lover\")  # \\\\    for backslash\n",
    "print(\n",
    "    r\"home\\usr\\bin\"\n",
    ")  # raw-string no escaping \\ needed, practical with lots of special signs\n",
    "print(r\"That is Carol\\'s cat.\")  # raw string prints all escape characters"
   ]
  },
  {
   "attachments": {},
   "cell_type": "markdown",
   "metadata": {},
   "source": [
    "## pretty printing"
   ]
  },
  {
   "cell_type": "code",
   "execution_count": 178,
   "metadata": {},
   "outputs": [
    {
     "name": "stdout",
     "output_type": "stream",
     "text": [
      "{'age': 30,\n",
      " 'color': 'white',\n",
      " 'gender': 'male',\n",
      " 'is_verified': True,\n",
      " 'name': 'Jack Smith',\n",
      " 'status': 'active'}\n"
     ]
    }
   ],
   "source": [
    "import pprint\n",
    "\n",
    "pprint.pprint(customer)  # prettified output - ascending order"
   ]
  },
  {
   "cell_type": "code",
   "execution_count": 179,
   "metadata": {},
   "outputs": [
    {
     "data": {
      "text/plain": [
       "\"{'age': 30,\\n 'color': 'white',\\n 'gender': 'male',\\n 'is_verified': True,\\n 'name': 'Jack Smith',\\n 'status': 'active'}\""
      ]
     },
     "execution_count": 179,
     "metadata": {},
     "output_type": "execute_result"
    }
   ],
   "source": [
    "pprint.pformat(customer)  # prettified text as string"
   ]
  },
  {
   "cell_type": "code",
   "execution_count": 180,
   "metadata": {},
   "outputs": [
    {
     "name": "stdout",
     "output_type": "stream",
     "text": [
      "('name', 'Jack Smith')\n",
      "('age', 30)\n",
      "('is_verified', True)\n",
      "('status', 'active')\n",
      "('gender', 'male')\n",
      "('color', 'white')\n"
     ]
    }
   ],
   "source": [
    "for k in customer.items():\n",
    "    pprint.pprint(k)"
   ]
  },
  {
   "attachments": {},
   "cell_type": "markdown",
   "metadata": {},
   "source": [
    "## advanced print"
   ]
  },
  {
   "cell_type": "code",
   "execution_count": 39,
   "metadata": {},
   "outputs": [
    {
     "name": "stdout",
     "output_type": "stream",
     "text": [
      "bluemoon@geemayl.com\n"
     ]
    }
   ],
   "source": [
    "str1 = \"bluemoon\"\n",
    "str2 = \"geemayl.com\"\n",
    "\n",
    "print(str1, str2, sep=\"@\")"
   ]
  },
  {
   "attachments": {},
   "cell_type": "markdown",
   "metadata": {},
   "source": [
    "Python’s print function has a \\n new line character at the end by default, you can change that"
   ]
  },
  {
   "cell_type": "code",
   "execution_count": 40,
   "metadata": {},
   "outputs": [
    {
     "name": "stdout",
     "output_type": "stream",
     "text": [
      "one,two,three\n"
     ]
    }
   ],
   "source": [
    "print(\"one\", end=\",\")\n",
    "print(\"two\", end=\",\")\n",
    "print(\"three\")"
   ]
  },
  {
   "attachments": {},
   "cell_type": "markdown",
   "metadata": {},
   "source": [
    "## textwrap"
   ]
  },
  {
   "cell_type": "code",
   "execution_count": 253,
   "metadata": {},
   "outputs": [
    {
     "name": "stdout",
     "output_type": "stream",
     "text": [
      "hello,       what up      ?\n"
     ]
    }
   ],
   "source": [
    "import textwrap\n",
    "\n",
    "paragraph = \"\"\"    hello,       what up      ?\"\"\"\n",
    "print(textwrap.dedent(paragraph).strip())"
   ]
  },
  {
   "attachments": {},
   "cell_type": "markdown",
   "metadata": {},
   "source": [
    "## slicing  a string"
   ]
  },
  {
   "cell_type": "code",
   "execution_count": 263,
   "metadata": {},
   "outputs": [
    {
     "name": "stdout",
     "output_type": "stream",
     "text": [
      "llo worl\n",
      "d\n",
      "hello \n"
     ]
    }
   ],
   "source": [
    "x = \"hello world\"\n",
    "print(x[2:10])\n",
    "print(x[10])\n",
    "print(x[0:6])"
   ]
  },
  {
   "attachments": {},
   "cell_type": "markdown",
   "metadata": {},
   "source": [
    "Reverse data: (Slice Notation) --  Reversing through slicing"
   ]
  },
  {
   "cell_type": "code",
   "execution_count": 33,
   "metadata": {},
   "outputs": [
    {
     "name": "stdout",
     "output_type": "stream",
     "text": [
      "noitacinrofilaC\n"
     ]
    }
   ],
   "source": [
    "str = \"Californication\"\n",
    "print(str[::-1])"
   ]
  },
  {
   "attachments": {},
   "cell_type": "markdown",
   "metadata": {},
   "source": [
    "## in / not in"
   ]
  },
  {
   "cell_type": "code",
   "execution_count": 38,
   "metadata": {},
   "outputs": [
    {
     "name": "stdout",
     "output_type": "stream",
     "text": [
      "True\n",
      "False\n",
      "True\n",
      "True\n",
      "True\n"
     ]
    }
   ],
   "source": [
    "x = \"hello world\"\n",
    "\n",
    "print(\"hello\" in x)\n",
    "print(\"Hello\" in x)  # case sensitive\n",
    "print(\"Hello\" not in x)\n",
    "print(\"D\" not in x)\n",
    "print(\" \" in x)"
   ]
  },
  {
   "attachments": {},
   "cell_type": "markdown",
   "metadata": {},
   "source": [
    "## find, replace"
   ]
  },
  {
   "cell_type": "code",
   "execution_count": null,
   "metadata": {},
   "outputs": [],
   "source": [
    "course = \"Python for Beginners\"\n",
    "print(course.find(\"y\"))  # finds the first \"y\" in the string\n",
    "print(course.replace(\"for\", \"4\"))"
   ]
  },
  {
   "attachments": {},
   "cell_type": "markdown",
   "metadata": {},
   "source": [
    "## input"
   ]
  },
  {
   "cell_type": "code",
   "execution_count": 269,
   "metadata": {},
   "outputs": [
    {
     "name": "stdout",
     "output_type": "stream",
     "text": [
      "Hello MAn\n"
     ]
    }
   ],
   "source": [
    "name = input(\"what`s your name\")  # takes the input\n",
    "print(\"Hello \" + name)  # string concatenation"
   ]
  },
  {
   "attachments": {},
   "cell_type": "markdown",
   "metadata": {},
   "source": [
    "## string.format\n",
    "- strings can be modified where the curly bracket stands in"
   ]
  },
  {
   "cell_type": "code",
   "execution_count": 11,
   "metadata": {},
   "outputs": [
    {
     "data": {
      "text/plain": [
       "'I love coding very much!'"
      ]
     },
     "execution_count": 11,
     "metadata": {},
     "output_type": "execute_result"
    }
   ],
   "source": [
    "x = \"I love {} very much!\"\n",
    "x.format(\"coding\")"
   ]
  },
  {
   "cell_type": "code",
   "execution_count": 12,
   "metadata": {},
   "outputs": [
    {
     "data": {
      "text/plain": [
       "'I eat eggs, liver and cheese every day.'"
      ]
     },
     "execution_count": 12,
     "metadata": {},
     "output_type": "execute_result"
    }
   ],
   "source": [
    "y = \"I eat {}, {} and {} every day.\"  # multiple placeholders\n",
    "y.format(\"eggs\", \"liver\", \"cheese\")"
   ]
  },
  {
   "cell_type": "code",
   "execution_count": 14,
   "metadata": {},
   "outputs": [
    {
     "data": {
      "text/plain": [
       "'I eat cheese, liver and eggs every day.'"
      ]
     },
     "execution_count": 14,
     "metadata": {},
     "output_type": "execute_result"
    }
   ],
   "source": [
    "z = \"I eat {2}, {1} and {0} every day.\"  # indexed placeholders\n",
    "z.format(\"eggs\", \"liver\", \"cheese\")"
   ]
  },
  {
   "cell_type": "code",
   "execution_count": 15,
   "metadata": {},
   "outputs": [
    {
     "data": {
      "text/plain": [
       "'I eat banana, cheese and liver every day.'"
      ]
     },
     "execution_count": 15,
     "metadata": {},
     "output_type": "execute_result"
    }
   ],
   "source": [
    "z = \"I eat {fruit}, {diary} and {meat} every day.\"  # named placeholders\n",
    "z.format(fruit=\"banana\", meat=\"liver\", diary=\"cheese\")"
   ]
  },
  {
   "attachments": {},
   "cell_type": "markdown",
   "metadata": {},
   "source": [
    "## string interpolation\n",
    "- most of the time f-string are nicer: ``f'The value is {value}'`` is better than ``'The value is {}'.format(value)``\n",
    "- The % operator tells the Python interpreter to format a string using a given set of variables, enclosed in a tuple, following the operator. \n",
    "- **%s** is placeholder for strings and converts via str(), but f-string works too\n",
    "- **%c** single character\n",
    "- **%i** and **%d** signed decimal integer.\n",
    "- **%u** unsigned decimal integer\n",
    "- **%o** octal integer\n",
    "- **%x** hexadecimal integer using lowercase letters (a-f)\n",
    "- **%X** hexadecimal integer using uppercase letters (A-F), <br>\n",
    "with the \"04\" prefix we get four-character hex string.\n",
    "- **%e** exponential notation with a lowercase \"e\"\n",
    "- **%E** exponential notation with an uppercase \"e\"\n",
    "- **%f** floating point numbers, %.2f prints 2 decimal places %.3f three decimal places aso.\n",
    "- **%g** shorter version of %f and %e"
   ]
  },
  {
   "cell_type": "code",
   "execution_count": 13,
   "metadata": {},
   "outputs": [
    {
     "name": "stdout",
     "output_type": "stream",
     "text": [
      "I'm Al and 34.500000 years old.\n",
      "The character after B is C.\n",
      "In binary 4 is 100\n",
      "225 | 341 | e1 | E1 | 00E1\n",
      "2.250000e+02 | 2.250000E+02 | 225.000000 | 2.33 | 225\n"
     ]
    }
   ],
   "source": [
    "print(\"I'm %s and %f years old.\" % (\"Al\", 34.5))  # no type conversion needed\n",
    "print(\"The character after %c is %c.\" % (\"B\", \"C\"))\n",
    "\n",
    "number = 225\n",
    "print(\"%u | %o | %x | %X | %04X\" % (number, number, number, number, number))\n",
    "print(\"%e | %E | %f | %.2f | %g\" % (number, number, number, 2.3344, number))"
   ]
  },
  {
   "cell_type": "code",
   "execution_count": 14,
   "metadata": {},
   "outputs": [
    {
     "name": "stdout",
     "output_type": "stream",
     "text": [
      "A = 34, B = 66, C = 12\n",
      "In binary 4 is 100\n"
     ]
    }
   ],
   "source": [
    "array = [34, 66, 12]\n",
    "print(\"A = {0}, B = {1}, C = {2}\".format(*array))"
   ]
  },
  {
   "cell_type": "code",
   "execution_count": 15,
   "metadata": {},
   "outputs": [
    {
     "name": "stdout",
     "output_type": "stream",
     "text": [
      "Sam had 122 hats and 42 mats\n"
     ]
    }
   ],
   "source": [
    "d = {\"hats\": 122, \"mats\": 42}\n",
    "print(\"Sam had {hats} hats and {mats} mats\".format(**d))"
   ]
  },
  {
   "cell_type": "code",
   "execution_count": null,
   "metadata": {},
   "outputs": [],
   "source": [
    "print(\"In binary 4 is {0:b}\".format(4))"
   ]
  },
  {
   "attachments": {},
   "cell_type": "markdown",
   "metadata": {},
   "source": [
    "### Aligning the Output with string interpolation\n",
    "- %10s puts 10 space to the left of the placeholder\n",
    "- %-10s puts extra space to the right of the placholder"
   ]
  },
  {
   "cell_type": "code",
   "execution_count": 22,
   "metadata": {},
   "outputs": [
    {
     "name": "stdout",
     "output_type": "stream",
     "text": [
      "    London is not a place in France\n",
      "London     is not a place in France\n",
      "The postcode is      25000.\n",
      "The postcode is 25000     .\n"
     ]
    }
   ],
   "source": [
    "place = \"London\"\n",
    "print(\"%10s is not a place in France\" % place)  # Pad to the left\n",
    "print(\"%-10s is not a place in France\" % place)  # Pad to the right\n",
    "print(\"The postcode is %10d.\" % 25000)\n",
    "print(\"The postcode is %-10d.\" % 25000)"
   ]
  },
  {
   "attachments": {},
   "cell_type": "markdown",
   "metadata": {},
   "source": [
    "## f- string\n",
    "https://www.pythonmorsels.com/string-formatting/#cheat-sheets <br>\n",
    "https://fstring.help/cheat/"
   ]
  },
  {
   "cell_type": "code",
   "execution_count": 276,
   "metadata": {},
   "outputs": [
    {
     "name": "stdout",
     "output_type": "stream",
     "text": [
      "I'm Al, and 4000 years old\n"
     ]
    }
   ],
   "source": [
    "name = \"Al\"\n",
    "age = 4000\n",
    "print(f\"I'm {name}, and {age} years old\")\n",
    "print(f\"{2 * 37}\")"
   ]
  },
  {
   "attachments": {},
   "cell_type": "markdown",
   "metadata": {},
   "source": [
    "### formatting strings"
   ]
  },
  {
   "cell_type": "code",
   "execution_count": 27,
   "metadata": {},
   "outputs": [
    {
     "name": "stdout",
     "output_type": "stream",
     "text": [
      "74\n",
      "mac tennesse\n",
      "{name}\n",
      "{MAC TENNESSE}\n"
     ]
    }
   ],
   "source": [
    "# Because f-strings are evaluated at runtime, you can put any and all valid Python expressions in them.\n",
    "name = \"MAC TENNESSE\"\n",
    "print(f\"{name.lower()}\")\n",
    "print(f\"{{name}}\")\n",
    "print(f\"{{{name}}}\")"
   ]
  },
  {
   "cell_type": "code",
   "execution_count": 23,
   "metadata": {},
   "outputs": [
    {
     "data": {
      "text/plain": [
       "'The comedian is Eric Idle, aged 74.'"
      ]
     },
     "execution_count": 23,
     "metadata": {},
     "output_type": "execute_result"
    }
   ],
   "source": [
    "comedian = {\"name\": \"Eric Idle\", \"age\": 74}\n",
    "f\"The comedian is {comedian['name']}, aged {comedian['age']}.\""
   ]
  },
  {
   "attachments": {},
   "cell_type": "markdown",
   "metadata": {},
   "source": [
    "If you use the same type of quotation mark around the dictionary keys as you do on the outside of the f-string, then the quotation mark at the beginning of the first dictionary key will be interpreted as the end of the string."
   ]
  },
  {
   "cell_type": "code",
   "execution_count": 3,
   "metadata": {},
   "outputs": [
    {
     "data": {
      "text/plain": [
       "'The comedian is Eric Idle, aged 74.'"
      ]
     },
     "execution_count": 3,
     "metadata": {},
     "output_type": "execute_result"
    }
   ],
   "source": [
    "comedian = {\"name\": \"Eric Idle\", \"age\": 74}\n",
    "# wrong\n",
    "# f'The comedian is {comedian['name']}, aged {comedian['age']}.'\n",
    "\n",
    "# right\n",
    "f\"The comedian is {comedian['name']}, aged {comedian['age']}.\""
   ]
  },
  {
   "cell_type": "code",
   "execution_count": 83,
   "metadata": {},
   "outputs": [
    {
     "name": "stdout",
     "output_type": "stream",
     "text": [
      "01.                    Harlem 3:23\n",
      "03.           Grandma's Hands 2:00\n",
      "10.      Moanin' and Groanin' 2:59\n",
      "\n",
      "\n",
      "\n",
      "01. Harlem                    3:23\n",
      "03. Grandma's Hands           2:00\n",
      "10. Moanin' and Groanin'      2:59\n",
      "\n",
      "\n",
      "\n",
      "01.          Harlem           3:23\n",
      "03.      Grandma's Hands      2:00\n",
      "10.   Moanin' and Groanin'    2:59\n",
      "\n",
      "\n",
      "\n",
      "01. Harlem................... 03:23\n",
      "03. Grandma's Hands.......... 02:00\n",
      "10. Moanin' and Groanin'..... 02:59\n"
     ]
    }
   ],
   "source": [
    "# alignment with > or <\n",
    "\n",
    "\n",
    "tracks = [\n",
    "    (1, \"Harlem\", \"3:23\"),\n",
    "    (3, \"Grandma's Hands\", \"2:00\"),\n",
    "    (10, \"Moanin' and Groanin'\", \"2:59\"),\n",
    "]\n",
    "\n",
    "# >N format specifier (where N is a whole number) right-aligns a string to N characters.\n",
    "for n, title, length in tracks:\n",
    "    print(f\"{n:02}. {title:>25} {length}\")\n",
    "\n",
    "print(\"\\n\\n\")\n",
    "\n",
    "# <N format specifier left-aligns a string to N characters\n",
    "for n, title, length in tracks:\n",
    "    print(f\"{n:02}. {title:<25} {length}\")\n",
    "\n",
    "print(\"\\n\\n\")\n",
    "\n",
    "# ^N format specifier center-aligns a string to N characters\n",
    "for n, title, length in tracks:\n",
    "    print(f\"{n:02}. {title:^25} {length}\")\n",
    "\n",
    "print(\"\\n\\n\")\n",
    "\n",
    "# default, alignment uses a space, putting a character just before the < or > customizes the alignment character\n",
    "for n, title, length in tracks:\n",
    "    print(f\"{n:02}. {title:.<25} {length:0>5}\")"
   ]
  },
  {
   "cell_type": "code",
   "execution_count": 86,
   "metadata": {},
   "outputs": [
    {
     "name": "stdout",
     "output_type": "stream",
     "text": [
      "It was May 26, 1971.\n"
     ]
    }
   ],
   "source": [
    "import datetime\n",
    "\n",
    "a_long_long_time_ago = datetime.date(1971, 5, 26)\n",
    "print(f\"It was {a_long_long_time_ago:%B %d, %Y}.\")"
   ]
  },
  {
   "attachments": {},
   "cell_type": "markdown",
   "metadata": {},
   "source": [
    "### Formatting numbers with f-string\n",
    "https://www.pythonmorsels.com/string-formatting/<br>\n",
    "{[argument_index_or_keyword]:[width][.precision][type]}\n"
   ]
  },
  {
   "cell_type": "code",
   "execution_count": 11,
   "metadata": {},
   "outputs": [
    {
     "name": "stdout",
     "output_type": "stream",
     "text": [
      " π = 3.14159265 e = 2.718 \n",
      "4125.60\n",
      "     4125.60\n",
      "04125.60\n"
     ]
    }
   ],
   "source": [
    "number = 4125.6\n",
    "π = 3.14159265358979323846\n",
    "e = 2.71828182845904523536\n",
    "# {variable:width.precision}\n",
    "print(f\"\"\" π = {π:10.8f} e = {e:1.3f} \"\"\")\n",
    "print(f\"{number:.2f}\")  # f for float with 2 decimal points, default is 6 digits\n",
    "print(f\"{number:12.2f}\")  # space padding, total of 12 digits\n",
    "print(\n",
    "    f\"{number:08.2f}\"\n",
    ")  # Zero-padding, 2 decimal points, zeros on the left to become 8 digits long"
   ]
  },
  {
   "cell_type": "code",
   "execution_count": 75,
   "metadata": {},
   "outputs": [
    {
     "name": "stdout",
     "output_type": "stream",
     "text": [
      "1.9999e+19\n",
      "2e+19\n",
      "1.9999E+19\n",
      "2E+19\n"
     ]
    }
   ],
   "source": [
    "# e scientific notation with 1 before and 4 digits after the decimal point.\n",
    "print(f\"{19998887776655443345:.4e}\")\n",
    "print(f\"{19998887776655443345:.4E}\")\n",
    "\n",
    "# g General Format, rounds to p signif­icant digits, and  formats in either fixed-­point or scientific notation depending on magnitude.\n",
    "print(f\"{19998887776655443345:.4g}\")\n",
    "print(f\"{19998887776655443345:.4G}\")"
   ]
  },
  {
   "cell_type": "code",
   "execution_count": 2,
   "metadata": {},
   "outputs": [
    {
     "name": "stdout",
     "output_type": "stream",
     "text": [
      "    5998\n",
      "00005998\n",
      "  2. track 2\n"
     ]
    }
   ],
   "source": [
    "integer = 5998\n",
    "count = 2\n",
    "print(f\"{integer:8d}\")  # d stands for decimal integer\n",
    "print(f\"{integer:08d}\")  # zero padding to fill 8 digits\n",
    "print(f\"{count:3d}. track 2\")  # space padding, 3 spaces to the left"
   ]
  },
  {
   "cell_type": "code",
   "execution_count": null,
   "metadata": {},
   "outputs": [],
   "source": [
    "number = 4125.6\n",
    "print(f\"{number:,.2f}\")  # comma as thousand separator and two decimal places\n",
    "print(f\"{number:_.2f}\")  # underscore as thousand separator and two decimal places\n",
    "# there is also a locale-aware way of formatting numbers"
   ]
  },
  {
   "cell_type": "code",
   "execution_count": 42,
   "metadata": {},
   "outputs": [
    {
     "name": "stdout",
     "output_type": "stream",
     "text": [
      "37%\n",
      "37.4%\n",
      "37.38%\n"
     ]
    }
   ],
   "source": [
    "percent = 0.3738\n",
    "\n",
    "print(f\"{percent:.0%}\")  # the number before % specifies the digits after decimal point\n",
    "print(f\"{percent:.1%}\")\n",
    "print(f\"{percent:.2%}\")"
   ]
  },
  {
   "cell_type": "code",
   "execution_count": 57,
   "metadata": {},
   "outputs": [
    {
     "name": "stdout",
     "output_type": "stream",
     "text": [
      "In binary: 10001100\n",
      "In binary: 0b10001100\n",
      "In hex: 8c\n",
      "In hex: 0x8c\n",
      "In hex: 0X8C\n",
      "In hex: 0X00008C\n",
      "1000_1100\n"
     ]
    }
   ],
   "source": [
    "n = 140\n",
    "print(f\"In binary: {n:b}\")  # b for binary\n",
    "print(f\"In binary: {n:#b}\")  # add 0b prefix\n",
    "print(f\"In hex: {n:x}\")  # x for hexadecimal\n",
    "print(f\"In hex: {n:#x}\")  # 0x prefix\n",
    "print(f\"In hex: {n:#X}\")  # hex with uppercase letters"
   ]
  },
  {
   "attachments": {},
   "cell_type": "markdown",
   "metadata": {},
   "source": [
    "### Combining numeric format specifiers"
   ]
  },
  {
   "cell_type": "code",
   "execution_count": 64,
   "metadata": {},
   "outputs": [
    {
     "name": "stdout",
     "output_type": "stream",
     "text": [
      "In hex: 0X00008C\n",
      "1000_1100\n",
      "$40,056.23\n",
      "$400.56\n"
     ]
    }
   ],
   "source": [
    "n = 140\n",
    "price = 40056.2345\n",
    "print(f\"In hex: {n:#08X}\")  # hex & padding\n",
    "print(f\"{n:_b}\")  # underscore & binary\n",
    "print(f\"${price:,.2f}\")\n",
    "print(f\"${price/100:.2f}\")"
   ]
  },
  {
   "attachments": {},
   "cell_type": "markdown",
   "metadata": {},
   "source": [
    "## upper(), lower(), isupper(), islower()"
   ]
  },
  {
   "cell_type": "code",
   "execution_count": 284,
   "metadata": {},
   "outputs": [
    {
     "name": "stdout",
     "output_type": "stream",
     "text": [
      "20\n",
      "PYTHON FOR BEGINNERS\n",
      "python for beginners\n"
     ]
    }
   ],
   "source": [
    "course = \"Python for Beginners\"\n",
    "print(len(course))  # len and print are general purpose fct.\n",
    "print(course.upper())  # prints in upper case\n",
    "print(course.lower())  # lower-case the original string stays the same"
   ]
  },
  {
   "cell_type": "code",
   "execution_count": 286,
   "metadata": {},
   "outputs": [
    {
     "name": "stdout",
     "output_type": "stream",
     "text": [
      "lower and upper\n",
      "LOWER AND UPPER\n",
      "True\n",
      "True\n",
      "False\n"
     ]
    }
   ],
   "source": [
    "s = \"lower and UPPER\"\n",
    "print(s.lower())\n",
    "print(s.upper())\n",
    "print(s.upper().isupper())  # indeed upper is upper\n",
    "ss = s.lower()\n",
    "print(ss.islower())  # True if there is a letter and all in lowercase\n",
    "print(s.isupper())  # True if there is a letter and all in uppercase"
   ]
  },
  {
   "attachments": {},
   "cell_type": "markdown",
   "metadata": {},
   "source": [
    "## isX() methods\n",
    "fct. that belong to a object its a method"
   ]
  },
  {
   "cell_type": "code",
   "execution_count": 309,
   "metadata": {},
   "outputs": [
    {
     "name": "stdout",
     "output_type": "stream",
     "text": [
      "True\n",
      "False\n",
      "True\n",
      "True\n",
      "True\n"
     ]
    }
   ],
   "source": [
    "print(\n",
    "    str.isalpha(\"hello\")\n",
    ")  # True if the string consists only of letters and isn’t blank\n",
    "print(str.isnumeric(\"23ss\"))\n",
    "print(\n",
    "    str.isdecimal(\"2022\")\n",
    ")  # True if the string consists only of numeric characters and is not blank\n",
    "print(\n",
    "    str.isspace(\"       \\n \\n       \")\n",
    ")  # True if the string consists only of spaces, tabs, and newlines and is not blank\n",
    "print(\n",
    "    str.istitle(\"Titel\")\n",
    ")  # True if the string consists only of words that begin with an uppercase letter followed by only lowercase letters"
   ]
  },
  {
   "attachments": {},
   "cell_type": "markdown",
   "metadata": {},
   "source": [
    "## startswith & endswith"
   ]
  },
  {
   "cell_type": "code",
   "execution_count": 4,
   "metadata": {},
   "outputs": [
    {
     "name": "stdout",
     "output_type": "stream",
     "text": [
      "True\n",
      "True\n"
     ]
    }
   ],
   "source": [
    "h = \"Hello, world\"\n",
    "print(h.startswith(\"Hello\"))  # test if string starts with ...\n",
    "print(h.endswith(\"world\"))  # test if str end with ..."
   ]
  },
  {
   "attachments": {},
   "cell_type": "markdown",
   "metadata": {},
   "source": [
    "## join & split"
   ]
  },
  {
   "cell_type": "code",
   "execution_count": 16,
   "metadata": {},
   "outputs": [
    {
     "name": "stdout",
     "output_type": "stream",
     "text": [
      "bread, butter, salami\n",
      "bread... butter... salami\n",
      "['bread', 'butter', 'salami']\n",
      "['bread', 'butter', 'salami']\n",
      "['bread', 'butter', 'salami']\n"
     ]
    }
   ],
   "source": [
    "print(\n",
    "    \", \".join([\"bread\", \"butter\", \"salami\"])\n",
    ")  # joins list items with the string it is called on\n",
    "print(\"... \".join([\"bread\", \"butter\", \"salami\"]))\n",
    "\n",
    "print(\n",
    "    \"bread butter salami\".split(\" \")\n",
    ")  # splits string into a list - splits at space, tab, newline\n",
    "print(\"\"\"bread              butter  salami\"\"\".split())\n",
    "print(\"bread, butter, salami\".split(\", \"))  # splits at comma now"
   ]
  },
  {
   "cell_type": "code",
   "execution_count": 17,
   "metadata": {},
   "outputs": [
    {
     "name": "stdout",
     "output_type": "stream",
     "text": [
      "['hello', 'maria', 'how', 'are', 'you']\n"
     ]
    }
   ],
   "source": [
    "m = \"\"\"hello\n",
    "maria\n",
    "how\n",
    "are\n",
    "you\"\"\"\n",
    "print(m.split(\"\\n\"))"
   ]
  },
  {
   "attachments": {},
   "cell_type": "markdown",
   "metadata": {},
   "source": [
    "### rsplit()\n",
    "- The rsplit() method splits a string into a list, starting from the right.\n",
    "-  string.rsplit(separator, maxsplit) \n",
    "- separator: \tOptional. Specifies the separator to use when splitting the string. By default any whitespace is a separator \n",
    "- maxsplit:    Optional. Specifies how many splits to do. Default value is -1, which is \"all occurrences\""
   ]
  },
  {
   "cell_type": "code",
   "execution_count": 61,
   "metadata": {},
   "outputs": [
    {
     "data": {
      "text/plain": [
       "'apple, banana, cherry,'"
      ]
     },
     "execution_count": 61,
     "metadata": {},
     "output_type": "execute_result"
    }
   ],
   "source": [
    "txt = \"apple, banana, cherry, pear\"\n",
    "\n",
    "# setting the maxsplit parameter to 1, will return a list with 2 elements!\n",
    "# txt is split into two elements - from right till first seperator and the rest on the left\n",
    "# the resulting list is read from left to right, rest is txt[0] and first split is txt[1]\n",
    "x = txt.rsplit(\" \", 1)\n",
    "x[0]"
   ]
  },
  {
   "attachments": {},
   "cell_type": "markdown",
   "metadata": {},
   "source": [
    "## partition"
   ]
  },
  {
   "cell_type": "code",
   "execution_count": 18,
   "metadata": {},
   "outputs": [
    {
     "name": "stdout",
     "output_type": "stream",
     "text": [
      "('hell', 'o', ', world!')\n"
     ]
    }
   ],
   "source": [
    "print(\n",
    "    \"hello, world!\".partition(\"o\")\n",
    ")  # returns tuple of three substrings before-seperator-after"
   ]
  },
  {
   "attachments": {},
   "cell_type": "markdown",
   "metadata": {},
   "source": [
    "## rjust, center & ljust\n",
    "string.center(length, character) "
   ]
  },
  {
   "cell_type": "code",
   "execution_count": 1,
   "metadata": {},
   "outputs": [
    {
     "name": "stdout",
     "output_type": "stream",
     "text": [
      "hello-------------------------------------------------------\n",
      "..........hello\n",
      "*******hello********\n",
      "       hello        \n"
     ]
    }
   ],
   "source": [
    "print(\"hello\".ljust(60, \"-\"))  # right-justify \"hello\" in a string of total lenghts 10\n",
    "print(\"hello\".rjust(15, \".\"))  # left-justify\n",
    "print(\"hello\".center(20, \"*\"))\n",
    "print(\"hello\".center(20, \" \"))"
   ]
  },
  {
   "cell_type": "code",
   "execution_count": 39,
   "metadata": {},
   "outputs": [
    {
     "name": "stdout",
     "output_type": "stream",
     "text": [
      "===PICNIC ITEMS==\n",
      "sandwiches..    4\n",
      "apples......   12\n",
      "cups........    4\n",
      "cookies..... 8000\n",
      "=======PICNIC ITEMS=======\n",
      "sandwiches..........     4\n",
      "apples..............    12\n",
      "cups................     4\n",
      "cookies.............  8000\n"
     ]
    }
   ],
   "source": [
    "# rjust and ljust are especially useful when you need to print tabular data that has correct spacing.\n",
    "def printPicnic(Items, l_width, r_width):\n",
    "    print(\"PICNIC ITEMS\".center(l_width + r_width, \"=\"))\n",
    "    for k, v in Items.items():\n",
    "        print(k.ljust(l_width, \".\") + str(v).rjust(r_width, \" \"))\n",
    "\n",
    "\n",
    "picnicItems = {\"sandwiches\": 4, \"apples\": 12, \"cups\": 4, \"cookies\": 8000}\n",
    "printPicnic(picnicItems, 12, 5)\n",
    "printPicnic(picnicItems, 20, 6)"
   ]
  },
  {
   "attachments": {},
   "cell_type": "markdown",
   "metadata": {},
   "source": [
    "## strip"
   ]
  },
  {
   "cell_type": "code",
   "execution_count": 41,
   "metadata": {},
   "outputs": [
    {
     "name": "stdout",
     "output_type": "stream",
     "text": [
      "Hello       World      ?        \n",
      "Hello       World      ?\n",
      "       Hello       World      ?\n",
      "     Hello  \n"
     ]
    }
   ],
   "source": [
    "x = \"       Hello       World      ?        \"\n",
    "print(x.lstrip())  # cuts left whitespace\n",
    "print(x.rstrip())  # cuts right whitespace\n",
    "print(x.strip())  # cuts whitespce in the beginning and end\n",
    "\n",
    "y = \"yOUuo     Hello  ouyyU\"\n",
    "print(\n",
    "    y.strip(\"ouyOU\")\n",
    ")  # strips away occurences of passed characters at beginning and end while order doesnt matter"
   ]
  },
  {
   "attachments": {},
   "cell_type": "markdown",
   "metadata": {},
   "source": [
    "## textwrap"
   ]
  },
  {
   "cell_type": "code",
   "execution_count": 31,
   "metadata": {},
   "outputs": [
    {
     "name": "stdout",
     "output_type": "stream",
     "text": [
      "    The textwrap module provides some convenience functions, as well\n",
      "as TextWrapper, the class that does all the work.  If you’re just\n",
      "wrapping or filling one or two text strings, the convenience functions\n",
      "should be good enough;  otherwise, you should use an ... [Read More]\n"
     ]
    }
   ],
   "source": [
    "import textwrap\n",
    "\n",
    "mytext = \"\"\"The textwrap module provides some convenience functions, as well as TextWrapper, the class that does all the work. \n",
    "If you’re just wrapping or filling one or two text strings, the convenience functions should be good enough; \n",
    "otherwise, you should use an instance of TextWrapper for efficiency.\"\"\"\n",
    "\n",
    "# print(textwrap.fill(mytext, width=70, initial_indent=\"    \",  max_lines=4, placeholder=\" ... [Read More]\")) # prints text as string\n",
    "# print(textwrap.wrap(mytext, width=70, max_lines=4, placeholder=\" ... [Read More]\")) # every line is a list element now\n",
    "\n",
    "# for line in textwrap.wrap(mytext, width=70, max_lines=4, placeholder=\" ... [Read More]\"): # we can put the list elements together again\n",
    "#     print(line)\n",
    "\n",
    "\n",
    "# print(textwrap.indent(mytext, prefix=\"  -> \"))\n",
    "\n",
    "\n",
    "# dent_text = \"\"\"\n",
    "#    The textwrap module provides some\n",
    "#         convenience functions, as well as TextWrapper\"\"\"\n",
    "\n",
    "# print(textwrap.dedent(dent_text))  # dedents only the indent of the first line (common leading whitespace)\n",
    "# print(textwrap.shorten(mytext, width=70, placeholder=\" ...\"))\n",
    "\n",
    "# TextWrapper constructor accepts a number of optional keyword arguments. Each argument corresponds to an instance attribute.\n",
    "wrappper = textwrap.TextWrapper(\n",
    "    width=70,\n",
    "    initial_indent=\"    \",\n",
    "    max_lines=4,\n",
    "    break_long_words=True,\n",
    "    placeholder=\" ... [Read More]\",\n",
    ")\n",
    "\n",
    "print(wrappper.fill(mytext))"
   ]
  },
  {
   "attachments": {},
   "cell_type": "markdown",
   "metadata": {},
   "source": [
    "## emojis"
   ]
  },
  {
   "cell_type": "code",
   "execution_count": 2,
   "metadata": {},
   "outputs": [
    {
     "name": "stdout",
     "output_type": "stream",
     "text": [
      "👍\n"
     ]
    }
   ],
   "source": [
    "from emoji import emojize\n",
    "\n",
    "print(emojize(\":thumbs_up:\"))"
   ]
  },
  {
   "cell_type": "code",
   "execution_count": null,
   "metadata": {},
   "outputs": [],
   "source": [
    "https://learnpython.com/blog/python-terms-for-beginners/\n",
    "https://learnpython.com/blog/python-terms-for-beginners-2/"
   ]
  },
  {
   "attachments": {},
   "cell_type": "markdown",
   "metadata": {},
   "source": [
    "# Errors and Exceptions"
   ]
  },
  {
   "attachments": {},
   "cell_type": "markdown",
   "metadata": {},
   "source": [
    "- Errors detected during execution are called exceptions.\n",
    "\n",
    "- **ZeroDivisionError**: <br> This error is raised when the second argument of a division or modulo operation is zero.\n",
    "- **ValueError**: <br> This error is raised when a built-in operation or function receives an argument that has the right type but an inappropriate value. \n",
    "\n",
    "**Handling Exceptions**\n",
    "\n",
    "The statements try and except can be used to handle selected exceptions. <br>\n",
    "A try statement may have more than one except clause to specify handlers for different exceptions."
   ]
  },
  {
   "cell_type": "code",
   "execution_count": 6,
   "metadata": {},
   "outputs": [
    {
     "name": "stdout",
     "output_type": "stream",
     "text": [
      "Error Code: division by zero\n"
     ]
    }
   ],
   "source": [
    "# a = '1'\n",
    "# b = '0'\n",
    "# print(int(a) / int(b))\n",
    "\n",
    "t = int(input())\n",
    "\n",
    "for _ in range(t):\n",
    "    try:\n",
    "        a, b = map(int, input().split())\n",
    "        print(a // b)\n",
    "    except Exception as e:\n",
    "        print(\"Error Code:\", e)"
   ]
  },
  {
   "cell_type": "code",
   "execution_count": 4,
   "metadata": {},
   "outputs": [
    {
     "ename": "ValueError",
     "evalue": "invalid literal for int() with base 10: '#'",
     "output_type": "error",
     "traceback": [
      "\u001b[0;31m---------------------------------------------------------------------------\u001b[0m",
      "\u001b[0;31mValueError\u001b[0m                                Traceback (most recent call last)",
      "\u001b[1;32m/home/mz/code/MaCoZu/Data Science Notebooks/open_notebooks/01_Python_Basics.ipynb Cell 318\u001b[0m in \u001b[0;36m<cell line: 3>\u001b[0;34m()\u001b[0m\n\u001b[1;32m      <a href='vscode-notebook-cell://wsl%2Bubuntu/home/mz/code/MaCoZu/Data%20Science%20Notebooks/open_notebooks/01_Python_Basics.ipynb#Y634sdnNjb2RlLXJlbW90ZQ%3D%3D?line=0'>1</a>\u001b[0m a \u001b[39m=\u001b[39m \u001b[39m'\u001b[39m\u001b[39m1\u001b[39m\u001b[39m'\u001b[39m\n\u001b[1;32m      <a href='vscode-notebook-cell://wsl%2Bubuntu/home/mz/code/MaCoZu/Data%20Science%20Notebooks/open_notebooks/01_Python_Basics.ipynb#Y634sdnNjb2RlLXJlbW90ZQ%3D%3D?line=1'>2</a>\u001b[0m b \u001b[39m=\u001b[39m \u001b[39m'\u001b[39m\u001b[39m#\u001b[39m\u001b[39m'\u001b[39m\n\u001b[0;32m----> <a href='vscode-notebook-cell://wsl%2Bubuntu/home/mz/code/MaCoZu/Data%20Science%20Notebooks/open_notebooks/01_Python_Basics.ipynb#Y634sdnNjb2RlLXJlbW90ZQ%3D%3D?line=2'>3</a>\u001b[0m \u001b[39mprint\u001b[39m(\u001b[39mint\u001b[39m(a) \u001b[39m/\u001b[39m \u001b[39mint\u001b[39;49m(b))\n",
      "\u001b[0;31mValueError\u001b[0m: invalid literal for int() with base 10: '#'"
     ]
    }
   ],
   "source": [
    "a = \"1\"\n",
    "b = \"#\"\n",
    "print(int(a) / int(b))"
   ]
  }
 ],
 "metadata": {
  "kernelspec": {
   "display_name": "Python 3",
   "language": "python",
   "name": "python3"
  },
  "language_info": {
   "codemirror_mode": {
    "name": "ipython",
    "version": 3
   },
   "file_extension": ".py",
   "mimetype": "text/x-python",
   "name": "python",
   "nbconvert_exporter": "python",
   "pygments_lexer": "ipython3",
   "version": "3.12.5"
  },
  "vscode": {
   "interpreter": {
    "hash": "f9f85f796d01129d0dd105a088854619f454435301f6ffec2fea96ecbd9be4ac"
   }
  },
  "widgets": {
   "application/vnd.jupyter.widget-state+json": {
    "state": {},
    "version_major": 2,
    "version_minor": 0
   }
  }
 },
 "nbformat": 4,
 "nbformat_minor": 4
}
