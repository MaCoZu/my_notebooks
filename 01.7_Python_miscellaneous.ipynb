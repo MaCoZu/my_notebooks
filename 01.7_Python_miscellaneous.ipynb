{
 "cells": [
  {
   "attachments": {},
   "cell_type": "markdown",
   "id": "78e423f2",
   "metadata": {},
   "source": [
    "#  if \\_\\_name\\_\\_ == \"\\_\\_main\\_\\_\"\n",
    "- When the interpreter runs a module, the __name__ variable will be set as  __main__ if the module that is being run is the main program.\n",
    "- But if the code is importing the module from another module, then the __name__  variable will be set to that module’s name."
   ]
  },
  {
   "attachments": {},
   "cell_type": "markdown",
   "id": "4f1879db",
   "metadata": {},
   "source": [
    "#  Reg Ex\n",
    "__findall__ \tReturns a list containing all matches</br>\n",
    "__search__ \tReturns a Match object if there is a match anywhere in the string</br>\n",
    "__split__ \tReturns a list where the string has been split at each match</br>\n",
    "__sub__ \tReplaces one or many matches with a string</br>\n",
    "https://www.w3schools.com/python/python_regex.asp</br>\n",
    "https://regex101.com/"
   ]
  },
  {
   "cell_type": "code",
   "execution_count": 18,
   "id": "e031a1d8",
   "metadata": {},
   "outputs": [
    {
     "name": "stdout",
     "output_type": "stream",
     "text": [
      "['ai', 'ai']\n"
     ]
    }
   ],
   "source": [
    "import re\n",
    "\n",
    "txt = \"The rain in Spain\"\n",
    "x = re.findall(\"ai\", txt)\n",
    "print(x)\n"
   ]
  },
  {
   "attachments": {},
   "cell_type": "markdown",
   "id": "dbf0457b",
   "metadata": {},
   "source": [
    "#  decorators\n",
    "- Add functionality to an existing function with decorators. This is called metaprogramming.\n",
    "- A function can take a function as argument (the function to be decorated) and return the same function with or without extension."
   ]
  },
  {
   "cell_type": "code",
   "execution_count": 422,
   "id": "7972e586",
   "metadata": {},
   "outputs": [
    {
     "name": "stdout",
     "output_type": "stream",
     "text": [
      "Hello \n",
      "Marco\n"
     ]
    }
   ],
   "source": [
    "# hello() is a decorator function, It wraps the function in the other function.\n",
    "def hello(func):\n",
    "    def inner():\n",
    "        print(\"Hello \")\n",
    "        func()\n",
    "\n",
    "    return inner\n",
    "\n",
    "\n",
    "#  name() is decorated by the function hello().\n",
    "def name():\n",
    "    print(\"Marco\")\n",
    "\n",
    "\n",
    "obj = hello(name)  # name is decorated/ feed to hello\n",
    "obj()\n"
   ]
  },
  {
   "cell_type": "code",
   "execution_count": 427,
   "id": "a7747516",
   "metadata": {},
   "outputs": [
    {
     "name": "stdout",
     "output_type": "stream",
     "text": [
      "Hello \n",
      "Müller\n"
     ]
    }
   ],
   "source": [
    "# when we want to decorate name with hello we can use this cleaner decoration with @\n",
    "@hello\n",
    "def surname():\n",
    "    print(\"Müller\")\n",
    "\n",
    "\n",
    "surname()"
   ]
  },
  {
   "cell_type": "code",
   "execution_count": 429,
   "id": "d20368fe",
   "metadata": {},
   "outputs": [
    {
     "name": "stdout",
     "output_type": "stream",
     "text": [
      "Function took 2.002239227294922 seconds to run\n"
     ]
    }
   ],
   "source": [
    "import time\n",
    "\n",
    "\n",
    "# timer function\n",
    "def measure_time(func):\n",
    "    def wrapper(*arg):\n",
    "        t = time.time()\n",
    "        res = func(*arg)\n",
    "        print(\"Function took \" + str(time.time() - t) + \" seconds to run\")\n",
    "        return res\n",
    "\n",
    "    return wrapper\n",
    "\n",
    "\n",
    "# decorate function with the timer fct.\n",
    "@measure_time\n",
    "def myFunction(n):\n",
    "    time.sleep(n)\n",
    "\n",
    "\n",
    "myFunction(2)\n"
   ]
  },
  {
   "cell_type": "code",
   "execution_count": null,
   "id": "b914e068",
   "metadata": {},
   "outputs": [],
   "source": [
    "# It’s critical to emphasize that decorators generally do not alter the calling signature or return value of function being wrapped.\n",
    "# The use of *args and**kwargs is there to make sure that any input arguments can be accepted.\n",
    "# The return value of a decorator is almost always the result of calling func(*args, **kwargs), where func is the original unwrapped function.\n",
    "\n",
    "import time\n",
    "\n",
    "\n",
    "def timeis(func):\n",
    "    '''Decorator that reports the execution time.'''\n",
    "    def wrap(*args, **kwargs):\n",
    "        start = time.time()\n",
    "        result = func(*args, **kwargs)\n",
    "        end = time.time()\n",
    "\n",
    "        print(func.__name__, end - start)\n",
    "        return result\n",
    "\n",
    "    return wrap\n",
    "\n",
    "\n",
    "@timeis\n",
    "def countdown(n):\n",
    "    '''Counts down'''\n",
    "    while n > 0:\n",
    "        n -= 1\n",
    "\n",
    "\n",
    "countdown(5)\n",
    "countdown(1000)\n"
   ]
  },
  {
   "attachments": {},
   "cell_type": "markdown",
   "id": "7d310376",
   "metadata": {},
   "source": [
    "#  datetime\n",
    "- to convert a string to a date object."
   ]
  },
  {
   "cell_type": "code",
   "execution_count": 14,
   "id": "7801e6f9",
   "metadata": {},
   "outputs": [
    {
     "name": "stdout",
     "output_type": "stream",
     "text": [
      "The type of the input date string now is:  <class 'datetime.datetime'>\n",
      "The date is 2024-01-21 11:04:19\n",
      "2022-04-27\n",
      "13790 days, 0:00:00\n"
     ]
    }
   ],
   "source": [
    "from datetime import datetime\n",
    "from datetime import date\n",
    "\n",
    "input_str = '21/01/24 11:04:19'\n",
    "dt_object = datetime.strptime(input_str, '%d/%m/%y %H:%M:%S')\n",
    "\n",
    "print(\"The type of the input date string now is: \", type(dt_object))\n",
    "print(\"The date is\", dt_object)\n",
    "\n",
    "print(date.today())\n",
    "birthday = date(1984, 7, 25)\n",
    "print(date.today() - birthday)"
   ]
  },
  {
   "cell_type": "code",
   "execution_count": 464,
   "id": "8d718cdd",
   "metadata": {},
   "outputs": [
    {
     "name": "stdout",
     "output_type": "stream",
     "text": [
      "strptime(string, format) -> struct_time\n",
      "\n",
      "Parse a string to a time tuple according to a format specification.\n",
      "See the library reference manual for formatting codes (same as\n",
      "strftime()).\n",
      "\n",
      "Commonly used format codes:\n",
      "\n",
      "%Y  Year with century as a decimal number.\n",
      "%m  Month as a decimal number [01,12].\n",
      "%d  Day of the month as a decimal number [01,31].\n",
      "%H  Hour (24-hour clock) as a decimal number [00,23].\n",
      "%M  Minute as a decimal number [00,59].\n",
      "%S  Second as a decimal number [00,61].\n",
      "%z  Time zone offset from UTC.\n",
      "%a  Locale's abbreviated weekday name.\n",
      "%A  Locale's full weekday name.\n",
      "%b  Locale's abbreviated month name.\n",
      "%B  Locale's full month name.\n",
      "%c  Locale's appropriate date and time representation.\n",
      "%I  Hour (12-hour clock) as a decimal number [01,12].\n",
      "%p  Locale's equivalent of either AM or PM.\n",
      "\n",
      "Other codes may be available on your platform.  See documentation for\n",
      "the C library strftime function.\n",
      "\n"
     ]
    }
   ],
   "source": [
    "print(time.strptime.__doc__)"
   ]
  },
  {
   "attachments": {},
   "cell_type": "markdown",
   "id": "d7e56877",
   "metadata": {},
   "source": [
    "#  compile()\n",
    "- If the Python code is in string form or is an AST object, and you want to change it to a code object, then you can use compile() method.\n",
    "- The code object returned by the compile() method can later be called using methods like: exec() and eval() which will execute dynamically generated Python code.\n",
    "\n",
    "compile(source, filename, mode, flags=0, dont_inherit=False, optimize=-1)\n",
    "\n",
    "- Source – It can be a normal string, a byte string, or an AST object\n",
    "- Filename -This is the file from which the code was read. If it wasn’t read from a file, you can give a name yourself.\n",
    "- Mode – Mode can be exec, eval or single.\n",
    "  - a. eval – If the source is a single expression.\n",
    "  - b. exec – It can take a block of a code that has Python statements, class and functions and so on.\n",
    "  - c. single – It is used if consists of a single interactive statement\n"
   ]
  },
  {
   "cell_type": "code",
   "execution_count": null,
   "id": "d5092d40",
   "metadata": {},
   "outputs": [],
   "source": [
    "# Creating sample sourcecode to multiply two variables\n",
    "# x and y.\n",
    "srcCode = 'x = 10\\ny = 20\\nmul = x * y\\nprint(\"mul =\", mul)'\n",
    "\n",
    "# Converting above source code to an executable\n",
    "execCode = compile(srcCode, 'mulstring', 'exec')\n",
    "\n",
    "# Running the executable code.\n",
    "exec(execCode)"
   ]
  },
  {
   "attachments": {},
   "cell_type": "markdown",
   "id": "ef91f145",
   "metadata": {},
   "source": [
    "#  caching "
   ]
  },
  {
   "attachments": {},
   "cell_type": "markdown",
   "id": "b2c7ace5-43f0-4e69-959f-17aa7e0d03a8",
   "metadata": {},
   "source": [
    "#  ord() & chr - Char to Int and back\n",
    "- chr() is used for converting an Integer to a Character, while the function \n",
    "- ord() is used to do the reverse, i.e, convert a Character to an Integer."
   ]
  },
  {
   "cell_type": "code",
   "execution_count": null,
   "id": "23f49df4-7e3a-407f-b970-e588f38558d6",
   "metadata": {
    "collapsed": true,
    "jupyter": {
     "outputs_hidden": true
    }
   },
   "outputs": [
    {
     "name": "stdout",
     "output_type": "stream",
     "text": [
      "[97, 98, 99, 100, 101, 102, 103, 104, 105, 106, 107, 108, 109, 110, 111, 112, 113, 114, 115, 116, 117, 118, 119, 120, 121, 122]\n",
      "['a', 'b', 'c', 'd', 'e', 'f', 'g', 'h', 'i', 'j', 'k', 'l', 'm', 'n', 'o', 'p', 'q', 'r', 's', 't', 'u', 'v', 'w', 'x', 'y', 'z']\n"
     ]
    }
   ],
   "source": [
    "def character_range(a, b):\n",
    "    for char in range(ord(a), ord(b) + 1):\n",
    "        yield (char)\n",
    "\n",
    "\n",
    "print(list(character_range(\"a\", \"z\")))\n",
    "unicode = [chr(x) for x in character_range(\"a\", \"z\")\n",
    "           ]  # one-character string of an integer code point.\n",
    "print(unicode)"
   ]
  },
  {
   "cell_type": "code",
   "execution_count": null,
   "id": "ede2f623",
   "metadata": {},
   "outputs": [
    {
     "name": "stdout",
     "output_type": "stream",
     "text": [
      "65\n",
      "A\n",
      "bytearray(b'\\x00\\x00\\x00\\x00')\n",
      "b'\\x00\\x00\\x00\\x00'\n"
     ]
    }
   ],
   "source": [
    "print(chr(65))  # one-character string of an integer code point.\n",
    "print(\n",
    "    bytearray(4)\n",
    ")  # The bytearray() method returns a bytearray object which is an array of the given bytes.\n",
    "print(bytes(4))  # Returns a bytes object"
   ]
  },
  {
   "attachments": {},
   "cell_type": "markdown",
   "id": "dfad6659-830e-4921-a819-4fb9e781eb15",
   "metadata": {},
   "source": [
    "#  Keywords "
   ]
  },
  {
   "cell_type": "code",
   "execution_count": null,
   "id": "932d27e9-3046-4af1-99e1-1c23bbfe8a7d",
   "metadata": {
    "collapsed": true,
    "jupyter": {
     "outputs_hidden": true
    }
   },
   "outputs": [
    {
     "name": "stdout",
     "output_type": "stream",
     "text": [
      "['False', 'None', 'True', 'and', 'as', 'assert', 'async', 'await', 'break', 'class', 'continue', 'def', 'del', 'elif', 'else', 'except', 'finally', 'for', 'from', 'global', 'if', 'import', 'in', 'is', 'lambda', 'nonlocal', 'not', 'or', 'pass', 'raise', 'return', 'try', 'while', 'with', 'yield']\n",
      "\n",
      "Here is a list of the Python keywords.  Enter any keyword to get more help.\n",
      "\n",
      "False               class               from                or\n",
      "None                continue            global              pass\n",
      "True                def                 if                  raise\n",
      "and                 del                 import              return\n",
      "as                  elif                in                  try\n",
      "assert              else                is                  while\n",
      "async               except              lambda              with\n",
      "await               finally             nonlocal            yield\n",
      "break               for                 not                 \n",
      "\n",
      "None\n",
      "The \"raise\" statement\n",
      "*********************\n",
      "\n",
      "   raise_stmt ::= \"raise\" [expression [\"from\" expression]]\n",
      "\n",
      "If no expressions are present, \"raise\" re-raises the last exception\n",
      "that was active in the current scope.  If no exception is active in\n",
      "the current scope, a \"RuntimeError\" exception is raised indicating\n",
      "that this is an error.\n",
      "\n",
      "Otherwise, \"raise\" evaluates the first expression as the exception\n",
      "object.  It must be either a subclass or an instance of\n",
      "\"BaseException\". If it is a class, the exception instance will be\n",
      "obtained when needed by instantiating the class with no arguments.\n",
      "\n",
      "The *type* of the exception is the exception instance’s class, the\n",
      "*value* is the instance itself.\n",
      "\n",
      "A traceback object is normally created automatically when an exception\n",
      "is raised and attached to it as the \"__traceback__\" attribute, which\n",
      "is writable. You can create an exception and set your own traceback in\n",
      "one step using the \"with_traceback()\" exception method (which returns\n",
      "the same exception instance, with its traceback set to its argument),\n",
      "like so:\n",
      "\n",
      "   raise Exception(\"foo occurred\").with_traceback(tracebackobj)\n",
      "\n",
      "The \"from\" clause is used for exception chaining: if given, the second\n",
      "*expression* must be another exception class or instance. If the\n",
      "second expression is an exception instance, it will be attached to the\n",
      "raised exception as the \"__cause__\" attribute (which is writable). If\n",
      "the expression is an exception class, the class will be instantiated\n",
      "and the resulting exception instance will be attached to the raised\n",
      "exception as the \"__cause__\" attribute. If the raised exception is not\n",
      "handled, both exceptions will be printed:\n",
      "\n",
      "   >>> try:\n",
      "   ...     print(1 / 0)\n",
      "   ... except Exception as exc:\n",
      "   ...     raise RuntimeError(\"Something bad happened\") from exc\n",
      "   ...\n",
      "   Traceback (most recent call last):\n",
      "     File \"<stdin>\", line 2, in <module>\n",
      "   ZeroDivisionError: division by zero\n",
      "\n",
      "   The above exception was the direct cause of the following exception:\n",
      "\n",
      "   Traceback (most recent call last):\n",
      "     File \"<stdin>\", line 4, in <module>\n",
      "   RuntimeError: Something bad happened\n",
      "\n",
      "A similar mechanism works implicitly if an exception is raised inside\n",
      "an exception handler or a \"finally\" clause: the previous exception is\n",
      "then attached as the new exception’s \"__context__\" attribute:\n",
      "\n",
      "   >>> try:\n",
      "   ...     print(1 / 0)\n",
      "   ... except:\n",
      "   ...     raise RuntimeError(\"Something bad happened\")\n",
      "   ...\n",
      "   Traceback (most recent call last):\n",
      "     File \"<stdin>\", line 2, in <module>\n",
      "   ZeroDivisionError: division by zero\n",
      "\n",
      "   During handling of the above exception, another exception occurred:\n",
      "\n",
      "   Traceback (most recent call last):\n",
      "     File \"<stdin>\", line 4, in <module>\n",
      "   RuntimeError: Something bad happened\n",
      "\n",
      "Exception chaining can be explicitly suppressed by specifying \"None\"\n",
      "in the \"from\" clause:\n",
      "\n",
      "   >>> try:\n",
      "   ...     print(1 / 0)\n",
      "   ... except:\n",
      "   ...     raise RuntimeError(\"Something bad happened\") from None\n",
      "   ...\n",
      "   Traceback (most recent call last):\n",
      "     File \"<stdin>\", line 4, in <module>\n",
      "   RuntimeError: Something bad happened\n",
      "\n",
      "Additional information on exceptions can be found in section\n",
      "Exceptions, and information about handling exceptions is in section\n",
      "The try statement.\n",
      "\n",
      "Changed in version 3.3: \"None\" is now permitted as \"Y\" in \"raise X\n",
      "from Y\".\n",
      "\n",
      "New in version 3.3: The \"__suppress_context__\" attribute to suppress\n",
      "automatic display of the exception context.\n",
      "\n",
      "Related help topics: EXCEPTIONS\n",
      "\n"
     ]
    }
   ],
   "source": [
    "import keyword\n",
    "\n",
    "print(keyword.kwlist)\n",
    "print(help(\"keywords\"))\n",
    "help(\"raise\")"
   ]
  },
  {
   "attachments": {},
   "cell_type": "markdown",
   "id": "f94c9003",
   "metadata": {},
   "source": [
    "#  file handling - open()\n",
    "- The open() function takes two parameters; filename, and mode.\n",
    "-  There are four different methods (modes) for opening a file:\n",
    "- \"r\" - Read - Default value. Opens a file for reading, error if the file does not exist\n",
    "-  \"a\" - Append - Opens a file for appending, creates the file if it does not exist\n",
    "-  \"w\" - Write - Opens a file for writing, creates the file if it does not exist"
   ]
  },
  {
   "cell_type": "code",
   "execution_count": null,
   "id": "28ea51c3-a7ac-471c-8ad1-20f16557f5ed",
   "metadata": {
    "collapsed": true,
    "jupyter": {
     "outputs_hidden": true
    }
   },
   "outputs": [
    {
     "name": "stdout",
     "output_type": "stream",
     "text": [
      "pwd     # parent working dir\n",
      "ls      # list\n",
      "cd      # change dir\n",
      "\n",
      "ls -a   # show hidden .files too\n",
      "ls -la  # long form and hidden\n",
      "\n",
      "# relative path\n",
      ".    # current dir\n",
      "..   # parent dir\n",
      "\n"
     ]
    }
   ],
   "source": [
    "with open('unix console.txt', 'r', encoding='utf-8') as fp:\n",
    "    # read sample.txt\n",
    "    print(fp.read())"
   ]
  },
  {
   "attachments": {},
   "cell_type": "markdown",
   "id": "5ec6f907",
   "metadata": {},
   "source": [
    "#  Path and listing files and directories\n",
    "r: standing for raw string, r in front of the string quotes ensure that file paths don’t get confused between Python and system settings."
   ]
  },
  {
   "cell_type": "code",
   "execution_count": null,
   "id": "8a7bb5f6",
   "metadata": {},
   "outputs": [],
   "source": [
    "from pathlib import Path\n",
    "\n",
    "path = Path(\"ecommerce\")  # relative path start from current directory\n",
    "p = Path(r\"/home/mz/PyScripts/venv001/\"\n",
    "         )  # absolute Path: usr/local/bin # starts from root\n",
    "print(path.exists())\n",
    "path = Path(\"emails\")\n",
    "path.mkdir()  # create a directory\n",
    "print(Path(\"emails\"))\n",
    "print(path.rmdir())  # when your in the dir erase it\n",
    "path = Path()  # go to current dir\n",
    "for file in path.glob(\"*.txt\"):\n",
    "    print(file)\n"
   ]
  },
  {
   "attachments": {},
   "cell_type": "markdown",
   "id": "0ceda73d",
   "metadata": {},
   "source": [
    "#  glob \n",
    "- module provides a function for making file lists from directory wildcard searches:"
   ]
  },
  {
   "cell_type": "code",
   "execution_count": null,
   "id": "7e9d4378",
   "metadata": {},
   "outputs": [
    {
     "name": "stdout",
     "output_type": "stream",
     "text": [
      "['Math_Statistics.ipynb', 'Numpy.ipynb', '01_Python_Basics.ipynb', 'functions.ipynb', 'Pandas.ipynb', 'standard_library_tour.ipynb', 'np_pd_plt_sns_intro.ipynb', '02_Python_Advanced.ipynb', 'automate_stuff.ipynb']\n"
     ]
    }
   ],
   "source": [
    "import glob\n",
    "\n",
    "print(glob.glob('*.ipynb'))\n"
   ]
  },
  {
   "attachments": {},
   "cell_type": "markdown",
   "id": "b88bb12f",
   "metadata": {},
   "source": [
    "#  timeit - performance measurement\n",
    "- timeit module quickly demonstrates a modest performance advantage\n",
    "- https://www.guru99.com/timeit-python-examples.html"
   ]
  },
  {
   "cell_type": "code",
   "execution_count": null,
   "id": "ef000886",
   "metadata": {},
   "outputs": [
    {
     "name": "stdout",
     "output_type": "stream",
     "text": [
      "0.08800524700200185\n"
     ]
    }
   ],
   "source": [
    "import timeit\n",
    "\n",
    "import_module = \"import random\"\n",
    "testcode = ''' \n",
    "def test(): \n",
    "    return random.randint(10, 100)\n",
    "'''\n",
    "print(timeit.timeit(stmt=testcode, setup=import_module))\n"
   ]
  },
  {
   "attachments": {},
   "cell_type": "markdown",
   "id": "262f0442",
   "metadata": {},
   "source": [
    "#  data compression\n",
    "- Common data archiving and compression formats are directly supported by modules\n",
    "- including: zlib, gzip, bz2, lzma, zipfile and tarfile.\n"
   ]
  },
  {
   "cell_type": "code",
   "execution_count": null,
   "id": "48bca758",
   "metadata": {},
   "outputs": [],
   "source": [
    "import zlib\n",
    "\n",
    "s = b'witch which has which witches wrist watch'\n",
    "print(len(s))\n",
    "t = zlib.compress(s)\n",
    "print(t)\n",
    "print(len(t))\n",
    "print(zlib.decompress(t))\n",
    "print(zlib.crc32(s))\n"
   ]
  },
  {
   "attachments": {},
   "cell_type": "markdown",
   "id": "892c8051",
   "metadata": {},
   "source": [
    "#  big numbers"
   ]
  },
  {
   "cell_type": "code",
   "execution_count": 1,
   "id": "e3862604",
   "metadata": {},
   "outputs": [
    {
     "name": "stdout",
     "output_type": "stream",
     "text": [
      "1000000\n",
      "1000001\n"
     ]
    }
   ],
   "source": [
    "# you can separate zeros with underscore (_)\n",
    "print(1_000_000)\n",
    "print(1_000_000 + 1)\n"
   ]
  },
  {
   "attachments": {},
   "cell_type": "markdown",
   "id": "b9092129",
   "metadata": {},
   "source": [
    "#  sleep mode\n",
    "Sometimes you want your code to execute slowly. You might want to demonstrate something or there might be steps that require little breaks. sleep method of time library is perfect for that. "
   ]
  },
  {
   "cell_type": "code",
   "execution_count": 7,
   "id": "a5dbd379",
   "metadata": {},
   "outputs": [
    {
     "name": "stdout",
     "output_type": "stream",
     "text": [
      "The time of code execution begin is :  Tue Feb 28 19:59:43 2023\n",
      "The time of code execution end is :  Tue Feb 28 19:59:49 2023\n"
     ]
    }
   ],
   "source": [
    "import time\n",
    "\n",
    "print(\"The time of code execution begin is : \", time.ctime())  # start time\n",
    "time.sleep(6)  # using sleep() to hault the code execution for 6 seconds\n",
    "print(\"The time of code execution end is : \", time.ctime())  # end time\n"
   ]
  },
  {
   "attachments": {},
   "cell_type": "markdown",
   "id": "e3fa00f3",
   "metadata": {},
   "source": [
    "#  Function argument unpacking"
   ]
  },
  {
   "cell_type": "code",
   "execution_count": 8,
   "id": "f088556e",
   "metadata": {},
   "outputs": [
    {
     "name": "stdout",
     "output_type": "stream",
     "text": [
      "1 0 1\n",
      "1 0 1\n"
     ]
    }
   ],
   "source": [
    "def myfunc(x, y, z):\n",
    "    print(x, y, z)\n",
    "\n",
    "\n",
    "tuple_vec = (1, 0, 1)\n",
    "dict_vec = {'x': 1, 'y': 0, 'z': 1}\n",
    "\n",
    "myfunc(*tuple_vec)\n",
    "myfunc(**dict_vec)"
   ]
  },
  {
   "attachments": {},
   "cell_type": "markdown",
   "id": "abde626a",
   "metadata": {},
   "source": [
    "If the number of variables is less than the number of values, you can add an * to the variable name and the values will be assigned to the variable as a list:"
   ]
  },
  {
   "cell_type": "code",
   "execution_count": 9,
   "id": "26db7946",
   "metadata": {},
   "outputs": [
    {
     "name": "stdout",
     "output_type": "stream",
     "text": [
      "apple\n",
      "banana\n",
      "['cherry', 'strawberry', 'raspberry']\n"
     ]
    }
   ],
   "source": [
    "fruits = (\"apple\", \"banana\", \"cherry\", \"strawberry\", \"raspberry\")\n",
    "\n",
    "(green, yellow, *red) = fruits\n",
    "\n",
    "print(green)\n",
    "print(yellow)\n",
    "print(red)"
   ]
  },
  {
   "attachments": {},
   "cell_type": "markdown",
   "id": "71619542",
   "metadata": {},
   "source": [
    "If the asterisk is added to another variable name than the last, Python will assign values to the variable until the number of values left matches the number of variables left."
   ]
  },
  {
   "cell_type": "code",
   "execution_count": 10,
   "id": "33e1d704",
   "metadata": {},
   "outputs": [
    {
     "name": "stdout",
     "output_type": "stream",
     "text": [
      "apple\n",
      "['mango', 'papaya', 'pineapple']\n",
      "cherry\n"
     ]
    }
   ],
   "source": [
    "fruits = (\"apple\", \"mango\", \"papaya\", \"pineapple\", \"cherry\")\n",
    "\n",
    "(green, *tropic, red) = fruits\n",
    "\n",
    "print(green)\n",
    "print(tropic)\n",
    "print(red)"
   ]
  },
  {
   "attachments": {},
   "cell_type": "markdown",
   "id": "a196b3e3",
   "metadata": {},
   "source": [
    "#  reverse\n",
    "reversed function and reverse method can only be used to reverse objects in Python. But there is a major difference between the two:\n",
    "\n",
    "    reversed function can reverse and iterable object and returns a reversed object as data type.\n",
    "    reverse method can only be used with lists as its a list method only.\n",
    "\n",
    "Functions inside a class are called methods. Methods are associated with a class/object."
   ]
  },
  {
   "cell_type": "code",
   "execution_count": 13,
   "id": "36ad31a7",
   "metadata": {},
   "outputs": [
    {
     "name": "stdout",
     "output_type": "stream",
     "text": [
      "['water', 'wind', 'fire', 'earth']\n"
     ]
    }
   ],
   "source": [
    "lst = [\"earth\", \"fire\", \"wind\", \"water\"]\n",
    "\n",
    "lst.reverse()\n",
    "print(lst)"
   ]
  },
  {
   "cell_type": "code",
   "execution_count": 14,
   "id": "60e77f2b",
   "metadata": {},
   "outputs": [
    {
     "name": "stdout",
     "output_type": "stream",
     "text": [
      "<list_reverseiterator object at 0x7f56d3cc8af0>\n",
      "['water', 'wind', 'fire', 'earth']\n"
     ]
    }
   ],
   "source": [
    "lst = [\"earth\", \"fire\", \"wind\", \"water\"]\n",
    "a = reversed(lst)\n",
    "print(a)\n",
    "print(list(a))"
   ]
  },
  {
   "cell_type": "code",
   "execution_count": 15,
   "id": "00c99327",
   "metadata": {},
   "outputs": [
    {
     "name": "stdout",
     "output_type": "stream",
     "text": [
      "noitacinrofilaC\n"
     ]
    }
   ],
   "source": [
    "str = \"Californication\"\n",
    "a = reversed(str)\n",
    "print((\"\".join(a)))"
   ]
  },
  {
   "attachments": {},
   "cell_type": "markdown",
   "id": "7476d484",
   "metadata": {},
   "source": [
    "#  Printing library directories"
   ]
  },
  {
   "cell_type": "code",
   "execution_count": 16,
   "id": "7855f7e8",
   "metadata": {},
   "outputs": [
    {
     "name": "stdout",
     "output_type": "stream",
     "text": [
      "<module 'pandas' from '/home/mz/.pyenv/versions/3.8.12/envs/lewagon/lib/python3.8/site-packages/pandas/__init__.py'>\n"
     ]
    }
   ],
   "source": [
    "# find the location where a library file is located\n",
    "import pandas\n",
    "\n",
    "print(pandas)"
   ]
  },
  {
   "attachments": {},
   "cell_type": "markdown",
   "id": "c0a021b7",
   "metadata": {},
   "source": [
    "# tipps and tricks"
   ]
  },
  {
   "attachments": {},
   "cell_type": "markdown",
   "id": "c61a4a79",
   "metadata": {},
   "source": [
    "## f-strings"
   ]
  },
  {
   "cell_type": "code",
   "execution_count": null,
   "id": "055e4563",
   "metadata": {},
   "outputs": [
    {
     "name": "stdout",
     "output_type": "stream",
     "text": [
      "Wow Wolle! you have 100000 subscribers!\n",
      "Wow Wolle! you have 100000 subscribers!\n"
     ]
    }
   ],
   "source": [
    "name = \"Wolle\"\n",
    "subscribers = 100000\n",
    "\n",
    "# do not maualy concatenate strings like this\n",
    "print(\"Wow \" + name + \"! you have \" + str(subscribers) + \" subscribers!\")\n",
    "\n",
    "# better\n",
    "print(f\"Wow {name}! you have {subscribers} subscribers!\")"
   ]
  },
  {
   "attachments": {},
   "cell_type": "markdown",
   "id": "5d59f8b7",
   "metadata": {},
   "source": [
    "## use a context manager"
   ]
  },
  {
   "cell_type": "code",
   "execution_count": null,
   "id": "05b18481",
   "metadata": {},
   "outputs": [],
   "source": [
    "def manually_calling_close_on_a_file(filename):\n",
    "    # avoid manual closing\n",
    "    f = open(filename, \"w\")\n",
    "    f.write(\"hello!\\n\")\n",
    "    f.close()\n",
    "\n",
    "    # use a context manager for resource managing\n",
    "    # closes automaticly, even if exception happens\n",
    "    # use whenever you set up and tear down ressources\n",
    "    # like databases connections\n",
    "    with open(filename, \"w\") as f:\n",
    "        f.write(\"hello!\\n\")\n",
    "\n",
    "    with open('filename.txt', 'r') as f:\n",
    "        file_content = f.read()\n"
   ]
  },
  {
   "cell_type": "code",
   "execution_count": null,
   "id": "85fd11ff",
   "metadata": {},
   "outputs": [],
   "source": [
    "import socket\n",
    "\n",
    "\n",
    "def finally_instead_of_context_manager(host, port):\n",
    "    s = socket.socket(socket.AF_INET, socket.SOCK_STREAM)\n",
    "    try:\n",
    "        s.connect((host, port))\n",
    "        s.sendall(b'Hello, world')\n",
    "    finally:\n",
    "        s.close()\n",
    "\n",
    "    # close even if exception, use the in-built context manager\n",
    "    with socket.socket(socket.AF_INET, socket.SOCK_STREAM) as s:\n",
    "        s.connect((host, port))\n",
    "        s.sendall(b'Hello, world')"
   ]
  },
  {
   "attachments": {},
   "cell_type": "markdown",
   "id": "a0b1fdc3",
   "metadata": {},
   "source": [
    "## break() "
   ]
  },
  {
   "cell_type": "code",
   "execution_count": null,
   "id": "54ecf81c",
   "metadata": {},
   "outputs": [],
   "source": [
    "def bare_except():\n",
    "    while True:\n",
    "        try:\n",
    "            s = input(\"Input a number: \")\n",
    "            x = int(s)\n",
    "            break\n",
    "        except:  # oops! can't CTRL-C to exit, user is trapped\n",
    "            print(\"Not a number, try again\")\n",
    "\n",
    "    while True:\n",
    "        try:\n",
    "            s = input(\"Input a number: \")\n",
    "            x = int(s)\n",
    "            break\n",
    "        except Exception:  # still better to use ValueError, catch the Exception that will bethrown\n",
    "            print(\"Not a number, try again\")"
   ]
  },
  {
   "attachments": {},
   "cell_type": "markdown",
   "id": "b75292ef",
   "metadata": {},
   "source": [
    "## argument defaults"
   ]
  },
  {
   "cell_type": "code",
   "execution_count": null,
   "id": "688c6255",
   "metadata": {},
   "outputs": [],
   "source": [
    "# if you want mutable default, first set it to None and then assign value in the fct.\n",
    "# l is not cleared with the next fct call and the list grows\n",
    "def append(n, l=[]):\n",
    "    l.append(n)\n",
    "    return l"
   ]
  },
  {
   "cell_type": "code",
   "execution_count": null,
   "id": "a3580195",
   "metadata": {},
   "outputs": [
    {
     "name": "stdout",
     "output_type": "stream",
     "text": [
      "[0]\n"
     ]
    }
   ],
   "source": [
    "l1 = append(0)  # [0]\n",
    "print(l1)"
   ]
  },
  {
   "cell_type": "code",
   "execution_count": null,
   "id": "0c08c70e",
   "metadata": {},
   "outputs": [
    {
     "name": "stdout",
     "output_type": "stream",
     "text": [
      "[0, 1]\n"
     ]
    }
   ],
   "source": [
    "# the\n",
    "l2 = append(1)  # [0, 1]\n",
    "print(l2)"
   ]
  },
  {
   "cell_type": "code",
   "execution_count": null,
   "id": "d8d76cc5",
   "metadata": {},
   "outputs": [
    {
     "name": "stdout",
     "output_type": "stream",
     "text": [
      "[0]\n",
      "[1]\n"
     ]
    }
   ],
   "source": [
    "# better set the default to None, check if None and then assign value\n",
    "def append(n, l=None):\n",
    "    if l is None:\n",
    "        l = []\n",
    "    l.append(n)\n",
    "    return l\n",
    "\n",
    "\n",
    "l1 = append(0)  # [0]\n",
    "print(l1)\n",
    "l2 = append(1)  # [1]\n",
    "print(l2)"
   ]
  },
  {
   "attachments": {},
   "cell_type": "markdown",
   "id": "e4c7fe4c",
   "metadata": {},
   "source": [
    "## comprehensions"
   ]
  },
  {
   "cell_type": "code",
   "execution_count": null,
   "id": "da7e68fb",
   "metadata": {},
   "outputs": [],
   "source": [
    "def never_using_comprehensions():\n",
    "    squares = {}\n",
    "    for i in range(10):\n",
    "        squares[i] = i * i\n",
    "\n",
    "\n",
    "# same but shorter, don't forget about the other (than list) comprehensions\n",
    "odd_squares = {i: i * i for i in range(10)}\n",
    "\n",
    "dict_comp = {i: i * i for i in range(10)}  # dictionary comprehension\n",
    "list_comp = [x * x for x in range(10)]  # list comprehension\n",
    "set_comp = {i % 3 for i in range(10)}  # set comprehension\n",
    "gen_comp = (2 * x + 5 for x in range(10))  # generator comprehension"
   ]
  },
  {
   "cell_type": "code",
   "execution_count": null,
   "id": "5e07515b",
   "metadata": {},
   "outputs": [],
   "source": [
    "def always_using_comprehensions(a, b, n):\n",
    "    \"\"\"matrix product of a, b of length n x n\"\"\"\n",
    "    # list comprehension can get messy\n",
    "    c = [\n",
    "        sum(a[n * i + k] * b[n * k + j] for k in range(n)) for i in range(n)\n",
    "        for j in range(n)\n",
    "    ]\n",
    "\n",
    "    # think about readability\n",
    "    c = []\n",
    "    for i in range(n):\n",
    "        for j in range(n):\n",
    "            ij_entry = sum(a[n * i + k] * b[n * k + j] for k in range(n))\n",
    "            c.append(ij_entry)\n",
    "\n",
    "    return c"
   ]
  },
  {
   "attachments": {},
   "cell_type": "markdown",
   "id": "ea1cdb9e",
   "metadata": {},
   "source": [
    "## type() vs isinstance\n",
    " isinstance caters for inheritance (an instance of a derived class is an instance of a base class, too), while checking for equality of type does not (it demands identity of types and rejects instances of subtypes, AKA subclasses).\n",
    " https://stackoverflow.com/questions/1549801/what-are-the-differences-between-type-and-isinstance"
   ]
  },
  {
   "cell_type": "code",
   "execution_count": null,
   "id": "85d2285a",
   "metadata": {},
   "outputs": [
    {
     "name": "stdout",
     "output_type": "stream",
     "text": [
      "it's not a tuple\n",
      "it's a: <class '__main__.Point'>\n",
      "it's a tuple\n"
     ]
    }
   ],
   "source": [
    "from collections import namedtuple\n",
    "\n",
    "# Liskov substiution principle: states that you should program in a way where you can substitute\n",
    "# a subclass for  it's parent witout breaking the program\n",
    "\n",
    "\n",
    "def checking_type_equality():\n",
    "    Point = namedtuple('Point', ['x', 'y'])  # namedtuple is a tuple\n",
    "    p = Point(\n",
    "        1, 2\n",
    "    )  # so Point class is a tuple, but it is a subclass of the built-in tuple\n",
    "\n",
    "    if type(p) == tuple:  # Liskov substiution violation\n",
    "        print(\"it's a tuple\")\n",
    "    else:\n",
    "        print(\"it's not a tuple\")\n",
    "        print(f\"it's a: {type(p)}\")\n",
    "\n",
    "    # probably meant to check if is instance of tuple\n",
    "    if isinstance(p, tuple):\n",
    "        print(\"it's a tuple\")\n",
    "    else:\n",
    "        print(\"it's not a tuple\")\n",
    "\n",
    "\n",
    "checking_type_equality()"
   ]
  },
  {
   "attachments": {},
   "cell_type": "markdown",
   "id": "08e95e1d",
   "metadata": {},
   "source": [
    "## checkfor identity (is) instead of equality (==) "
   ]
  },
  {
   "cell_type": "code",
   "execution_count": null,
   "id": "00186e47",
   "metadata": {},
   "outputs": [],
   "source": [
    "def equality_for_singletons(x):\n",
    "    if x == None:\n",
    "        ...\n",
    "\n",
    "    if x == True:\n",
    "        pass\n",
    "\n",
    "    if x == False:\n",
    "        pass\n",
    "\n",
    "    # better\n",
    "    if x is None:\n",
    "        pass\n",
    "\n",
    "    if x is True:\n",
    "        pass\n",
    "\n",
    "    if x is False:\n",
    "        pass\n",
    "\n",
    "    equality_for_singletons(None)"
   ]
  },
  {
   "cell_type": "code",
   "execution_count": null,
   "id": "50f8289c",
   "metadata": {},
   "outputs": [
    {
     "name": "stdout",
     "output_type": "stream",
     "text": [
      "bool\n",
      "len\n",
      "x\n"
     ]
    }
   ],
   "source": [
    "def checking_bool_or_len(x):\n",
    "    if bool(x):\n",
    "        print(\"bool\")\n",
    "\n",
    "    if len(x) != 0:\n",
    "        print(\"len\")\n",
    "\n",
    "    # bool is True if not False or empty\n",
    "    # len is not 0 if there is something both can be substitued with a plain if x\n",
    "    # usually equivalent to\n",
    "    if x:\n",
    "        print(\"x\")\n",
    "\n",
    "\n",
    "checking_bool_or_len(\"hello\")"
   ]
  },
  {
   "attachments": {},
   "cell_type": "markdown",
   "id": "4ae998e8",
   "metadata": {},
   "source": [
    "## go over the values of container directly"
   ]
  },
  {
   "cell_type": "code",
   "execution_count": null,
   "id": "435e8aa1",
   "metadata": {},
   "outputs": [
    {
     "name": "stdout",
     "output_type": "stream",
     "text": [
      "1\n",
      "2\n",
      "1\n",
      "2\n",
      "0 1\n",
      "1 2\n"
     ]
    }
   ],
   "source": [
    "def range_len_pattern():\n",
    "    a = [1, 2]\n",
    "    # here you go over the indicies of a container to get the values it's unnecessary\n",
    "    for i in range(len(a)):\n",
    "        v = a[i]\n",
    "        print(v)\n",
    "\n",
    "    # instead go over the values directly\n",
    "    for v in a:\n",
    "        print(v)\n",
    "\n",
    "    # or if you wanted the index\n",
    "    for i, v in enumerate(a):\n",
    "        print(i, v)\n",
    "\n",
    "range_len_pattern()"
   ]
  },
  {
   "attachments": {},
   "cell_type": "markdown",
   "id": "0baec0e7",
   "metadata": {},
   "source": [
    "## zip"
   ]
  },
  {
   "cell_type": "code",
   "execution_count": null,
   "id": "6cc1eedd",
   "metadata": {},
   "outputs": [
    {
     "name": "stdout",
     "output_type": "stream",
     "text": [
      "1 & 4\n",
      "2 & 5\n",
      "1 / 4\n",
      "2 / 5\n",
      "(1, 4)\n",
      "(2, 5)\n",
      "0: 1 / 4\n",
      "1: 2 / 5\n"
     ]
    }
   ],
   "source": [
    "# using i to sync between two things?\n",
    "a = [1, 2]\n",
    "b = [4, 5]\n",
    "\n",
    "# this is very tedious\n",
    "for i in range(len(b)):\n",
    "    av = a[i]\n",
    "    bv = b[i]\n",
    "    print(f\"{av} & {bv}\")\n",
    "\n",
    "# INSTEAD USE zip, it's cleaner\n",
    "# zip stops when the shortest list is exhausted\n",
    "# if you want to go as far as the longest list you have to use \n",
    "# the zip_longest fct from itertools\n",
    "for av, bv in zip(a, b):\n",
    "    print(f\"{av} / {bv}\")\n",
    "\n",
    "# if we just give one variable to zip to write to \n",
    "# it returns a tuple\n",
    "for tup in zip(a, b):\n",
    "    print(tup)\n",
    "\n",
    "# if you need index of synced objects\n",
    "for i, (av, bv) in enumerate(zip(a, b)):\n",
    "    print(f\"{i}: {av} / {bv}\")"
   ]
  },
  {
   "attachments": {},
   "cell_type": "markdown",
   "id": "fd7ac31b",
   "metadata": {},
   "source": [
    "## dict keys is the default"
   ]
  },
  {
   "cell_type": "code",
   "execution_count": null,
   "id": "16a14c55",
   "metadata": {},
   "outputs": [
    {
     "name": "stdout",
     "output_type": "stream",
     "text": [
      "a\n",
      "b\n",
      "c\n",
      "a\n",
      "b\n",
      "c\n",
      "a\n",
      "b\n",
      "c\n"
     ]
    }
   ],
   "source": [
    "def for_key_in_dict_keys():\n",
    "    d = {\"a\": 1, \"b\": 2, \"c\": 3}\n",
    "    for key in d.keys():\n",
    "        print(key)\n",
    "\n",
    "    # key is the default, no need to reference it\n",
    "    for key in d:\n",
    "        print(key)\n",
    "\n",
    "    # or if you meant to make a copy of keys\n",
    "    for key in list(d):\n",
    "        print(key)\n",
    "\n",
    "\n",
    "for_key_in_dict_keys()"
   ]
  },
  {
   "attachments": {},
   "cell_type": "markdown",
   "id": "b77ca663",
   "metadata": {},
   "source": [
    "## items"
   ]
  },
  {
   "cell_type": "code",
   "execution_count": null,
   "id": "1d8a6dc1",
   "metadata": {},
   "outputs": [],
   "source": [
    "def not_using_dict_items():\n",
    "    d = {\"a\": 1, \"b\": 2, \"c\": 3}\n",
    "    for key in d:\n",
    "        val = d[key]  # no need to granb the value like this\n",
    "        ...\n",
    "    # get the values directly with items\n",
    "    for key, val in d.items():\n",
    "        ..."
   ]
  },
  {
   "attachments": {},
   "cell_type": "markdown",
   "id": "477becf2",
   "metadata": {},
   "source": [
    "## tuple unpacking"
   ]
  },
  {
   "cell_type": "code",
   "execution_count": null,
   "id": "775f01a9",
   "metadata": {},
   "outputs": [],
   "source": [
    "def tuple_unpacking():\n",
    "    mytuple = 1, 2\n",
    "\n",
    "    # don't do this\n",
    "    x = mytuple[0]\n",
    "    y = mytuple[1]\n",
    "\n",
    "    # do that\n",
    "    x, y = mytuple"
   ]
  },
  {
   "attachments": {},
   "cell_type": "markdown",
   "id": "88153bb3",
   "metadata": {},
   "source": [
    "## enumerate"
   ]
  },
  {
   "cell_type": "code",
   "execution_count": null,
   "id": "1a43d8be",
   "metadata": {},
   "outputs": [
    {
     "name": "stdout",
     "output_type": "stream",
     "text": [
      "0 Gerd\n",
      "1 Josh\n",
      "2 Karl\n",
      "1 Gerd\n",
      "2 Josh\n",
      "3 Karl\n"
     ]
    }
   ],
   "source": [
    "def index_counter_variable():\n",
    "    names = ['Gerd', 'Josh', 'Karl']\n",
    "\n",
    "    index = 0\n",
    "    for name in names:\n",
    "        print(index, name)\n",
    "        index += 1\n",
    "\n",
    "    # this is much cleaner, enumerate returns index and value \n",
    "    # and enumerate can have a index starting at another number like 1\n",
    "    for index, name in enumerate(names, start=1):\n",
    "        print(index, name)\n",
    "\n",
    "index_counter_variable()"
   ]
  },
  {
   "cell_type": "code",
   "execution_count": null,
   "id": "6ba2f3f0",
   "metadata": {},
   "outputs": [],
   "source": [
    "def range_len_pattern():\n",
    "    a = [1, 2]\n",
    "    # here you go over the indicies of a container to get the values it's unnecessary\n",
    "    for i in range(len(a)):\n",
    "        v = a[i]\n",
    "        print(v)\n",
    "\n",
    "    # instead go over the values directly\n",
    "    for v in a:\n",
    "        print(v)\n",
    "\n",
    "    # or if you wanted the index\n",
    "    for i, v in enumerate(a):\n",
    "        print(i, v)\n",
    "\n",
    "    # using i to sync between two things?\n",
    "    b = [4, 5]\n",
    "    for i in range(len(b)):\n",
    "        av = a[i]\n",
    "        bv = b[i]\n",
    "        # print(f\"{av} & {bv}\")\n",
    "\n",
    "    # INSTEAD USE zip\n",
    "    for av, bv in zip(a, b):\n",
    "        print(f\"{av} / {bv}\")\n",
    "\n",
    "    # if you need index of sxýnced objects\n",
    "    for i, (av, bv) in enumerate(zip(a, b)):\n",
    "        print(f\"{i}: {av} / {bv}\")\n",
    "\n",
    "\n",
    "range_len_pattern()\n"
   ]
  },
  {
   "attachments": {},
   "cell_type": "markdown",
   "id": "191818ca",
   "metadata": {},
   "source": [
    "## time.perf_counter()"
   ]
  },
  {
   "cell_type": "code",
   "execution_count": null,
   "id": "19b77f51",
   "metadata": {},
   "outputs": [
    {
     "name": "stdout",
     "output_type": "stream",
     "text": [
      "1.001276969909668\n",
      "1.0012377749990264\n"
     ]
    }
   ],
   "source": [
    "import time\n",
    "\n",
    "\n",
    "def timing_with_time():\n",
    "    # time.time is for current time not for timing the code\n",
    "    start = time.time()\n",
    "    time.sleep(1)\n",
    "    end = time.time()\n",
    "    print(end - start)\n",
    "\n",
    "    # more accurate, for timing your code\n",
    "    start = time.perf_counter()\n",
    "    time.sleep(1)\n",
    "    end = time.perf_counter()\n",
    "    print(end - start)\n",
    "\n",
    "\n",
    "timing_with_time()"
   ]
  },
  {
   "attachments": {},
   "cell_type": "markdown",
   "id": "22976e1f",
   "metadata": {},
   "source": [
    "## logging module"
   ]
  },
  {
   "cell_type": "code",
   "execution_count": null,
   "id": "8b500fcf",
   "metadata": {},
   "outputs": [
    {
     "name": "stderr",
     "output_type": "stream",
     "text": [
      "[DEBUG] 2023-03-07 19:05:31,610 - debug info\n",
      "[INFO] 2023-03-07 19:05:31,612 - just some info\n",
      "[ERROR] 2023-03-07 19:05:31,614 - uh oh :(\n"
     ]
    },
    {
     "name": "stdout",
     "output_type": "stream",
     "text": [
      "debug info\n",
      "just some info\n",
      "bad error\n"
     ]
    }
   ],
   "source": [
    "import logging\n",
    "\n",
    "\n",
    "def print_vs_logging():\n",
    "    print(\"debug info\")\n",
    "    print(\"just some info\")\n",
    "    print(\"bad error\")\n",
    "\n",
    "    # versus\n",
    "    # set up logging in main function\n",
    "    # format your error meassages\n",
    "    level = logging.DEBUG\n",
    "    fmt = '[%(levelname)s] %(asctime)s - %(message)s'\n",
    "    logging.basicConfig(level=level, format=fmt)\n",
    "\n",
    "    # wherever\n",
    "    logging.debug(\"debug info\")\n",
    "    logging.info(\"just some info\")\n",
    "    logging.error(\"uh oh :(\")\n",
    "\n",
    "\n",
    "print_vs_logging()"
   ]
  },
  {
   "attachments": {},
   "cell_type": "markdown",
   "id": "40ce48f5",
   "metadata": {},
   "source": [
    "## subprocesses shell=True\n",
    "- subprocess should be used for accessing system commands"
   ]
  },
  {
   "cell_type": "code",
   "execution_count": null,
   "id": "ae1f5b52",
   "metadata": {},
   "outputs": [],
   "source": [
    "import subprocess\n",
    "\n",
    "\n",
    "def subprocess_with_shell_true():\n",
    "    # shell= True causes security problems leave it out\n",
    "    # subprocess.run([\"ls -l\"], capture_output=True, shell=True)\n",
    "    subprocess.run([\"ls\", \"-l\"], capture_output=True)\n",
    "\n",
    "\n",
    "subprocess_with_shell_true()"
   ]
  },
  {
   "attachments": {},
   "cell_type": "markdown",
   "id": "fd82f96c",
   "metadata": {},
   "source": [
    "## use numpy"
   ]
  },
  {
   "cell_type": "code",
   "execution_count": null,
   "id": "673199cb",
   "metadata": {},
   "outputs": [],
   "source": [
    "import numpy as np\n",
    "\n",
    "\n",
    "def not_using_numpy_pandas():\n",
    "    x = list(range(100))\n",
    "    y = list(range(100))\n",
    "    s = [a + b for a, b in zip(x, y)]\n",
    "\n",
    "    # better (faster)\n",
    "    x = np.arange(100)\n",
    "    y = np.arange(100)\n",
    "    s = x + y"
   ]
  },
  {
   "attachments": {},
   "cell_type": "markdown",
   "id": "c4c46aa4",
   "metadata": {},
   "source": [
    "## use from ... import ... \n",
    "import * is not reccomended\n",
    "just import what you need"
   ]
  },
  {
   "attachments": {},
   "cell_type": "markdown",
   "id": "4f0419d7",
   "metadata": {},
   "source": [
    "## learn to package your code \n",
    "and install it in the current environment"
   ]
  },
  {
   "attachments": {},
   "cell_type": "markdown",
   "id": "ef90de6b",
   "metadata": {},
   "source": [
    "## python is compiled\n",
    "-  .pyc files or __pyache__ are compiled python code\n",
    "- but python is also an interpreted language\n",
    "- python is compiled to bytecode which is then run by the interpreter"
   ]
  },
  {
   "attachments": {},
   "cell_type": "markdown",
   "id": "246209ec",
   "metadata": {},
   "source": [
    "## use pep8 \n",
    "- pep8 is a styleguide\n",
    "- pro's use it"
   ]
  },
  {
   "attachments": {},
   "cell_type": "markdown",
   "id": "575490dc",
   "metadata": {},
   "source": [
    "## use python 3\n",
    "- check the python changes"
   ]
  },
  {
   "attachments": {},
   "cell_type": "markdown",
   "id": "410105c5",
   "metadata": {},
   "source": [
    "## use underscores for big numbers"
   ]
  },
  {
   "cell_type": "code",
   "execution_count": null,
   "id": "66c1732e",
   "metadata": {},
   "outputs": [
    {
     "name": "stdout",
     "output_type": "stream",
     "text": [
      "100,100,000,000\n"
     ]
    }
   ],
   "source": [
    "x = 100_000_000_000\n",
    "y = 100_000_000\n",
    "total = x + y\n",
    "print(f'{total: ,}')  # to add commas as hundreth separators\n"
   ]
  },
  {
   "attachments": {},
   "cell_type": "markdown",
   "id": "f5d4ca77",
   "metadata": {},
   "source": [
    "## getpass() to hide input"
   ]
  },
  {
   "cell_type": "code",
   "execution_count": null,
   "id": "f01b5564",
   "metadata": {},
   "outputs": [],
   "source": [
    "from getpass import getpass\n",
    "\n",
    "username = input('Username: ')\n",
    "# instead of input('Passwort: ') put getpass(...) and the password \n",
    "# is hidden in the console while writing\n",
    "password = getpass('Password: ')\n",
    "print('Logging In...')"
   ]
  },
  {
   "attachments": {},
   "cell_type": "markdown",
   "id": "cb0940ba",
   "metadata": {},
   "source": [
    "## run a module that is NOT in the cd\n",
    "\n",
    "this runs the smtpd module, everything after smtpd are the args of that module \n",
    "\n",
    "__python -m smtpd DebuggingServer -n localhost:1025__\n",
    "\n",
    "to find out about the args of a module run: \n",
    "**help(module_name)**\n",
    "\n",
    "if you justa want attributed and method name of a module check: **dir(module_name)**\n",
    "\n",
    "when you check a medule with dir() and want to know if smt is an attribute or a method you can: **modulename.method_name** without the () and get infos"
   ]
  },
  {
   "cell_type": "code",
   "execution_count": null,
   "id": "80e60bbd",
   "metadata": {},
   "outputs": [],
   "source": [
    "from datetime import datetime\n",
    "print(help(datetime))"
   ]
  },
  {
   "cell_type": "code",
   "execution_count": null,
   "id": "a18a3388",
   "metadata": {},
   "outputs": [
    {
     "name": "stdout",
     "output_type": "stream",
     "text": [
      "['__add__', '__class__', '__delattr__', '__dir__', '__doc__', '__eq__', '__format__', '__ge__', '__getattribute__', '__gt__', '__hash__', '__init__', '__init_subclass__', '__le__', '__lt__', '__ne__', '__new__', '__radd__', '__reduce__', '__reduce_ex__', '__repr__', '__rsub__', '__setattr__', '__sizeof__', '__str__', '__sub__', '__subclasshook__', 'astimezone', 'combine', 'ctime', 'date', 'day', 'dst', 'fold', 'fromisocalendar', 'fromisoformat', 'fromordinal', 'fromtimestamp', 'hour', 'isocalendar', 'isoformat', 'isoweekday', 'max', 'microsecond', 'min', 'minute', 'month', 'now', 'replace', 'resolution', 'second', 'strftime', 'strptime', 'time', 'timestamp', 'timetuple', 'timetz', 'today', 'toordinal', 'tzinfo', 'tzname', 'utcfromtimestamp', 'utcnow', 'utcoffset', 'utctimetuple', 'weekday', 'year']\n"
     ]
    }
   ],
   "source": [
    "print(dir(datetime))"
   ]
  },
  {
   "cell_type": "code",
   "execution_count": null,
   "id": "905462e9",
   "metadata": {},
   "outputs": [
    {
     "name": "stdout",
     "output_type": "stream",
     "text": [
      "<built-in method today of type object at 0x7fc80471ad40>\n",
      "2023-03-08 16:01:46.761279\n"
     ]
    }
   ],
   "source": [
    "print(datetime.today)\n",
    "print(datetime.today())"
   ]
  },
  {
   "attachments": {},
   "cell_type": "markdown",
   "id": "50b75c87",
   "metadata": {},
   "source": [
    "# bitwise operators\n",
    "Unlike their logical counterparts, bitwise operators are evaluated eagerly:<br>\n",
    "Even though knowing the left operand is sufficient to determine the value of the <br>\n",
    "entire expression, all operands are always evaluated unconditionally.\n",
    "\n",
    "https://realpython.com/python-bitwise-operators/"
   ]
  },
  {
   "attachments": {},
   "cell_type": "markdown",
   "id": "c6435d46",
   "metadata": {},
   "source": [
    "| Operator | Example  | Meaning                    |\n",
    "| -------- | -------- | -------------------------- |\n",
    "| `&`      | `a & b`  | Bitwise AND                |\n",
    "| `\\|`      | `a \\| b`| Bitwise OR                 |\n",
    "| `^`      | `a ^ b`  | Bitwise XOR (exclusive OR) |\n",
    "| `~`      | `~a`     | Bitwise NOT                |\n",
    "| `<<`     | `a << n` | Bitwise left shift         |\n",
    "| `>>`     | `a >> n` | Bitwise right shift        |\n",
    "\n",
    "<br>\n",
    "\n",
    "| Operator | Example   | Equivalent to |\n",
    "| -------- | --------- | ------------- |\n",
    "| `&=`     | `a &= b`  | `a = a & b`   |\n",
    "| `\\|=`    | `a \\|= b` | `a = a \\| b`   |\n",
    "| `^=`     | `a ^= b`  | `a = a ^ b`   |\n",
    "| `<<=`    | `a <<= n` | `a = a << n`  |\n",
    "| `>>=`    | `a >>= n` | `a = a >> n`  |"
   ]
  }
 ],
 "metadata": {
  "interpreter": {
   "hash": "ad7afd56c4a9327988b254949fc9ff6c4de57fd051da33a62b5f87e3ddafe8d2"
  },
  "kernelspec": {
   "display_name": "Python 3.8.12 64-bit ('lewagon')",
   "language": "python",
   "name": "python3"
  },
  "language_info": {
   "codemirror_mode": {
    "name": "ipython",
    "version": 3
   },
   "file_extension": ".py",
   "mimetype": "text/x-python",
   "name": "python",
   "nbconvert_exporter": "python",
   "pygments_lexer": "ipython3",
   "version": "3.8.12"
  },
  "widgets": {
   "application/vnd.jupyter.widget-state+json": {
    "state": {},
    "version_major": 2,
    "version_minor": 0
   }
  }
 },
 "nbformat": 4,
 "nbformat_minor": 5
}
