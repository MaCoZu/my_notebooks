{
 "cells": [
  {
   "attachments": {},
   "cell_type": "markdown",
   "id": "3fb3ddc6",
   "metadata": {},
   "source": [
    "## Functions\n",
    "- define a function - A function is a block of code, which only runs when it is called.\n",
    "- Arguments are specified inside of the function.\n",
    "- A parameter is a variable in a method declaration. \n",
    "- The arguments are made when you pass data into the method's parameters."
   ]
  },
  {
   "cell_type": "code",
   "execution_count": 1,
   "id": "3ea03c2e",
   "metadata": {},
   "outputs": [
    {
     "data": {
      "text/plain": [
       "'Hi,  Hans, Z'"
      ]
     },
     "execution_count": 1,
     "metadata": {},
     "output_type": "execute_result"
    }
   ],
   "source": [
    "def greet_user(fname, lname):            # parameters are the placeholders\n",
    "    greeting = f\"Hi,  {fname}, {lname}\"  # paramterers become arguments they have concrete data  \n",
    "    return greeting # functions usually return valaues\n",
    "    \n",
    "greet_user(\"Hans\", \"Z\")             # positional arguments: args\n",
    "greet_user(lname=\"Z\", fname=\"Hans\") # keyword arguments: kwargs"
   ]
  },
  {
   "attachments": {},
   "cell_type": "markdown",
   "id": "befff812",
   "metadata": {},
   "source": [
    "## return \n",
    "- You can use the return statement to make your functions send Python objects back to the caller code.\n",
    "- every function returns a NONE when there is no return statement\n",
    "- return stops the functions execution, but there can be conditionl returns and thus many retrun statements in one function."
   ]
  },
  {
   "cell_type": "code",
   "execution_count": 5,
   "id": "a92a578d",
   "metadata": {},
   "outputs": [
    {
     "data": {
      "text/plain": [
       "'number too high'"
      ]
     },
     "execution_count": 5,
     "metadata": {},
     "output_type": "execute_result"
    }
   ],
   "source": [
    "def square(number):\n",
    "    if number < 100:\n",
    "        return print(number*number)\n",
    "    else:\n",
    "        return \"number too high\"\n",
    "square(1003)"
   ]
  },
  {
   "attachments": {},
   "cell_type": "markdown",
   "id": "9031e2e4",
   "metadata": {},
   "source": [
    "## typing\n",
    "- ``def name_len(name: str) -> int:``\n",
    "- we can say what should go into and is expected to come out of a fct. \n",
    "- But type annotations don’t actually do anything.\n",
    "\n",
    "Nontheless:\n",
    "- Types are an important form of documentation.\n",
    "- External tools (mypy) read code, inspect the type annotations, and let you know about type errors.\n",
    "- Thinking about the types in your code forces you to design cleaner functions and interfaces\n",
    "- Using types allows your editor to help you with things like autocomplete\n",
    "- They can be used by third party tools such as type checkers, IDEs, linters, etc."
   ]
  },
  {
   "cell_type": "code",
   "execution_count": 6,
   "id": "ce750785",
   "metadata": {},
   "outputs": [
    {
     "data": {
      "text/plain": [
       "0.8571428571428571"
      ]
     },
     "execution_count": 6,
     "metadata": {},
     "output_type": "execute_result"
    }
   ],
   "source": [
    "def name_len(name: str) -> int:\n",
    "    return len(name)/3.5\n",
    "\n",
    "name_len([1,2,3]) # not an int!"
   ]
  },
  {
   "attachments": {},
   "cell_type": "markdown",
   "metadata": {},
   "source": [
    "## typing module\n",
    "- if for example you want a list of floats, not (say) a list of strings. The typing module provides a <br>\n",
    "number of parameterized types that we can use to do just this"
   ]
  },
  {
   "cell_type": "code",
   "execution_count": 18,
   "metadata": {},
   "outputs": [
    {
     "data": {
      "text/plain": [
       "16.9"
      ]
     },
     "execution_count": 18,
     "metadata": {},
     "output_type": "execute_result"
    }
   ],
   "source": [
    "from typing import List # note the capital L\n",
    "\n",
    "def total(xs: List[float]) -> float:\n",
    "    return sum(xs)\n",
    "\n",
    "total([3.4, 5.6, 7.9])"
   ]
  },
  {
   "cell_type": "code",
   "execution_count": null,
   "metadata": {},
   "outputs": [],
   "source": [
    "# you can even type-annotate a variables, here it's unnecessary bc the type is obvious\n",
    "x: int = 5"
   ]
  },
  {
   "cell_type": "code",
   "execution_count": null,
   "metadata": {},
   "outputs": [],
   "source": [
    "# here it's not so obvious\n",
    "from typing import Optional\n",
    "values: List[int] = [] # list of integers\n",
    "best_so_far: Optional[float] = None # allowed to be either a float or None"
   ]
  },
  {
   "cell_type": "code",
   "execution_count": 19,
   "metadata": {},
   "outputs": [
    {
     "data": {
      "text/plain": [
       "'type hints, type hints'"
      ]
     },
     "execution_count": 19,
     "metadata": {},
     "output_type": "execute_result"
    }
   ],
   "source": [
    "from typing import Callable\n",
    "\n",
    "# 'twice' takes a function and a string and returns a string, \n",
    "# while the function 'repeater' takes a string & int and returns a string\n",
    "def twice(repeater: Callable[[str, int], str], s: str) -> str:\n",
    "    return repeater(s, 2)\n",
    "\n",
    "# comma_repeater is a function that takes\n",
    "# two arguments, a string and an int, and returns a string.\n",
    "def comma_repeater(s: str, n: int) -> str:\n",
    "    n_copies = [s for _ in range(n)]\n",
    "    return ', '.join(n_copies)\n",
    "\n",
    "\n",
    "twice(comma_repeater, \"type hints\") "
   ]
  },
  {
   "cell_type": "code",
   "execution_count": 20,
   "metadata": {},
   "outputs": [],
   "source": [
    "# As type annotations are just Python objects, we can assign them to variables\n",
    "# to make them easier to refer to:\n",
    "from typing import List  # note capital L\n",
    "Number = int\n",
    "Numbers = List[Number]\n",
    "\n",
    "def total(xs: Numbers) -> Number:\n",
    "    return sum(xs)"
   ]
  },
  {
   "attachments": {},
   "cell_type": "markdown",
   "id": "951582ea",
   "metadata": {},
   "source": [
    "# arguments (args)\n",
    "- A __parameter__ is the variable listed inside the parentheses in the function definition.\n",
    "- An __argument__ is the value that are sent to the function when it is called.\n",
    "- **Parameters** define what types of arguments a function can accept they appear in a function definition, <br>\n",
    "whereas **arguments** are the values actually passed to a function when calling it. \n",
    "\n",
    "#### Parameters\n",
    "Parameters are part of a function definition (def or lambda). There are  **five different kinds of parameters**:\n",
    "\n",
    "- **positional-or-keyword**: \n",
    "Normal parameters in a function definition, with or without default values. <br>\n",
    "Each has a name and an index, and can accept a positional argument with the same index, \n",
    "or a keyword argument with the same name, or (if it has a default value) nothing. \n",
    "Technically, every parameter before the first bare *, var-positional, or var-keyword is a positional-or-keyword parameter.\n",
    "- **positional-only**: \n",
    "Only found in builtin/extension functions. \n",
    "Each has a name and an index, but only accepts positional arguments with the same index.\n",
    "- **var-positional**: \n",
    "This is the ***args**.<br>\n",
    "This accepts a sequence consisting of all positional arguments whose index is larger \n",
    "than any positional-or-keyword or positional-only parameter.\n",
    "(Note that you can also specify a bare * here. In that case, you don't take variable positional arguments.\n",
    "You do this to set off keyword-only from positional-or-keyword parameters.)\n",
    "- **keyword-only**: \n",
    "These are parameters that come after a * or ***args**, with or without default values.\n",
    "Each has a name only, and accepts only keyword arguments with the same name. \n",
    "Technically, every parameter after the first bare * or var-positional,\n",
    "but before the var-keyword (if any), is a keyword-only parameter.\n",
    "- **var-keyword**: \n",
    "This is the **args.\n",
    "This accepts a mapping consisting of all keyword arguments whose name does not \n",
    "match any positional-or-keyword or keyword-only parameter.\n",
    "\n",
    "#### Arguments\n",
    "Arguments are part of a function call. There are four different kinds of arguments:\n",
    "\n",
    "- **positional**: Arguments without a name.\n",
    "        Each is matched to the positional-or-keyword or positional-only parameter with the same index, or to the var-positional parameter if there is no matching index (or, if there is no var-positional parameter, it's an error if there is no match).\n",
    "- **keyword**: Arguments with a name.\n",
    "        Each is matched to the postional-or-keyword or keyword-only parameter with the same name, or to the var-keyword parameter if there is no matching name (or, if there is no var-keyword parameter, it's an error if there is no match).\n",
    "- **packed positional**: An iterator preceded by *.\n",
    "        The iterator is unpacked, and the values treated as separate positional arguments.\n",
    "- **packed keyword**: A mapping preceded by **.\n",
    "        The mapping is iterated, and the key-value pairs treated as separate keyword arguments.\n",
    "\n",
    "There is no direct connection between parameters with a default value and keyword arguments. You can pass keyword arguments to parameters without default values, or positional arguments to parameters with them.\n"
   ]
  },
  {
   "attachments": {},
   "cell_type": "markdown",
   "id": "0206eab3",
   "metadata": {},
   "source": [
    "## positional args\n",
    "-  By default, a function must be called with the correct number of arguments. \n",
    "-  the args passed are assigned according to their position"
   ]
  },
  {
   "cell_type": "code",
   "execution_count": 9,
   "id": "d5749b9b",
   "metadata": {},
   "outputs": [
    {
     "name": "stdout",
     "output_type": "stream",
     "text": [
      "Emil Hauser\n",
      "Hauser Emil\n"
     ]
    }
   ],
   "source": [
    "def my_function(fname, lname):\n",
    "    print(f\"{fname} {lname}\")\n",
    "\n",
    "my_function(\"Emil\", \"Hauser\")\n",
    "my_function(\"Hauser\", \"Emil\")"
   ]
  },
  {
   "attachments": {},
   "cell_type": "markdown",
   "metadata": {},
   "source": [
    "## default argument"
   ]
  },
  {
   "cell_type": "code",
   "execution_count": 7,
   "id": "43a6be75",
   "metadata": {},
   "outputs": [
    {
     "name": "stdout",
     "output_type": "stream",
     "text": [
      "I am from India\n",
      "I am from Norway\n"
     ]
    }
   ],
   "source": [
    "def my_function(country = \"Norway\"):\n",
    "  print(f\"I am from {country}\")\n",
    "\n",
    "my_function(\"India\")\n",
    "my_function()"
   ]
  },
  {
   "attachments": {},
   "cell_type": "markdown",
   "id": "5f5126e2",
   "metadata": {},
   "source": [
    "## keyword args\n",
    "- Keyword Arguments (kwargs)\n",
    "-  You can also send arguments with the 'key = value' syntax.\n",
    "- This way the order of the arguments does not matter."
   ]
  },
  {
   "cell_type": "code",
   "execution_count": null,
   "id": "4de5d186",
   "metadata": {},
   "outputs": [],
   "source": [
    "def my_function(child3, child2, child1):\n",
    "  print(f\"The youngest child is {child3}\")\n",
    "\n",
    "my_function(child1 = \"Emil\", child2 = \"Tobias\", child3 = \"Linus\")"
   ]
  },
  {
   "attachments": {},
   "cell_type": "markdown",
   "id": "bbd630a2",
   "metadata": {},
   "source": [
    "## keyword-only Arguments\n",
    "- if we want the function caller to explicitly use a keyword \n",
    "- the * here means ‘don’t allow any positional arguments beyond this point’\n",
    "- otherwise any further (accidentially) added parameter is taken as the keyword parameter"
   ]
  },
  {
   "cell_type": "code",
   "execution_count": 10,
   "id": "f960ed3d",
   "metadata": {},
   "outputs": [
    {
     "name": "stdout",
     "output_type": "stream",
     "text": [
      "1 2 3\n"
     ]
    },
    {
     "ename": "TypeError",
     "evalue": "k_only() takes 2 positional arguments but 3 were given",
     "output_type": "error",
     "traceback": [
      "\u001b[0;31m---------------------------------------------------------------------------\u001b[0m",
      "\u001b[0;31mTypeError\u001b[0m                                 Traceback (most recent call last)",
      "\u001b[0;32m/tmp/ipykernel_8412/3206729734.py\u001b[0m in \u001b[0;36m<module>\u001b[0;34m\u001b[0m\n\u001b[1;32m      3\u001b[0m \u001b[0;34m\u001b[0m\u001b[0m\n\u001b[1;32m      4\u001b[0m \u001b[0mk_only\u001b[0m\u001b[0;34m(\u001b[0m\u001b[0;36m1\u001b[0m\u001b[0;34m,\u001b[0m \u001b[0;36m2\u001b[0m\u001b[0;34m,\u001b[0m \u001b[0msub\u001b[0m\u001b[0;34m=\u001b[0m\u001b[0;36m3\u001b[0m\u001b[0;34m)\u001b[0m\u001b[0;34m\u001b[0m\u001b[0;34m\u001b[0m\u001b[0m\n\u001b[0;32m----> 5\u001b[0;31m \u001b[0mk_only\u001b[0m\u001b[0;34m(\u001b[0m\u001b[0;36m1\u001b[0m\u001b[0;34m,\u001b[0m \u001b[0;36m2\u001b[0m\u001b[0;34m,\u001b[0m \u001b[0;36m3\u001b[0m\u001b[0;34m)\u001b[0m\u001b[0;34m\u001b[0m\u001b[0;34m\u001b[0m\u001b[0m\n\u001b[0m",
      "\u001b[0;31mTypeError\u001b[0m: k_only() takes 2 positional arguments but 3 were given"
     ]
    }
   ],
   "source": [
    "def k_only(arg1, arg2, *,  sub=False):\n",
    "    return print(arg1, arg2, sub)\n",
    "\n",
    "k_only(1, 2, sub=3)\n",
    "k_only(1, 2, 3)"
   ]
  },
  {
   "attachments": {},
   "cell_type": "markdown",
   "id": "fb67e283",
   "metadata": {},
   "source": [
    "## *args\n",
    "- *args, Variable Arguments WITHOUT keyword\n",
    "- *args gets all the excess positional arguments\n",
    "- If you do not know how many arguments will be passed into your function\n",
    "- This way the function will receive a tuple of arguments, and can access the items accordingly\n",
    "- good when the number of args is small\n",
    "- add flexibility to the fct.\n"
   ]
  },
  {
   "cell_type": "code",
   "execution_count": null,
   "id": "11798b05",
   "metadata": {},
   "outputs": [
    {
     "name": "stdout",
     "output_type": "stream",
     "text": [
      "FIRST: Ernie\n",
      "\n",
      "REST:\n",
      "Bert\n",
      "Gunnar\n",
      "Stef\n"
     ]
    }
   ],
   "source": [
    "def myFun(first, *argv):\n",
    "    print(f\"FIRST: {first}\")\n",
    "    print(f\"\\nREST:\")\n",
    "    for arg in argv:\n",
    "        print(arg)\n",
    "\n",
    "\n",
    "myFun('Ernie', 'Bert', 'Gunnar', 'Stef')"
   ]
  },
  {
   "cell_type": "code",
   "execution_count": null,
   "id": "affcda59",
   "metadata": {},
   "outputs": [
    {
     "name": "stdout",
     "output_type": "stream",
     "text": [
      "11\n",
      "156\n",
      "27\n"
     ]
    }
   ],
   "source": [
    "# if we add a positional param like this addition(base, *args)\n",
    "# the fct. is off bc it takes base and misses the last value in the *args\n",
    "def addition(*args):\n",
    "    result=0\n",
    "    for arg in args:\n",
    "        result += arg\n",
    "    return result\n",
    "\n",
    "print(addition(2, 4, 5))\n",
    "print(addition(10 ,20, 4, 81, 41))\n",
    "nums = [1, 4, 6, 6, 10]\n",
    "print(addition(*nums))"
   ]
  },
  {
   "cell_type": "code",
   "execution_count": null,
   "metadata": {},
   "outputs": [
    {
     "name": "stdout",
     "output_type": "stream",
     "text": [
      "<class 'tuple'>\n",
      "(1, 2, 4, 'a string')\n"
     ]
    }
   ],
   "source": [
    "# args is a tuple \n",
    "def test_type(*args):\n",
    "    print(type(args))\n",
    "    print(args)\n",
    "\n",
    "test_type(1, 2, 4, 'a string')"
   ]
  },
  {
   "attachments": {},
   "cell_type": "markdown",
   "id": "931764da",
   "metadata": {},
   "source": [
    "## **kwargs\n",
    "- The ** in front of a dictionary lets you pass the contents of that dict as named arguments to a fct..\n",
    "- The dict keys are the argument names, and the values are the values passed to the function. \n",
    "- You don’t even need to call it kwargs!\n",
    "- **kwargs, variable Keyword Arguments, gets all the excess KEYWORD arguments\n",
    "- useful when you want to write functions that can handle named arguments not defined in advance"
   ]
  },
  {
   "cell_type": "code",
   "execution_count": 71,
   "metadata": {},
   "outputs": [
    {
     "name": "stdout",
     "output_type": "stream",
     "text": [
      "3\n",
      "3\n"
     ]
    }
   ],
   "source": [
    "dictionary = {\"a\": 1, \"b\": 2}\n",
    "\n",
    "def someFunction(a, b):\n",
    "    print(a + b)\n",
    "    return\n",
    "\n",
    "# these do the same thing:\n",
    "someFunction(**dictionary)\n",
    "someFunction(a=1, b=2)"
   ]
  },
  {
   "cell_type": "code",
   "execution_count": 70,
   "metadata": {},
   "outputs": [
    {
     "name": "stdout",
     "output_type": "stream",
     "text": [
      "positional argument: \n",
      "postional_arg\n",
      "----------------------------------------\n",
      "*variable positional arguments:\n",
      "*p_arg_1\n",
      "*p_arg_2\n",
      "----------------------------------------\n",
      "**variable keyword arguments:\n",
      "kwarg_1 : **kwarg_1\n",
      "kwarg_2 : **kwarg_2\n",
      "kwarg_3 : **kwarg_3\n"
     ]
    }
   ],
   "source": [
    "def cheeseshop(parg, *args, **keywords):\n",
    "    # first arg by position\n",
    "    print(f\"positional argument: \\n{parg}\")\n",
    "    print(\"-\" * 40)\n",
    "\n",
    "    # all the other arguments by postion\n",
    "    print(f\"*variable positional arguments:\")\n",
    "    for arg in args:\n",
    "        print(arg)\n",
    "    print(\"-\" * 40)\n",
    "\n",
    "    # all arguments by KEYWORD\n",
    "    print(f\"**variable keyword arguments:\")\n",
    "    for kw in keywords:\n",
    "        print(kw, \":\", keywords[kw])\n",
    "\n",
    "\n",
    "cheeseshop(\"postional_arg\",\n",
    "           \"*p_arg_1\",\n",
    "           \"*p_arg_2\",\n",
    "           kwarg_1=\"**kwarg_1\",\n",
    "           kwarg_2=\"**kwarg_2\",\n",
    "           kwarg_3=\"**kwarg_3\")\n"
   ]
  },
  {
   "cell_type": "code",
   "execution_count": 8,
   "id": "2cea0d3e",
   "metadata": {},
   "outputs": [
    {
     "name": "stdout",
     "output_type": "stream",
     "text": [
      "His last name is Refsnes\n"
     ]
    }
   ],
   "source": [
    "def my_function(**kid):\n",
    "  print(\"His last name is \" + kid[\"lname\"])\n",
    "\n",
    "my_function(fname = \"Tobias\", lname = \"Refsnes\")"
   ]
  },
  {
   "cell_type": "code",
   "execution_count": 10,
   "id": "43a6be75",
   "metadata": {},
   "outputs": [
    {
     "name": "stdout",
     "output_type": "stream",
     "text": [
      "unnamed args: (1, 2)\n",
      "keyword args: {'key': 'word', 'key2': 'word2'}\n"
     ]
    }
   ],
   "source": [
    "def magic(*args, **kwargs):\n",
    "    print(\"unnamed args:\", args)\n",
    "    print(\"keyword args:\", kwargs)\n",
    "\n",
    "# args is a tuple of its unnamed\n",
    "# arguments and kwargs is a dict of its named arguments.\n",
    "magic(1, 2, key=\"word\", key2=\"word2\")\n"
   ]
  },
  {
   "cell_type": "code",
   "execution_count": 13,
   "metadata": {},
   "outputs": [
    {
     "name": "stdout",
     "output_type": "stream",
     "text": [
      "1 2\n",
      "3\n"
     ]
    },
    {
     "data": {
      "text/plain": [
       "6"
      ]
     },
     "execution_count": 13,
     "metadata": {},
     "output_type": "execute_result"
    }
   ],
   "source": [
    "def other_way_magic(x, y, z):\n",
    "    print(x, y)\n",
    "    print(z)\n",
    "    return x + y + z\n",
    "\n",
    "\n",
    "x_y_list = [1, 2]\n",
    "z_dict = {\"z\": 3}\n",
    "other_way_magic(*x_y_list, **z_dict)"
   ]
  },
  {
   "attachments": {},
   "cell_type": "markdown",
   "metadata": {},
   "source": [
    "- You use * for tuples and lists and ** for dictionaries\n",
    "- You can use unpacking operators in functions and classes constructors\n",
    "- args are used to pass non-key-worded parameters to functions\n",
    "- kwargs are used to pass keyworded parameters to functions.\n",
    "- As a general rule, your code will be more correct and more readable if you\n",
    "are explicit about what sorts of arguments your functions require;\n",
    "thus use args and kwargs only when there is no other option.\n"
   ]
  },
  {
   "attachments": {},
   "cell_type": "markdown",
   "metadata": {},
   "source": [
    "## Packing in Functions: args and kwargs\n",
    "Sometimes we will need to call a function with many parameters or call a series of\n",
    "functions with similar arguments (e.g., when plotting many objects using the same\n",
    "plotting style like colour, shape, font). In such scenarios, it may be convenient to preprepare the data to be passed as their inputs beforehand.\n",
    "\n",
    "Arguments to be matched positionally can be wrapped inside any iterable object and\n",
    "then unpacked using the asterisk operator"
   ]
  },
  {
   "cell_type": "code",
   "execution_count": null,
   "metadata": {},
   "outputs": [
    {
     "data": {
      "text/plain": [
       "5"
      ]
     },
     "metadata": {},
     "output_type": "display_data"
    }
   ],
   "source": [
    "def myadd(a, b):\n",
    "    return a + b\n",
    "\n",
    "numbers=[1,2]\n",
    "nums = (1,4)\n",
    "myadd(*nums)"
   ]
  },
  {
   "cell_type": "code",
   "execution_count": 4,
   "metadata": {},
   "outputs": [
    {
     "data": {
      "text/plain": [
       "39"
      ]
     },
     "execution_count": 4,
     "metadata": {},
     "output_type": "execute_result"
    }
   ],
   "source": [
    "# if we wanted to pass a longer list,  packing the list directly on the function, \n",
    "#  creates an iterable inside of it and allows us to pass any number of arguments to the function.\n",
    "numbers = [12, 1, 3, 4]\n",
    "\n",
    "# we’re treating the args parameter as an iterable\n",
    "def myadder(*args):\n",
    "    result = 1\n",
    "    for i in args:\n",
    "        result += i\n",
    "    return result\n",
    "\n",
    "myadder(*numbers) # numbers are unpacked and *args forms a tuple from them\n",
    "myadder(8,9,5,3,6,7)"
   ]
  },
  {
   "cell_type": "code",
   "execution_count": null,
   "metadata": {},
   "outputs": [
    {
     "name": "stdout",
     "output_type": "stream",
     "text": [
      "a = 1, b = 2, c = 3, d = 4\n",
      "a = 5, b = 8, c = 6, d = 7\n",
      "a = 1, b = 2, c = 3, d = 4\n",
      "a = 1, b = 2, c = 3, d = 4\n"
     ]
    }
   ],
   "source": [
    "def test(a, b, c, d):\n",
    "    print(\"a = \", a, \", b = \", b, \", c = \", c, \", d = \", d, sep=\"\")\n",
    "\n",
    "args = [1, 2, 3, 4] # merely an example\n",
    "test(*args) # just like test(1, 2, 3, 4)\n",
    "\n",
    "# Keyword arguments can be wrapped inside a dictionary and unpacked with a double asterisk:\n",
    "kwargs = dict(a=5, c=6, d=7, b=8)\n",
    "test(**kwargs)\n",
    "\n",
    "# these unpackings can be intertwined\n",
    "test(1, *range(2, 4), 4)\n",
    "test(*range(1, 3), **dict(d=4, c=3))"
   ]
  },
  {
   "attachments": {},
   "cell_type": "markdown",
   "metadata": {},
   "source": [
    "We see that *args gathers all the positionally matched arguments (except a and b ,\n",
    "which were set explicitly) into a tuple. On the other hand, **kwargs is a dictionary that\n",
    "stores all keyword arguments not featured in the function’s parameter list."
   ]
  },
  {
   "cell_type": "code",
   "execution_count": 4,
   "metadata": {},
   "outputs": [
    {
     "name": "stdout",
     "output_type": "stream",
     "text": [
      "a = 1, b = 2, args = (3, 4, 5), kwargs = {'spam': 6, 'eggs': 7}\n"
     ]
    }
   ],
   "source": [
    "def test2(a, b, *args, **kwargs):\n",
    "    print( \"a = \", a, \", b = \", b, \", args = \", args, \", kwargs = \", kwargs, sep=\"\" )\n",
    "\n",
    "test2(1, 2, 3, 4, 5, spam=6, eggs=7)"
   ]
  },
  {
   "attachments": {},
   "cell_type": "markdown",
   "id": "2f509494",
   "metadata": {},
   "source": [
    "## higher order function \n",
    "- contains other functions as a parameter or returns a function as an output"
   ]
  },
  {
   "cell_type": "code",
   "execution_count": null,
   "id": "e3e44e93",
   "metadata": {},
   "outputs": [
    {
     "name": "stdout",
     "output_type": "stream",
     "text": [
      "HELLO\n"
     ]
    }
   ],
   "source": [
    "def shout(text):\n",
    "    return text.upper()\n",
    "\n",
    "print(shout('Hello'))\n"
   ]
  },
  {
   "attachments": {},
   "cell_type": "markdown",
   "id": "09a18b82",
   "metadata": {},
   "source": [
    "## Passing a Function as an argument to another function"
   ]
  },
  {
   "cell_type": "code",
   "execution_count": null,
   "id": "e3cd5557",
   "metadata": {},
   "outputs": [
    {
     "name": "stdout",
     "output_type": "stream",
     "text": [
      "HI, I AM CREATED BY A FUNCTION PASSED AS AN ARGUMENT.\n",
      "hi, i am created by a function passed as an argument.\n"
     ]
    }
   ],
   "source": [
    "def shout(text):\n",
    "    return text.upper()\n",
    "\n",
    "def whisper(text):\n",
    "    return text.lower()\n",
    "\n",
    "def greet(func):\n",
    "    # storing the function in a variable\n",
    "    greeting = func(\"Hi, I am created by a function passed as an argument.\")\n",
    "    print(greeting)\n",
    "\n",
    "greet(shout)  # function greet which takes a function as an argument\n",
    "greet(whisper)"
   ]
  },
  {
   "attachments": {},
   "cell_type": "markdown",
   "id": "1cbad3e8",
   "metadata": {},
   "source": [
    "# recursion"
   ]
  },
  {
   "cell_type": "code",
   "execution_count": null,
   "id": "7e45b6df",
   "metadata": {},
   "outputs": [
    {
     "name": "stdout",
     "output_type": "stream",
     "text": [
      "\n",
      "Recursion Example Results\n",
      "k: 1, k-1: 0, result: 1\n",
      "k: 2, k-1: 1, result: 3\n",
      "3\n"
     ]
    }
   ],
   "source": [
    "# recursion - means a defined function can call itself\n",
    "def tri_recursion(k):\n",
    "  if(k > 0):\n",
    "    result = k + tri_recursion(k - 1)\n",
    "    print(f\"k: {k}, k-1: {k-1}, result: {result}\")\n",
    "  else:\n",
    "    result = 0\n",
    "  return result\n",
    "print(\"\\nRecursion Example Results\")\n",
    "x = tri_recursion(2)\n",
    "print(x)"
   ]
  },
  {
   "attachments": {},
   "cell_type": "markdown",
   "id": "a9c10c58",
   "metadata": {},
   "source": [
    "# Assigning function to a variable"
   ]
  },
  {
   "cell_type": "code",
   "execution_count": 2,
   "id": "43fe1fe1",
   "metadata": {},
   "outputs": [
    {
     "name": "stdout",
     "output_type": "stream",
     "text": [
      "HELLO\n"
     ]
    }
   ],
   "source": [
    "def shout(text):\n",
    "    return text.upper()\n",
    "\n",
    "yell = shout\n",
    "\n",
    "print(yell('Hello'))"
   ]
  },
  {
   "attachments": {},
   "cell_type": "markdown",
   "id": "746e2cdc",
   "metadata": {},
   "source": [
    "# lambda function\n",
    "- lambda function is a small anonymous fct.\n",
    "- are single-expression fct that are not bound to a name (they can be anonymous)\n",
    "- they can't use regular Python statements and always include an implicit `return` statement\n",
    "- can be passed as arguments to other fct.\n",
    "- can take any number of arguments, but has only one expression\n",
    "- lambda(parameters) : (expression)"
   ]
  },
  {
   "cell_type": "code",
   "execution_count": 2,
   "id": "74b2cf48",
   "metadata": {},
   "outputs": [
    {
     "data": {
      "text/plain": [
       "8"
      ]
     },
     "execution_count": 2,
     "metadata": {},
     "output_type": "execute_result"
    }
   ],
   "source": [
    "# named lambda fct\n",
    "multi = lambda a, b : a ** b          # two args followed by clause\n",
    "multi(2, 3)                           # returns a**b"
   ]
  },
  {
   "cell_type": "code",
   "execution_count": 1,
   "metadata": {},
   "outputs": [
    {
     "data": {
      "text/plain": [
       "8"
      ]
     },
     "execution_count": 1,
     "metadata": {},
     "output_type": "execute_result"
    }
   ],
   "source": [
    "# anonymous fct\n",
    "(lambda x, y: x + y)(5, 3) # (lambda arg1, arg2: fct_expression)()"
   ]
  },
  {
   "cell_type": "code",
   "execution_count": null,
   "id": "c8a96647",
   "metadata": {},
   "outputs": [
    {
     "data": {
      "text/plain": [
       "[32.0, 53.6, 93.2, 212.0]"
      ]
     },
     "metadata": {},
     "output_type": "display_data"
    }
   ],
   "source": [
    "ctemp =[0, 12, 34, 100]\n",
    "#  temp conversion is a very mall fct\n",
    "# we can easliy put it in a lambda\n",
    "list(map(lambda t: (t*9/5)+32, ctemp))"
   ]
  },
  {
   "cell_type": "code",
   "execution_count": null,
   "id": "24ae6321",
   "metadata": {},
   "outputs": [
    {
     "name": "stdout",
     "output_type": "stream",
     "text": [
      "121\n",
      "16\n"
     ]
    }
   ],
   "source": [
    "# power of lambda is better shown when you use them \n",
    "# as an anonymous function inside another function\n",
    "def times(n):\n",
    "  return lambda a : a ** n\n",
    "\n",
    "squared = times(2)\n",
    "print(squared(11))\n",
    "\n",
    "power_4 = times(4)\n",
    "print(power_4(2))"
   ]
  },
  {
   "cell_type": "code",
   "execution_count": null,
   "id": "cfbd7ccb",
   "metadata": {},
   "outputs": [
    {
     "name": "stdout",
     "output_type": "stream",
     "text": [
      "2\n"
     ]
    }
   ],
   "source": [
    "# Example of lambda function using if-else\n",
    "max = lambda a, b : a if(a > b) else b\n",
    "print(max(1, 2))"
   ]
  },
  {
   "cell_type": "code",
   "execution_count": null,
   "id": "add8f433",
   "metadata": {},
   "outputs": [
    {
     "name": "stdout",
     "output_type": "stream",
     "text": [
      "[3, 16, 9]\n"
     ]
    }
   ],
   "source": [
    "# lambda - inner and outer function\n",
    "List = [[2,3,4],[1, 4, 16, 64],[3, 6, 9, 12]]\n",
    "sortList = lambda x: (sorted(i) for i in x)                     # Sort each sublist - inner fct.\n",
    "secondLargest = lambda l, sL : [i[-2] for i in sL(l)]     # Get the second largest element - outer fct.\n",
    "res = secondLargest(List, sortList)\n",
    "print(res)"
   ]
  },
  {
   "attachments": {},
   "cell_type": "markdown",
   "id": "379bf67a",
   "metadata": {},
   "source": [
    "# map, reduce, filter"
   ]
  },
  {
   "attachments": {},
   "cell_type": "markdown",
   "id": "d651625e",
   "metadata": {},
   "source": [
    "## map()\n",
    "- The map() function executes a specified function for each item in an iterable. \n",
    "- The item is sent to the function as a parameter.\n",
    "- map isn't particularly pythonic. I would recommend using list comprehensions instead\n",
    "- ``map(f, iterable)`` is eqivalent to a list comprehension ``[f(x) for x in iterable]``"
   ]
  },
  {
   "cell_type": "code",
   "execution_count": 15,
   "id": "f5ca9341",
   "metadata": {},
   "outputs": [
    {
     "data": {
      "text/plain": [
       "[25, 49, 484, 9409, 2916, 3844, 5929, 529, 5329, 3721]"
      ]
     },
     "execution_count": 15,
     "metadata": {},
     "output_type": "execute_result"
    }
   ],
   "source": [
    "li = [5, 7, 22, 97, 54, 62, 77, 23, 73, 61]\n",
    "# map creates an map object, you can convert it to a list\n",
    "list(map(lambda x: x**2, li))"
   ]
  },
  {
   "cell_type": "code",
   "execution_count": 18,
   "id": "657378c5",
   "metadata": {},
   "outputs": [],
   "source": [
    "def toGrades(x):\n",
    "    if x > 90: return 'A'\n",
    "    elif 80 <= x & x < 90: return 'B'\n",
    "    elif 70 <= x & x <80: return 'C'\n",
    "    elif 65 <= x & x <70: return 'D'\n",
    "    else: return 'F'"
   ]
  },
  {
   "cell_type": "code",
   "execution_count": 22,
   "id": "6db1a565",
   "metadata": {},
   "outputs": [
    {
     "name": "stdout",
     "output_type": "stream",
     "text": [
      "[50, 60, 67, 76, 81, 86, 99, 102] \n",
      "['F', 'F', 'D', 'C', 'B', 'B', 'A', 'A']\n"
     ]
    }
   ],
   "source": [
    "grades = sorted([102, 99, 86, 67, 50, 81, 76, 60])\n",
    "# maps letters to numbers according to the 'toGrades' function\n",
    "letters = list(map(toGrades, grades))\n",
    "print(f\"{grades} \\n{letters}\")"
   ]
  },
  {
   "attachments": {},
   "cell_type": "markdown",
   "id": "ccd21378",
   "metadata": {},
   "source": [
    "## filter()\n",
    "- filter() takes in a function and a list as arguments.\n",
    "- __filters out all the elements of a sequence, for which the function returns True.__\n",
    "- filter(function, iterable)"
   ]
  },
  {
   "cell_type": "code",
   "execution_count": null,
   "id": "bc83179d",
   "metadata": {},
   "outputs": [
    {
     "data": {
      "text/plain": [
       "[22, 54, 62]"
      ]
     },
     "metadata": {},
     "output_type": "display_data"
    }
   ],
   "source": [
    "li = [5, 7, 22, 97, 54, 62, 77, 23, 73, 61]\n",
    "final_list = list(filter(lambda x: (x%2 == 0) , li))\n",
    "final_list"
   ]
  },
  {
   "cell_type": "code",
   "execution_count": null,
   "id": "d8098141",
   "metadata": {},
   "outputs": [
    {
     "name": "stdout",
     "output_type": "stream",
     "text": [
      "[90, 59, 21, 60]\n"
     ]
    }
   ],
   "source": [
    "ages = [13, 90, 17, 59, 21, 60, 5]\n",
    "adults = list(filter(lambda age: age>18, ages))\n",
    "print(adults)"
   ]
  },
  {
   "attachments": {},
   "cell_type": "markdown",
   "id": "5932c4d6",
   "metadata": {},
   "source": [
    "## reduce()\n",
    "- needs to be imported as it resides in the functools module.\n",
    "- performs a repetitive operation over the pairs of the iterable.\n",
    "-  implements a technique called folding - reduce a list of items to a single cumulative value\n",
    "- takes an existing function, applys it cumulatively to all the items in an iterable"
   ]
  },
  {
   "cell_type": "code",
   "execution_count": null,
   "id": "d4edb61a",
   "metadata": {},
   "outputs": [
    {
     "name": "stdout",
     "output_type": "stream",
     "text": [
      "The maximum element of the list is : 76\n"
     ]
    }
   ],
   "source": [
    "from functools import reduce\n",
    "lis = [10, 32, 51, 76, 2]\n",
    "maximum = reduce(lambda a,b : a if a > b else b,lis)\n",
    "print (f\"The maximum element of the list is : {maximum}\")"
   ]
  },
  {
   "attachments": {},
   "cell_type": "markdown",
   "id": "13ab0b38",
   "metadata": {},
   "source": [
    "# built-in functions"
   ]
  },
  {
   "cell_type": "code",
   "execution_count": null,
   "id": "570581a1",
   "metadata": {},
   "outputs": [],
   "source": [
    "abs()\t            # Returns the absolute value of a number\n",
    "all()\t            # Returns True if all items in an iterable object are true\n",
    "any()\t            # Returns True if any item in an iterable object is true\n",
    "ascii()\t            # Returns a readable version of an object. Replaces none-ascii characters with escape character\n",
    "bin()\t            # Returns the binary version of a number\n",
    "bool()\t            # Returns the boolean value of the specified object\n",
    "bytearray()\t        # Returns an array of bytes\n",
    "bytes()\t            # Returns a bytes object\n",
    "callable()\t        # Returns True if the specified object is callable, otherwise False\n",
    "chr()\t            # Returns a character from the specified Unicode code.\n",
    "ord()\t            # Convert an integer representing the Unicode of the specified character\n",
    "classmethod()\t    # Converts a method into a class method\n",
    "compile()\t        # Returns the specified source as an object, ready to be executed\n",
    "complex()\t        # Returns a complex number\n",
    "delattr()\t        # Deletes the specified attribute (property or method) from the specified object\n",
    "{}\t                # Returns a dictionary (Array)\n",
    "dir()\t            # Returns a list of the specified object's properties and methods\n",
    "divmod()\t        # Returns the quotient and the remainder when argument1 is divided by argument2\n",
    "enumerate()\t        # Takes a collection (e.g. a tuple) and returns it as an enumerate object\n",
    "eval()\t            # Evaluates and executes an expression\n",
    "exec()\t            # Executes the specified code (or object)\n",
    "filter()\t        # Use a filter function to exclude items in an iterable object\n",
    "float()\t            # Returns a floating point number\n",
    "format()\t        # Formats a specified value     \n",
    "frozenset()\t        # Returns a frozenset object\n",
    "\n",
    "getattr()\t        # Returns the value of the specified attribute (property or method)\n",
    "setattr()\t        # Sets an attribute (property/method) of an object\n",
    "hasattr()\t        # Returns True if the specified object has the specified attribute (property/method)\n",
    "isinstance()\t    # Returns True if a specified object is an instance of a specified object\n",
    "issubclass()\t    # Returns True if a specified class is a subclass of a specified object\n",
    "\n",
    "globals()\t        # Returns the current global symbol table as a dictionary\n",
    "hash()\t            # Returns the hash value of a specified object\n",
    "help()\t            # Executes the built-in help system\n",
    "hex()\t            # Converts a number into a hexadecimal value\n",
    "id()\t            # Returns the id of an object\n",
    "input()\t            # Allowing user input\n",
    "int()\t            # Returns an integer number\n",
    "iter()\t            # Returns an iterator object\n",
    "len()\t            # Returns the length of an object\n",
    "[]\t                # Returns a list\n",
    "locals()\t        # Returns an updated dictionary of the current local symbol table\n",
    "map()\t            # Returns the specified iterator with the specified function applied to each item\n",
    "max()\t            # Returns the largest item in an iterable\n",
    "memoryview()\t    # Returns a memory view object\n",
    "min()\t            # Returns the smallest item in an iterable\n",
    "next()\t            # Returns the next item in an iterable\n",
    "object()\t        # Returns a new object\n",
    "oct()\t            # Converts a number into an octal\n",
    "open()\t            # Opens a file and returns a file object\n",
    "pow()\t            # Returns the value of x to the power of y\n",
    "print()\t            # Prints to the standard output device\n",
    "property()\t        # Gets, sets, deletes a property\n",
    "range()\t            # Returns a sequence of numbers, starting from 0 and increments by 1 (by default)\n",
    "repr()\t            # Returns a readable version of an object\n",
    "reversed()\t        # Returns a reversed iterator\n",
    "round()\t            # Rounds a numbers\n",
    "set()\t            # Returns a new set object\n",
    "slice()\t            # Returns a slice object\n",
    "sorted()\t        # Returns a sorted list\n",
    "staticmethod()\t    # Converts a method into a static method\n",
    "str()\t            # Returns a string object\n",
    "sum()\t            # Sums the items of an iterator\n",
    "super()\t            # Returns an object that represents the parent class\n",
    "tuple()\t            # Returns a tuple\n",
    "type()\t            # Returns the type of an object\n",
    "vars()\t            # Returns the __dict__ property of an object\n",
    "zip()\t            # Returns an iterator, from two or more iterators"
   ]
  },
  {
   "attachments": {},
   "cell_type": "markdown",
   "metadata": {},
   "source": [
    "## any  all"
   ]
  },
  {
   "cell_type": "code",
   "execution_count": null,
   "id": "9b87cfad",
   "metadata": {},
   "outputs": [
    {
     "name": "stdout",
     "output_type": "stream",
     "text": [
      "True\n",
      "False\n"
     ]
    }
   ],
   "source": [
    "list1=[1, 2, 3, 0, 5, 6]\n",
    "# 'any' goes through the list and returns True if any of the values evaluates to True\n",
    "print(any(list1))\n",
    "print(all(list1)) # are all True?\n"
   ]
  },
  {
   "attachments": {},
   "cell_type": "markdown",
   "metadata": {},
   "source": [
    "## enumerate\n",
    "adds a counter to an iterable and returns it in a form of enumerate object"
   ]
  },
  {
   "cell_type": "code",
   "execution_count": 3,
   "metadata": {},
   "outputs": [
    {
     "name": "stdout",
     "output_type": "stream",
     "text": [
      "0 apple\n",
      "1 banana\n",
      "2 mango\n"
     ]
    }
   ],
   "source": [
    "fruits = ['apple', 'banana', 'mango']\n",
    "for index, fruit in enumerate(fruits):\n",
    "    print(index, fruit)"
   ]
  },
  {
   "attachments": {},
   "cell_type": "markdown",
   "metadata": {},
   "source": [
    "## zip\n",
    "aggregates elements from each of the iterables and returns an iterator of tuples\n"
   ]
  },
  {
   "cell_type": "code",
   "execution_count": 5,
   "metadata": {},
   "outputs": [
    {
     "name": "stdout",
     "output_type": "stream",
     "text": [
      "1 a\n",
      "2 b\n",
      "3 c\n"
     ]
    }
   ],
   "source": [
    "list1 = [1, 2, 3]\n",
    "list2 = ['a', 'b', 'c']\n",
    "for x, y in zip(list1, list2):\n",
    "    print(x, y)"
   ]
  }
 ],
 "metadata": {
  "kernelspec": {
   "display_name": "Python 3.8.12 64-bit ('lewagon')",
   "language": "python",
   "name": "python3"
  },
  "language_info": {
   "codemirror_mode": {
    "name": "ipython",
    "version": 3
   },
   "file_extension": ".py",
   "mimetype": "text/x-python",
   "name": "python",
   "nbconvert_exporter": "python",
   "pygments_lexer": "ipython3",
   "version": "3.8.12"
  },
  "orig_nbformat": 4,
  "vscode": {
   "interpreter": {
    "hash": "ad7afd56c4a9327988b254949fc9ff6c4de57fd051da33a62b5f87e3ddafe8d2"
   }
  }
 },
 "nbformat": 4,
 "nbformat_minor": 2
}
