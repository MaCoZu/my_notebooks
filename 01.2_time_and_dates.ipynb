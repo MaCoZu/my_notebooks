{
 "cells": [
  {
   "attachments": {},
   "cell_type": "markdown",
   "metadata": {},
   "source": [
    "# Working with time\n",
    "- UTC – Coordinated Universal Time is the common time standard across the world. <br>\n",
    "So, in Python, to work with the timezone without any issues, it is recommended to use the UTC as your base timezone\n",
    "- For example, CT(Central Time) in North and South America is either 5 or 6 hours behind and represented as <br>\n",
    "UTC-5 or UTC-6 based on the Day Light Saving. \n",
    "\n",
    "\n",
    "\n",
    "https://vegibit.com/python-datetime-module-how-to-work-with-dates-times-timedeltas-and-timezones/"
   ]
  },
  {
   "cell_type": "code",
   "execution_count": null,
   "metadata": {},
   "outputs": [],
   "source": [
    "import datetime\n",
    "\n",
    "# several classes and moduls are avilable\n",
    "datetime.datetime\n",
    "datetime.date\n",
    "datetime.time\n",
    "datetime.timedelta\n",
    "datetime.timezone"
   ]
  },
  {
   "cell_type": "markdown",
   "metadata": {},
   "source": [
    "## Create and Format Dates and Times"
   ]
  },
  {
   "cell_type": "code",
   "execution_count": 4,
   "metadata": {},
   "outputs": [
    {
     "name": "stdout",
     "output_type": "stream",
     "text": [
      "2023-04-22\n",
      "2023-03-20\n",
      "12:30:45\n",
      "2023-04-22 11:02:51.460204\n",
      "2023-03-20 13:45:30\n"
     ]
    }
   ],
   "source": [
    "import datetime\n",
    "\n",
    "# get today's date\n",
    "today = datetime.date.today()\n",
    "print(today)\n",
    "\n",
    "# create a date\n",
    "date_obj = datetime.date(2023, 3, 20)\n",
    "print(date_obj)\n",
    "\n",
    "# Create a time object, HH:MM:SS\n",
    "current_time = datetime.time(12, 30, 45)\n",
    "print(current_time)\n",
    "\n",
    "# get present datetime (date and time) object\n",
    "now = datetime.datetime.now()\n",
    "print(now)\n",
    "\n",
    "# create a datetime object YYYY:MM:DD HH:MM:SS\n",
    "datetime_obj = datetime.datetime(2023, 3, 20, 13, 45, 30)\n",
    "print(datetime_obj)  "
   ]
  },
  {
   "cell_type": "code",
   "execution_count": 2,
   "metadata": {},
   "outputs": [
    {
     "name": "stdout",
     "output_type": "stream",
     "text": [
      "Year: 2023, Month: 4, Day: 22\n",
      "Hour: 10, Minute: 57, Second: 22\n"
     ]
    }
   ],
   "source": [
    "import datetime\n",
    "\n",
    "now = datetime.datetime.now()\n",
    "\n",
    "# Access individual components\n",
    "year = now.year\n",
    "month = now.month\n",
    "day = now.day\n",
    "hour = now.hour\n",
    "minute = now.minute\n",
    "second = now.second\n",
    "\n",
    "print(f\"Year: {year}, Month: {month}, Day: {day}\")\n",
    "print(f\"Hour: {hour}, Minute: {minute}, Second: {second}\")"
   ]
  },
  {
   "attachments": {},
   "cell_type": "markdown",
   "metadata": {},
   "source": [
    "\n",
    "## Formatting Dates and Times:\n",
    "\n",
    "You can display dates and times in different formats using the ``strftime()`` method. It takes a format string with special format codes representing various components of the date and time. Here are some common format codes:\n",
    "\n",
    "    %Y: Year with century (e.g., 2023)\n",
    "    %m: Month as a zero-padded decimal number (e.g., 03)\n",
    "    %d: Day of the month as a zero-padded decimal number (e.g., 20)\n",
    "    %H: Hour (24-hour clock) as a zero-padded decimal number (e.g., 13)\n",
    "    %M: Minute as a zero-padded decimal number (e.g., 45)\n",
    "    %S: Second as a zero-padded decimal number (e.g., 30)\n"
   ]
  },
  {
   "cell_type": "code",
   "execution_count": 7,
   "metadata": {},
   "outputs": [
    {
     "name": "stdout",
     "output_type": "stream",
     "text": [
      "2023-04-22 11:05:58.237455\n",
      "2023-04-22 11:05:58\n",
      "2023-04-22\n"
     ]
    }
   ],
   "source": [
    "import datetime\n",
    "\n",
    "# unformatted\n",
    "now = datetime.datetime.now()\n",
    "print(now)\n",
    "\n",
    "# format to datetime\n",
    "formatted_datetime = now.strftime(\"%Y-%m-%d %H:%M:%S\")\n",
    "print(formatted_datetime)  \n",
    "\n",
    "# only show date\n",
    "today = datetime.date.today()\n",
    "formatted_date = today.strftime(\"%Y-%m-%d\")\n",
    "print(formatted_date)  "
   ]
  },
  {
   "attachments": {},
   "cell_type": "markdown",
   "metadata": {},
   "source": [
    "## Perform Arithmetic with Datetime Objects\n",
    "You can add, subtract, and perform other operations with dates, times, and timedeltas using the Python datetime module.\n",
    "\n",
    "A **timedelta** object represents the difference between two dates or times. You can create a timedelta object using the <br>\n",
    "timedelta class constructor, which takes arguments such as days, hours, minutes, seconds, and microseconds."
   ]
  },
  {
   "cell_type": "code",
   "execution_count": 16,
   "metadata": {},
   "outputs": [
    {
     "name": "stdout",
     "output_type": "stream",
     "text": [
      "2023-04-29\n",
      "2023-04-15 11:35:26.137659\n",
      "2:30:15\n"
     ]
    }
   ],
   "source": [
    "import datetime\n",
    "\n",
    "today = datetime.date.today()\n",
    "delta = datetime.timedelta(days=7)\n",
    "\n",
    "# Add timedelta to date\n",
    "future_date = today + delta\n",
    "print(future_date)\n",
    "\n",
    "# Subtract timedelta to datetime\n",
    "now = datetime.datetime.now()\n",
    "future_datetime = now - delta\n",
    "print(future_datetime)"
   ]
  },
  {
   "cell_type": "code",
   "execution_count": 26,
   "metadata": {},
   "outputs": [
    {
     "name": "stdout",
     "output_type": "stream",
     "text": [
      "2023-04-22 12:10:51.820782     +    2:30:15     =     2023-04-22 14:41:06.820782\n",
      "5:00:30\n",
      "1:15:07.500000\n"
     ]
    }
   ],
   "source": [
    "# Create a timedelta object representing 2 hours, 30 minutes, and 15 seconds\n",
    "delta2 = datetime.timedelta(hours=2, minutes=30, seconds=15)\n",
    "now = datetime.datetime.now()\n",
    "\n",
    "# add/subtract timedelta to datetime\n",
    "print(f\"{now}     +    {delta2}     =     {now + delta2}\")\n",
    "\n",
    "# arithmetic operations\n",
    "print(delta2*2)\n",
    "print(delta2/2)"
   ]
  },
  {
   "cell_type": "code",
   "execution_count": 15,
   "metadata": {},
   "outputs": [
    {
     "name": "stdout",
     "output_type": "stream",
     "text": [
      "7 days, 0:00:00\n",
      "7 days, 2:15:00\n",
      "True\n",
      "False\n",
      "False\n",
      "True\n",
      "False\n",
      "True\n",
      "True\n"
     ]
    }
   ],
   "source": [
    "import datetime\n",
    "\n",
    "date1 = datetime.date(2023, 3, 20)\n",
    "date2 = datetime.date(2023, 3, 27)\n",
    "\n",
    "# difference between dates\n",
    "print(date2 - date1)\n",
    "\n",
    "datetime1 = datetime.datetime(2023, 3, 20, 12, 30)\n",
    "datetime2 = datetime.datetime(2023, 3, 27, 14, 45)\n",
    "\n",
    "# difference datetimes\n",
    "print(datetime2 - datetime1)\n",
    "\n",
    "# Compare dates\n",
    "print(date1 < date2)  # Output: True\n",
    "print(date1 == date2)  # Output: False\n",
    "\n",
    "# Compare datetimes\n",
    "print(datetime1 > datetime2)  # Output: False\n",
    "print(datetime1 != datetime2)  # Output: True\n",
    "\n",
    "time1 = datetime.time(12, 30, 0)\n",
    "time2 = datetime.time(14, 45, 0)\n",
    "\n",
    "# Compare times\n",
    "print(time1 > time2)  # Output: False\n",
    "print(time1 != time2)  # Output: True\n",
    "print(time1 <= time2)  # Output: True"
   ]
  },
  {
   "attachments": {},
   "cell_type": "markdown",
   "metadata": {},
   "source": [
    "## Timezones\n",
    "\n",
    "https://pynative.com/python-timezone/\n",
    "\n",
    "- Python provides the datetime.tzinfo abstract base class which provides methods to handle timezone. \n",
    "We need to define a subclass of tzinfo to capture information about a particular time zone.\n",
    "\n",
    "- The pytz library has implemented a timezone class for handling arbitrary fixed offsets from UTC and timezones. \n",
    "- pytz allows cross-platform timezone calculations and solves the issue of ambiguous times at the end of daylight saving time.\n",
    "- pytz is a concrete implementation of the abstract base class tzinfo and is used to create timezone-aware datetime objects.\n",
    "\n",
    "- E.g. datetime.now() fct returns the current local date-time without any timezone info. <br>\n",
    "Using the pytz, we can pass the timezone name to this function to get the current datetime in the given timezone.\n",
    "\n",
    "    - pytz.utc: Get the standard UTC timezone\n",
    "    - pytz.timezone('region'): Create the timezone object of a particular region\n",
    "    - pytz.astimezone(): Convert the time of a particular time zone into another time zone"
   ]
  },
  {
   "cell_type": "code",
   "execution_count": null,
   "metadata": {},
   "outputs": [],
   "source": [
    "import datetime\n",
    "import pytz\n",
    "\n",
    "\n",
    "# Create a timezone object for UTC\n",
    "utc_ = datetime.timezone(datetime.timedelta(0)) # manually \n",
    "utc = pytz.timezone('UTC') # using pytz\n",
    "\n",
    "# Create a timezone object for PST (UTC-8 hours)\n",
    "pst_ = datetime.timezone(datetime.timedelta(hours=-8))\n",
    "pst = pytz.timezone('US/Pacific') # with pytz\n"
   ]
  },
  {
   "cell_type": "code",
   "execution_count": null,
   "metadata": {},
   "outputs": [],
   "source": [
    "import pytz\n",
    "\n",
    "print('Most commonly used timezones')\n",
    "for timeZone in pytz.common_timezones[::30]: # attention this is just shows every 30th entry\n",
    "    print(timeZone)"
   ]
  },
  {
   "cell_type": "code",
   "execution_count": null,
   "metadata": {},
   "outputs": [],
   "source": [
    "# To create a timezone-aware datetime object, you can pass a timezone object to\n",
    "# the datetime constructor as the tzinfo parameter.\n",
    "import datetime\n",
    "import pytz\n",
    "\n",
    "utc = pytz.timezone('UTC')\n",
    "aware_datetime = datetime.datetime(2023, 3, 20, 12, 30, tzinfo=utc)\n",
    "print(aware_datetime)"
   ]
  },
  {
   "cell_type": "markdown",
   "metadata": {},
   "source": [
    "## Converting Between Timezones"
   ]
  },
  {
   "cell_type": "code",
   "execution_count": 6,
   "metadata": {},
   "outputs": [
    {
     "name": "stdout",
     "output_type": "stream",
     "text": [
      "2023-03-20 12:30:00+00:00\n",
      "2023-03-20 04:30:00-07:00\n",
      "2023-03-20 08:30:00-04:00\n"
     ]
    }
   ],
   "source": [
    "# making naive (timezone-unaware) datetime object time-zone aware\n",
    "import datetime\n",
    "import pytz\n",
    "\n",
    "naive_datetime = datetime.datetime(2023, 3, 20, 12, 30)\n",
    "\n",
    "# Using replace() method\n",
    "# replace() method only sets the timezone without adjusting the time\n",
    "utc = pytz.timezone('UTC')\n",
    "utc_datetime = naive_datetime.replace(tzinfo=utc)\n",
    "print(utc_datetime)\n",
    "\n",
    "# Using astimezone() method\n",
    "# astimezone() method sets the timezone and adjusts the time accordingly\n",
    "pst = pytz.timezone('US/Pacific')\n",
    "est = pytz.timezone('US/Eastern')\n",
    "\n",
    "print(naive_datetime.astimezone(pst)) # from naive to time-zone aware\n",
    "print(utc_datetime.astimezone(est)) # from utc to est\n"
   ]
  },
  {
   "cell_type": "code",
   "execution_count": 5,
   "metadata": {},
   "outputs": [
    {
     "name": "stdout",
     "output_type": "stream",
     "text": [
      "strptime(string, format) -> struct_time\n",
      "\n",
      "Parse a string to a time tuple according to a format specification.\n",
      "See the library reference manual for formatting codes (same as\n",
      "strftime()).\n",
      "\n",
      "Commonly used format codes:\n",
      "\n",
      "%Y  Year with century as a decimal number.\n",
      "%m  Month as a decimal number [01,12].\n",
      "%d  Day of the month as a decimal number [01,31].\n",
      "%H  Hour (24-hour clock) as a decimal number [00,23].\n",
      "%M  Minute as a decimal number [00,59].\n",
      "%S  Second as a decimal number [00,61].\n",
      "%z  Time zone offset from UTC.\n",
      "%a  Locale's abbreviated weekday name.\n",
      "%A  Locale's full weekday name.\n",
      "%b  Locale's abbreviated month name.\n",
      "%B  Locale's full month name.\n",
      "%c  Locale's appropriate date and time representation.\n",
      "%I  Hour (12-hour clock) as a decimal number [01,12].\n",
      "%p  Locale's equivalent of either AM or PM.\n",
      "\n",
      "Other codes may be available on your platform.  See documentation for\n",
      "the C library strftime function.\n",
      "\n"
     ]
    }
   ],
   "source": [
    "import time\n",
    "print(time.strptime.__doc__)"
   ]
  },
  {
   "attachments": {},
   "cell_type": "markdown",
   "metadata": {},
   "source": [
    "## Strings to Datetime - strptime()\n",
    "- The datetime.strptime() creates a datetime object from a string representing <br>\n",
    "a date and time and a corresponding format string."
   ]
  },
  {
   "cell_type": "code",
   "execution_count": 39,
   "metadata": {},
   "outputs": [
    {
     "name": "stdout",
     "output_type": "stream",
     "text": [
      "2023-03-20\n",
      "12:30:45\n",
      "2023-03-20 12:30:45\n"
     ]
    }
   ],
   "source": [
    "import datetime\n",
    "\n",
    "date_string = \"20-03-2023\"\n",
    "date_format = \"%d-%m-%Y\" # expected input format\n",
    "\n",
    "parsed_date = datetime.datetime.strptime(date_string, date_format).date()\n",
    "print(parsed_date)\n",
    "\n",
    "time_string = \"12:30:45\"\n",
    "time_format = \"%H:%M:%S\"\n",
    "\n",
    "parsed_time = datetime.datetime.strptime(time_string, time_format).time()\n",
    "print(parsed_time)\n",
    "\n",
    "\n",
    "datetime_string = \"2023-03-20 12:30:45\"\n",
    "datetime_format = \"%Y-%m-%d %H:%M:%S\"\n",
    "\n",
    "parsed_datetime = datetime.datetime.strptime(datetime_string, datetime_format)\n",
    "print(parsed_datetime)  "
   ]
  },
  {
   "attachments": {},
   "cell_type": "markdown",
   "metadata": {},
   "source": [
    "## Format datetime string - strftime()"
   ]
  },
  {
   "cell_type": "code",
   "execution_count": 83,
   "metadata": {},
   "outputs": [
    {
     "name": "stdout",
     "output_type": "stream",
     "text": [
      "strftime(format[, tuple]) -> string\n",
      "\n",
      "Convert a time tuple to a string according to a format specification.\n",
      "See the library reference manual for formatting codes. When the time tuple\n",
      "is not present, current time as returned by localtime() is used.\n",
      "\n",
      "Commonly used format codes:\n",
      "\n",
      "%Y  Year with century as a decimal number.\n",
      "%m  Month as a decimal number [01,12].\n",
      "%d  Day of the month as a decimal number [01,31].\n",
      "%H  Hour (24-hour clock) as a decimal number [00,23].\n",
      "%M  Minute as a decimal number [00,59].\n",
      "%S  Second as a decimal number [00,61].\n",
      "%z  Time zone offset from UTC.\n",
      "%a  Locale's abbreviated weekday name.\n",
      "%A  Locale's full weekday name.\n",
      "%b  Locale's abbreviated month name.\n",
      "%B  Locale's full month name.\n",
      "%c  Locale's appropriate date and time representation.\n",
      "%I  Hour (12-hour clock) as a decimal number [01,12].\n",
      "%p  Locale's equivalent of either AM or PM.\n",
      "\n",
      "Other codes may be available on your platform.  See documentation for\n",
      "the C library strftime function.\n",
      "\n"
     ]
    }
   ],
   "source": [
    "import time\n",
    "print(time.strftime.__doc__)"
   ]
  },
  {
   "cell_type": "code",
   "execution_count": 1,
   "metadata": {},
   "outputs": [
    {
     "name": "stdout",
     "output_type": "stream",
     "text": [
      "Monday March 2023\n",
      "12:30:45 PM| 2023-Mar-Monday\n",
      "05\n"
     ]
    }
   ],
   "source": [
    "import datetime\n",
    "\n",
    "date_obj = datetime.date(2023, 3, 20)\n",
    "\n",
    "formatted_date = date_obj.strftime(\"%A %B %Y\")\n",
    "print(formatted_date)\n",
    "\n",
    "datetime_obj = datetime.datetime(2023, 3, 20, 12, 30, 45)\n",
    "\n",
    "formatted_datetime = datetime_obj.strftime(\"%H:%M:%S %p| %Y-%b-%A\")\n",
    "print(formatted_datetime)\n",
    "\n",
    "time_obj = datetime.time(17, 30, 45)\n",
    "\n",
    "formatted_time = time_obj.strftime(\"%I\")\n",
    "print(formatted_time)"
   ]
  },
  {
   "attachments": {},
   "cell_type": "markdown",
   "metadata": {},
   "source": [
    "## Epoch/Linux time\n",
    "- The epoch is the point where the time starts, and is platform dependent. \n",
    "- For Unix, the epoch is January 1, 1970, 00:00:00 (UTC). \n",
    "- To find out what the epoch is on a given platform, look at time.gmtime(0).\n",
    "\n",
    "https://docs.python.org/3.10/library/time.html#module-time"
   ]
  },
  {
   "cell_type": "code",
   "execution_count": 65,
   "metadata": {},
   "outputs": [
    {
     "data": {
      "text/plain": [
       "time.struct_time(tm_year=1970, tm_mon=1, tm_mday=1, tm_hour=0, tm_min=0, tm_sec=0, tm_wday=3, tm_yday=1, tm_isdst=0)"
      ]
     },
     "execution_count": 65,
     "metadata": {},
     "output_type": "execute_result"
    }
   ],
   "source": [
    "from time import gmtime\n",
    "gmtime(0)"
   ]
  },
  {
   "cell_type": "code",
   "execution_count": 81,
   "metadata": {},
   "outputs": [
    {
     "name": "stdout",
     "output_type": "stream",
     "text": [
      "2012-04-01 23:11:59\n",
      "1333314719.0\n",
      "23h 11m 59s | 2012-April-01\n"
     ]
    }
   ],
   "source": [
    "from datetime import datetime\n",
    "\n",
    "# from epoch to datetime\n",
    "epochtime = 1333314719.0\n",
    "dt = datetime.fromtimestamp(epochtime)\n",
    "print(dt)\n",
    "\n",
    "# from datetime to epoch\n",
    "epo = datetime(2012, 4, 1, 23, 11, 59).timestamp()\n",
    "print(epo)\n",
    "\n",
    "# epoch time as string\n",
    "ts = datetime.fromtimestamp(1333314719.0)\n",
    "print(ts.strftime('%Hh %Mm %Ss | %Y-%B-%d'))"
   ]
  }
 ],
 "metadata": {
  "kernelspec": {
   "display_name": "bayes",
   "language": "python",
   "name": "python3"
  },
  "language_info": {
   "codemirror_mode": {
    "name": "ipython",
    "version": 3
   },
   "file_extension": ".py",
   "mimetype": "text/x-python",
   "name": "python",
   "nbconvert_exporter": "python",
   "pygments_lexer": "ipython3",
   "version": "3.10.5"
  },
  "orig_nbformat": 4
 },
 "nbformat": 4,
 "nbformat_minor": 2
}
