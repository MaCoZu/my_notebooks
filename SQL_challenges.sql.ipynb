{
 "cells": [
  {
   "cell_type": "code",
   "execution_count": null,
   "metadata": {
    "vscode": {
     "languageId": "sql"
    }
   },
   "outputs": [],
   "source": [
    "-- find shortest city name\n",
    "SET @MinCityLen = (SELECT MIN(CHAR_LENGTH(city)) FROM STATION);\n",
    "-- find longest city name\n",
    "SET @MaxCityLen = (SELECT MAX(CHAR_LENGTH(city)) FROM STATION);\n",
    "\n",
    "SELECT\n",
    "    city,\n",
    "    CHAR_LENGTH(city)\n",
    "FROM \n",
    "    STATION\n",
    "WHERE \n",
    "    -- find shortest city name sorted alphabetically\n",
    "    city = (\n",
    "        SELECT\n",
    "            city\n",
    "        FROM STATION\n",
    "        WHERE CHAR_LENGTH(city) = @MinCityLen\n",
    "        ORDER BY city ASC\n",
    "        LIMIT 1\n",
    "    )\n",
    "    -- find longest city name sorted alphabetically\n",
    "    OR city = (\n",
    "        SELECT\n",
    "            MIN(city)\n",
    "        FROM STATION\n",
    "        WHERE CHAR_LENGTH(city) = @MaxCityLen\n",
    "        ORDER BY city ASC\n",
    "        LIMIT 1\n",
    "    );"
   ]
  }
 ],
 "metadata": {
  "language_info": {
   "name": "python"
  },
  "orig_nbformat": 4
 },
 "nbformat": 4,
 "nbformat_minor": 2
}
