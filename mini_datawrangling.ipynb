{
 "cells": [
  {
   "attachments": {},
   "cell_type": "markdown",
   "metadata": {},
   "source": [
    "# Minimal DataWrangling with Python"
   ]
  },
  {
   "cell_type": "code",
   "execution_count": 4,
   "metadata": {},
   "outputs": [],
   "source": [
    "import numpy as np\n",
    "import scipy.stats\n",
    "import pandas as pd\n",
    "import matplotlib.pyplot as plt\n",
    "import seaborn as sns;"
   ]
  },
  {
   "cell_type": "code",
   "execution_count": null,
   "metadata": {},
   "outputs": [],
   "source": [
    "# Further Setting  - optional\n",
    "\n",
    "pd.set_option(\"display.notebook_repr_html\", False) # disable \"rich\" output\n",
    "\n",
    "import os\n",
    "\n",
    "os.environ[\"COLUMNS\"] = \"74\"  # output width, in characters\n",
    "np.set_printoptions(linewidth=74)\n",
    "pd.set_option(\"display.width\", 74)\n",
    "\n",
    "plt.style.use(\"seaborn-v0_8\")  # overall plot style\n",
    "_colours = [  # the \"R4\" palette\n",
    "    \"#000000f0\", \"#DF536Bf0\", \"#61D04Ff0\", \"#2297E6f0\", \"#28E2E5f0\",\n",
    "    \"#CD0BBCf0\", \"#F5C710f0\", \"#999999f0\"]\n",
    "\n",
    "_linestyles = [\"solid\", \"dashed\", \"dashdot\", \"dotted\"]\n",
    "plt.rcParams[\"axes.prop_cycle\"] = plt.cycler(\n",
    "    # each plotted line will have a different plotting style\n",
    "    color=_colours,\n",
    "    linestyle=_linestyles * 2)\n",
    "\n",
    "plt.rcParams[\"patch.facecolor\"] = _colours[0]\n",
    "\n",
    "np.random.seed(123)  # initialise the pseudorandom number generator\n"
   ]
  },
  {
   "cell_type": "code",
   "execution_count": 24,
   "metadata": {},
   "outputs": [
    {
     "name": "stdout",
     "output_type": "stream",
     "text": [
      "ipynb files in your directory have a combined size of:   20.8901 Megabytes.\n"
     ]
    }
   ],
   "source": [
    "import glob\n",
    "from os.path import getsize\n",
    "path = glob.glob(\"/home/mz/code/MaCoZu/Data Science Notebooks/open_notebooks/*ipynb\")\n",
    "size = sum(getsize(file) for file in path)\n",
    "print(f\"ipynb files in your directory have a combined size of:{size/1024**2 :10.4f} Megabytes.\")\n"
   ]
  },
  {
   "cell_type": "code",
   "execution_count": 1,
   "metadata": {},
   "outputs": [
    {
     "data": {
      "text/plain": [
       "array([37400068., 28514000., 25582000., 21650000., 21581000., 20076000.,\n",
       "       19980000., 19618000., 19578000., 19281000., 18819000., 15400000.,\n",
       "       14967000., 14838000., 14751000., 14681000., 13482000., 13463000.,\n",
       "       13293000., 13215000., 13171000., 12638000., 12458000., 12410000.,\n",
       "       11908000., 11738000., 11440000., 10901000., 10574000., 10517000.,\n",
       "       10456000., 10391000., 10156000.,  9963000.,  9507000.,  9482000.,\n",
       "        9046000.,  8896000.,  8864000.,  8813000.,  8245000.,  8176000.,\n",
       "        8145000.,  7774000.,  7681000.,  7564000.,  7444000.,  7429000.,\n",
       "        7360000.,  7236000.,  7236000.,  6921000.,  6907000.,  6812000.,\n",
       "        6680000.,  6564000.,  6497000.,  6339000.,  6276000.,  6115000.,\n",
       "        6115000.,  6099000.,  6082000.,  6048000.,  6036000.,  5972000.,\n",
       "        5792000.,  5695000.,  5572000.,  5551000.,  5534000.,  5494000.,\n",
       "        5486000.,  5383000.,  5381000.,  5300000.,  5207000.,  5157000.,\n",
       "        5086000.,  5052000.,  5023000.])"
      ]
     },
     "execution_count": 1,
     "metadata": {},
     "output_type": "execute_result"
    }
   ],
   "source": [
    "# arrays with elements of the same type can be read\n",
    "# efficiently from text fi les (e.g., CSV) using numpy.genfromtxt \n",
    "import numpy as np\n",
    "\n",
    "cities = np.genfromtxt( \"https://raw.githubusercontent.com/gagolews/teaching-data/master/marek/population_largest_cities_unnamed.txt\" )\n",
    "cities"
   ]
  }
 ],
 "metadata": {
  "kernelspec": {
   "display_name": "Python 3",
   "language": "python",
   "name": "python3"
  },
  "language_info": {
   "codemirror_mode": {
    "name": "ipython",
    "version": 3
   },
   "file_extension": ".py",
   "mimetype": "text/x-python",
   "name": "python",
   "nbconvert_exporter": "python",
   "pygments_lexer": "ipython3",
   "version": "3.8.12"
  },
  "orig_nbformat": 4
 },
 "nbformat": 4,
 "nbformat_minor": 2
}
