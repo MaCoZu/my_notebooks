{
 "cells": [
  {
   "attachments": {},
   "cell_type": "markdown",
   "metadata": {},
   "source": [
    "# Check python version"
   ]
  },
  {
   "cell_type": "code",
   "execution_count": 3,
   "metadata": {},
   "outputs": [
    {
     "name": "stdout",
     "output_type": "stream",
     "text": [
      "3.10.5 | packaged by conda-forge | (main, Jun 14 2022, 07:04:59) [GCC 10.3.0]\n"
     ]
    }
   ],
   "source": [
    "# The software we use regularly receives feature upgrades, API changes, and bug fixes.\n",
    "# It is worthwhile to know which version of the Python environment was used to evaluate all the code\n",
    "import sys\n",
    "\n",
    "print(sys.version)"
   ]
  },
  {
   "attachments": {},
   "cell_type": "markdown",
   "metadata": {},
   "source": [
    "#  Check versions of the packages"
   ]
  },
  {
   "cell_type": "code",
   "execution_count": 1,
   "metadata": {},
   "outputs": [
    {
     "name": "stdout",
     "output_type": "stream",
     "text": [
      "1.23.2\n"
     ]
    }
   ],
   "source": [
    "import numpy as np\n",
    "print(np.__version__)"
   ]
  },
  {
   "attachments": {},
   "cell_type": "markdown",
   "metadata": {},
   "source": [
    "# Slicing & reverse(), reversed()"
   ]
  },
  {
   "cell_type": "code",
   "execution_count": 7,
   "metadata": {},
   "outputs": [
    {
     "name": "stdout",
     "output_type": "stream",
     "text": [
      "C\n",
      "n\n",
      "Cal\n",
      "noi\n",
      "noitacinrofilaC\n"
     ]
    }
   ],
   "source": [
    "s = \"Californication\"\n",
    "\n",
    "print(s[0])\n",
    "print(s[-1])\n",
    "print(s[:3])\n",
    "print(s[-1:-4:-1]) # begin at the end, go 3 to the left and reverse\n",
    "\n",
    "a = s[::-1] # reverse all\n",
    "print(a)"
   ]
  },
  {
   "cell_type": "code",
   "execution_count": 13,
   "metadata": {},
   "outputs": [
    {
     "name": "stdout",
     "output_type": "stream",
     "text": [
      "['water', 'wind', 'fire', 'earth']\n",
      "<reversed object at 0x7f3354566f20>\n",
      "noitacinrofilaC\n"
     ]
    }
   ],
   "source": [
    "lst = [\"earth\", \"fire\", \"wind\", \"water\"]\n",
    "\n",
    "# reverse method can only be used with lists as its a list method only.\n",
    "lst.reverse()\n",
    "print(lst)\n",
    "\n",
    "# reversed function can reverse and iterable object and returns a \n",
    "# reversed object as data type.\n",
    "s = \"Californication\"\n",
    "a = reversed(s)\n",
    "print(a)\n",
    "print((\"\".join(a)))"
   ]
  },
  {
   "attachments": {},
   "cell_type": "markdown",
   "metadata": {},
   "source": [
    "# Chain Operators"
   ]
  },
  {
   "cell_type": "code",
   "execution_count": 4,
   "metadata": {},
   "outputs": [
    {
     "name": "stdout",
     "output_type": "stream",
     "text": [
      "True\n"
     ]
    }
   ],
   "source": [
    "distance = 100\n",
    "checker = 50 < distance < 250\n",
    "\n",
    "print(checker)"
   ]
  },
  {
   "attachments": {},
   "cell_type": "markdown",
   "metadata": {},
   "source": [
    "# shorten if-else statements"
   ]
  },
  {
   "attachments": {},
   "cell_type": "markdown",
   "metadata": {},
   "source": [
    "## unnecessary else blocks\n",
    "Most of the time there is no need for an else block. <br>\n",
    "When you want to do something if a certain condition is met and return immediately."
   ]
  },
  {
   "cell_type": "code",
   "execution_count": 23,
   "metadata": {},
   "outputs": [
    {
     "name": "stdout",
     "output_type": "stream",
     "text": [
      "Yes\n"
     ]
    }
   ],
   "source": [
    "if 15 > 9: print(\"Yes\")\n",
    "# else "
   ]
  },
  {
   "attachments": {},
   "cell_type": "markdown",
   "metadata": {},
   "source": [
    "## value assignment with condition\n",
    "If you want to assign a new value to a variable based on some provided input <br>\n",
    "leave the if-else stuff out"
   ]
  },
  {
   "cell_type": "code",
   "execution_count": 35,
   "metadata": {},
   "outputs": [
    {
     "name": "stdout",
     "output_type": "stream",
     "text": [
      "man\n"
     ]
    }
   ],
   "source": [
    "def wo_or_man(g: int)-> str:\n",
    "    if g==0: return print(\"woman\") # fast return\n",
    "    elif g==1: return print(\"man\") # there is no else\n",
    "\n",
    "wo_or_man(1)"
   ]
  },
  {
   "attachments": {},
   "cell_type": "markdown",
   "metadata": {},
   "source": [
    "## Guard Clause - Defensive Coding\n",
    "assert before execution"
   ]
  },
  {
   "cell_type": "code",
   "execution_count": 40,
   "metadata": {},
   "outputs": [
    {
     "name": "stdout",
     "output_type": "stream",
     "text": [
      "woman\n"
     ]
    }
   ],
   "source": [
    "def wo_or_man(g: int) -> str:\n",
    "    # assert if input is in a set, if not throw message\n",
    "    assert g in {0, 1}, print(\"Insert either 0 or 1\")\n",
    "    # ternary operator\n",
    "    return print(\"woman\")  if g == 0 else print(\"man\")  \n",
    "\n",
    "wo_or_man(0)"
   ]
  },
  {
   "attachments": {},
   "cell_type": "markdown",
   "metadata": {},
   "source": [
    "## Conditional expressions (“ternary operator”)\n",
    "*x if C else y* first evaluates the condition, C; if C is true, x is evaluated <br>\n",
    "and its value is returned; otherwise, y is evaluated and its value is returned."
   ]
  },
  {
   "cell_type": "code",
   "execution_count": 4,
   "metadata": {},
   "outputs": [
    {
     "name": "stdout",
     "output_type": "stream",
     "text": [
      "A\n",
      "C > B\n"
     ]
    }
   ],
   "source": [
    "a = 50; b = 40; c = 60\n",
    "\n",
    "print(\"A\") if a > b else print(\"B\")\n",
    "\n",
    "print(\"B > C\") if b > c else print(\"B=C\") if b == c else print(\"C > B\")"
   ]
  },
  {
   "attachments": {},
   "cell_type": "markdown",
   "metadata": {},
   "source": [
    "## dictionary and named expression"
   ]
  },
  {
   "cell_type": "code",
   "execution_count": 15,
   "metadata": {},
   "outputs": [
    {
     "name": "stdout",
     "output_type": "stream",
     "text": [
      "10.25\n"
     ]
    }
   ],
   "source": [
    "def average(seq):\n",
    "    return sum(seq) / len(seq)\n",
    "\n",
    "numbers = [1, 4, 16, 20]\n",
    "\n",
    "# dict to map stings to functions\n",
    "options = { \"add\": sum, \"avg\": average, \"max\": max }\n",
    "\n",
    "# add the dict keys in your promt text\n",
    "option_texts = ' | '.join(options.keys())\n",
    "\n",
    "action = input(f\"What would you like to do with {numbers}? ({option_texts}) \")\n",
    "\n",
    "# Walrus operator: Merge assignment followed by conditional check using a named expression.\n",
    "if operation := options.get(action):\n",
    "    print(operation(numbers))\n",
    "else:\n",
    "    print(\"Action not recognized\")"
   ]
  },
  {
   "attachments": {},
   "cell_type": "markdown",
   "metadata": {},
   "source": [
    "## Boolean Evaluation of Numeric Types\n",
    "all integers and floats except 0 and 0.0 would return True"
   ]
  },
  {
   "cell_type": "code",
   "execution_count": 20,
   "metadata": {},
   "outputs": [
    {
     "name": "stdout",
     "output_type": "stream",
     "text": [
      "Conditions met!\n",
      "The list is not empty\n"
     ]
    }
   ],
   "source": [
    "a = 1\n",
    "if a:  # instead of: if a == True:\n",
    "    print(\"Conditions met!\")"
   ]
  },
  {
   "attachments": {},
   "cell_type": "markdown",
   "metadata": {},
   "source": [
    "## Boolean Evaluation of Iterables\n",
    "it is also possible to evaluate dict, set, list, tuple, and str as booleans (namedtuple is not among them)"
   ]
  },
  {
   "cell_type": "code",
   "execution_count": null,
   "metadata": {},
   "outputs": [],
   "source": [
    "x = [0, 1, 2, 3]\n",
    "if x:  # instead of: len(x) > 0:\n",
    "    print(\"The list is not empty\")"
   ]
  },
  {
   "attachments": {},
   "cell_type": "markdown",
   "metadata": {},
   "source": [
    "## macth ... case\n",
    "- The match case statement in Python is more powerful than if-else and allows for \n",
    "more complicated pattern matching. \n",
    "- match and case are better described as “soft” keywords, meaning they only work \n",
    "as keywords in a match case statement. <br> You can keep using “match” or “case”\n",
    " as a variable name in other parts of your program.  \n",
    "- The case other is equivalent to else in an if-elif-else statement and can be \n",
    "more simply written as case _.\n",
    "- For more complex statements like the final example above, the order in which \n",
    "you have the cases changes the behavior of the program.<br> To demonstrate this \n",
    "swap the positions of the second and third cases. You’ll find the --ask flag is never matched. "
   ]
  },
  {
   "cell_type": "code",
   "execution_count": 1,
   "metadata": {},
   "outputs": [
    {
     "name": "stdout",
     "output_type": "stream",
     "text": [
      "Please confirm: Removing files: ['file1.txt', 'file2.jpg', 'file3.pdf']\n"
     ]
    }
   ],
   "source": [
    "def file_handler_v2(command):\n",
    "    match command.split():\n",
    "        case ['show']:\n",
    "            print('List all files and directories: ')\n",
    "            # code to list files\n",
    "        case ['remove' | 'delete', *files] if '--ask' in files:\n",
    "            del_files = [f for f in files if len(f.split('.')) > 1]\n",
    "            print('Please confirm: Removing files: {}'.format(del_files))\n",
    "            # code to accept user input, then remove files\n",
    "        case ['remove' | 'delete', *files]:\n",
    "            print(f'Removing files: {files}')\n",
    "            # code to remove files\n",
    "        case _:\n",
    "            print('Command not recognized')\n",
    "            \n",
    "\n",
    "file_handler_v2('remove --ask file1.txt file2.jpg file3.pdf')"
   ]
  },
  {
   "attachments": {},
   "cell_type": "markdown",
   "metadata": {},
   "source": [
    "# f-strings"
   ]
  },
  {
   "cell_type": "code",
   "execution_count": null,
   "metadata": {},
   "outputs": [
    {
     "name": "stdout",
     "output_type": "stream",
     "text": [
      "Wow Wolle! you have 100000 subscribers!\n",
      "Wow Wolle! you have 100000 subscribers!\n"
     ]
    }
   ],
   "source": [
    "name = \"Wolle\"\n",
    "subscribers = 100000\n",
    "\n",
    "# do not concatenate strings like this\n",
    "print(\"Wow \" + name + \"! you have \" + str(subscribers) + \" subscribers!\")\n",
    "\n",
    "# better\n",
    "print(f\"Wow {name}! you have {subscribers} subscribers!\")"
   ]
  },
  {
   "cell_type": "code",
   "execution_count": null,
   "metadata": {},
   "outputs": [
    {
     "name": "stdout",
     "output_type": "stream",
     "text": [
      " π = 3.14159265 e = 2.71828183 \n"
     ]
    }
   ],
   "source": [
    "# “ 10.8f ” means that a value should be formatted as a float, be of width at least ten\n",
    "# characters (text columns), and use eight fractional digits.\n",
    "π = 3.14159265358979323846\n",
    "e = 2.71828182845904523536\n",
    "print(f\"\"\" π = {π:10.8f} e = {e:10.8f} \"\"\")"
   ]
  },
  {
   "attachments": {},
   "cell_type": "markdown",
   "metadata": {},
   "source": [
    "# context manager\n",
    "- resources like file operations or database connections need to be released after usage if not it could <br>\n",
    "lead to resource leakage and may cause the system to slow down or crash\n",
    "- When a file is opened, a file descriptor is consumed which is a limited resource.\n",
    "- Context Managers provide an easy way to manage resources"
   ]
  },
  {
   "cell_type": "code",
   "execution_count": null,
   "metadata": {},
   "outputs": [],
   "source": [
    "# # avoid manual closing\n",
    "# f = open(filename, \"w\")\n",
    "# f.write(\"hello!\\n\")\n",
    "# f.close()\n",
    "\n",
    "# use a context manager for resource managing\n",
    "# closes automaticly, even if exception happens\n",
    "# use whenever you set up and tear down ressources\n",
    "# like databases connections\n",
    "with open(filename, \"w\") as f:\n",
    "    f.write(\"hello!\\n\")\n",
    "\n",
    "with open('filename.txt', 'r') as f:\n",
    "    file_content = f.read()"
   ]
  },
  {
   "cell_type": "code",
   "execution_count": null,
   "metadata": {},
   "outputs": [],
   "source": [
    "import socket\n",
    "\n",
    "\n",
    "def finally_instead_of_context_manager(host, port):\n",
    "    s = socket.socket(socket.AF_INET, socket.SOCK_STREAM)\n",
    "    try:\n",
    "        s.connect((host, port))\n",
    "        s.sendall(b'Hello, world')\n",
    "    finally:\n",
    "        s.close()\n",
    "\n",
    "    # close even if exception, use the in-built context manager\n",
    "    with socket.socket(socket.AF_INET, socket.SOCK_STREAM) as s:\n",
    "        s.connect((host, port))\n",
    "        s.sendall(b'Hello, world')"
   ]
  },
  {
   "attachments": {},
   "cell_type": "markdown",
   "metadata": {},
   "source": [
    "# Exception\n",
    "PEP 8 recommends that we should avoid catching exceptions using a bare except clause.\n",
    "\n",
    "The problem with these is that they catch SystemExit and KeyboardInterrupt exceptions, which makes it harder to interrupt a program using CTRL-C, and can also disguise other problems.\n",
    "\n",
    "The PEP recommends catching Exception, which will catch all program errors,"
   ]
  },
  {
   "cell_type": "code",
   "execution_count": null,
   "metadata": {},
   "outputs": [],
   "source": [
    "def bare_except():\n",
    "    while True:\n",
    "        try:\n",
    "            s = input(\"Input a number: \")\n",
    "            x = int(s)\n",
    "            break\n",
    "        except:  # oops! can't CTRL-C to exit, user is trapped\n",
    "            print(\"Not a number, try again\")\n",
    "\n",
    "    while True:\n",
    "        try:\n",
    "            s = input(\"Input a number: \")\n",
    "            x = int(s)\n",
    "            break\n",
    "        except Exception:  # still better to use ValueError, catch the Exception that will bethrown\n",
    "            print(\"Not a number, try again\")"
   ]
  },
  {
   "attachments": {},
   "cell_type": "markdown",
   "metadata": {},
   "source": [
    "# Replaces use of default mutable arguments \n",
    "\n",
    "Default arguments in Python are evaluated only once. The evaluation happens when the function is defined, instead of every time the function is called. This can inadvertently create hidden shared state, if you use a mutable default argument and mutate it at some point. This means that the mutated argument is now the default for all future calls to the function as well. This is usually unintended behaviour, though it can be useful in limited circumstances for writing  \n",
    "caches."
   ]
  },
  {
   "cell_type": "code",
   "execution_count": 52,
   "metadata": {},
   "outputs": [
    {
     "name": "stdout",
     "output_type": "stream",
     "text": [
      "['Stephan']\n",
      "['Stephan', 'Gisela']\n"
     ]
    }
   ],
   "source": [
    "# We pass an empty list as the default argument for the emp_list\n",
    "# bc. we want the the lsit to start from scratch when only a employee names is passed\n",
    "# but the second tim the fct is called WITHOUT passing an emp_list the old entry still is in the list\n",
    "# this is bc. default arguments are evaluated once in Python when the fct is created\n",
    "\n",
    "def add_new_employee(employee, emp_list=[]):\n",
    "    emp_list.append(employee)\n",
    "    print(emp_list)\n",
    "\n",
    "\n",
    "add_new_employee('Stephan')\n",
    "add_new_employee( 'Gisela' )  # the 'Hello' from the previous fct call still lingers in the list"
   ]
  },
  {
   "cell_type": "code",
   "execution_count": 60,
   "metadata": {},
   "outputs": [
    {
     "name": "stdout",
     "output_type": "stream",
     "text": [
      "['Stephan']\n",
      "['Gisela']\n"
     ]
    },
    {
     "data": {
      "text/plain": [
       "['Gisela', 'Gustav']"
      ]
     },
     "execution_count": 60,
     "metadata": {},
     "output_type": "execute_result"
    }
   ],
   "source": [
    "# if you want mutable default, first set it to None and then assign value in the fct.\n",
    "def add_new_employee(employee, emp_list=None):\n",
    "    if emp_list is None: emp_list = []\n",
    "    emp_list.append(employee)\n",
    "    return emp_list\n",
    "\n",
    "\n",
    "emp_list1 =add_new_employee('Stephan')\n",
    "print(emp_list1)\n",
    "\n",
    "emp_list2 = add_new_employee('Gisela')\n",
    "print(emp_list2)\n",
    "\n",
    "emp_list = add_new_employee('Gisela')\n",
    "add_new_employee('Gustav', emp_list)"
   ]
  },
  {
   "attachments": {},
   "cell_type": "markdown",
   "metadata": {},
   "source": [
    "# comprehensions\n",
    "- Comprehension are mostly in one line, cutting out the clutter of declaration and adding items.\n",
    "- The syntax it is actually more readable than the for loop version\n",
    "- Comprehensions will usually execute more quickly than building the collection in a loop"
   ]
  },
  {
   "cell_type": "code",
   "execution_count": null,
   "metadata": {},
   "outputs": [],
   "source": [
    "squares = {} # dict declaration \n",
    "for i in range(10): # for loop \n",
    "    squares[i] = i * i # adding items\n",
    "\n",
    "# all can be done in one line with comprehensions\n",
    "odd_squares = {x: x * x for x in range(10)}\n",
    "\n",
    "dict_comp = {i: i * i for i in range(10)}  # dictionary comprehension\n",
    "list_comp = [x * x for x in range(10)]  # list comprehension\n",
    "set_comp = {i % 3 for i in range(10)}  # set comprehension\n",
    "gen_comp = (2 * x + 5 for x in range(10))  # generator comprehension"
   ]
  },
  {
   "cell_type": "code",
   "execution_count": null,
   "metadata": {},
   "outputs": [],
   "source": [
    "# [f(x) if condition else g(x) for x in sequence]\n",
    "[f(x) if x is not None else '' for x in xs]"
   ]
  },
  {
   "cell_type": "code",
   "execution_count": null,
   "metadata": {},
   "outputs": [],
   "source": [
    "\"\"\"matrix product of a, b of length n x n\"\"\"\n",
    "# list comprehension can get messy, and un-readable\n",
    "c = [ sum(a[n * i + k] * b[n * k + j] for k in range(n)) for i in range(n) for j in range(n) ]\n",
    "\n",
    "# think about readability\n",
    "c = []\n",
    "for i in range(n):\n",
    "    for j in range(n):\n",
    "        ij_entry = sum(a[n * i + k] * b[n * k + j] for k in range(n))\n",
    "        c.append(ij_entry)\n",
    "    return c"
   ]
  },
  {
   "attachments": {},
   "cell_type": "markdown",
   "metadata": {},
   "source": [
    "# type() vs isinstance\n",
    "isinstance caters for inheritance (an instance of a derived class is an instance of a base class, too), <br>\n",
    "while checking for equality of type does not (it demands identity of types and rejects instances of <br>\n",
    "subtypes, AKA subclasses).<br>\n",
    "https://stackoverflow.com/questions/1549801/what-are-the-differences-between-type-and-isinstance"
   ]
  },
  {
   "cell_type": "code",
   "execution_count": 9,
   "metadata": {},
   "outputs": [
    {
     "name": "stdout",
     "output_type": "stream",
     "text": [
      "False\n",
      "True\n"
     ]
    }
   ],
   "source": [
    "from collections import namedtuple\n",
    "\n",
    "# Liskov substiution principle:\n",
    "# states that you should program in a way where you can substitute\n",
    "# a subclass for  it's parent witout breaking the program\n",
    "\n",
    "Point = namedtuple('Point', ['x', 'y'])  # namedtuple is a tuple\n",
    "p = Point( 1, 2 )  # so Point class is a tuple, but it is a subclass of the built-in tuple\n",
    "\n",
    "\n",
    "print(type(p) == tuple)  # Liskov substiution violation: namedtuple is not equal to a tuple\n",
    "print(isinstance(p, tuple))  # check if is instance of tuple, namedtuple is an instance of a tuple (base class)\n"
   ]
  },
  {
   "attachments": {},
   "cell_type": "markdown",
   "metadata": {},
   "source": [
    "# Identity (is) vs  Equality (==) \n",
    "\n",
    "There is a simple rule of thumb to tell you when to use **==** or **is**.<br>\n",
    "\n",
    "**==** is for **value equality** (same value). <br>\n",
    "Use it when you would like to know if two objects have the same value.<br>\n",
    "is will return True if two variables point to the same object (in memory), <br>\n",
    "> The operators <, >, ==, >=, <=, and != compare the values of two objects.\n",
    "\n",
    "**is** is for **object identity**. <br>\n",
    "Use it when you would like to know if two references refer to the same object.<br>\n",
    "is will return True if two variables point to the same object (in memory)<br>\n",
    "Object identity is determined using the id() function.<br>\n",
    "In Python the None object is a singleton, so it is correct to use *is* when comparing to it.\n",
    "\n",
    "> Thus, the check for identity is the same as checking for the equality of the IDs of the objects. That is, <br>\n",
    ">a is b<br>\n",
    ">is the same as:<br>\n",
    ">id(a) == id(b)<br>\n",
    "\n"
   ]
  },
  {
   "cell_type": "code",
   "execution_count": 15,
   "metadata": {},
   "outputs": [
    {
     "name": "stdout",
     "output_type": "stream",
     "text": [
      "False\n",
      "False\n",
      "True\n",
      "False\n",
      "False\n",
      "True\n"
     ]
    }
   ],
   "source": [
    "def  equal_or_identical(x):\n",
    "    print(x == None)\n",
    "    print(x == True)\n",
    "    print(x == False)\n",
    "\n",
    "    # better\n",
    "    print(x is None)\n",
    "    print(x is True)\n",
    "    print(x is False)\n",
    "\n",
    "\n",
    "equal_or_identical(False)"
   ]
  },
  {
   "cell_type": "code",
   "execution_count": 19,
   "metadata": {},
   "outputs": [
    {
     "name": "stdout",
     "output_type": "stream",
     "text": [
      "True\n",
      "True\n",
      "Not False and not empty\n"
     ]
    }
   ],
   "source": [
    "def checking_bool_or_len(x):\n",
    "    print(bool(x))  # bool is True if not False \n",
    "    print(len(x) != 0) # len is True if x is not empty\n",
    "\n",
    "    # Both can be substitued with a plain if x\n",
    "    # usually equivalent to\n",
    "    if x: print(\"Not False and not empty\")\n",
    "\n",
    "checking_bool_or_len(\"hello\")"
   ]
  },
  {
   "attachments": {},
   "cell_type": "markdown",
   "metadata": {},
   "source": [
    "# For Index Replacement\n",
    "code can be improved by iterating over the list directly"
   ]
  },
  {
   "cell_type": "code",
   "execution_count": 1,
   "metadata": {},
   "outputs": [
    {
     "name": "stdout",
     "output_type": "stream",
     "text": [
      "1\n",
      "2\n",
      "1\n",
      "2\n"
     ]
    }
   ],
   "source": [
    "a = [1, 2]\n",
    "\n",
    "# this is unnecessary\n",
    "for i in range(len(a)):\n",
    "    v = a[i]\n",
    "    print(v)\n",
    "\n",
    "# instead go over the values directly\n",
    "for v in a:\n",
    "    print(v)\n",
    "\n",
    "# or if you wanted the index\n",
    "for i, v in enumerate(a):\n",
    "    print(i, v)"
   ]
  },
  {
   "attachments": {},
   "cell_type": "markdown",
   "metadata": {},
   "source": [
    "# enumerate"
   ]
  },
  {
   "cell_type": "code",
   "execution_count": null,
   "metadata": {},
   "outputs": [],
   "source": [
    "# enumerate returns index and value and\n",
    "# enumerate can have a index starting at another number\n",
    "names = ['Gerd', 'Josh', 'Karl']\n",
    "for index, name in enumerate(names, start=10):\n",
    "    print(index, name)"
   ]
  },
  {
   "attachments": {},
   "cell_type": "markdown",
   "metadata": {},
   "source": [
    "# zip"
   ]
  },
  {
   "cell_type": "code",
   "execution_count": 9,
   "metadata": {},
   "outputs": [
    {
     "name": "stdout",
     "output_type": "stream",
     "text": [
      "the tedious way:    1 & 4\n",
      "the tedious way:    2 & 5\n",
      "the zip way:    1 / 4\n",
      "the zip way:    2 / 5\n",
      "itertools.zip_longest():    [(1, 4), (2, 5), (3, None), (4, None), (5, None), (6, None), (7, None)]\n",
      "zip returns a tuple:    (1, 4)\n",
      "zip returns a tuple:    (2, 5)\n",
      "zip + enumerate:    0: 1 / 4\n",
      "zip + enumerate:    1: 2 / 5\n"
     ]
    }
   ],
   "source": [
    "# using i to sync between two things?\n",
    "a = [1, 2]\n",
    "b = [4, 5]\n",
    "\n",
    "# # this is very tedious\n",
    "# for i in range(len(b)):\n",
    "#     av = a[i]\n",
    "#     bv = b[i]\n",
    "\n",
    "#     print(f\"the tedious way:    {av} & {bv}\")\n",
    "\n",
    "# INSTEAD USE zip, it's cleaner, zip creates an iterator\n",
    "for av, bv in zip(a, b):\n",
    "    print(f\"the zip way:    {av} / {bv}\")\n",
    "\n",
    "# zip stops when the shortest list is exhausted\n",
    "# if you want to go as far as the longest list you have to use\n",
    "# the zip_longest fct from itertools\n",
    "from itertools import zip_longest\n",
    "\n",
    "c = [1, 2, 3, 4, 5, 6, 7]\n",
    "z = list(zip_longest(c, b))\n",
    "print(f\"itertools.zip_longest():    {z}\")\n",
    "\n",
    "# if we just give one variable to zip to write to it returns a tuple\n",
    "for tup in zip(a, b):\n",
    "    print(f\"zip returns a tuple:    {tup}\")\n",
    "\n",
    "# if you need index of synced objects\n",
    "for i, (av, bv) in enumerate(zip(a, b)):\n",
    "    print(f\"zip + enumerate:    {i}: {av} / {bv}\")"
   ]
  },
  {
   "attachments": {},
   "cell_type": "markdown",
   "metadata": {},
   "source": [
    "# dictionary merge"
   ]
  },
  {
   "cell_type": "code",
   "execution_count": 3,
   "metadata": {},
   "outputs": [
    {
     "name": "stdout",
     "output_type": "stream",
     "text": [
      "{'A': 10, 'B': 20, 'C': 30, 'X': 100, 'Y': 200, 'Z': 300}\n"
     ]
    }
   ],
   "source": [
    "d1 = {\"A\": 10, \"B\": 20, \"C\": 30}\n",
    "d2 = {\"X\": 100, \"Y\": 200, \"Z\": 300}\n",
    "\n",
    "# d3 = {**d1, **d2}\n",
    "d3 = d1|d2\n",
    "print(d3)"
   ]
  },
  {
   "attachments": {},
   "cell_type": "markdown",
   "metadata": {},
   "source": [
    "# dict keys is the default"
   ]
  },
  {
   "cell_type": "code",
   "execution_count": 16,
   "metadata": {},
   "outputs": [
    {
     "name": "stdout",
     "output_type": "stream",
     "text": [
      "a\n",
      "b\n",
      "c\n",
      "a\n",
      "b\n",
      "c\n"
     ]
    }
   ],
   "source": [
    "d = {\"a\": 1, \"b\": 2, \"c\": 3}\n",
    "\n",
    "## key is the default, no need to reference it\n",
    "# for key in d.keys():\n",
    "#     print(key)\n",
    "\n",
    "for key in d:\n",
    "    print(key)\n",
    "\n",
    "# or if you meant to make a copy of keys\n",
    "for key in list(d):\n",
    "    print(key)"
   ]
  },
  {
   "attachments": {},
   "cell_type": "markdown",
   "metadata": {},
   "source": [
    "# items"
   ]
  },
  {
   "cell_type": "code",
   "execution_count": 15,
   "metadata": {},
   "outputs": [
    {
     "name": "stdout",
     "output_type": "stream",
     "text": [
      "1\n",
      "2\n",
      "3\n"
     ]
    }
   ],
   "source": [
    "d = {\"a\": 1, \"b\": 2, \"c\": 3}\n",
    "\n",
    "# get the values directly if keys are not needed\n",
    "for val in d.values():\n",
    "    print(val)"
   ]
  },
  {
   "attachments": {},
   "cell_type": "markdown",
   "metadata": {},
   "source": [
    "# get() for dictonaries\n",
    "- get() has a default parameter that can be used as a fallback. \n",
    "- the EAFP(easier to ask for forgivness than for permission) principle suggests that right away, <br>\n",
    "you should do what you expect to work. If it doesn’t work and an exception happens, <br>\n",
    "then just catch the exception and handle it appropriately.<br>\n",
    "- In the following you could catch the error with `try ... except KeyError: ...` or even more <br>\n",
    "consice use the default parameter.\n",
    "-  Avoid explicit key in dict checks when testing for membership."
   ]
  },
  {
   "cell_type": "code",
   "execution_count": null,
   "metadata": {},
   "outputs": [],
   "source": [
    "name_for_userid = { 382: 'Alice', 950: 'Bob', 590: 'Dilbert', }\n",
    "\n",
    "def greeting(userid):\n",
    "    return f\"Hi {name_for_userid.get(userid, 'there')}!\""
   ]
  },
  {
   "attachments": {},
   "cell_type": "markdown",
   "metadata": {},
   "source": [
    "# sort dictionaries with key funcs"
   ]
  },
  {
   "cell_type": "code",
   "execution_count": 1,
   "metadata": {},
   "outputs": [
    {
     "data": {
      "text/plain": [
       "[('a', 4), ('b', 3), ('c', 2), ('d', 1)]"
      ]
     },
     "execution_count": 1,
     "metadata": {},
     "output_type": "execute_result"
    }
   ],
   "source": [
    "xs = {'a': 4, 'c': 2, 'b': 3, 'd': 1}\n",
    "# lexicographical ordering, sorts by keys\n",
    "sorted(xs.items())\n",
    "\n",
    "# sort by values with key funcs which uses the values x[...] as the thing to sort by\n",
    "sorted(xs.items(), key=lambda x: x[1])"
   ]
  },
  {
   "cell_type": "code",
   "execution_count": 2,
   "metadata": {},
   "outputs": [
    {
     "data": {
      "text/plain": [
       "[('a', 4), ('b', 3), ('c', 2), ('d', 1)]"
      ]
     },
     "execution_count": 2,
     "metadata": {},
     "output_type": "execute_result"
    }
   ],
   "source": [
    "sorted(xs.items(), key=lambda x: x[1], reverse=True) # lambda allowas for more customizing"
   ]
  },
  {
   "cell_type": "code",
   "execution_count": null,
   "metadata": {},
   "outputs": [],
   "source": [
    "# the operator modul implements some of the key funcs functionality with functions\n",
    "import operator\n",
    "sorted(xs.items(), key=operator.itemgetter(1))"
   ]
  },
  {
   "attachments": {},
   "cell_type": "markdown",
   "metadata": {},
   "source": [
    "# tuple unpacking"
   ]
  },
  {
   "cell_type": "code",
   "execution_count": 17,
   "metadata": {},
   "outputs": [
    {
     "name": "stdout",
     "output_type": "stream",
     "text": [
      "1 2\n",
      "2 1\n"
     ]
    }
   ],
   "source": [
    "mytuple = 1, 2\n",
    "\n",
    "# # don't do this\n",
    "# x = mytuple[0]\n",
    "# y = mytuple[1]\n",
    "\n",
    "# do that\n",
    "x, y = mytuple\n",
    "print(x, y)\n",
    "\n",
    "# unpacking also allows for easy swapping of values\n",
    "x, y = y, x\n",
    "print(x, y)"
   ]
  },
  {
   "attachments": {},
   "cell_type": "markdown",
   "metadata": {},
   "source": [
    "# time.perf_counter()"
   ]
  },
  {
   "cell_type": "code",
   "execution_count": 18,
   "metadata": {},
   "outputs": [
    {
     "name": "stdout",
     "output_type": "stream",
     "text": [
      "1.0074474811553955\n",
      "1.0080326169991167\n"
     ]
    }
   ],
   "source": [
    "import time\n",
    "\n",
    "# time.time is for current time not for timing the code\n",
    "start = time.time()\n",
    "time.sleep(1)\n",
    "end = time.time()\n",
    "print(end - start)\n",
    "\n",
    "# more accurate, for timing your code\n",
    "start = time.perf_counter()\n",
    "time.sleep(1)\n",
    "end = time.perf_counter()\n",
    "print(end - start)"
   ]
  },
  {
   "attachments": {},
   "cell_type": "markdown",
   "metadata": {},
   "source": [
    "# logging module\n",
    "- levels indicating the severity of events: DEBUG, INFO, WARNING, ERROR, CRITICAL\n",
    "- for logging to a file rather than the console, filename and filemode can be used\n",
    "- you can decide the format of the message using format"
   ]
  },
  {
   "cell_type": "code",
   "execution_count": 1,
   "metadata": {},
   "outputs": [
    {
     "name": "stderr",
     "output_type": "stream",
     "text": [
      "WARNING:root:This is a warning message\n",
      "ERROR:root:This is an error message\n",
      "CRITICAL:root:This is a critical message\n"
     ]
    }
   ],
   "source": [
    "import logging\n",
    "\n",
    "# this shows level, name, and message separated by a colon (:)\n",
    "# debug() and info() messages didn’t get logged. \n",
    "# bc. the logging module logs the messages with a severity level of WARNING or above\n",
    "logging.debug('This is a debug message')\n",
    "logging.info('This is an info message')\n",
    "logging.warning('This is a warning message')\n",
    "logging.error('This is an error message')\n",
    "logging.critical('This is a critical message')"
   ]
  },
  {
   "attachments": {},
   "cell_type": "markdown",
   "metadata": {},
   "source": [
    "- Be aware that, basicConfig() can only be called once.\n",
    "- debug(), info(), warning(), error(), and critical() also call basicConfig() without arguments <br>\n",
    "automatically if it has not been called before."
   ]
  },
  {
   "cell_type": "code",
   "execution_count": 13,
   "metadata": {},
   "outputs": [
    {
     "name": "stderr",
     "output_type": "stream",
     "text": [
      "DEBUG:root:This will get logged\n"
     ]
    }
   ],
   "source": [
    "# you can set what level of log messages you want to record\n",
    "import logging\n",
    "\n",
    "# Remove all handlers associated with the root logger object.\n",
    "for handler in logging.root.handlers[:]:\n",
    "    logging.root.removeHandler(handler)\n",
    "\n",
    "logging.basicConfig(level=logging.DEBUG)\n",
    "logging.debug('This will get logged')"
   ]
  },
  {
   "attachments": {},
   "cell_type": "markdown",
   "metadata": {},
   "source": [
    "- The filemode is set to w, which means the log file is opened in “write mode” \n",
    "each time basicConfig() is called, and each run of the program will rewrite the file. \n",
    "- The default configuration for filemode is a, which is append."
   ]
  },
  {
   "cell_type": "code",
   "execution_count": 22,
   "metadata": {},
   "outputs": [],
   "source": [
    "import logging\n",
    "\n",
    "# Remove all handlers associated with the root logger object.\n",
    "[logging.root.removeHandler(handler) for handler in logging.root.handlers[:]]\n",
    "\n",
    "logging.basicConfig(\n",
    "    filename='app.log',\n",
    "    level=logging.INFO,\n",
    "    filemode='w',\n",
    "    format='%(process)d - %(name)s - %(levelname)s - %(message)s',\n",
    "    force = True)\n",
    "\n",
    "logging.info('This will get logged to a file')"
   ]
  },
  {
   "cell_type": "code",
   "execution_count": 23,
   "metadata": {},
   "outputs": [
    {
     "name": "stderr",
     "output_type": "stream",
     "text": [
      "2770 - root - [DEBUG] 2023-03-10 00:02:55,650 - debug info\n",
      "2770 - root - [INFO] 2023-03-10 00:02:55,652 - just some info\n",
      "2770 - root - [ERROR] 2023-03-10 00:02:55,653 - uh oh :(\n"
     ]
    }
   ],
   "source": [
    "# set up logging in main function\n",
    "\n",
    "# Remove all handlers associated with the root logger object.\n",
    "[logging.root.removeHandler(handler) for handler in logging.root.handlers[:]]\n",
    "\n",
    "level = logging.DEBUG\n",
    "fmt = '%(process)d - %(name)s - [%(levelname)s] %(asctime)s - %(message)s'  # format your error meassages\n",
    "logging.basicConfig(level=level, format=fmt)\n",
    "\n",
    "# wherever\n",
    "logging.debug(\"debug info\")\n",
    "logging.info(\"just some info\")\n",
    "logging.error(\"uh oh :(\")"
   ]
  },
  {
   "attachments": {},
   "cell_type": "markdown",
   "metadata": {},
   "source": [
    "# subprocesses \n",
    "- Python’s subprocess library is designed to launch processes to run external programs,\n",
    "regardless of the languages used to write them. It interacts with the operating system and can issue shell commands like ls or dir.\n",
    "- A **process** is the operating system’s abstraction of a running program.\n",
    "- **Subprocess** is the child of a (Python) process \n",
    "- Python subprocess module should be used for accessing system commands, <br>\n",
    "it's an alternative to using the os module\n",
    "- Most of your interaction with the Python subprocess module will be via the **run()** function, <br>\n",
    "while all functions in the subprocess module are convenience wrappers around the **Popen()** <br>\n",
    "constructor and its instance methods."
   ]
  },
  {
   "cell_type": "code",
   "execution_count": null,
   "metadata": {},
   "outputs": [],
   "source": [
    "# You can call any application that you can with the Start menu or app bar,\n",
    "# as long as you know the precise name or path of the program\n",
    "import subprocess\n",
    "\n",
    "# subprocess.run('ls')\n",
    "subprocess.run([\"nano\"])"
   ]
  },
  {
   "cell_type": "code",
   "execution_count": 48,
   "metadata": {},
   "outputs": [
    {
     "name": "stdout",
     "output_type": "stream",
     "text": [
      "4:test\n",
      "\n"
     ]
    }
   ],
   "source": [
    "import subprocess\n",
    "# subprocess commands are tokenized by putting them in a list\n",
    "# p1 = subprocess.run([\"ls\", \"-l\"])\n",
    "# print(p1.returncode) # shows errors, 0 means zero errors\n",
    "# print(p1.args) # passes arguments\n",
    "# print(p1.stdout) # None, means nothing was captured\n",
    "\n",
    "# # now stdout is captured in the varibale and not printed in console\n",
    "# # text=True decodes the byte output to string\n",
    "# p2 = subprocess.run([\"ls\", \"-l\"], capture_output=True, text=True)\n",
    "# print(p2.stdout)\n",
    "\n",
    "# # write stdout to a file\n",
    "# with open('output.txt', 'w') as f:\n",
    "#     p2 = subprocess.run([\"ls\", \"-l\"], stdout=f, text=True)\n",
    "\n",
    "# # In cas of an error python will NOT throw an error message\n",
    "# # but we can see that the returncode is not equal to zero\n",
    "# p2 = subprocess.run([\"ls\", \"-l\", 'dne'], capture_output=True, text=True)\n",
    "# print(p2.returncode)  # see the errorcode\n",
    "# print(p2.stderr)  # see the error\n",
    "\n",
    "# # you can write smt like this in your code\n",
    "# # to check if your subprocess failed\n",
    "# if p2.returncode != 0: print('You have an error sir')\n",
    "\n",
    "# # if you want python to throw an error we can pass the argument\n",
    "# # check=True\n",
    "# p2 = subprocess.run([\"ls\", \"-l\", 'dne'],\n",
    "#                     capture_output=True,\n",
    "#                     text=True,\n",
    "#                     check=True)\n",
    "\n",
    "# # we can IGNORE ERROR altogether by sending them to dev_null\n",
    "# p2 = subprocess.run([\"ls\", \"-l\", 'dne'],\n",
    "#                     stderr=subprocess.DEVNULL)\n",
    "\n",
    "# # feding the output of on process to another process as input\n",
    "# p3 = subprocess.run([\"cat\", \"test.txt\"], capture_output=True, text=True)\n",
    "# # print(p3.stdout)\n",
    "\n",
    "# # we search for the word 'test' in the output of p3\n",
    "# p4 = subprocess.run([\"grep\", \"-n\", 'test'],\n",
    "#                     capture_output=True,\n",
    "#                     text=True,\n",
    "#                     input=p3.stdout)  # p3.stdout=p4.input\n",
    "\n",
    "# print(p4.stdout)\n",
    "\n",
    "# shell=True makes it possible to write a shell command just like in the console\n",
    "# shell= True causes SECURITY PROBLEMS leave it out if possible\n",
    "p3 = subprocess.run(' cat test.txt | grep -n test', # command as a regular string one-liner\n",
    "                    capture_output=True,\n",
    "                    text=True,\n",
    "                    shell=True)\n"
   ]
  },
  {
   "attachments": {},
   "cell_type": "markdown",
   "metadata": {},
   "source": [
    "# use numpy"
   ]
  },
  {
   "cell_type": "code",
   "execution_count": null,
   "metadata": {},
   "outputs": [],
   "source": [
    "import numpy as np\n",
    "\n",
    "\n",
    "def not_using_numpy_pandas():\n",
    "    x = list(range(100))\n",
    "    y = list(range(100))\n",
    "    s = [a + b for a, b in zip(x, y)]\n",
    "\n",
    "    # better (faster)\n",
    "    x = np.arange(100)\n",
    "    y = np.arange(100)\n",
    "    s = x + y"
   ]
  },
  {
   "attachments": {},
   "cell_type": "markdown",
   "metadata": {},
   "source": [
    "# use underscores for big numbers"
   ]
  },
  {
   "cell_type": "code",
   "execution_count": null,
   "metadata": {},
   "outputs": [
    {
     "name": "stdout",
     "output_type": "stream",
     "text": [
      "100,100,000,000\n"
     ]
    }
   ],
   "source": [
    "x = 100_000_000_000\n",
    "y = 100_000_000\n",
    "total = x + y\n",
    "print(f'{total: ,}')  # to add commas as hundreth separators\n"
   ]
  },
  {
   "attachments": {},
   "cell_type": "markdown",
   "metadata": {},
   "source": [
    "# getpass() to hide input"
   ]
  },
  {
   "cell_type": "code",
   "execution_count": null,
   "metadata": {},
   "outputs": [],
   "source": [
    "from getpass import getpass\n",
    "\n",
    "username = input('Username: ')\n",
    "# instead of input('Passwort: ') put getpass(...) and the password \n",
    "# is hidden in the console while writing\n",
    "password = getpass('Password: ')\n",
    "print('Logging In...')"
   ]
  },
  {
   "attachments": {},
   "cell_type": "markdown",
   "metadata": {},
   "source": [
    "# python -m\n",
    "- run a module that is NOT in the cd\n",
    "- this runs the smtpd module, everything after smtpd are the args of that module \n",
    "\n",
    "`python -m smtpd DebuggingServer -n localhost:1025`\n",
    "\n",
    "to find out about the args of a module run: \n",
    "**help(module_name)**\n",
    "\n",
    "if you justa want attributed and method name of a module check: **dir(module_name)**\n",
    "\n",
    "when you check a medule with dir() and want to know if smt is an attribute or a method you can: **modulename.method_name** without the () and get infos"
   ]
  },
  {
   "cell_type": "code",
   "execution_count": null,
   "metadata": {},
   "outputs": [],
   "source": [
    "from datetime import datetime\n",
    "print(help(datetime))"
   ]
  },
  {
   "cell_type": "code",
   "execution_count": null,
   "metadata": {},
   "outputs": [
    {
     "name": "stdout",
     "output_type": "stream",
     "text": [
      "['__add__', '__class__', '__delattr__', '__dir__', '__doc__', '__eq__', '__format__', '__ge__', '__getattribute__', '__gt__', '__hash__', '__init__', '__init_subclass__', '__le__', '__lt__', '__ne__', '__new__', '__radd__', '__reduce__', '__reduce_ex__', '__repr__', '__rsub__', '__setattr__', '__sizeof__', '__str__', '__sub__', '__subclasshook__', 'astimezone', 'combine', 'ctime', 'date', 'day', 'dst', 'fold', 'fromisocalendar', 'fromisoformat', 'fromordinal', 'fromtimestamp', 'hour', 'isocalendar', 'isoformat', 'isoweekday', 'max', 'microsecond', 'min', 'minute', 'month', 'now', 'replace', 'resolution', 'second', 'strftime', 'strptime', 'time', 'timestamp', 'timetuple', 'timetz', 'today', 'toordinal', 'tzinfo', 'tzname', 'utcfromtimestamp', 'utcnow', 'utcoffset', 'utctimetuple', 'weekday', 'year']\n"
     ]
    }
   ],
   "source": [
    "print(dir(datetime))"
   ]
  },
  {
   "cell_type": "code",
   "execution_count": null,
   "metadata": {},
   "outputs": [
    {
     "name": "stdout",
     "output_type": "stream",
     "text": [
      "<built-in method today of type object at 0x7fc80471ad40>\n",
      "2023-03-08 16:01:46.761279\n"
     ]
    }
   ],
   "source": [
    "print(datetime.today)\n",
    "print(datetime.today())"
   ]
  },
  {
   "attachments": {},
   "cell_type": "markdown",
   "metadata": {},
   "source": [
    "# module names\n",
    "import errors often come up when you named your own modules the same as standard library modules\n",
    "\n",
    "# variable names\n",
    "the same applies for variable names if you accidentally name a varibale the as a function that function \n",
    "is not available anymore\n",
    "\n",
    "# use `from ... import ...`\n",
    "- import * is not recommended just import what you need\n",
    "- some modules even have functions with the same name and one overwrites the other when you imported the entire module\n",
    "\n",
    "# learn to package your code \n",
    "and install it in the current environment\n",
    "\n",
    "# python is compiled\n",
    "-  .pyc files or __pyache__ are compiled python code\n",
    "- but python is also an interpreted language\n",
    "- python is compiled to bytecode which is then run by the interpreter\n",
    "\n",
    "# adhere to pep8 \n",
    "- pep8 is a styleguide and pro's use it\n",
    "https://peps.python.org/pep-0008/#introduction\n",
    "\n",
    "# use python 3\n",
    "- check the python changes"
   ]
  },
  {
   "attachments": {},
   "cell_type": "markdown",
   "metadata": {},
   "source": []
  },
  {
   "attachments": {},
   "cell_type": "markdown",
   "metadata": {},
   "source": [
    "# **SOLID** Principles<br>\n",
    "- Single Responsibility Principle<br>\n",
    "- Open/Closed Principle<br>\n",
    "- Liskov Substitution Principle<br>\n",
    "- Interface Segregation Principle<br>\n",
    "- Dependency Inversion<br>\n",
    "\n",
    "**Single Responsibility Principle** <br>\n",
    "A class should have one, and only one, reason to change.\n",
    "\n",
    "**Open/Closed Principle**<br>\n",
    "“Software entities (classes, modules, functions, etc.) should be open for extension, but closed for modification.”\n",
    "\n",
    "**Liskov Substitution Principle**<br>\n",
    "The principle defines that objects of a superclass shall be replaceable with objects of its subclasses without breaking the application. That requires the objects of your subclasses to behave in the same way as the objects of your superclass.\n",
    "\n",
    "**Interface Segregation Principle**<br>\n",
    "\"Clients should not be forced to depend upon interfaces that they do not use.\"\n",
    "\n",
    "**Dependency Inversion Principle** consists of two parts:\n",
    "1. High-level modules should not depend on low-level modules. Both should depend on abstractions.\n",
    "2. Abstractions should not depend on details. Details should depend on abstractions.\n",
    "\n"
   ]
  },
  {
   "cell_type": "code",
   "execution_count": null,
   "metadata": {},
   "outputs": [],
   "source": [
    "import logging\n",
    "import socket\n",
    "import subprocess\n",
    "import time\n",
    "from collections import namedtuple\n",
    "\n",
    "import numpy as np\n",
    "\n",
    "\n",
    "def manual_str_formatting(name, subscribers):\n",
    "    if subscribers > 100000:\n",
    "        print(\"Wow \" + name + \"! you have \" + str(subscribers) + \" subscribers!\")\n",
    "    else:\n",
    "        print(\"Lol \" + name + \" that's not many subs\")\n",
    "\n",
    "    # better\n",
    "    if subscribers > 100000:\n",
    "        print(f\"Wow {name}! you have {subscribers} subscribers!\")\n",
    "    else:\n",
    "        print(f\"Lol {name} that's not many subs\")\n",
    "\n",
    "\n",
    "def manually_calling_close_on_a_file(filename):\n",
    "    f = open(filename, \"w\")\n",
    "    f.write(\"hello!\\n\")\n",
    "    f.close()\n",
    "\n",
    "    with open(filename, \"w\") as f:\n",
    "        f.write(\"hello!\\n\")\n",
    "    # close automatic, even if exception\n",
    "\n",
    "def finally_instead_of_context_manager(host, port):\n",
    "    s = socket.socket(socket.AF_INET, socket.SOCK_STREAM)\n",
    "    try:\n",
    "        s.connect((host, port))\n",
    "        s.sendall(b'Hello, world')\n",
    "    finally:\n",
    "        s.close()\n",
    "\n",
    "    # close even if exception\n",
    "    with socket.socket(socket.AF_INET, socket.SOCK_STREAM) as s:\n",
    "        s.connect((host, port))\n",
    "        s.sendall(b'Hello, world')\n",
    "\n",
    "\n",
    "def bare_except():\n",
    "    while True:\n",
    "        try:\n",
    "            s = input(\"Input a number: \")\n",
    "            x = int(s)\n",
    "            break\n",
    "        except:  # oops! can't CTRL-C to exit\n",
    "            print(\"Not a number, try again\")\n",
    "\n",
    "    while True:\n",
    "        try:\n",
    "            s = input(\"Input a number: \")\n",
    "            x = int(s)\n",
    "            break\n",
    "        except Exception:  # still better to use ValueError\n",
    "            print(\"Not a number, try again\")\n",
    "\n",
    "\n",
    "def caret_and_exponentiation(x, p):\n",
    "    y = x ^ p  # bitwise xor of x and p, not exponentiation\n",
    "    y = x ** p\n",
    "\n",
    "\n",
    "def mutable_default_arguments():\n",
    "    def append(n, l=[]):\n",
    "        l.append(n)\n",
    "        return l\n",
    "\n",
    "    l1 = append(0)  # [0]\n",
    "    l2 = append(1)  # [0, 1]\n",
    "\n",
    "    def append(n, l=None):\n",
    "        if l is None:\n",
    "            l = []\n",
    "        l.append(n)\n",
    "        return l\n",
    "\n",
    "    l1 = append(0)  # [0]\n",
    "    l2 = append(1)  # [1]\n",
    "\n",
    "def never_using_comprehensions():\n",
    "    squares = {}\n",
    "    for i in range(10):\n",
    "        squares[i] = i * i\n",
    "\n",
    "    # same\n",
    "    odd_squares = {i: i * i for i in range(10)}\n",
    "\n",
    "def always_using_comprehensions(a, b, n):\n",
    "    \"\"\"matrix product of a, b of length n x n\"\"\"\n",
    "    c = [\n",
    "        sum(a[n * i + k] * b[n * k + j] for k in range(n))\n",
    "        for i in range(n)\n",
    "        for j in range(n)\n",
    "    ]\n",
    "\n",
    "    c = []\n",
    "    for i in range(n):\n",
    "        for j in range(n):\n",
    "            ij_entry = sum(a[n * i + k] * b[n * k + j] for k in range(n))\n",
    "            c.append(ij_entry)\n",
    "\n",
    "    return c\n",
    "\n",
    "def checking_type_equality():\n",
    "    Point = namedtuple('Point', ['x', 'y'])\n",
    "    p = Point(1, 2)\n",
    "\n",
    "    if type(p) == tuple:\n",
    "        print(\"it's a tuple\")\n",
    "    else:\n",
    "        print(\"it's not a tuple\")\n",
    "\n",
    "    # probably meant to check if is instance of tuple\n",
    "    if isinstance(p, tuple):\n",
    "        print(\"it's a tuple\")\n",
    "    else:\n",
    "        print(\"it's not a tuple\")\n",
    "\n",
    "\n",
    "def equality_for_singletons(x):\n",
    "    if x == None:\n",
    "        pass\n",
    "\n",
    "    if x == True:\n",
    "        pass\n",
    "\n",
    "    if x == False:\n",
    "        pass\n",
    "\n",
    "    # better\n",
    "    if x is None:\n",
    "        pass\n",
    "\n",
    "    if x is True:\n",
    "        pass\n",
    "\n",
    "    if x is False:\n",
    "        pass\n",
    "\n",
    "def checking_bool_or_len(x):\n",
    "    if bool(x):\n",
    "        pass\n",
    "\n",
    "    if len(x) != 0:\n",
    "        pass\n",
    "\n",
    "    # usually equivalent to\n",
    "    if x:\n",
    "        pass\n",
    "\n",
    "def range_len_pattern():\n",
    "    a = [1, 2, 3]\n",
    "    for i in range(len(a)):\n",
    "        v = a[i]\n",
    "        ...\n",
    "\n",
    "    # instead\n",
    "    for v in a:\n",
    "        ...\n",
    "\n",
    "    # or if you wanted the index\n",
    "    for i, v in enumerate(a):\n",
    "        ...\n",
    "\n",
    "    # using i to sync between two things?\n",
    "    b = [4, 5, 6]\n",
    "    for i in range(len(b)):\n",
    "        av = a[i]\n",
    "        bv = b[i]\n",
    "        ...\n",
    "\n",
    "    # instead use zip\n",
    "    for av, bv in zip(a, b):\n",
    "        ...\n",
    "\n",
    "def for_key_in_dict_keys():\n",
    "    d = {\"a\": 1, \"b\": 2, \"c\": 3}\n",
    "    for key in d.keys():\n",
    "        ...\n",
    "\n",
    "    # that's the default\n",
    "    for key in d:\n",
    "        ...\n",
    "\n",
    "    # or if you meant to make a copy of keys\n",
    "    for key in list():\n",
    "        ...\n",
    "\n",
    "def not_using_dict_items():\n",
    "    d = {\"a\": 1, \"b\": 2, \"c\": 3}\n",
    "    for key in d:\n",
    "        val = d[key]\n",
    "        ...\n",
    "\n",
    "    for key, val in d.items():\n",
    "        ...\n",
    "\n",
    "def tuple_unpacking():\n",
    "    x = 0\n",
    "    y = 1\n",
    "\n",
    "    tmp = x\n",
    "    x = y\n",
    "    y = tmp\n",
    "\n",
    "    x, y = 0, 1\n",
    "    x, y = y, x\n",
    "\n",
    "    mytuple = 1, 2\n",
    "    x = mytuple[0]\n",
    "    y = mytuple[1]\n",
    "\n",
    "    x, y = mytuple\n",
    "\n",
    "\n",
    "def index_counter_variable():\n",
    "    l = [1, 2, 3]\n",
    "\n",
    "    i = 0\n",
    "    for x in l:\n",
    "        ...\n",
    "        i += 1\n",
    "\n",
    "    for i, x in enumerate(l):\n",
    "        ...\n",
    "\n",
    "def timing_with_time():\n",
    "    start = time.time()\n",
    "    time.sleep(1)\n",
    "    end = time.time()\n",
    "    print(end - start)\n",
    "\n",
    "    # more accurate\n",
    "    start = time.perf_counter()\n",
    "    time.sleep(1)\n",
    "    end = time.perf_counter()\n",
    "    print(end - start)\n",
    "\n",
    "\n",
    "\n",
    "def print_vs_logging():\n",
    "    print(\"debug info\")\n",
    "    print(\"just some info\")\n",
    "    print(\"bad error\")\n",
    "\n",
    "    # versus\n",
    "    # in main\n",
    "    level = logging.DEBUG\n",
    "    fmt = '[%(levelname)s] %(asctime)s - %(message)s'\n",
    "    logging.basicConfig(level=level, format=fmt)\n",
    "\n",
    "    # wherever\n",
    "    logging.debug(\"debug info\")\n",
    "    logging.info(\"just some info\")\n",
    "    logging.error(\"uh oh :(\")\n",
    "\n",
    "def subprocess_with_shell_true():\n",
    "    subprocess.run([\"ls -l\"], capture_output=True, shell=True)\n",
    "\n",
    "    subprocess.run([\"ls\", \"-l\"], capture_output=True)\n",
    "\n",
    "def not_using_numpy_pandas():\n",
    "    x = list(range(100))\n",
    "    y = list(range(100))\n",
    "    s = [a + b for a, b in zip(x, y)]\n",
    "\n",
    "    # better (faster)\n",
    "    x = np.arange(100)\n",
    "    y = np.arange(100)\n",
    "    s = x + y\n",
    "\n",
    "\n",
    "def not_following_pep8():\n",
    "    x = (1, 2)\n",
    "    y=5\n",
    "    l = [1,2,3]\n",
    "\n",
    "    def func(x=5):\n",
    "        ...\n",
    "\n",
    "\n",
    "def python2_thinking():\n",
    "    x = 10000000000000000000\n",
    "    print(x in range(2 * x))  # ranges are lazy, this will be fast\n",
    "\n",
    "    d = {\"a\": 1, \"b\": 2, \"c\": 3}\n",
    "    keys = d.keys()\n",
    "    del d[\"a\"]\n",
    "    print(\"a\" in keys)  # keys is a \"view\", not a copy"
   ]
  }
 ],
 "metadata": {
  "kernelspec": {
   "display_name": "lewagon",
   "language": "python",
   "name": "python3"
  },
  "language_info": {
   "codemirror_mode": {
    "name": "ipython",
    "version": 3
   },
   "file_extension": ".py",
   "mimetype": "text/x-python",
   "name": "python",
   "nbconvert_exporter": "python",
   "pygments_lexer": "ipython3",
   "version": "3.10.5"
  },
  "orig_nbformat": 4,
  "vscode": {
   "interpreter": {
    "hash": "ad7afd56c4a9327988b254949fc9ff6c4de57fd051da33a62b5f87e3ddafe8d2"
   }
  }
 },
 "nbformat": 4,
 "nbformat_minor": 2
}
