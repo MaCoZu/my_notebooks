{
 "cells": [
  {
   "cell_type": "markdown",
   "metadata": {},
   "source": [
    "# advanced collections\n",
    "- found in  collections module\n",
    "- The collections module provides alternatives to built-in container data types\n",
    "- namedtuple: tuple with named fields\n",
    "- OrderedDict, defaultdict: dictionaries with special properties\n",
    "- Counter: counts distinct values\n",
    "- deque: double-ended list\n",
    "\n",
    "## collections\n",
    "- __namedtuple()__ - factory function for creating tuple subclasses with named fields\n",
    "- __deque__ - list-like container with fast appends and pops on either end\n",
    "- __ChainMap__ - dict-like class for creating a single view of multiple mappings\n",
    "- __Counter__ - dict subclass for counting hashable objects\n",
    "- __OrderedDict__ - dict subclass that remembers the order entries were added\n",
    "- __defaultdict__ - dict subclass that calls a factory function to supply missing values\n",
    "- __UserDict__ - wrapper around dictionary objects for easier dict subclassing\n",
    "- __UserList__ - wrapper around list objects for easier list subclassing\n",
    "- __UserString__ - wrapper around string objects for easier string subclassing"
   ]
  },
  {
   "cell_type": "markdown",
   "metadata": {},
   "source": [
    "__namedtuple()__\n",
    "\n",
    "- The namedtuple() function returns a tuple-like object with named fields. \n",
    "- These field attributes are accessible by lookup as well as by index. \n",
    "- Named tuples allow you to create tuples and assign meaningful names to the positions of the tuple’s elements.\n",
    "- Technically, a named tuple is a subclass of tuple. On top of that, it adds property names to the positional elements.</br>"
   ]
  },
  {
   "cell_type": "code",
   "execution_count": 41,
   "metadata": {},
   "outputs": [
    {
     "name": "stdout",
     "output_type": "stream",
     "text": [
      "Car(Price=100000, Mileage=30, Colour='Cyan', Class='Y')\n",
      "100000\n",
      "Cyan\n"
     ]
    }
   ],
   "source": [
    "from collections import namedtuple\n",
    "\n",
    "Car = namedtuple('Car', 'Price Mileage Colour Class')\n",
    "xyz = Car(Price=100000, Mileage=30, Colour='Cyan', Class='Y')\n",
    "print(xyz)\n",
    "print(xyz.Price) # values are accesible by name\n",
    "print(xyz[2]) # or index"
   ]
  },
  {
   "cell_type": "code",
   "execution_count": null,
   "metadata": {},
   "outputs": [
    {
     "name": "stdout",
     "output_type": "stream",
     "text": [
      "Point(x=10, y=20)\n",
      "30\n",
      "20\n",
      "Point(x=15, y=20)\n"
     ]
    }
   ],
   "source": [
    "Point = namedtuple('Point', 'x y') # alternative naming \n",
    "p1 = Point(10, 20)\n",
    "p2 = Point(30, 40)\n",
    "\n",
    "print(p1)\n",
    "print(p2.x) # instead of p2[1]\n",
    "\n",
    "p1 = p1._replace(x=15)  # change value using it's name\n",
    "print(p1)"
   ]
  },
  {
   "attachments": {},
   "cell_type": "markdown",
   "metadata": {},
   "source": [
    "## OrderedDict()\n",
    "- An OrderedDict is a dictionary that remembers the order of the keys that were inserted first. \n",
    "- If a new entry overwrites an existing entry, the original insertion position is left unchanged.\n",
    "- pop item from the top is possible\n",
    "- since Python 3.7 normal dict remeber the insertion order too, a few differences still remain see here:\n",
    "https://docs.python.org/3/library/collections.html#ordereddict-objects"
   ]
  },
  {
   "cell_type": "code",
   "execution_count": 5,
   "metadata": {},
   "outputs": [
    {
     "name": "stdout",
     "output_type": "stream",
     "text": [
      "OrderedDict([('A', 65), ('C', 67), ('B', 66), ('D', 68)])\n"
     ]
    }
   ],
   "source": [
    "from collections import OrderedDict \n",
    "od = OrderedDict()\n",
    "od['A'] = 65\n",
    "od['C'] = 67\n",
    "od['B'] = 66\n",
    "od['D'] = 68\n",
    "\n",
    "od"
   ]
  },
  {
   "cell_type": "code",
   "execution_count": 6,
   "metadata": {},
   "outputs": [
    {
     "name": "stdout",
     "output_type": "stream",
     "text": [
      "('A', 65)\n",
      "('D', 68)\n",
      "OrderedDict([('C', 67), ('B', 66)])\n"
     ]
    }
   ],
   "source": [
    "first = od.popitem(False) # removes first item in the dict\n",
    "last = od.popitem() # removes the last\n",
    "print(first)\n",
    "print(last)\n",
    "print(od)"
   ]
  },
  {
   "cell_type": "code",
   "execution_count": 8,
   "metadata": {},
   "outputs": [
    {
     "data": {
      "text/plain": [
       "OrderedDict([('D', 68), ('C', 67), ('B', 66), ('A', 65)])"
      ]
     },
     "execution_count": 8,
     "metadata": {},
     "output_type": "execute_result"
    }
   ],
   "source": [
    "od['A'] = 65\n",
    "od['D'] = 68\n",
    "\n",
    "# normal_dict[\"A\"] = d.pop(\"A\")\n",
    "od.move_to_end(\"A\") # moves \"A\" to the first place\n",
    "od.move_to_end(\"D\", False) # moves \"D\" to the end\n",
    "od"
   ]
  },
  {
   "cell_type": "code",
   "execution_count": 9,
   "metadata": {},
   "outputs": [
    {
     "data": {
      "text/plain": [
       "OrderedDict([('D', 68), ('C', 67), ('B', 66), ('A', 75)])"
      ]
     },
     "execution_count": 9,
     "metadata": {},
     "output_type": "execute_result"
    }
   ],
   "source": [
    "od[\"A\"]+=10 # add 10 to \"A\"\n",
    "od"
   ]
  },
  {
   "cell_type": "code",
   "execution_count": 10,
   "metadata": {},
   "outputs": [
    {
     "name": "stdout",
     "output_type": "stream",
     "text": [
      "False\n",
      "True\n"
     ]
    }
   ],
   "source": [
    "a = OrderedDict({'a': 1, 'b': 2, 'c': 3})\n",
    "b = OrderedDict({'a': 1, 'c': 3, 'b': 2})\n",
    "c = {'a': 1, 'c': 3, 'b': 2}\n",
    "\n",
    "print(a==b) # order matters for OrderdDict\n",
    "print(a==c) # for ordinary dict order does not matter"
   ]
  },
  {
   "attachments": {},
   "cell_type": "markdown",
   "metadata": {},
   "source": [
    "## __defaultdict__\n",
    "- A defaultdict is like a regular dictionary, except when you look up an non-existing\n",
    "key, it adds a default value for that key.\n",
    "- With other dictionaries you'd have to check to see if that key exists, \n",
    "and if it doesn't, set it. "
   ]
  },
  {
   "cell_type": "code",
   "execution_count": 16,
   "metadata": {},
   "outputs": [
    {
     "data": {
      "text/plain": [
       "defaultdict(int,\n",
       "            {'A': 1,\n",
       "             ' ': 7,\n",
       "             'd': 3,\n",
       "             'e': 3,\n",
       "             'f': 1,\n",
       "             'a': 4,\n",
       "             'u': 2,\n",
       "             'l': 3,\n",
       "             't': 3,\n",
       "             'i': 5,\n",
       "             'c': 2,\n",
       "             's': 1,\n",
       "             'k': 1,\n",
       "             'r': 3,\n",
       "             'g': 1,\n",
       "             'o': 1,\n",
       "             'n': 1,\n",
       "             'y': 1,\n",
       "             '.': 3,\n",
       "             'Z': 0,\n",
       "             'w': 0,\n",
       "             'ß': 0})"
      ]
     },
     "execution_count": 16,
     "metadata": {},
     "output_type": "execute_result"
    }
   ],
   "source": [
    "from collections import defaultdict\n",
    "\n",
    "document = '''A defaultdict is like a regular dictionary... '''\n",
    "\n",
    "# int() assigns a value of 0 when we look for a non-existing key in letter_counts\n",
    "letter_counts = defaultdict(int)\n",
    "\n",
    "# add letters as keys and count their occurance\n",
    "for letter in document:\n",
    "    letter_counts[letter] += 1\n",
    "\n",
    "# looking up non-existing letters adds these letters as keys with a value of 0\n",
    "letter_counts['Z']\n",
    "letter_counts['w']\n",
    "letter_counts['ß']\n",
    "\n",
    "letter_counts"
   ]
  },
  {
   "cell_type": "code",
   "execution_count": 24,
   "metadata": {},
   "outputs": [
    {
     "name": "stdout",
     "output_type": "stream",
     "text": [
      "('python', ['awesome', 'language', 'language']) ('something-else', ['not relevant'])\n"
     ]
    }
   ],
   "source": [
    "from collections import defaultdict\n",
    "\n",
    "d = defaultdict(list) # empty dicionary\n",
    "d['python'].append(\"awesome\") # call initiates a key=\"python\" and a list containing \"awsome\"\n",
    "d['something-else'].append(\"not relevant\")\n",
    "d['python'].append(\"language\") # the list gets updated\n",
    "d['python'].append(\"language\") # the list gets updated\n",
    "\n",
    "\n",
    "print(*d.items())"
   ]
  },
  {
   "cell_type": "code",
   "execution_count": 27,
   "metadata": {},
   "outputs": [
    {
     "data": {
      "text/plain": [
       "[('blue', {2, 4}), ('red', {1, 3})]"
      ]
     },
     "execution_count": 27,
     "metadata": {},
     "output_type": "execute_result"
    }
   ],
   "source": [
    "s = [('red', 1), ('blue', 2), ('red', 3), ('blue', 4), ('red', 1), ('blue', 4)]\n",
    "ds = defaultdict(set)\n",
    "[ds[k].add(v) for k, v in s] # add works only with sets\n",
    "sorted(ds.items())"
   ]
  },
  {
   "cell_type": "code",
   "execution_count": 29,
   "metadata": {},
   "outputs": [
    {
     "data": {
      "text/plain": [
       "defaultdict(dict,\n",
       "            {'Joel': {'City': 'Seattle'},\n",
       "             'Mike': {'City': {'Seattle': 'Downtown'}}})"
      ]
     },
     "execution_count": 29,
     "metadata": {},
     "output_type": "execute_result"
    }
   ],
   "source": [
    "dd_dict = defaultdict(dict) # dict() produces an empty dict\n",
    "dd_dict[\"Joel\"][\"City\"] = \"Seattle\"\n",
    "dd_dict[\"Mike\"][\"City\"] = {\"Seattle\": \"Downtown\"} # nested dicionary\n",
    "dd_dict"
   ]
  },
  {
   "cell_type": "code",
   "execution_count": 38,
   "metadata": {},
   "outputs": [
    {
     "ename": "NameError",
     "evalue": "name 'name' is not defined",
     "output_type": "error",
     "traceback": [
      "\u001b[0;31m---------------------------------------------------------------------------\u001b[0m",
      "\u001b[0;31mNameError\u001b[0m                                 Traceback (most recent call last)",
      "\u001b[1;32m/home/mz/code/MaCoZu/Data Science Notebooks/open_notebooks/01.1_advanced_collections.ipynb Cell 14\u001b[0m in \u001b[0;36m<cell line: 10>\u001b[0;34m()\u001b[0m\n\u001b[1;32m      <a href='vscode-notebook-cell://wsl%2Bubuntu/home/mz/code/MaCoZu/Data%20Science%20Notebooks/open_notebooks/01.1_advanced_collections.ipynb#X52sdnNjb2RlLXJlbW90ZQ%3D%3D?line=7'>8</a>\u001b[0m d\u001b[39m.\u001b[39mupdate(name\u001b[39m=\u001b[39m\u001b[39m'\u001b[39m\u001b[39mJohn\u001b[39m\u001b[39m'\u001b[39m, action\u001b[39m=\u001b[39m\u001b[39m'\u001b[39m\u001b[39mran\u001b[39m\u001b[39m'\u001b[39m)\n\u001b[1;32m      <a href='vscode-notebook-cell://wsl%2Bubuntu/home/mz/code/MaCoZu/Data%20Science%20Notebooks/open_notebooks/01.1_advanced_collections.ipynb#X52sdnNjb2RlLXJlbW90ZQ%3D%3D?line=8'>9</a>\u001b[0m \u001b[39m'\u001b[39m\u001b[39m%(name)s\u001b[39;00m\u001b[39m \u001b[39m\u001b[39m%(action)s\u001b[39;00m\u001b[39m to \u001b[39m\u001b[39m%(object)s\u001b[39;00m\u001b[39m'\u001b[39m \u001b[39m%\u001b[39m d \n\u001b[0;32m---> <a href='vscode-notebook-cell://wsl%2Bubuntu/home/mz/code/MaCoZu/Data%20Science%20Notebooks/open_notebooks/01.1_advanced_collections.ipynb#X52sdnNjb2RlLXJlbW90ZQ%3D%3D?line=9'>10</a>\u001b[0m d(name)\n",
      "\u001b[0;31mNameError\u001b[0m: name 'name' is not defined"
     ]
    }
   ],
   "source": [
    "# The function int() which always returns zero is just a special case of constant functions.\n",
    "# A more flexible way to create constant functions is to use a lambda\n",
    "# function which can supply any constant value.\n",
    "def custom_default(value):\n",
    "    return lambda: value\n",
    "\n",
    "d = defaultdict(custom_default('<missing>')) # now <missing> is the default value for keys \n",
    "d.update(name='John', action='ran')\n",
    "'%(name)s %(action)s to %(object)s' % d \n",
    "    "
   ]
  },
  {
   "cell_type": "code",
   "execution_count": null,
   "metadata": {},
   "outputs": [
    {
     "data": {
      "text/plain": [
       "defaultdict(<function __main__.<lambda>()>, {2: [0, 1]})"
      ]
     },
     "metadata": {},
     "output_type": "display_data"
    }
   ],
   "source": [
    "dd_pair = defaultdict(lambda: [0, 0])\n",
    "dd_pair[2][1] = 1 \n",
    "dd_pair"
   ]
  },
  {
   "cell_type": "code",
   "execution_count": null,
   "metadata": {},
   "outputs": [
    {
     "data": {
      "text/plain": [
       "{'apple': 2, 'pear': 1, 'banana': 2, 'peach': 1, 'cherry': 1}"
      ]
     },
     "metadata": {},
     "output_type": "display_data"
    }
   ],
   "source": [
    "fruits = ['apple', 'pear', 'banana', 'apple', 'peach', 'cherry', 'banana']\n",
    "fruitCounter={} # dict that should count the fruits\n",
    "\n",
    "for fruit in fruits:\n",
    "    if fruit in fruitCounter.keys():   # error if there is no fruit initilized in the dict\n",
    "        fruitCounter[fruit] += 1\n",
    "    else:\n",
    "        fruitCounter[fruit] = 1  # thus we need to check and insert a key (fruit) first \n",
    "\n",
    "fruitCounter"
   ]
  },
  {
   "cell_type": "code",
   "execution_count": null,
   "metadata": {},
   "outputs": [
    {
     "name": "stdout",
     "output_type": "stream",
     "text": [
      "apple : 102\n",
      "pear : 101\n",
      "banana : 102\n",
      "peach : 101\n",
      "cherry : 101\n"
     ]
    }
   ],
   "source": [
    "# above code can be shortened and the\n",
    "# initilizing switched with a defaultdict\n",
    "from collections import defaultdict\n",
    "# int is the factory fct. and produces a default key if there is none\n",
    "fruitCounter = defaultdict(lambda: 100)\n",
    "\n",
    "for fruit in fruits:\n",
    "# now no chceking for key is required bc. defaultdict sets a default key\n",
    "        fruitCounter[fruit] += 1\n",
    "\n",
    "for k, v in fruitCounter.items():\n",
    "    print(k,':', v)"
   ]
  },
  {
   "attachments": {},
   "cell_type": "markdown",
   "metadata": {},
   "source": [
    "## Counter\n",
    "- A counter is a container that stores elements as dictionary keys, and their counts are stored as dictionary values.\n",
    "- dict that counts hashable objects"
   ]
  },
  {
   "cell_type": "code",
   "execution_count": 7,
   "metadata": {},
   "outputs": [
    {
     "name": "stdout",
     "output_type": "stream",
     "text": [
      "dict_items([(1, 3), (2, 4), (3, 4), (4, 2), (5, 1)])\n",
      "dict_keys([1, 2, 3, 4, 5])\n",
      "dict_values([3, 4, 4, 2, 1])\n"
     ]
    }
   ],
   "source": [
    "from collections import Counter\n",
    "\n",
    "myList = [1, 1, 2, 3, 4, 5, 3, 2, 3, 4, 2, 1, 2, 3]\n",
    "counter = Counter(myList)\n",
    "\n",
    "print(counter.items())\n",
    "print(counter.keys())\n",
    "print(counter.values())"
   ]
  },
  {
   "cell_type": "code",
   "execution_count": null,
   "metadata": {},
   "outputs": [],
   "source": [
    "from collections import Counter\n",
    "class1 = ['Bob', 'Jenny', 'Hannes', 'Greg', 'Boris', 'Lara', 'Hannah', 'Suse', 'Kara', 'Bob', 'Lara']\n",
    "class2=['Lara', 'Steffen', 'Simon', 'Becky', 'Lila', 'Gunna', 'Lena', 'Rose', 'Greg', 'Jenny']\n",
    "\n",
    "c1= Counter(class1)\n",
    "c2= Counter(class2)"
   ]
  },
  {
   "cell_type": "code",
   "execution_count": null,
   "metadata": {},
   "outputs": [
    {
     "data": {
      "text/plain": [
       "Counter({'Bob': 2,\n",
       "         'Jenny': 1,\n",
       "         'Hannes': 1,\n",
       "         'Greg': 1,\n",
       "         'Boris': 1,\n",
       "         'Lara': 2,\n",
       "         'Hannah': 1,\n",
       "         'Suse': 1,\n",
       "         'Kara': 1})"
      ]
     },
     "metadata": {},
     "output_type": "display_data"
    }
   ],
   "source": [
    "c1"
   ]
  },
  {
   "cell_type": "code",
   "execution_count": null,
   "metadata": {},
   "outputs": [
    {
     "name": "stdout",
     "output_type": "stream",
     "text": [
      "Bob 2\n",
      "Lara 2\n",
      "Jenny 1\n"
     ]
    }
   ],
   "source": [
    "for name, count in c1.most_common(3): # three most common names\n",
    "    print(name, count)"
   ]
  },
  {
   "cell_type": "code",
   "execution_count": null,
   "metadata": {},
   "outputs": [
    {
     "name": "stdout",
     "output_type": "stream",
     "text": [
      "2\n",
      "10  students in class 1\n"
     ]
    }
   ],
   "source": [
    "print(c1['Bob']) # how many Bob's are in c1?\n",
    "print(sum(c1.values()), ' students in class 1')"
   ]
  },
  {
   "cell_type": "code",
   "execution_count": null,
   "metadata": {},
   "outputs": [
    {
     "name": "stdout",
     "output_type": "stream",
     "text": [
      "20  students in class 1\n"
     ]
    }
   ],
   "source": [
    "c1.update(class2) # combine two sets\n",
    "print(sum(c1.values()), ' students in class 1')"
   ]
  },
  {
   "cell_type": "code",
   "execution_count": null,
   "metadata": {},
   "outputs": [
    {
     "name": "stdout",
     "output_type": "stream",
     "text": [
      "[('Bob', 2), ('Jenny', 2), ('Greg', 2)]\n"
     ]
    }
   ],
   "source": [
    "print(c1.most_common(3))"
   ]
  },
  {
   "cell_type": "code",
   "execution_count": null,
   "metadata": {},
   "outputs": [
    {
     "name": "stdout",
     "output_type": "stream",
     "text": [
      "[('Bob', 2), ('Hannes', 1), ('Boris', 1)]\n"
     ]
    }
   ],
   "source": [
    "c1.subtract(class2) # separate the sets again\n",
    "print(c1.most_common(3))"
   ]
  },
  {
   "cell_type": "code",
   "execution_count": null,
   "metadata": {},
   "outputs": [
    {
     "name": "stdout",
     "output_type": "stream",
     "text": [
      "Counter({'Jenny': 1, 'Greg': 1, 'Lara': 1})\n"
     ]
    }
   ],
   "source": [
    "print(c1 & c2) # common objects in both"
   ]
  },
  {
   "attachments": {},
   "cell_type": "markdown",
   "metadata": {},
   "source": [
    "## deque\n",
    "- A deque is a double-ended queue, pronounced 'deck'.\n",
    "- Accessible from both sides, one can add or remove elements from both ends.\n",
    "- appendleft(), append(), popleft(), pop(), rotate(): \n",
    "- A deque is more efficient than a normal list object, where the removal of any item causes all items <br>\n",
    "to the right to be shifted towards left by one index. \n",
    "- Deque is preferred over a list when we want to append or pop from both sides of a container.\n",
    "- As deque provides an O(1) time complexity for append and pop operations where list provides O(n)."
   ]
  },
  {
   "cell_type": "code",
   "execution_count": 12,
   "metadata": {},
   "outputs": [
    {
     "data": {
      "text/plain": [
       "deque([0, 20, 30, 50])"
      ]
     },
     "execution_count": 12,
     "metadata": {},
     "output_type": "execute_result"
    }
   ],
   "source": [
    "from collections import deque\n",
    "\n",
    "q=deque([10,20,30,40])\n",
    "q.pop(); q # drops last appended (right) item\n",
    "q.popleft(); q \n",
    "q.appendleft(0); q\n",
    "q.append(50); q"
   ]
  },
  {
   "cell_type": "code",
   "execution_count": 17,
   "metadata": {},
   "outputs": [
    {
     "name": "stdout",
     "output_type": "stream",
     "text": [
      "deque(['a', 'b', 'c', 'd', 'e', 'f', 'g', 'h', 'i', 'j', 'k', 'l', 'm', 'n', 'o', 'p', 'q', 'r', 's', 't', 'u', 'v', 'w', 'x', 'y', 'z'])\n"
     ]
    }
   ],
   "source": [
    "from collections import deque\n",
    "import string\n",
    "d = deque(string.ascii_lowercase) # initilized with lowercase letters\n",
    "\n",
    "print(d)"
   ]
  },
  {
   "cell_type": "code",
   "execution_count": 21,
   "metadata": {},
   "outputs": [
    {
     "name": "stdout",
     "output_type": "stream",
     "text": [
      "deque([6, 5, 4, 30, 5, 4, 30, 5, 4, 30, 5, 4, 30, 'y', 'x', 'w', 'v', 'u', 't', 's', 'r', 'q', 'p', 'o', 'n', 'm', 'l', 'k', 'i', 'h', 'g', 'f', 'e', 'd', 'c', 'b', 1, 'D', 'F', 1, 'D', 'F', 1, 'D', 'F', 1, 'D', 'F', 'G'])\n"
     ]
    },
    {
     "data": {
      "text/plain": [
       "1"
      ]
     },
     "execution_count": 21,
     "metadata": {},
     "output_type": "execute_result"
    }
   ],
   "source": [
    "d.pop() \n",
    "d.popleft() \n",
    "d.appendleft(1) \n",
    "d.append(30)\n",
    "d.extend([4, 5, 6])\n",
    "d.extendleft(['D', 'F', 'G'])\n",
    "# d.clear()\n",
    "# d.remove(\"j\")\n",
    "d.reverse()\n",
    "print(d)\n",
    "d.count(\"c\")"
   ]
  },
  {
   "cell_type": "code",
   "execution_count": null,
   "metadata": {},
   "outputs": [
    {
     "name": "stdout",
     "output_type": "stream",
     "text": [
      "deque(['a', 'b', 'c', 'd', 'e', 'f', 'g', 'h', 'i', 'j', 'k', 'l', 'm', 'n', 'o', 'p', 'q', 'r', 's', 't', 'u', 'v', 'w', 'x', 'y', 'z'])\n",
      "deque(['g', 'h', 'i', 'j', 'k', 'l', 'm', 'n', 'o', 'p', 'q', 'r', 's', 't', 'u', 'v', 'w', 'x', 'y', 'z', 'a', 'b', 'c', 'd', 'e', 'f'])\n"
     ]
    }
   ],
   "source": [
    "from collections import deque\n",
    "import string\n",
    "\n",
    "d = deque(string.ascii_lowercase)\n",
    "print(d)\n",
    "# rotates the sequence,\n",
    "# -n takes first n elements to the end (right)\n",
    "# +n takes the last n elements to the front (left)\n",
    "d.rotate(20)\n",
    "print(d)"
   ]
  },
  {
   "cell_type": "code",
   "execution_count": 22,
   "metadata": {},
   "outputs": [
    {
     "name": "stdout",
     "output_type": "stream",
     "text": [
      "6 5 4 30 5 4 30 5 4 30 5 4 30 y x w v u t s r q p o n m l k i h g f e d c b 1 D F 1 D F 1 D F 1 D F G\n"
     ]
    }
   ],
   "source": [
    "print(*d)"
   ]
  }
 ],
 "metadata": {
  "kernelspec": {
   "display_name": "bayes",
   "language": "python",
   "name": "python3"
  },
  "language_info": {
   "codemirror_mode": {
    "name": "ipython",
    "version": 3
   },
   "file_extension": ".py",
   "mimetype": "text/x-python",
   "name": "python",
   "nbconvert_exporter": "python",
   "pygments_lexer": "ipython3",
   "version": "3.10.5"
  },
  "orig_nbformat": 4
 },
 "nbformat": 4,
 "nbformat_minor": 2
}
