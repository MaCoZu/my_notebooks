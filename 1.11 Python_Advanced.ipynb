{
 "cells": [
  {
   "cell_type": "markdown",
   "metadata": {},
   "source": [
    "# Cleaner Code"
   ]
  },
  {
   "cell_type": "markdown",
   "metadata": {},
   "source": [
    "## Assertions\n",
    "\n",
    "<details>\n",
    "\n",
    "- Python’s assert statement is a debugging aid that tests a condition as an internal self-check in your program.\n",
    "- will make your programs more reliable and easier to debug\n",
    "- helps track down bugs, as the point out where the Exception happend\n",
    "- Asserts should only be used to help developers identify bugs. They’re not a mechanism for handling run-time errors.\n",
    "- Asserts can be globally disabled with an interpreter setting.\n",
    "- DO NOT USE ASERTION TO VALIDATE INPUT DATA, since assertions can be globally disabled with command line swicthes -0 and -00\n",
    "- If you pass a **tuple** to an assert statement, it leads to the assert **condition always being true**\n",
    "- \n",
    "</details>"
   ]
  },
  {
   "cell_type": "code",
   "execution_count": 1,
   "metadata": {},
   "outputs": [
    {
     "data": {
      "text/plain": [
       "11175"
      ]
     },
     "execution_count": 1,
     "metadata": {},
     "output_type": "execute_result"
    }
   ],
   "source": [
    "def apply_discount(product, discount):\n",
    "    price = int(product['price'] * (1.0 - discount))\n",
    "    assert 0 <= price <= product['price']\n",
    "    return price\n",
    "\n",
    "shoes = {'name': 'Fancy Shoes', 'price': 14900}\n",
    "apply_discount(shoes, 0.25)\n",
    "# apply_discount(shoes, 2.0) # violates the assertion, exception traceback points us to the place where the code failed"
   ]
  },
  {
   "cell_type": "code",
   "execution_count": null,
   "metadata": {},
   "outputs": [],
   "source": [
    "# DO NOT USE ASERTION TO VALIDATE INPUT DATA, \n",
    "# since assertions can be globally disabled with command line swicthes -0 and -00\n",
    "\n",
    "\n",
    "def delete_product(prod_id, user):\n",
    "    assert user.is_admin() # if assertions are switched of anybody can delete products\n",
    "    assert store.has_product(prod_id) # product chek is skipped and any product can be deleted\n",
    "    store.get_product(prod_id).delete() # "
   ]
  },
  {
   "cell_type": "code",
   "execution_count": null,
   "metadata": {},
   "outputs": [],
   "source": [
    "# BETTER: use if-else\n",
    "\n",
    "def delete_product(product_id, user):\n",
    "    if not user.is_admin():\n",
    "        raise AuthError('Must be admin to delete')\n",
    "    if not store.has_product(product_id):\n",
    "        raise ValueError('Unknown product id')\n",
    "    store.get_product(product_id).delete()"
   ]
  },
  {
   "cell_type": "markdown",
   "metadata": {},
   "source": [
    "## Comma Placement\n",
    "- **put a comma after every entry especially the last one** in your list, dict and set \n",
    "- helps to catch hard-to-spot bugs\n",
    "- helps with git diff: since most source control systems are line-based and have a hard time highlighting multiple changes to a single line.\n",
    "- if you forget to set a comma, strings get glued togethter even if they are in different lines - it's called 'string literal concatenation'"
   ]
  },
  {
   "cell_type": "code",
   "execution_count": null,
   "metadata": {},
   "outputs": [],
   "source": [
    "names = [ \n",
    "    'Alice', \n",
    "    'Bob',\n",
    "    'Dilbert', \n",
    "    ]"
   ]
  },
  {
   "cell_type": "markdown",
   "metadata": {},
   "source": [
    "## Context Manager\n",
    "<details>\n",
    "\n",
    "- resources like file operations or database connections need to be released after usage if not it could <br>\n",
    "lead to resource leakage and may cause the system to slow down or crash\n",
    "- When a file is opened, a file descriptor is consumed which is a limited resource.\n",
    "- Context Managers provide an easy way to manage resources\n",
    "- context managers saves us the tedious ``try: ... finally: ...`` resource handling logic\n",
    "- it also helps you avoid bugs or leaks by making it practically impossible to forget to clean up or release a resource when it’s no longer needed.\n",
    "\n",
    "\n",
    "**with open()**\n",
    "- opening files using `with` statement is recommanded bc. it ensures that file descriptors are closed automatically after excution.\n",
    "- with closes the file descriptor even if  an exception happens\n",
    "- The open() function takes two parameters; filename, and mode.\n",
    "-  There are four different methods (modes) for opening a file:\n",
    "- \"r\" - read: default, opens a file for reading, error if the file does not exist\n",
    "- \"a\" - append: opens a file for appending, creates the file if it does not exist\n",
    "- \"w\" - write: opens a file for writing, creates the file if it does not exist\n",
    "\n",
    "</details>"
   ]
  },
  {
   "cell_type": "code",
   "execution_count": null,
   "metadata": {},
   "outputs": [
    {
     "name": "stdout",
     "output_type": "stream",
     "text": [
      "hello, world!\n"
     ]
    }
   ],
   "source": [
    "# use a context manager for resource managing, closes automaticaly, even if exception happens\n",
    "# use whenever you set up and tear down ressources, like databases connections\n",
    "with open('hello.txt', 'w') as f:\n",
    "    f.write('hello, world!')\n",
    "\n",
    "with open('hello.txt', 'r') as f:\n",
    "    file_content = f.read()\n",
    "\n",
    "print(file_content)"
   ]
  },
  {
   "cell_type": "code",
   "execution_count": null,
   "metadata": {},
   "outputs": [],
   "source": [
    "from re import X\n",
    "import socket\n",
    "\n",
    "host = yyy\n",
    "port = zzz\n",
    "\n",
    "# the tedious way or under the hood\n",
    "s = socket.socket(socket.AF_INET, socket.SOCK_STREAM)\n",
    "try:\n",
    "    s.connect((host, port))\n",
    "    s.sendall(b'Hello, world')\n",
    "finally:\n",
    "    s.close()\n",
    "\n",
    "# the context manager way\n",
    "# closes even if exception happens\n",
    "with socket.socket(socket.AF_INET, socket.SOCK_STREAM) as s:\n",
    "    s.connect((host, port))\n",
    "    s.sendall(b'Hello, world')"
   ]
  },
  {
   "cell_type": "markdown",
   "metadata": {},
   "source": [
    "## Underscores, Dunders, and More\n",
    "\n",
    "- **Single Leading Underscore “ _var ”**: Naming convention indicating a name is meant for internal use. A hint for programmers and not enforced by the interpreter (except in wildcard imports.)\n",
    "\n",
    "- **Single Trailing Underscore “ var_ ”**: Used by convention to\n",
    "avoid naming conflicts with Python keywords.\n",
    "- **Double Leading Underscore “ __var ”**: Triggers name mangling when used in a class context. Enforced by the Python\n",
    "interpreter.\n",
    "\n",
    "- **Double Leading and Trailing Underscore “ __var__ ”**: Indicates special methods deﬁned by the Python language. Avoid this naming scheme for your own attributes.\n",
    "\n",
    "- **Single Underscore “ _ ”**: Sometimes used as a name for temporary or insigniﬁcant variables (“don’t care”). Also, it represents  the result of the last expression in a Python REPL session."
   ]
  },
  {
   "cell_type": "markdown",
   "metadata": {},
   "source": [
    "### Single Underscore _var:<br>\n",
    "has meaning by convention only, it's a hint for programmers that the variable is intended for internal use. A variable inside a class self._var is still reachbale. But if we had a module ``module.py`` and would import with wildcard ``from module import *`` the names with a leading underscore would not be imported, while a regular import `import module` would also import names with leading underscores."
   ]
  },
  {
   "cell_type": "code",
   "execution_count": 7,
   "metadata": {},
   "outputs": [
    {
     "name": "stdout",
     "output_type": "stream",
     "text": [
      "11\n",
      "23\n"
     ]
    }
   ],
   "source": [
    "class Test:\n",
    "    def __init__(self):\n",
    "        self.foo = 11\n",
    "        self._bar = 23\n",
    "\n",
    "t = Test()\n",
    "print(t.foo)\n",
    "print(t._bar) # is accessible as any variable"
   ]
  },
  {
   "cell_type": "markdown",
   "metadata": {},
   "source": [
    "### Single trailing underscore var_:\n",
    "if the most fitting name for your variable is already a keyword, you can break the nameing conflict with the trailing undrscore."
   ]
  },
  {
   "cell_type": "code",
   "execution_count": 8,
   "metadata": {},
   "outputs": [],
   "source": [
    "# now we can use the keyword class as a variable name\n",
    "def make_object(name, class_): \n",
    "    pass"
   ]
  },
  {
   "cell_type": "markdown",
   "metadata": {},
   "source": [
    "### Double leading underscore __var:<br>\n",
    "A double underscore (dunder) preﬁx causes the Python interpreter to rewrite the attribute name in order to avoid naming conflicts in subclasses. This is also called name mangling—the interpreter changes the name of the variable in a way that makes it harder to create collisions when the class is extended later. It does this to protect the variable from getting overridden in subclasses."
   ]
  },
  {
   "cell_type": "code",
   "execution_count": 12,
   "metadata": {},
   "outputs": [
    {
     "name": "stdout",
     "output_type": "stream",
     "text": [
      "['_Test__baz', '__class__', '__delattr__', '__dict__', '__dir__', '__doc__', '__eq__', '__format__', '__ge__', '__getattribute__', '__getstate__', '__gt__', '__hash__', '__init__', '__init_subclass__', '__le__', '__lt__', '__module__', '__ne__', '__new__', '__reduce__', '__reduce_ex__', '__repr__', '__setattr__', '__sizeof__', '__str__', '__subclasshook__', '__weakref__', '_bar', 'foo']\n",
      "['_ExtendedTest__baz', '_Test__baz', '__class__', '__delattr__', '__dict__', '__dir__', '__doc__', '__eq__', '__format__', '__ge__', '__getattribute__', '__getstate__', '__gt__', '__hash__', '__init__', '__init_subclass__', '__le__', '__lt__', '__module__', '__ne__', '__new__', '__reduce__', '__reduce_ex__', '__repr__', '__setattr__', '__sizeof__', '__str__', '__subclasshook__', '__weakref__', '_bar', 'foo']\n"
     ]
    }
   ],
   "source": [
    "class Test:\n",
    "    def __init__(self):\n",
    "        self.foo = 11\n",
    "        self._bar = 23\n",
    "        self.__baz = 42 # can not be overridden by a subclass\n",
    "\n",
    "t = Test()\n",
    "print(dir(t))\n",
    "\n",
    "class ExtendedTest(Test):\n",
    "    def __init__(self):\n",
    "        super().__init__()\n",
    "        self.foo = 'overridden'\n",
    "        self._bar = 'overridden'\n",
    "        # now there is a  `_Test__baz` and `_ExtendedTest__baz`\n",
    "        self.__baz = 'overridden' \n",
    "\n",
    "\n",
    "t_ex = ExtendedTest()\n",
    "print(dir(t_ex))"
   ]
  },
  {
   "cell_type": "code",
   "execution_count": 24,
   "metadata": {},
   "outputs": [
    {
     "data": {
      "text/plain": [
       "'hello'"
      ]
     },
     "execution_count": 24,
     "metadata": {},
     "output_type": "execute_result"
    }
   ],
   "source": [
    "class ManglingTest:\n",
    "    def __init__(self):\n",
    "        self.__mangled = 'hello'\n",
    "\n",
    "    def get_mangled(self):\n",
    "        return self.__mangled\n",
    "    \n",
    "# method to reach an attribute with __var\n",
    "ManglingTest().get_mangled()\n",
    "\n",
    "\n",
    "# ManglingTest().__mangled # AttributeError: 'ManglingTest' object has no attribute '__mangled'\n",
    "\n",
    "# calling the __var by it's mangled name\n",
    "ManglingTest()._ManglingTest__mangled"
   ]
  },
  {
   "cell_type": "code",
   "execution_count": 32,
   "metadata": {},
   "outputs": [
    {
     "data": {
      "text/plain": [
       "42"
      ]
     },
     "execution_count": 32,
     "metadata": {},
     "output_type": "execute_result"
    }
   ],
   "source": [
    "# name mangeling also applies to method names\n",
    "\n",
    "class MangledMethod:\n",
    "    def __method(self):\n",
    "        return 42\n",
    "    \n",
    "    def call_it(self):\n",
    "        return self.__method()\n",
    "    \n",
    "# MangledMethod().__method() # AttributeError: 'MangledMethod' object has no attribute '__method'\n",
    "MangledMethod().call_it()\n",
    "MangledMethod()._MangledMethod__method()"
   ]
  },
  {
   "cell_type": "code",
   "execution_count": 34,
   "metadata": {},
   "outputs": [
    {
     "data": {
      "text/plain": [
       "23"
      ]
     },
     "execution_count": 34,
     "metadata": {},
     "output_type": "execute_result"
    }
   ],
   "source": [
    "_MangledGlobal__mangled = 23 # global variable\n",
    "\n",
    "'''\n",
    "Bc. of name mangling, it's possible to reference the _MangledGlobal__mangled global variable\n",
    "as just __mangled inside the test method on the class. The Python interpreter automatically expanded\n",
    "the name __mangled to _MangledGlobal__mangled. Name mangling isn't tied to class attributes speciﬁcally. \n",
    "It applies to any name starting with two underscore characters that is used in a class context.\n",
    "''' \n",
    "\n",
    "class MangledGlobal:\n",
    "    def test(self):\n",
    "        return __mangled # access variable in a class with the \n",
    "        \n",
    "MangledGlobal().test()"
   ]
  },
  {
   "cell_type": "markdown",
   "metadata": {},
   "source": [
    "### Double leading and trailing Underscores __var__:<br>\n",
    "No name-mangeling happens here. Names that have both leading and trailing double underscores are reserved for special use in the language - **dunder methods** like ``__init__`` & ``__call__``. As far as naming conventions go, it’s best to stay away from using names that start and end with double underscores in your own programs to avoid collisions with future changes to the Python language."
   ]
  },
  {
   "cell_type": "code",
   "execution_count": 15,
   "metadata": {},
   "outputs": [
    {
     "data": {
      "text/plain": [
       "42"
      ]
     },
     "execution_count": 15,
     "metadata": {},
     "output_type": "execute_result"
    }
   ],
   "source": [
    "\n",
    "class PrefixPostfixTest:\n",
    "    def __init__(self):\n",
    "        # i tis possible to give names like __bam__ but not recommended\n",
    "        self.__bam__ = 42\n",
    "\n",
    "PrefixPostfixTest().__bam__"
   ]
  },
  {
   "cell_type": "markdown",
   "metadata": {},
   "source": [
    "### Single underscore _:<br>\n",
    "  - Per convention, a single stand-alone underscore is sometimes used as a name to indicate that a variable is temporary or insigniﬁcant. You can also use single underscores in unpacking expressions as a “don’t care” variable to ignore particular values.\n",
    "  - Besides its use as a temporary variable, “ _ ” is a special variable in most Python REPLs that represents the result of the last expression evaluated by the interpreter.\n",
    "  - It’s also handy if you’re constructing objects on the fly and want to interact with them without assigning them a name ﬁrst\n",
    "\n"
   ]
  },
  {
   "cell_type": "code",
   "execution_count": 14,
   "metadata": {},
   "outputs": [
    {
     "name": "stdout",
     "output_type": "stream",
     "text": [
      "Hello, World.\n",
      "Hello, World.\n",
      "Hello, World.\n"
     ]
    }
   ],
   "source": [
    "for _ in range(3):\n",
    "    print('Hello, World.')"
   ]
  },
  {
   "cell_type": "markdown",
   "metadata": {},
   "source": [
    "## String formatting\n",
    "\n",
    "Rule of thumb:<br>\n",
    "- If your format strings are user-supplied, use Template Strings to avoid security issues. \n",
    "- Otherwise, use Literal String Interpolation (f-strings) if you’re on Python 3.6+, and “New Style” String Formatting if you’re not."
   ]
  },
  {
   "cell_type": "markdown",
   "metadata": {},
   "source": [
    "### old-style or printf-style\n",
    "- still supported in latest python"
   ]
  },
  {
   "cell_type": "code",
   "execution_count": 44,
   "metadata": {},
   "outputs": [
    {
     "name": "stdout",
     "output_type": "stream",
     "text": [
      "Hello, Bob\n",
      "badc0ffee\n",
      "Hey Bob, there is a 0xbadc0ffee error!\n",
      "Hey Bob, there is a 0xbadc0ffee error!\n"
     ]
    }
   ],
   "source": [
    "errno = 50159747054\n",
    "name = 'Bob'\n",
    "\n",
    "# the old style\n",
    "print('Hello, %s' % name)\n",
    "print('%x' % errno) # %x converts int to string and represent as hex number\n",
    "\n",
    "# %-operator only takes one argument: (tuple), order counts\n",
    "print('Hey %s, there is a 0x%x error!' % (name, errno)) \n",
    "\n",
    "# mapping, no need to keep it ordered\n",
    "print('Hey %(name)s, there is a 0x%(errno)x error!' % {\"name\": name, \"errno\": errno }) "
   ]
  },
  {
   "cell_type": "markdown",
   "metadata": {},
   "source": [
    "### new-style - format()"
   ]
  },
  {
   "cell_type": "code",
   "execution_count": 42,
   "metadata": {},
   "outputs": [
    {
     "data": {
      "text/plain": [
       "'Hey Bob, there is a 0xbadc0ffee error!'"
      ]
     },
     "execution_count": 42,
     "metadata": {},
     "output_type": "execute_result"
    }
   ],
   "source": [
    "# substitution by name not order\n",
    "# to format int as hex we need to pass a 'format spec' as a suffix {var:x} \n",
    "'Hey {name}, there is a 0x{errno:x} error!'.format(name=name, errno=errno)"
   ]
  },
  {
   "cell_type": "markdown",
   "metadata": {},
   "source": [
    "### f-string: formatted string interplolation (python 3.6+)"
   ]
  },
  {
   "cell_type": "code",
   "execution_count": 48,
   "metadata": {},
   "outputs": [
    {
     "data": {
      "text/plain": [
       "'Five plus ten is 15 and not 30'"
      ]
     },
     "execution_count": 48,
     "metadata": {},
     "output_type": "execute_result"
    }
   ],
   "source": [
    "a = 5\n",
    "b = 10\n",
    "# f-strings do the same as the line one below does but faster and cleaner \n",
    "f'Five plus ten is {a + b} and not {2 * (a + b)}.'\n",
    "\n",
    "'Five plus ten is '+ str((a+b)) + ' and not ' + str((2*(a+b)))\n",
    "\n",
    "# f-strings support the format() syntax \n",
    "f\"Hey {name}, there's a {errno:#x} error!\""
   ]
  },
  {
   "cell_type": "markdown",
   "metadata": {},
   "source": [
    "### Template string\n",
    "- need to be imported\n",
    "- no string formatting allowed\n",
    "- When to use: \n",
    "  -  When handling format strings generated by users of your program. \n",
    "  -  Due to their reduced complexity,template strings are a safer choice.\n",
    "  -  More complex formatting might introduce security vulnerabilities. "
   ]
  },
  {
   "cell_type": "code",
   "execution_count": 49,
   "metadata": {},
   "outputs": [
    {
     "data": {
      "text/plain": [
       "'Hey, Bob!'"
      ]
     },
     "execution_count": 49,
     "metadata": {},
     "output_type": "execute_result"
    }
   ],
   "source": [
    "from string import Template\n",
    "t = Template('Hey, $name!')\n",
    "t.substitute(name=name)\n",
    "\n",
    "\n",
    "templ_string = 'Hey $name, there is a $error error!'\n",
    "Template(templ_string).substitute(name=name, error=hex(errno)) # formatting need to be done beforehand"
   ]
  },
  {
   "cell_type": "code",
   "execution_count": 51,
   "metadata": {},
   "outputs": [
    {
     "data": {
      "text/plain": [
       "'this-is-a-secret'"
      ]
     },
     "execution_count": 51,
     "metadata": {},
     "output_type": "execute_result"
    }
   ],
   "source": [
    "'''\n",
    "SECURITY RISK: it's possible for format strings to access arbitrary variables in your program.\n",
    "A malicious user can supply a format string they can also potentially leak secret keys and \n",
    "other sensitive information! E.g. an attacker can extract our secret string by accessing the \n",
    "__globals__ dictionary from the format string.\n",
    "'''\n",
    "\n",
    "SECRET = 'this-is-a-secret'\n",
    "\n",
    "class Error:\n",
    "    def __init__(self):\n",
    "        pass\n",
    "\n",
    "err = Error()\n",
    "user_input = '{error.__init__.__globals__[SECRET]}'\n",
    "\n",
    "user_input.format(error=err)"
   ]
  },
  {
   "cell_type": "code",
   "execution_count": 52,
   "metadata": {},
   "outputs": [
    {
     "ename": "ValueError",
     "evalue": "Invalid placeholder in string: line 1, col 1",
     "output_type": "error",
     "traceback": [
      "\u001b[0;31m---------------------------------------------------------------------------\u001b[0m",
      "\u001b[0;31mValueError\u001b[0m                                Traceback (most recent call last)",
      "\u001b[1;32m/home/mz/code/MaCoZu/python_notebooks/1.11 Python_Advanced.ipynb Cell 34\u001b[0m line \u001b[0;36m2\n\u001b[1;32m      <a href='vscode-notebook-cell://wsl%2Bubuntu/home/mz/code/MaCoZu/python_notebooks/1.11%20Python_Advanced.ipynb#Y542sdnNjb2RlLXJlbW90ZQ%3D%3D?line=0'>1</a>\u001b[0m user_input \u001b[39m=\u001b[39m \u001b[39m'\u001b[39m\u001b[39m$\u001b[39m\u001b[39m{error.__init__.__globals__[SECRET]}\u001b[39;00m\u001b[39m'\u001b[39m\n\u001b[0;32m----> <a href='vscode-notebook-cell://wsl%2Bubuntu/home/mz/code/MaCoZu/python_notebooks/1.11%20Python_Advanced.ipynb#Y542sdnNjb2RlLXJlbW90ZQ%3D%3D?line=1'>2</a>\u001b[0m Template(user_input)\u001b[39m.\u001b[39;49msubstitute(error\u001b[39m=\u001b[39;49merr)\n",
      "File \u001b[0;32m~/micromamba/envs/dsr/lib/python3.11/string.py:121\u001b[0m, in \u001b[0;36mTemplate.substitute\u001b[0;34m(self, mapping, **kws)\u001b[0m\n\u001b[1;32m    118\u001b[0m         \u001b[39mself\u001b[39m\u001b[39m.\u001b[39m_invalid(mo)\n\u001b[1;32m    119\u001b[0m     \u001b[39mraise\u001b[39;00m \u001b[39mValueError\u001b[39;00m(\u001b[39m'\u001b[39m\u001b[39mUnrecognized named group in pattern\u001b[39m\u001b[39m'\u001b[39m,\n\u001b[1;32m    120\u001b[0m                      \u001b[39mself\u001b[39m\u001b[39m.\u001b[39mpattern)\n\u001b[0;32m--> 121\u001b[0m \u001b[39mreturn\u001b[39;00m \u001b[39mself\u001b[39;49m\u001b[39m.\u001b[39;49mpattern\u001b[39m.\u001b[39;49msub(convert, \u001b[39mself\u001b[39;49m\u001b[39m.\u001b[39;49mtemplate)\n",
      "File \u001b[0;32m~/micromamba/envs/dsr/lib/python3.11/string.py:118\u001b[0m, in \u001b[0;36mTemplate.substitute.<locals>.convert\u001b[0;34m(mo)\u001b[0m\n\u001b[1;32m    116\u001b[0m     \u001b[39mreturn\u001b[39;00m \u001b[39mself\u001b[39m\u001b[39m.\u001b[39mdelimiter\n\u001b[1;32m    117\u001b[0m \u001b[39mif\u001b[39;00m mo\u001b[39m.\u001b[39mgroup(\u001b[39m'\u001b[39m\u001b[39minvalid\u001b[39m\u001b[39m'\u001b[39m) \u001b[39mis\u001b[39;00m \u001b[39mnot\u001b[39;00m \u001b[39mNone\u001b[39;00m:\n\u001b[0;32m--> 118\u001b[0m     \u001b[39mself\u001b[39;49m\u001b[39m.\u001b[39;49m_invalid(mo)\n\u001b[1;32m    119\u001b[0m \u001b[39mraise\u001b[39;00m \u001b[39mValueError\u001b[39;00m(\u001b[39m'\u001b[39m\u001b[39mUnrecognized named group in pattern\u001b[39m\u001b[39m'\u001b[39m,\n\u001b[1;32m    120\u001b[0m                  \u001b[39mself\u001b[39m\u001b[39m.\u001b[39mpattern)\n",
      "File \u001b[0;32m~/micromamba/envs/dsr/lib/python3.11/string.py:101\u001b[0m, in \u001b[0;36mTemplate._invalid\u001b[0;34m(self, mo)\u001b[0m\n\u001b[1;32m     99\u001b[0m     colno \u001b[39m=\u001b[39m i \u001b[39m-\u001b[39m \u001b[39mlen\u001b[39m(\u001b[39m'\u001b[39m\u001b[39m'\u001b[39m\u001b[39m.\u001b[39mjoin(lines[:\u001b[39m-\u001b[39m\u001b[39m1\u001b[39m]))\n\u001b[1;32m    100\u001b[0m     lineno \u001b[39m=\u001b[39m \u001b[39mlen\u001b[39m(lines)\n\u001b[0;32m--> 101\u001b[0m \u001b[39mraise\u001b[39;00m \u001b[39mValueError\u001b[39;00m(\u001b[39m'\u001b[39m\u001b[39mInvalid placeholder in string: line \u001b[39m\u001b[39m%d\u001b[39;00m\u001b[39m, col \u001b[39m\u001b[39m%d\u001b[39;00m\u001b[39m'\u001b[39m \u001b[39m%\u001b[39m\n\u001b[1;32m    102\u001b[0m                  (lineno, colno))\n",
      "\u001b[0;31mValueError\u001b[0m: Invalid placeholder in string: line 1, col 1"
     ]
    }
   ],
   "source": [
    "user_input = '${error.__init__.__globals__[SECRET]}'\n",
    "Template(user_input).substitute(error=err)"
   ]
  },
  {
   "cell_type": "markdown",
   "metadata": {},
   "source": [
    "# Functions\n",
    "- Everything in Python is an object, including functions. You can assign them to variables, store them in data structures, and pass or return them to and from other functions (ﬁrst-class functions.)\n",
    "- First-class functions allow you to abstract away and pass around behavior in your programs.\n",
    "- Functions can be nested and they can capture and carry some of the parent function’s state with them. Functions that do this are called closures.\n",
    "- Objects can be made callable. In many cases this allows you to treat them like functions."
   ]
  },
  {
   "cell_type": "markdown",
   "metadata": {},
   "source": [
    "## Functions are objects\n",
    "- are objects and can be assign to another variable: ``fct_new_name = fct``\n",
    "- even if `fct` is now deleted `fct_new_name` is still callable\n",
    "- Python attaches a string identifier to every fct. it's accessible with `fct.__name__`\n",
    "- A variable pointing to a function and the function itself are two separate things."
   ]
  },
  {
   "cell_type": "code",
   "execution_count": 59,
   "metadata": {},
   "outputs": [
    {
     "name": "stdout",
     "output_type": "stream",
     "text": [
      "HELLO!\n",
      "WOOF!\n",
      "STILL AROUND!\n"
     ]
    },
    {
     "data": {
      "text/plain": [
       "'yell'"
      ]
     },
     "execution_count": 59,
     "metadata": {},
     "output_type": "execute_result"
    }
   ],
   "source": [
    "def yell(text):\n",
    "    return print(text.upper() + '!')\n",
    "\n",
    "yell('hello')\n",
    "\n",
    "bark = yell\n",
    "bark('woof')\n",
    "\n",
    "del yell\n",
    "# yell('no yelling anymore')\n",
    "\n",
    "bark('still around') # even with yell deleted bark is still pointing to the function\n",
    "\n",
    "bark.__name__ # hget string identifier"
   ]
  },
  {
   "cell_type": "markdown",
   "metadata": {},
   "source": [
    "## Functions can be stored in data structures\n",
    "- e.g. in lists ``funcs = [fct1, fct2, fct3]``"
   ]
  },
  {
   "cell_type": "code",
   "execution_count": 66,
   "metadata": {},
   "outputs": [
    {
     "name": "stdout",
     "output_type": "stream",
     "text": [
      "HEY THERE!\n",
      "<function yell at 0x7f9e340d9bc0> None\n",
      "<method 'lower' of 'str' objects> hey there\n",
      "<method 'capitalize' of 'str' objects> Hey there\n",
      "HEYYO!\n"
     ]
    }
   ],
   "source": [
    "funcs = [bark, str.lower, str.capitalize]\n",
    "\n",
    "for f in funcs:\n",
    "    print(f, f('hey there'))\n",
    "\n",
    "funcs[0]('heyyo')"
   ]
  },
  {
   "cell_type": "markdown",
   "metadata": {},
   "source": [
    "## Functions can be passd to ither functions\n",
    "- It allows you to abstract away and pass around behavior in your programs. \n",
    "- Here, the greet function stays the same but you can pass in diﬀerent behaviors.\n",
    "- Functions that can accept other functions as arguments are also called higher-order functions. \n",
    "- Higher-order functions are a necessity for the functional programming style.\n",
    "- The classical example for higher-order functions in Python is the built-in map function. It takes a function object and an iterable, and then calls the function on each element in the iterable, yielding the results as it goes along."
   ]
  },
  {
   "cell_type": "code",
   "execution_count": 73,
   "metadata": {},
   "outputs": [
    {
     "name": "stdout",
     "output_type": "stream",
     "text": [
      "HI, I AM A PYTHON PROGRAM\n",
      "HI, I AM A PYTHON PROGRAM!\n",
      "None\n"
     ]
    }
   ],
   "source": [
    "def greet(func):\n",
    "    greeting = func('Hi, I am a Python program')\n",
    "    print(greeting)\n",
    "\n",
    "greet(str.upper)\n",
    "greet(bark)"
   ]
  },
  {
   "cell_type": "code",
   "execution_count": 76,
   "metadata": {},
   "outputs": [
    {
     "data": {
      "text/plain": [
       "['Hello', 'Hey', 'Hi']"
      ]
     },
     "execution_count": 76,
     "metadata": {},
     "output_type": "execute_result"
    }
   ],
   "source": [
    "# map  goes through the list and applies the 'capitalized' fct\n",
    "list(map(str.capitalize, ['hello', 'hey', 'hi']))"
   ]
  },
  {
   "cell_type": "markdown",
   "metadata": {},
   "source": [
    "## Nested Functions\n",
    "- Functions can house other (inner functions)\n",
    "- We can control the behavior of functions by passing arguments\n",
    "- And functions can also return behaviors"
   ]
  },
  {
   "cell_type": "code",
   "execution_count": 77,
   "metadata": {},
   "outputs": [
    {
     "data": {
      "text/plain": [
       "'hello, world...'"
      ]
     },
     "execution_count": 77,
     "metadata": {},
     "output_type": "execute_result"
    }
   ],
   "source": [
    "def speak(text):\n",
    "    # 'whisper' only exists inside of 'speak'\n",
    "    def whisper(t): # inner fct is passed text as and returns 'text.lower()' to the outer fct.\n",
    "        return t.lower() + '...'\n",
    "    return whisper(text) # speak call the inner fct. 'whisper'\n",
    "\n",
    "speak('Hello, World')"
   ]
  },
  {
   "cell_type": "code",
   "execution_count": 80,
   "metadata": {},
   "outputs": [
    {
     "data": {
      "text/plain": [
       "'HELLO!'"
      ]
     },
     "execution_count": 80,
     "metadata": {},
     "output_type": "execute_result"
    }
   ],
   "source": [
    "'''\n",
    "Function deﬁning two inner functions. \n",
    "Depending on the argument passed to top-level function, it selects and returns\n",
    "one of the inner functions.\n",
    "'''\n",
    "\n",
    "def get_speak_func(volume):\n",
    "    def whisper(text):\n",
    "         return text.lower() + '...'\n",
    "    def yell(text):\n",
    "        return text.upper() + '!'\n",
    "    \n",
    "    if volume > 0.5:\n",
    "     return yell\n",
    "    else:\n",
    "        return whisper\n",
    "    \n",
    "speak_func = get_speak_func(0.7)\n",
    "speak_func('Hello')"
   ]
  },
  {
   "cell_type": "markdown",
   "metadata": {},
   "source": [
    "## Functions can capture local state\n",
    "- inner functions can capture and carry the parents functions state\n",
    "- Inner functions that access parameters deﬁned in the parent function are called lexical closures (or just closures). \n",
    "- A closure remembers the values from its enclosing lexical scope even when the program flow is no longer in that scope."
   ]
  },
  {
   "cell_type": "code",
   "execution_count": 81,
   "metadata": {},
   "outputs": [
    {
     "data": {
      "text/plain": [
       "'HELLO, WORLD!'"
      ]
     },
     "execution_count": 81,
     "metadata": {},
     "output_type": "execute_result"
    }
   ],
   "source": [
    "# here inner functions do not have the text parameter\n",
    "# but they can 'capture' it from the parent function\n",
    "\n",
    "\n",
    "def get_speak_func(text, volume):\n",
    "    def whisper():\n",
    "        return text.lower() + '...'\n",
    "    def yell():\n",
    "        return text.upper() + '!'\n",
    "    if volume > 0.5:\n",
    "        return yell\n",
    "    else:\n",
    "        return whisper\n",
    "    \n",
    "get_speak_func('Hello, World', 0.7)()"
   ]
  },
  {
   "cell_type": "code",
   "execution_count": 85,
   "metadata": {},
   "outputs": [
    {
     "name": "stdout",
     "output_type": "stream",
     "text": [
      "7\n",
      "9\n"
     ]
    }
   ],
   "source": [
    "def make_adder(n):\n",
    "    def add(x):\n",
    "        return x + n\n",
    "    return add\n",
    "\n",
    "# make_adder is the enclosing scope\n",
    "plus_3 = make_adder(3) # n is set to 3\n",
    "plus_5 = make_adder(5) # n is et to 5\n",
    "\n",
    "seven = plus_3(4) # x is set to 4\n",
    "nine = plus_5(4) # x is set to 4\n",
    "\n",
    "print(seven) \n",
    "print(nine)"
   ]
  },
  {
   "cell_type": "markdown",
   "metadata": {},
   "source": [
    "## Objects can behave like functions\n",
    "- While all functions are objects in Python, the reverse isn’t true. Objects aren’t functions. But they can be made callable, which allows you to treat them like functions in many cases.\n",
    "- If an object is callable it means you can use the round parentheses function call syntax on it and even pass in function call arguments. All made possible by the ``__call__`` dunder method.\n",
    "- Behind the scenes, “calling” an object instance as a function attempts to execute the object’s ``__call__`` method. There’s a built-in callable function to check whether an object appears to be callable or not."
   ]
  },
  {
   "cell_type": "code",
   "execution_count": 93,
   "metadata": {},
   "outputs": [
    {
     "data": {
      "text/plain": [
       "True"
      ]
     },
     "execution_count": 93,
     "metadata": {},
     "output_type": "execute_result"
    }
   ],
   "source": [
    "class Adder:\n",
    "    def __init__(self, n):\n",
    "        self.n = n\n",
    "\n",
    "    def __call__(self, x):\n",
    "        return self.n + x\n",
    "    \n",
    "# deﬁning a callable object\n",
    "plus_3 = Adder(3)\n",
    "# plus_3 is now callable\n",
    "plus_3(4)\n",
    "\n",
    "callable('hello') # 'hello' is not callable\n",
    "callable(plus_3)"
   ]
  },
  {
   "cell_type": "markdown",
   "metadata": {},
   "source": [
    "## Lambda Functions\n",
    "<details>\n",
    "\n",
    "- Lambda functions are small anaymous functions.\n",
    "- Use them ith care bc. thy can be confusing, if you're doing anything remotely complex define a standalone function or list comprehension.\n",
    "- Using lambdas instead of nested functions can b more concise and clean. \n",
    "- Lambdas are restricted to a single expression. <br>\n",
    "  This means a lambda function can’t use statements or annotations—not even a return statement.\n",
    "- Lambdas implicitly returns the result.\n",
    "- Lambdas are considered lexical closures that means that they can access variables from the containing scope even after that scope has finished execution. This is due to the fact that lambdas have access to the surrounding environment in which they were created. This behavior allows for powerful and flexible functional programming techniques.\n",
    "\n",
    "\n",
    "- **Lexical Closures**:\n",
    "    - Lexical Scope: <br>\n",
    "      This refers to the concept that a variable defined in a certain scope (like a function) can be accessed by functions defined within that scope.These captured variables are stored in the function's ``__closure__`` attribute. Even if the containing scope (in this case, outer_function) has finished execution, the lambda function can still access the values stored in ``__closure__``.\n",
    "    - Closure: <br>\n",
    "      A closure is a function that remembers the values from its containing scope even when the program flow is no longer in that scope.\n",
    "\n",
    "</details>"
   ]
  },
  {
   "cell_type": "code",
   "execution_count": 96,
   "metadata": {},
   "outputs": [
    {
     "data": {
      "text/plain": [
       "[0, -1, 1, -2, 2, -3, 3, -4, 4, -5, 5]"
      ]
     },
     "execution_count": 96,
     "metadata": {},
     "output_type": "execute_result"
    }
   ],
   "source": [
    "# no 'def... return' or fct_name needed\n",
    "(lambda x, y: x**y)(5, 3)\n",
    "\n",
    "# use case - key funcs\n",
    "tuples = [(1, 'd'), (2, 'b'), (4, 'a'), (3, 'c')]\n",
    "sorted(tuples, key=lambda x: x[1]) # sort by second value in the tuple\n",
    "\n",
    "sorted(range(-5, 6), key=lambda x: x * x) # sort by x sqrt"
   ]
  },
  {
   "cell_type": "code",
   "execution_count": 98,
   "metadata": {},
   "outputs": [
    {
     "data": {
      "text/plain": [
       "15"
      ]
     },
     "execution_count": 98,
     "metadata": {},
     "output_type": "execute_result"
    }
   ],
   "source": [
    "def outer_function(x):\n",
    "    # the lambda captures x from it's enclosing scope\n",
    "    return lambda y: x + y\n",
    "\n",
    "closure = outer_function(10) # outer_function() returns a labda that remebers that x=10\n",
    "closure(5)"
   ]
  },
  {
   "cell_type": "code",
   "execution_count": null,
   "metadata": {},
   "outputs": [],
   "source": []
  },
  {
   "cell_type": "code",
   "execution_count": null,
   "metadata": {},
   "outputs": [],
   "source": []
  },
  {
   "cell_type": "code",
   "execution_count": null,
   "metadata": {},
   "outputs": [],
   "source": []
  },
  {
   "cell_type": "markdown",
   "metadata": {},
   "source": [
    "##  Decorators\n",
    "- Add functionality to an existing callable. They wrap functions into other functions, without permanently modifying the the wrapped functions. \n",
    "- **A decorator should return a function**. <br>\n",
    "  Here, uppercase() returns the wrapper() function, which will replace the decorated function greet. \n",
    "- The ``@ syntax`` is just a shorthand for calling the decorator on an input function.\n",
    "- You can **stack multiple decorators** on a single function decorators will be applied from bottom to top. \n",
    "- When you define the inner function, it creates a **closure** over the decorated function argument. This means that the inner function has access to the decorated function variable even after the outer function has finished.\n",
    "- The purpose of the inner function wrapper() is to control the execution of the original function. In this example, it calls func() and modifies its return value by converting it to uppercase.\n",
    "- As a **debugging** best practice, use the ``functools.wraps`` helper in your own decorators to carry over metadata from the undecorated callable to the decorated one."
   ]
  },
  {
   "cell_type": "code",
   "execution_count": 109,
   "metadata": {},
   "outputs": [
    {
     "data": {
      "text/plain": [
       "'HELLO!'"
      ]
     },
     "execution_count": 109,
     "metadata": {},
     "output_type": "execute_result"
    }
   ],
   "source": [
    "# uppercase() wraps the given function in another function.\n",
    "def uppercase(func):\n",
    "    def wrapper(): # closure/wrapper function\n",
    "        original_result = func()\n",
    "        modified_result = original_result.upper()\n",
    "        return modified_result\n",
    "    # A decorator should return a function. \n",
    "    return wrapper\n",
    "\n",
    "# greet() is decorated with uppercase().\n",
    "@uppercase\n",
    "def greet():\n",
    "    return 'Hello!'\n",
    "\n",
    "greet()"
   ]
  },
  {
   "cell_type": "markdown",
   "metadata": {},
   "source": [
    "## Stacking Multiple Decorators"
   ]
  },
  {
   "cell_type": "code",
   "execution_count": 111,
   "metadata": {},
   "outputs": [
    {
     "data": {
      "text/plain": [
       "'<strong><em>Hello!</em></strong>'"
      ]
     },
     "execution_count": 111,
     "metadata": {},
     "output_type": "execute_result"
    }
   ],
   "source": [
    "# you can stack multiple decorators to a function\n",
    "\n",
    "def strong(func):\n",
    "    def wrapper():\n",
    "        return '<strong>' + func() + '</strong>'\n",
    "    return wrapper\n",
    "\n",
    "def emphasis(func):\n",
    "    def wrapper():\n",
    "        return '<em>' + func() + '</em>'\n",
    "    return wrapper\n",
    "\n",
    "# decorators are ordered from bottom to top - stacked\n",
    "@strong\n",
    "@emphasis\n",
    "def greet():\n",
    "    return 'Hello!'\n",
    "\n",
    "greet()"
   ]
  },
  {
   "cell_type": "markdown",
   "metadata": {},
   "source": [
    "## Decorators with Arguments\n",
    "-  * and ** operators collect all positional and keyword arguments and stores them in variables (args and kwargs)\n",
    "-  The wrapper forwards the collected arguments to the original input function using the * and ** “argument unpacking” operators."
   ]
  },
  {
   "cell_type": "code",
   "execution_count": 112,
   "metadata": {},
   "outputs": [
    {
     "name": "stdout",
     "output_type": "stream",
     "text": [
      "TRACE: calling say() with ('Jane', 'Hello, World'), {}\n",
      "TRACE: say() returned 'Jane: Hello, World'\n"
     ]
    },
    {
     "data": {
      "text/plain": [
       "'Jane: Hello, World'"
      ]
     },
     "execution_count": 112,
     "metadata": {},
     "output_type": "execute_result"
    }
   ],
   "source": [
    "# Decorating a function with trace and then calling it will print the \n",
    "# arguments passed to the decorated function and its return value.\n",
    "\n",
    "def trace(func):\n",
    "    def wrapper(*args, **kwargs):\n",
    "        print(f'TRACE: calling {func.__name__}() '\n",
    "            f'with {args}, {kwargs}')\n",
    "        \n",
    "        original_result = func(*args, **kwargs)\n",
    "\n",
    "        print(f'TRACE: {func.__name__}() '\n",
    "            f'returned {original_result!r}')\n",
    "        \n",
    "        return original_result\n",
    "    \n",
    "    return wrapper\n",
    "\n",
    "\n",
    "\n",
    "@trace\n",
    "def say(name, line):\n",
    "    return f'{name}: {line}'\n",
    "\n",
    "say('Jane', 'Hello, World')"
   ]
  },
  {
   "cell_type": "markdown",
   "metadata": {},
   "source": [
    "## Debuggable Decorators\n",
    "- When you use a decorator, you’re  replacing one function with another. One downside of this process is that it “hides” some of the metadata attached to the original (undecorated) function.\n",
    "- The docstring, and parameter list of the original (undecorated) function are hidden by the wrapper closure.\n",
    "- ``functools.wraps`` decorator ﬁxes this, it copies over the lost metadata from the undecorated function to the decorator closure.\n",
    "- As a best practice, use functools.wraps in all of the decorators."
   ]
  },
  {
   "cell_type": "code",
   "execution_count": 116,
   "metadata": {},
   "outputs": [
    {
     "data": {
      "text/plain": [
       "'Return a friendly greeting.'"
      ]
     },
     "execution_count": 116,
     "metadata": {},
     "output_type": "execute_result"
    }
   ],
   "source": [
    "import functools\n",
    "\n",
    "def uppercase(func):\n",
    "    # without this line we could not call the \n",
    "    # __name__ or __doc__ of the decorated function\n",
    "    @functools.wraps(func) \n",
    "    def wrapper():\n",
    "        return func().upper()   \n",
    "    return wrapper\n",
    "\n",
    "@uppercase\n",
    "def greet():\n",
    "    \"\"\"Return a friendly greeting.\"\"\"\n",
    "    return 'Hello!'\n",
    "\n",
    "\n",
    "greet.__name__\n",
    "greet.__doc__"
   ]
  },
  {
   "cell_type": "markdown",
   "metadata": {},
   "source": [
    "## Args & Kwargs\n",
    "- allow functions to accept optional arguments\n",
    "- a function `def function(required, *args, **kwargs):` \n",
    "  - has one `required` argument while \n",
    "  - `*args` collects extra positonal arguements in a tuple and \n",
    "  - `**kwrags` collects keyword arguments as a dictionary.\n",
    "- `args` and `kwargs` can be empty if no extra arguments are passed to the function\n",
    "- `args` and `kwargs` are just a naming convention, the actual syntax is in the `*` and `**` so `*parms` and `**argv` could be used as well."
   ]
  },
  {
   "cell_type": "code",
   "execution_count": 120,
   "metadata": {},
   "outputs": [
    {
     "name": "stdout",
     "output_type": "stream",
     "text": [
      "hello\n",
      "hello\n",
      "(1, 2, 3)\n",
      "hello\n",
      "(1, 2, 3)\n",
      "{'key1': 'value', 'key2': 999}\n"
     ]
    }
   ],
   "source": [
    "def foo(required, *args, **kwargs):\n",
    "    print(required)\n",
    "    if args:\n",
    "        print(args)\n",
    "    if kwargs:\n",
    "        print(kwargs)\n",
    "\n",
    "foo('hello')\n",
    "foo('hello', 1,2,3)\n",
    "foo('hello', 1, 2, 3, key1='value', key2=999)"
   ]
  },
  {
   "cell_type": "markdown",
   "metadata": {},
   "source": [
    "## Forwarding Optional or Keyword Arguments\n",
    "- It’s possible to pass optional or keyword parameters from one function to another. \n",
    "- By using the argument-unpacking with * and ** when calling the function you want to forward arguments to.\n",
    "- This also gives you an opportunity to modify the arguments before you pass them along.\n",
    "- This can be useful for subclassing and writing wrapper functions. To extend the behavior of a parent\n",
    "class without having to replicate the full signature of its constructor in the child class."
   ]
  },
  {
   "cell_type": "code",
   "execution_count": null,
   "metadata": {},
   "outputs": [],
   "source": [
    "def foo(x, *args, **kwargs):\n",
    "    kwargs['name'] = 'Alice'\n",
    "    new_args = args + ('extra', )\n",
    "    bar(x, *new_args, **kwargs)"
   ]
  },
  {
   "cell_type": "code",
   "execution_count": 121,
   "metadata": {},
   "outputs": [
    {
     "data": {
      "text/plain": [
       "'blue'"
      ]
     },
     "execution_count": 121,
     "metadata": {},
     "output_type": "execute_result"
    }
   ],
   "source": [
    "class Car:\n",
    "    def __init__(self, color, mileage):\n",
    "        self.color = color\n",
    "        self.mileage = mileage\n",
    "\n",
    "'''The AlwaysBlueCar constructor simply passes on all arguments to it's  parent class and then \n",
    "overrides an internal attribute. But the constructor now has a rather unhelpful signature—we don't \n",
    "know what arguments it expects without looking up the parent class.'''\n",
    "\n",
    "class AlwaysBlueCar(Car):\n",
    "    def __init__(self, *args, **kwargs):\n",
    "        super().__init__(*args, **kwargs)\n",
    "        self.color = 'blue'\n",
    "\n",
    "AlwaysBlueCar('green', 48392).color"
   ]
  },
  {
   "cell_type": "code",
   "execution_count": 122,
   "metadata": {},
   "outputs": [
    {
     "name": "stdout",
     "output_type": "stream",
     "text": [
      "<function greet at 0x7f9e2c7ed1c0> ('Hello', 'Bob') {}\n",
      "Hello, Bob!\n"
     ]
    }
   ],
   "source": [
    "'''typically we want to accept arbitrary arguments to be passed through to the\n",
    "wrapped function without having to copy and paste the original function's signature'''\n",
    "\n",
    "\n",
    "def trace(f):\n",
    "    @functools.wraps(f)\n",
    "    def decorated_function(*args, **kwargs):\n",
    "        print(f, args, kwargs)\n",
    "        result = f(*args, **kwargs)\n",
    "        print(result)\n",
    "    return decorated_function\n",
    "\n",
    "@trace\n",
    "def greet(greeting, name):\n",
    "    return '{}, {}!'.format(greeting, name)\n",
    "\n",
    "greet('Hello', 'Bob')"
   ]
  },
  {
   "cell_type": "markdown",
   "metadata": {},
   "source": [
    "## Function Argument Unpacking\n",
    "- Function argument unpacking, often referred to as the *args and **kwargs syntax, allows you to pass a variable number of arguments to a function. This can be very useful when you're not sure in advance how many arguments you'll need to pass.\n",
    "- Putting a * before an iterable in a function call will unpack it and pass its elements as separate positional arguments to the called function.\n",
    "- Using the * operator on a generator consumes all elements from the generator and passes them to the function.\n",
    "-  Often this means you won’t have to implement a class for a data type needed by your program. As a result, using simple built-in data structures like tuples or lists will suﬃce and help reduce the complexity of your code."
   ]
  },
  {
   "cell_type": "code",
   "execution_count": 129,
   "metadata": {},
   "outputs": [
    {
     "name": "stdout",
     "output_type": "stream",
     "text": [
      "<1, 0, 1>\n",
      "<1, 0, 1>\n",
      "<0, 1, 4>\n",
      "<1, 0, 1>\n",
      "<y, z, x>\n"
     ]
    }
   ],
   "source": [
    "def print_vector(x, y, z):\n",
    "    print('<%s, %s, %s>' % (x, y, z))\n",
    "\n",
    "tuple_vec = (1, 0, 1)\n",
    "list_vec = [1, 0, 1]\n",
    "genexpr = (x * x for x in range(3))\n",
    "dict_vec = {'y': 0, 'z': 1, 'x': 1}\n",
    "\n",
    "print_vector(*tuple_vec) \n",
    "print_vector(*list_vec)\n",
    "print_vector(*genexpr)\n",
    "print_vector(**dict_vec) # values ordered by dict keys\n",
    "print_vector(*dict_vec) # keys in random order"
   ]
  },
  {
   "cell_type": "markdown",
   "metadata": {},
   "source": [
    "## unpacking"
   ]
  },
  {
   "cell_type": "code",
   "execution_count": null,
   "metadata": {},
   "outputs": [
    {
     "name": "stdout",
     "output_type": "stream",
     "text": [
      "apple\n",
      "banana\n",
      "['cherry', 'strawberry', 'raspberry']\n"
     ]
    }
   ],
   "source": [
    "# If the number of variables is less than the number of values, you can add an * \n",
    "# to the variable name and the values will be assigned to the variable as a list:\n",
    "\n",
    "fruits = (\"apple\", \"banana\", \"cherry\", \"strawberry\", \"raspberry\")\n",
    "\n",
    "(green, yellow, *red) = fruits\n",
    "\n",
    "print(green)\n",
    "print(yellow)\n",
    "print(red)"
   ]
  },
  {
   "cell_type": "code",
   "execution_count": null,
   "metadata": {},
   "outputs": [
    {
     "name": "stdout",
     "output_type": "stream",
     "text": [
      "apple\n",
      "['mango', 'papaya', 'pineapple']\n",
      "cherry\n"
     ]
    }
   ],
   "source": [
    "# If the asterisk is added to another variable name than the last, Python will assign values to \n",
    "# the variable until the number of values left matches the number of variables left.\n",
    "\n",
    "fruits = (\"apple\", \"mango\", \"papaya\", \"pineapple\", \"cherry\")\n",
    "\n",
    "(green, *tropic, red) = fruits\n",
    "\n",
    "print(green)\n",
    "print(tropic)\n",
    "print(red)"
   ]
  },
  {
   "cell_type": "markdown",
   "metadata": {},
   "source": [
    "## None Return\n",
    "- Python adds an implicit return None statement to the end of any function. \n",
    "- Therefore, if a function doesn’t specify a return value, it returns None by default.\n",
    "- This means you can replace return None statements with bare return statements or even leave them out completely and still get the same result\n",
    "- If a function doesn’t specify a return value, it returns None. Whether to explicitly return None is a stylistic decision. \n",
    "- This is a core Python feature but your code might communicate its intent more clearly with an explicit return None statement.\n",
    "- An example for a procedure would be Python’s built-in print function which is only called for its side-eﬀects (printing text) and never for its return value."
   ]
  },
  {
   "cell_type": "code",
   "execution_count": 2,
   "metadata": {},
   "outputs": [
    {
     "name": "stdout",
     "output_type": "stream",
     "text": [
      "<class 'NoneType'>\n",
      "<class 'NoneType'>\n",
      "<class 'NoneType'>\n"
     ]
    }
   ],
   "source": [
    "''''All three functions properly return None if you pass them a falsy value as the sole argument:'''\n",
    "\n",
    "def foo1(value):\n",
    "    if value:\n",
    "        return value\n",
    "    else:\n",
    "        return None\n",
    "    \n",
    "def foo2(value):\n",
    "    \"\"\"Bare return statement implies `return None`\"\"\"\n",
    "    if value:\n",
    "        return value\n",
    "    else:\n",
    "        return\n",
    "    \n",
    "def foo3(value):\n",
    "    \"\"\"Missing return statement implies `return None`\"\"\"\n",
    "    if value:\n",
    "        return value\n",
    "    \n",
    "print(type(foo1(0)))\n",
    "print(type(foo2(0)))\n",
    "print(type(foo3(0)))"
   ]
  },
  {
   "cell_type": "markdown",
   "metadata": {},
   "source": [
    "# Classes & OOP"
   ]
  },
  {
   "cell_type": "markdown",
   "metadata": {},
   "source": [
    "## Object Comparisons: “is” vs “==”\n",
    "- The `==` operator compares by checking for **equality**. <br>\n",
    "  An == expression evaluates to True if the objects referred to by the variables are equal (have the same contents).\n",
    "- The `is` operator compares **indentities**. <br>\n",
    "  An is expression evaluates to True if two variables point to the same (identical) object."
   ]
  },
  {
   "cell_type": "code",
   "execution_count": 9,
   "metadata": {},
   "outputs": [
    {
     "name": "stdout",
     "output_type": "stream",
     "text": [
      "[1, 2, 3]\n",
      "[1, 2, 3]\n",
      "True\n",
      "True\n",
      "[1, 2, 3]\n",
      "True\n",
      "False\n"
     ]
    }
   ],
   "source": [
    "a = [1, 2, 3]\n",
    "b = a\n",
    "print(a)\n",
    "print(b)\n",
    "print(a==b)\n",
    "print(a is b)\n",
    "c = list(a) # an identical copy of a\n",
    "print(c)\n",
    "print(a == c) # a nad c are equal \n",
    "print(a is c) # but not identical"
   ]
  },
  {
   "cell_type": "markdown",
   "metadata": {},
   "source": [
    "## String Conversion (``__repr__``)\n",
    "- Instead of printing out class attributes, it's better to add ``__str__`` and ``__repr__`` “dunder” methods to your class. \n",
    "- They are the Pythonic way to control how objects are converted to strings in diﬀerent situations. \n",
    "- `__str__` is one of Python’s “dunder” (double-underscore) methods and gets called when you try to convert an object into a string through the various means that are available: `print(instance)`, `str(instance)`\n",
    "- ``__str__`` is the Pythonic way to control string conversion.\n",
    "- The result of the date object’s ``__str__`` function should primarily be readable.\n",
    "- With ``__repr__`` , the idea is that its result should be, above all, unambiguous. The resulting string is intended more as a debugging aid for developers. And for that it needs to be as explicit as possible about what this object is. In the python standard library you’ll get a more elaborate result calling repr() on the object. It even includes the full module and class name.\n",
    "- If you don’t add a ``__str__`` method, Python falls back on the result of ``__repr__`` when looking for ``__str__`` . \n",
    "- Always add a ``__repr__`` to your classes. The default implementation for ``__str__`` just calls ``__repr__`` .\n",
    "- Use ``__unicode__`` instead of ``__str__`` in Python 2."
   ]
  },
  {
   "cell_type": "code",
   "execution_count": 11,
   "metadata": {},
   "outputs": [
    {
     "name": "stdout",
     "output_type": "stream",
     "text": [
      "<__main__.Car object at 0x7fa475d92210>\n",
      "red 37281\n"
     ]
    }
   ],
   "source": [
    "class Car:\n",
    "    def __init__(self, color, mileage):\n",
    "        self.color = color\n",
    "        self.mileage = mileage\n",
    "\n",
    "my_car = Car('red', 37281)\n",
    "print(my_car) # shows class name and id of object instance\n",
    "print(my_car.color, my_car.mileage) # you can print attributes of the instance"
   ]
  },
  {
   "cell_type": "code",
   "execution_count": 20,
   "metadata": {},
   "outputs": [
    {
     "name": "stdout",
     "output_type": "stream",
     "text": [
      "a red car\n",
      "[__repr__ for Car]\n"
     ]
    },
    {
     "data": {
      "text/plain": [
       "'__repr__ for Car'"
      ]
     },
     "execution_count": 20,
     "metadata": {},
     "output_type": "execute_result"
    }
   ],
   "source": [
    "class Car:\n",
    "    def __init__(self, color, mileage):\n",
    "        self.color = color\n",
    "        self.mileage = mileage\n",
    "\n",
    "    def __repr__(self):\n",
    "        return '__repr__ for Car'\n",
    "        \n",
    "    def __str__(self):\n",
    "        return f'a {self.color} car'\n",
    "    \n",
    "my_car = Car('red', 37281)\n",
    "print(my_car) # calls __str__\n",
    "'{}'.format(my_car) # calls __str__\n",
    "\n",
    "print([my_car]) #calls __repr__\n",
    "\n",
    "#  built in str() and repr() are cleaner\n",
    "str(my_car) \n",
    "repr(my_car)"
   ]
  },
  {
   "cell_type": "code",
   "execution_count": 23,
   "metadata": {},
   "outputs": [
    {
     "name": "stdout",
     "output_type": "stream",
     "text": [
      "2023-10-02\n"
     ]
    },
    {
     "data": {
      "text/plain": [
       "'datetime.date(2023, 10, 2)'"
      ]
     },
     "execution_count": 23,
     "metadata": {},
     "output_type": "execute_result"
    }
   ],
   "source": [
    "import datetime\n",
    "today = datetime.date.today()\n",
    "\n",
    "print(str(today))\n",
    "repr(today) # more details for debugging and developers"
   ]
  },
  {
   "cell_type": "code",
   "execution_count": 28,
   "metadata": {},
   "outputs": [
    {
     "name": "stdout",
     "output_type": "stream",
     "text": [
      "Car('red', 37281)\n"
     ]
    }
   ],
   "source": [
    "''' \n",
    "the !r conversion flag to makes sure the output string uses repr(self.color) and repr(self.mileage) in-\n",
    "stead of str(self.color) and str(self.mileage).\n",
    "\n",
    "the object's __class__.__name__ attribute, which will always reflect the class' name as a string.  \n",
    "This makes it easy to adhere to the Don't Repeat Yourself (DRY) principle\n",
    "\n",
    "'''\n",
    "\n",
    "class Car:\n",
    "    def __init__(self, color, mileage):\n",
    "        self.color = color\n",
    "        self.mileage = mileage\n",
    "\n",
    "    def __repr__(self):\n",
    "        return (f'{self.__class__.__name__}('\n",
    "                f'{self.color!r}, {self.mileage!r})')\n",
    "        \n",
    "\n",
    "my_car = Car('red', 37281)\n",
    "repr(my_car)\n",
    "\n",
    "# str() and print(instance) fall back on __repr__\n",
    "str(my_car) \n",
    "print(my_car)"
   ]
  },
  {
   "cell_type": "markdown",
   "metadata": {},
   "source": [
    "## Custom Exceptions\n",
    "- Deﬁning custom error types make potential errors stand out.\n",
    "- This makes your Python code easier to understand, easier to debug, and more maintainable.\n",
    "- Derive your custom exceptions from Python’s built-in Exception class or from more speciﬁc exception classes like ValueError or KeyError\n",
    "- You can use inheritance to deﬁne logically grouped exception hierarchies."
   ]
  },
  {
   "cell_type": "code",
   "execution_count": 2,
   "metadata": {},
   "outputs": [
    {
     "ename": "NameTooShortError",
     "evalue": "Davide",
     "output_type": "error",
     "traceback": [
      "\u001b[0;31m---------------------------------------------------------------------------\u001b[0m",
      "\u001b[0;31mNameTooShortError\u001b[0m                         Traceback (most recent call last)",
      "\u001b[1;32m/home/mz/code/MaCoZu/python_notebooks/1.11 Python_Advanced.ipynb Cell 88\u001b[0m line \u001b[0;36m1\n\u001b[1;32m      <a href='vscode-notebook-cell://wsl%2Bubuntu/home/mz/code/MaCoZu/python_notebooks/1.11%20Python_Advanced.ipynb#Y153sdnNjb2RlLXJlbW90ZQ%3D%3D?line=7'>8</a>\u001b[0m     \u001b[39mif\u001b[39;00m \u001b[39mlen\u001b[39m(name) \u001b[39m<\u001b[39m \u001b[39m10\u001b[39m:\n\u001b[1;32m      <a href='vscode-notebook-cell://wsl%2Bubuntu/home/mz/code/MaCoZu/python_notebooks/1.11%20Python_Advanced.ipynb#Y153sdnNjb2RlLXJlbW90ZQ%3D%3D?line=8'>9</a>\u001b[0m         \u001b[39mraise\u001b[39;00m NameTooShortError(name)\n\u001b[0;32m---> <a href='vscode-notebook-cell://wsl%2Bubuntu/home/mz/code/MaCoZu/python_notebooks/1.11%20Python_Advanced.ipynb#Y153sdnNjb2RlLXJlbW90ZQ%3D%3D?line=10'>11</a>\u001b[0m validate(name)\n",
      "\u001b[1;32m/home/mz/code/MaCoZu/python_notebooks/1.11 Python_Advanced.ipynb Cell 88\u001b[0m line \u001b[0;36m9\n\u001b[1;32m      <a href='vscode-notebook-cell://wsl%2Bubuntu/home/mz/code/MaCoZu/python_notebooks/1.11%20Python_Advanced.ipynb#Y153sdnNjb2RlLXJlbW90ZQ%3D%3D?line=6'>7</a>\u001b[0m \u001b[39mdef\u001b[39;00m \u001b[39mvalidate\u001b[39m(name):\n\u001b[1;32m      <a href='vscode-notebook-cell://wsl%2Bubuntu/home/mz/code/MaCoZu/python_notebooks/1.11%20Python_Advanced.ipynb#Y153sdnNjb2RlLXJlbW90ZQ%3D%3D?line=7'>8</a>\u001b[0m     \u001b[39mif\u001b[39;00m \u001b[39mlen\u001b[39m(name) \u001b[39m<\u001b[39m \u001b[39m10\u001b[39m:\n\u001b[0;32m----> <a href='vscode-notebook-cell://wsl%2Bubuntu/home/mz/code/MaCoZu/python_notebooks/1.11%20Python_Advanced.ipynb#Y153sdnNjb2RlLXJlbW90ZQ%3D%3D?line=8'>9</a>\u001b[0m         \u001b[39mraise\u001b[39;00m NameTooShortError(name)\n",
      "\u001b[0;31mNameTooShortError\u001b[0m: Davide"
     ]
    }
   ],
   "source": [
    "'''a “self-documenting” NameTooShortError exception type that extends the built-in ValueError class'''\n",
    "class NameTooShortError(ValueError):\n",
    "    pass\n",
    "\n",
    "E = 'Davide'\n",
    "\n",
    "def validate(name):\n",
    "    if len(name) < 10:\n",
    "        raise NameTooShortError(name)\n",
    "\n",
    "validate(name)"
   ]
  },
  {
   "cell_type": "code",
   "execution_count": null,
   "metadata": {},
   "outputs": [],
   "source": [
    "''''Whenever you're publicly releasing a Python package, or even if you're creating a reusable module for your company, it's good practice to\n",
    "create a custom exception base class for the module and then derive all of your other exceptions from it. The ﬁrst step is to declare a base \n",
    "class that all of our concrete errors will inherit from'''"
   ]
  },
  {
   "cell_type": "code",
   "execution_count": null,
   "metadata": {},
   "outputs": [],
   "source": [
    "class BaseValidationError(ValueError):\n",
    "    pass\n",
    "\n",
    "class NameTooShortError(BaseValidationError):\n",
    "    pass\n",
    "\n",
    "class NameTooLongError(BaseValidationError):\n",
    "    pass\n",
    "\n",
    "class NameTooCuteError(BaseValidationError):\n",
    "    pass\n",
    "\n",
    "try:\n",
    "    validate(name)\n",
    "except BaseValidationError as err:\n",
    "    handle_validation_error(err)"
   ]
  },
  {
   "cell_type": "markdown",
   "metadata": {},
   "source": [
    "## Cloning Objects\n",
    "- Assignment statements in Python do not create copies of objects, they only bind names to an object. \n",
    "- But for mutable objects, you might want copies that you can modify without automatically modifying the original.\n",
    "- Shallow copies won't clone child objects. You can create \"shallow copies\" of built-in collections like lists, dicts, and sets by calling their factory functions on an existing collections.\n",
    "- Deep Copies recursively clone child objects and the clone is fully independent from the original.\n",
    "- ``copy.copy()`` and ``copy.deepcopy()`` functions can be used to duplicate any object."
   ]
  },
  {
   "cell_type": "code",
   "execution_count": 8,
   "metadata": {},
   "outputs": [
    {
     "name": "stdout",
     "output_type": "stream",
     "text": [
      "[[1, 2, 3], [4, 5, 6], [7, 8, 9], ['new sublist']]\n",
      "[[1, 2, 3], [4, 5, 6], [7, 8, 9]]\n",
      "[[1, 2, 3], ['X', 5, 6], [7, 8, 9]]\n"
     ]
    }
   ],
   "source": [
    "# # shallow copies: copies only one-level deep\n",
    "# new_list = list(original_list)\n",
    "# new_dict = dict(original_dict)\n",
    "# new_set = set(original_set)\n",
    "\n",
    "xs = [[1, 2, 3], [4, 5, 6], [7, 8, 9]]\n",
    "ys = list(xs) # Make a shallow copy\n",
    "xs.append(['new sublist'])\n",
    "print(xs)\n",
    "print(ys) # ys is not afffected by the modification of the original\n",
    "xs[1][0] = 'X' # modifyfing a child in the original still affects the shallow copy\n",
    "print(ys)"
   ]
  },
  {
   "cell_type": "code",
   "execution_count": 9,
   "metadata": {},
   "outputs": [
    {
     "data": {
      "text/plain": [
       "[[1, 2, 3], [4, 5, 6], [7, 8, 9]]"
      ]
     },
     "execution_count": 9,
     "metadata": {},
     "output_type": "execute_result"
    }
   ],
   "source": [
    "import copy\n",
    "xs = [[1, 2, 3], [4, 5, 6], [7, 8, 9]]\n",
    "zs = copy.deepcopy(xs)\n",
    "xs[1][0] = 'X'\n",
    "xs\n",
    "zs # deep copy is not affeceted by change of child in original"
   ]
  },
  {
   "cell_type": "code",
   "execution_count": 14,
   "metadata": {},
   "outputs": [
    {
     "name": "stdout",
     "output_type": "stream",
     "text": [
      "Point(23, 42)\n",
      "Point(23, 42)\n"
     ]
    },
    {
     "data": {
      "text/plain": [
       "False"
      ]
     },
     "execution_count": 14,
     "metadata": {},
     "output_type": "execute_result"
    }
   ],
   "source": [
    "class Point:\n",
    "    def __init__(self, x, y):\n",
    "        self.x = x\n",
    "        self.y = y\n",
    "    def __repr__(self):\n",
    "      return f'Point({self.x!r}, {self.y!r})'\n",
    "    \n",
    "a = Point(23, 42)\n",
    "b = copy.copy(a)\n",
    "print(a) # a and b are equal\n",
    "print(b)\n",
    "a is b # but not identical"
   ]
  },
  {
   "cell_type": "code",
   "execution_count": 20,
   "metadata": {},
   "outputs": [
    {
     "name": "stdout",
     "output_type": "stream",
     "text": [
      "Rectangle(Point(0, 1), Point(5, 6))\n",
      "Rectangle(Point(0, 1), Point(5, 6))\n"
     ]
    },
    {
     "data": {
      "text/plain": [
       "False"
      ]
     },
     "execution_count": 20,
     "metadata": {},
     "output_type": "execute_result"
    }
   ],
   "source": [
    "class Rectangle:\n",
    "    def __init__(self, topleft, bottomright):\n",
    "        self.topleft = topleft\n",
    "        self.bottomright = bottomright\n",
    "    def __repr__(self):\n",
    "        return (f'Rectangle({self.topleft!r}, '\n",
    "        f'{self.bottomright!r})')\n",
    "    \n",
    "rect = Rectangle(Point(0, 1), Point(5, 6))\n",
    "srect = copy.copy(rect) # shallow copy\n",
    "drect = copy.deepcopy(srect) # deep copy\n",
    "\n",
    "print(rect)\n",
    "print(srect)\n",
    "\n",
    "rect is srect"
   ]
  },
  {
   "cell_type": "code",
   "execution_count": 21,
   "metadata": {},
   "outputs": [
    {
     "name": "stdout",
     "output_type": "stream",
     "text": [
      "Rectangle(Point(999, 1), Point(5, 6))\n",
      "Rectangle(Point(999, 1), Point(5, 6))\n",
      "Rectangle(Point(0, 1), Point(5, 6))\n"
     ]
    }
   ],
   "source": [
    "rect.topleft.x = 999\n",
    "print(rect)\n",
    "print(srect)\n",
    "print(drect)"
   ]
  },
  {
   "cell_type": "markdown",
   "metadata": {},
   "source": [
    "#  if \\_\\_name\\_\\_ == \"\\_\\_main\\_\\_\"\n",
    "- When the interpreter runs a module, the __name__ variable will be set as  __main__ if the module that is being run is the main program.\n",
    "- But if the code is importing the module from another module, then the __name__  variable will be set to that module’s name."
   ]
  },
  {
   "cell_type": "markdown",
   "metadata": {},
   "source": [
    "#  timeit - performance measurement\n",
    "- timeit module quickly demonstrates a modest performance advantage\n",
    "- https://www.guru99.com/timeit-python-examples.html"
   ]
  },
  {
   "cell_type": "code",
   "execution_count": 17,
   "metadata": {},
   "outputs": [
    {
     "name": "stdout",
     "output_type": "stream",
     "text": [
      "0.08671372100070585\n"
     ]
    }
   ],
   "source": [
    "import timeit\n",
    "\n",
    "import_module = \"import random\"\n",
    "testcode = ''' \n",
    "def test(): \n",
    "    return random.randint(10, 100)\n",
    "'''\n",
    "print(timeit.timeit(stmt=testcode, setup=import_module))"
   ]
  },
  {
   "cell_type": "markdown",
   "metadata": {},
   "source": [
    "# time.perf_counter()"
   ]
  },
  {
   "cell_type": "code",
   "execution_count": null,
   "metadata": {},
   "outputs": [
    {
     "name": "stdout",
     "output_type": "stream",
     "text": [
      "1.0074474811553955\n",
      "1.0080326169991167\n"
     ]
    }
   ],
   "source": [
    "import time\n",
    "\n",
    "# time.time is for current time not for timing the code\n",
    "start = time.time()\n",
    "time.sleep(1)\n",
    "end = time.time()\n",
    "print(end - start)\n",
    "\n",
    "# more accurate, for timing your code\n",
    "start = time.perf_counter()\n",
    "time.sleep(1)\n",
    "end = time.perf_counter()\n",
    "print(end - start)"
   ]
  },
  {
   "cell_type": "markdown",
   "metadata": {},
   "source": [
    "# time decorator"
   ]
  },
  {
   "cell_type": "code",
   "execution_count": 15,
   "metadata": {},
   "outputs": [
    {
     "name": "stdout",
     "output_type": "stream",
     "text": [
      "inner function ran\n",
      "Function took 2.001915216445923 seconds to run\n"
     ]
    }
   ],
   "source": [
    "import time\n",
    "\n",
    "\n",
    "# timer function\n",
    "def measure_time(func):\n",
    "    def wrapper(*arg):\n",
    "        t = time.time()\n",
    "        res = func(*arg)\n",
    "        print(\"Function took \" + str(time.time() - t) + \" seconds to run\")\n",
    "        return res\n",
    "\n",
    "    return wrapper\n",
    "\n",
    "\n",
    "# decorate function with the timer fct.\n",
    "@measure_time\n",
    "def myFunction(n):\n",
    "    time.sleep(n)\n",
    "    print('inner function ran')\n",
    "\n",
    "\n",
    "myFunction(2)\n"
   ]
  },
  {
   "cell_type": "code",
   "execution_count": 16,
   "metadata": {},
   "outputs": [
    {
     "name": "stdout",
     "output_type": "stream",
     "text": [
      "countdown 1.1920928955078125e-06\n",
      "countdown 6.794929504394531e-05\n"
     ]
    }
   ],
   "source": [
    "'''\n",
    "It's critical to emphasize that decorators generally do not alter the calling signature or return values \n",
    "of functions being wrapped. The use of *args and**kwargs is there to make sure that any input arguments can be accepted.\n",
    "The return value of a decorator is almost always the result of calling func(*args, **kwargs), \n",
    "where func is the original unwrapped function.\n",
    "'''\n",
    "\n",
    "import time\n",
    "\n",
    "\n",
    "def timeis(func):\n",
    "    '''Decorator that reports the execution time.'''\n",
    "    def wrap(*args, **kwargs):\n",
    "        start = time.time()\n",
    "        result = func(*args, **kwargs)\n",
    "        end = time.time()\n",
    "\n",
    "        print(func.__name__, end - start)\n",
    "        return result\n",
    "\n",
    "    return wrap\n",
    "\n",
    "\n",
    "@timeis\n",
    "def countdown(n):\n",
    "    '''Counts down'''\n",
    "    while n > 0:\n",
    "        n -= 1\n",
    "\n",
    "\n",
    "countdown(5)\n",
    "countdown(1000)\n"
   ]
  },
  {
   "cell_type": "markdown",
   "metadata": {},
   "source": [
    "#  datetime\n",
    "- to convert a string to a date object."
   ]
  },
  {
   "cell_type": "code",
   "execution_count": 23,
   "metadata": {},
   "outputs": [
    {
     "name": "stdout",
     "output_type": "stream",
     "text": [
      "The type of the input date string now is:  <class 'datetime.datetime'>\n",
      "The date is 2024-01-21 11:04:19\n",
      "2023-09-25\n",
      "14306 days, 0:00:00\n"
     ]
    }
   ],
   "source": [
    "from datetime import datetime\n",
    "from datetime import date\n",
    "\n",
    "input_str = '21/01/24 11:04:19'\n",
    "dt_object = datetime.strptime(input_str, '%d/%m/%y %H:%M:%S')\n",
    "\n",
    "print(\"The type of the input date string now is: \", type(dt_object))\n",
    "print(\"The date is\", dt_object)\n",
    "\n",
    "print(date.today()) # get todays date\n",
    "birthday = date(1984, 7, 25) # convert numbers to a date (y, m, d)\n",
    "print(date.today() - birthday)"
   ]
  },
  {
   "cell_type": "code",
   "execution_count": 34,
   "metadata": {},
   "outputs": [
    {
     "data": {
      "text/plain": [
       "1"
      ]
     },
     "execution_count": 34,
     "metadata": {},
     "output_type": "execute_result"
    }
   ],
   "source": [
    "dt_object.day\n",
    "dt_object.year\n",
    "dt_object.hour\n",
    "dt_object.weekday\n",
    "dt_object.utcoffset\n",
    "dt_object.month"
   ]
  },
  {
   "cell_type": "code",
   "execution_count": null,
   "metadata": {},
   "outputs": [
    {
     "name": "stdout",
     "output_type": "stream",
     "text": [
      "strptime(string, format) -> struct_time\n",
      "\n",
      "Parse a string to a time tuple according to a format specification.\n",
      "See the library reference manual for formatting codes (same as\n",
      "strftime()).\n",
      "\n",
      "Commonly used format codes:\n",
      "\n",
      "%Y  Year with century as a decimal number.\n",
      "%m  Month as a decimal number [01,12].\n",
      "%d  Day of the month as a decimal number [01,31].\n",
      "%H  Hour (24-hour clock) as a decimal number [00,23].\n",
      "%M  Minute as a decimal number [00,59].\n",
      "%S  Second as a decimal number [00,61].\n",
      "%z  Time zone offset from UTC.\n",
      "%a  Locale's abbreviated weekday name.\n",
      "%A  Locale's full weekday name.\n",
      "%b  Locale's abbreviated month name.\n",
      "%B  Locale's full month name.\n",
      "%c  Locale's appropriate date and time representation.\n",
      "%I  Hour (12-hour clock) as a decimal number [01,12].\n",
      "%p  Locale's equivalent of either AM or PM.\n",
      "\n",
      "Other codes may be available on your platform.  See documentation for\n",
      "the C library strftime function.\n",
      "\n"
     ]
    }
   ],
   "source": [
    "print(time.strptime.__doc__)"
   ]
  },
  {
   "cell_type": "markdown",
   "metadata": {},
   "source": [
    "#  compile()\n",
    "\n",
    "<details>\n",
    "\n",
    "- If the Python code is in string form or is an AST object, and you want to change it to a code object, then you can use compile() method.\n",
    "- The code object returned by the compile() method can later be called using methods like: exec() and eval() which will execute dynamically generated Python code.\n",
    "\n",
    "compile(source, filename, mode, flags=0, dont_inherit=False, optimize=-1)\n",
    "\n",
    "- Source – It can be a normal string, a byte string, or an AST object\n",
    "- Filename -This is the file from which the code was read. If it wasn’t read from a file, you can give a name yourself.\n",
    "- Mode – Mode can be exec, eval or single.\n",
    "  - a. eval – If the source is a single expression.\n",
    "  - b. exec – It can take a block of a code that has Python statements, class and functions and so on.\n",
    "  - c. single – It is used if consists of a single interactive statement\n",
    "\n",
    "</details>"
   ]
  },
  {
   "cell_type": "code",
   "execution_count": null,
   "metadata": {},
   "outputs": [],
   "source": [
    "# Creating sample sourcecode to multiply two variables\n",
    "# x and y.\n",
    "srcCode = 'x = 10\\ny = 20\\nmul = x * y\\nprint(\"mul =\", mul)'\n",
    "\n",
    "# Converting above source code to an executable\n",
    "execCode = compile(srcCode, 'mulstring', 'exec')\n",
    "\n",
    "# Running the executable code.\n",
    "exec(execCode)"
   ]
  },
  {
   "cell_type": "markdown",
   "metadata": {},
   "source": [
    "#  ord() & chr() - Char to Int and back\n",
    "- chr() is used for converting an Integer to a Character, while the function \n",
    "- ord() is used to do the reverse, i.e, convert a Character to an Integer."
   ]
  },
  {
   "cell_type": "code",
   "execution_count": null,
   "metadata": {},
   "outputs": [
    {
     "name": "stdout",
     "output_type": "stream",
     "text": [
      "[97, 98, 99, 100, 101, 102, 103, 104, 105, 106, 107, 108, 109, 110, 111, 112, 113, 114, 115, 116, 117, 118, 119, 120, 121, 122]\n",
      "['a', 'b', 'c', 'd', 'e', 'f', 'g', 'h', 'i', 'j', 'k', 'l', 'm', 'n', 'o', 'p', 'q', 'r', 's', 't', 'u', 'v', 'w', 'x', 'y', 'z']\n"
     ]
    }
   ],
   "source": [
    "def character_range(a, b):\n",
    "    for char in range(ord(a), ord(b) + 1):\n",
    "        yield (char)\n",
    "\n",
    "\n",
    "print(list(character_range(\"a\", \"z\")))\n",
    "# one-character string of an integer code point.\n",
    "unicode = [chr(x) for x in character_range(\"a\", \"z\") ]  \n",
    "print(unicode)"
   ]
  },
  {
   "cell_type": "code",
   "execution_count": null,
   "metadata": {},
   "outputs": [
    {
     "name": "stdout",
     "output_type": "stream",
     "text": [
      "65\n",
      "A\n",
      "bytearray(b'\\x00\\x00\\x00\\x00')\n",
      "b'\\x00\\x00\\x00\\x00'\n"
     ]
    }
   ],
   "source": [
    "print(chr(65))  # one-character string of an integer code point.\n",
    "print(\n",
    "    bytearray(4)\n",
    ")  # The bytearray() method returns a bytearray object which is an array of the given bytes.\n",
    "print(bytes(4))  # Returns a bytes object"
   ]
  },
  {
   "cell_type": "markdown",
   "metadata": {},
   "source": [
    "#  Keywords "
   ]
  },
  {
   "cell_type": "code",
   "execution_count": null,
   "metadata": {},
   "outputs": [
    {
     "name": "stdout",
     "output_type": "stream",
     "text": [
      "['False', 'None', 'True', 'and', 'as', 'assert', 'async', 'await', 'break', 'class', 'continue', 'def', 'del', 'elif', 'else', 'except', 'finally', 'for', 'from', 'global', 'if', 'import', 'in', 'is', 'lambda', 'nonlocal', 'not', 'or', 'pass', 'raise', 'return', 'try', 'while', 'with', 'yield']\n",
      "\n",
      "Here is a list of the Python keywords.  Enter any keyword to get more help.\n",
      "\n",
      "False               class               from                or\n",
      "None                continue            global              pass\n",
      "True                def                 if                  raise\n",
      "and                 del                 import              return\n",
      "as                  elif                in                  try\n",
      "assert              else                is                  while\n",
      "async               except              lambda              with\n",
      "await               finally             nonlocal            yield\n",
      "break               for                 not                 \n",
      "\n",
      "None\n",
      "The \"raise\" statement\n",
      "*********************\n",
      "\n",
      "   raise_stmt ::= \"raise\" [expression [\"from\" expression]]\n",
      "\n",
      "If no expressions are present, \"raise\" re-raises the last exception\n",
      "that was active in the current scope.  If no exception is active in\n",
      "the current scope, a \"RuntimeError\" exception is raised indicating\n",
      "that this is an error.\n",
      "\n",
      "Otherwise, \"raise\" evaluates the first expression as the exception\n",
      "object.  It must be either a subclass or an instance of\n",
      "\"BaseException\". If it is a class, the exception instance will be\n",
      "obtained when needed by instantiating the class with no arguments.\n",
      "\n",
      "The *type* of the exception is the exception instance’s class, the\n",
      "*value* is the instance itself.\n",
      "\n",
      "A traceback object is normally created automatically when an exception\n",
      "is raised and attached to it as the \"__traceback__\" attribute, which\n",
      "is writable. You can create an exception and set your own traceback in\n",
      "one step using the \"with_traceback()\" exception method (which returns\n",
      "the same exception instance, with its traceback set to its argument),\n",
      "like so:\n",
      "\n",
      "   raise Exception(\"foo occurred\").with_traceback(tracebackobj)\n",
      "\n",
      "The \"from\" clause is used for exception chaining: if given, the second\n",
      "*expression* must be another exception class or instance. If the\n",
      "second expression is an exception instance, it will be attached to the\n",
      "raised exception as the \"__cause__\" attribute (which is writable). If\n",
      "the expression is an exception class, the class will be instantiated\n",
      "and the resulting exception instance will be attached to the raised\n",
      "exception as the \"__cause__\" attribute. If the raised exception is not\n",
      "handled, both exceptions will be printed:\n",
      "\n",
      "   >>> try:\n",
      "   ...     print(1 / 0)\n",
      "   ... except Exception as exc:\n",
      "   ...     raise RuntimeError(\"Something bad happened\") from exc\n",
      "   ...\n",
      "   Traceback (most recent call last):\n",
      "     File \"<stdin>\", line 2, in <module>\n",
      "   ZeroDivisionError: division by zero\n",
      "\n",
      "   The above exception was the direct cause of the following exception:\n",
      "\n",
      "   Traceback (most recent call last):\n",
      "     File \"<stdin>\", line 4, in <module>\n",
      "   RuntimeError: Something bad happened\n",
      "\n",
      "A similar mechanism works implicitly if an exception is raised inside\n",
      "an exception handler or a \"finally\" clause: the previous exception is\n",
      "then attached as the new exception’s \"__context__\" attribute:\n",
      "\n",
      "   >>> try:\n",
      "   ...     print(1 / 0)\n",
      "   ... except:\n",
      "   ...     raise RuntimeError(\"Something bad happened\")\n",
      "   ...\n",
      "   Traceback (most recent call last):\n",
      "     File \"<stdin>\", line 2, in <module>\n",
      "   ZeroDivisionError: division by zero\n",
      "\n",
      "   During handling of the above exception, another exception occurred:\n",
      "\n",
      "   Traceback (most recent call last):\n",
      "     File \"<stdin>\", line 4, in <module>\n",
      "   RuntimeError: Something bad happened\n",
      "\n",
      "Exception chaining can be explicitly suppressed by specifying \"None\"\n",
      "in the \"from\" clause:\n",
      "\n",
      "   >>> try:\n",
      "   ...     print(1 / 0)\n",
      "   ... except:\n",
      "   ...     raise RuntimeError(\"Something bad happened\") from None\n",
      "   ...\n",
      "   Traceback (most recent call last):\n",
      "     File \"<stdin>\", line 4, in <module>\n",
      "   RuntimeError: Something bad happened\n",
      "\n",
      "Additional information on exceptions can be found in section\n",
      "Exceptions, and information about handling exceptions is in section\n",
      "The try statement.\n",
      "\n",
      "Changed in version 3.3: \"None\" is now permitted as \"Y\" in \"raise X\n",
      "from Y\".\n",
      "\n",
      "New in version 3.3: The \"__suppress_context__\" attribute to suppress\n",
      "automatic display of the exception context.\n",
      "\n",
      "Related help topics: EXCEPTIONS\n",
      "\n"
     ]
    }
   ],
   "source": [
    "import keyword\n",
    "\n",
    "print(keyword.kwlist)\n",
    "print(help(\"keywords\"))\n",
    "help(\"raise\")"
   ]
  },
  {
   "cell_type": "markdown",
   "metadata": {},
   "source": [
    "#  Path and listing files and directories\n",
    "r: standing for raw string, r in front of the string quotes ensure that file paths don’t get confused between Python and system settings."
   ]
  },
  {
   "cell_type": "code",
   "execution_count": 38,
   "metadata": {},
   "outputs": [
    {
     "name": "stdout",
     "output_type": "stream",
     "text": [
      "False\n",
      "emails\n"
     ]
    }
   ],
   "source": [
    "from pathlib import Path\n",
    "\n",
    "path = Path(\"ecommerce\")  # relative path start from current directory\n",
    "\n",
    "# absolute Path: usr/local/bin # starts from root\n",
    "p = Path(r\"/home/mz/PyScripts/venv001/\" )  \n",
    "print(p.exists())\n",
    "\n",
    "path = Path(\"emails\")\n",
    "path.mkdir()  # create a directory\n",
    "print(Path(\"emails\"))"
   ]
  },
  {
   "cell_type": "code",
   "execution_count": 39,
   "metadata": {},
   "outputs": [
    {
     "name": "stdout",
     "output_type": "stream",
     "text": [
      "None\n"
     ]
    }
   ],
   "source": [
    "print(path.rmdir())  # when your in the dir erase it\n",
    "path = Path()  # go to current dir\n",
    "\n",
    "for file in path.glob(\"*.txt\"):\n",
    "    print(file)"
   ]
  },
  {
   "cell_type": "markdown",
   "metadata": {},
   "source": [
    "#  glob \n",
    "- module provides a function for making file lists from directory wildcard searches:"
   ]
  },
  {
   "cell_type": "code",
   "execution_count": 40,
   "metadata": {},
   "outputs": [
    {
     "name": "stdout",
     "output_type": "stream",
     "text": [
      "\n",
      "4.0_Viz_matplotlib.ipynb\n",
      "3_sypmpy_linear_algebra.ipynb\n",
      "1.8_Python_regex.ipynb\n",
      "2.2_spreadsheets_openpyxl.ipynb\n",
      "3.1_SQL_challenges.sql.ipynb\n",
      "1.1._Python_collections.ipynb\n",
      "1.10_time_and_dates.ipynb\n",
      "mini_datawrangling.ipynb\n",
      "2.0_Pandas.ipynb\n",
      "3.0_Numpy.ipynb\n",
      "1.13_code_challenges_hackerrank.ipynb\n",
      "1.11 Python_Advanced.ipynb\n",
      "2.1_Pandas_multiindex_pivot.ipynb\n",
      "1.2_Python_helpers.ipynb\n",
      "1.5_Python_classes.ipynb\n",
      "3.0_SQL.ipynb\n",
      "1.3_Python_functions.ipynb\n",
      "1.4_Python_iterators&generators.ipynb\n",
      "1.14_other_code_challenges.ipynb\n",
      "1.0_Python_Basics.ipynb\n",
      "1.9_Python_API.ipynb\n",
      "1.6_Python_errors.ipynb\n",
      "4.1_Viz_seaborn.ipynb\n"
     ]
    }
   ],
   "source": [
    "import glob\n",
    "\n",
    "for file in glob.glob('*.ipynb'):\n",
    "    print(file)\n"
   ]
  },
  {
   "cell_type": "markdown",
   "metadata": {},
   "source": [
    "#  data compression\n",
    "- Common data archiving and compression formats are directly supported by modules\n",
    "- including: zlib, gzip, bz2, lzma, zipfile and tarfile.\n"
   ]
  },
  {
   "cell_type": "code",
   "execution_count": 51,
   "metadata": {},
   "outputs": [
    {
     "name": "stdout",
     "output_type": "stream",
     "text": [
      "41\n",
      "b'x\\x9c+\\xcf,I\\xceP(\\xcf\\xc8\\x04\\x92\\x19\\x89\\xc5PV9H4\\x15\\xc8+\\xca,.Q(O\\x04\\xf2\\x00D?\\x0f\\x89'\n",
      "37\n",
      "b'witch which has which witches wrist watch'\n",
      "226805979\n"
     ]
    }
   ],
   "source": [
    "import zlib\n",
    "\n",
    "s = b'witch which has which witches wrist watch'\n",
    "print(len(s)) # 41\n",
    "t = zlib.compress(s)\n",
    "print(t) \n",
    "print(len(t))\n",
    "print(zlib.decompress(t))\n",
    "print(zlib.crc32(s))\n"
   ]
  },
  {
   "cell_type": "code",
   "execution_count": 54,
   "metadata": {},
   "outputs": [
    {
     "name": "stdout",
     "output_type": "stream",
     "text": [
      "Returns a bytes object containing the uncompressed data.\n",
      "\n",
      "  data\n",
      "    Compressed data.\n",
      "  wbits\n",
      "    The window buffer size and container format.\n",
      "  bufsize\n",
      "    The initial output buffer size.\n"
     ]
    }
   ],
   "source": [
    "# print(zlib.compress.__doc__)\n",
    "# print(zlib.crc32.__doc__)\n",
    "print(zlib.decompress.__doc__)"
   ]
  },
  {
   "cell_type": "markdown",
   "metadata": {},
   "source": [
    "#  big_numbers"
   ]
  },
  {
   "cell_type": "code",
   "execution_count": 59,
   "metadata": {},
   "outputs": [
    {
     "name": "stdout",
     "output_type": "stream",
     "text": [
      "1000000\n",
      "1000001\n",
      "100,100,000,000\n"
     ]
    }
   ],
   "source": [
    "# you can separate zeros with underscore (_)\n",
    "print(1_000_000)\n",
    "print(1_000_000 + 1)\n",
    "\n",
    "x = 100_000_000_000\n",
    "y = 100_000_000\n",
    "total = x + y\n",
    "print(f'{total:,}')  # to add commas as hundreth separators"
   ]
  },
  {
   "cell_type": "markdown",
   "metadata": {},
   "source": [
    "#  sleep mode\n",
    "Sometimes you want your code to execute slowly. <br>\n",
    "You might want to demonstrate something or there might be steps that require little breaks. "
   ]
  },
  {
   "cell_type": "code",
   "execution_count": null,
   "metadata": {},
   "outputs": [
    {
     "name": "stdout",
     "output_type": "stream",
     "text": [
      "The time of code execution begin is :  Tue Feb 28 19:59:43 2023\n",
      "The time of code execution end is :  Tue Feb 28 19:59:49 2023\n"
     ]
    }
   ],
   "source": [
    "import time\n",
    "\n",
    "print(\"The time of code execution begin is : \", time.ctime())  # start time\n",
    "time.sleep(6)  # using sleep() to hault the code execution for 6 seconds\n",
    "print(\"The time of code execution end is : \", time.ctime())  # end time"
   ]
  },
  {
   "cell_type": "code",
   "execution_count": 61,
   "metadata": {},
   "outputs": [
    {
     "name": "stdout",
     "output_type": "stream",
     "text": [
      "ctime(seconds) -> string\n",
      "\n",
      "Convert a time in seconds since the Epoch to a string in local time.\n",
      "This is equivalent to asctime(localtime(seconds)). When the time tuple is\n",
      "not present, current time as returned by localtime() is used.\n"
     ]
    }
   ],
   "source": [
    "print(time.ctime.__doc__)"
   ]
  },
  {
   "cell_type": "markdown",
   "metadata": {},
   "source": [
    "#  reverse\n",
    "reversed function and reverse method can only be used to reverse objects in Python. But there is a major difference between the two:\n",
    "\n",
    "``reversed`` function can reverse and iterable object and returns a reversed object as data type.<br>\n",
    "``reverse`` method can only be used with lists as its a list method only.\n",
    "\n",
    "Functions inside a class are called methods. Methods are associated with a class/object."
   ]
  },
  {
   "cell_type": "code",
   "execution_count": null,
   "metadata": {},
   "outputs": [
    {
     "name": "stdout",
     "output_type": "stream",
     "text": [
      "['water', 'wind', 'fire', 'earth']\n"
     ]
    }
   ],
   "source": [
    "lst = [\"earth\", \"fire\", \"wind\", \"water\"]\n",
    "\n",
    "lst.reverse()\n",
    "print(lst)"
   ]
  },
  {
   "cell_type": "code",
   "execution_count": null,
   "metadata": {},
   "outputs": [
    {
     "name": "stdout",
     "output_type": "stream",
     "text": [
      "<list_reverseiterator object at 0x7f56d3cc8af0>\n",
      "['water', 'wind', 'fire', 'earth']\n"
     ]
    }
   ],
   "source": [
    "lst = [\"earth\", \"fire\", \"wind\", \"water\"]\n",
    "a = reversed(lst)\n",
    "print(a)\n",
    "print(list(a))"
   ]
  },
  {
   "cell_type": "code",
   "execution_count": 63,
   "metadata": {},
   "outputs": [
    {
     "name": "stdout",
     "output_type": "stream",
     "text": [
      "noitacinrofilaC\n"
     ]
    }
   ],
   "source": [
    "str = \"Californication\"\n",
    "# str.reverse() # 'str' object has no attribute 'reverse'\n",
    "a = reversed(str)\n",
    "print((\"\".join(a)))"
   ]
  },
  {
   "cell_type": "markdown",
   "metadata": {},
   "source": [
    "#  Printing library directories"
   ]
  },
  {
   "cell_type": "code",
   "execution_count": 64,
   "metadata": {},
   "outputs": [
    {
     "name": "stdout",
     "output_type": "stream",
     "text": [
      "<module 'pandas' from '/home/mz/micromamba/envs/dsr/lib/python3.11/site-packages/pandas/__init__.py'>\n"
     ]
    }
   ],
   "source": [
    "# find the location where a library file is located\n",
    "import pandas\n",
    "\n",
    "print(pandas)"
   ]
  },
  {
   "cell_type": "markdown",
   "metadata": {},
   "source": [
    "# break() "
   ]
  },
  {
   "cell_type": "code",
   "execution_count": 1,
   "metadata": {},
   "outputs": [
    {
     "name": "stdout",
     "output_type": "stream",
     "text": [
      "Not a number, try again\n",
      "Not a number, try again\n",
      "Not a number, try again\n"
     ]
    }
   ],
   "source": [
    "# while True:\n",
    "#     try:\n",
    "#         s = input(\"Input a number: \")\n",
    "#         x = int(s)\n",
    "#         break\n",
    "#     # oops! can't CTRL-C to exit, user is trapped\n",
    "#     except:  \n",
    "#         print(\"Not a number, try again\")\n",
    "\n",
    "while True:\n",
    "    try:\n",
    "        s = input(\"Input a number: \")\n",
    "        x = int(s)\n",
    "        break\n",
    "    # still better to use ValueError, catch the Exception that will be thrown\n",
    "    except Exception:  \n",
    "        print(\"Not a number, try again\")\n"
   ]
  },
  {
   "cell_type": "markdown",
   "metadata": {},
   "source": [
    "# argument defaults"
   ]
  },
  {
   "cell_type": "code",
   "execution_count": null,
   "metadata": {},
   "outputs": [],
   "source": [
    "# if you want mutable default, first set it to None and then assign value in the fct.\n",
    "# l is not cleared with the next fct call and the list grows\n",
    "def append(n, l=[]):\n",
    "    l.append(n)\n",
    "    return l"
   ]
  },
  {
   "cell_type": "code",
   "execution_count": null,
   "metadata": {},
   "outputs": [
    {
     "name": "stdout",
     "output_type": "stream",
     "text": [
      "[0]\n"
     ]
    }
   ],
   "source": [
    "l1 = append(0)  # [0]\n",
    "print(l1)"
   ]
  },
  {
   "cell_type": "code",
   "execution_count": null,
   "metadata": {},
   "outputs": [
    {
     "name": "stdout",
     "output_type": "stream",
     "text": [
      "[0, 1]\n"
     ]
    }
   ],
   "source": [
    "# the\n",
    "l2 = append(1)  # [0, 1]\n",
    "print(l2)"
   ]
  },
  {
   "cell_type": "code",
   "execution_count": null,
   "metadata": {},
   "outputs": [
    {
     "name": "stdout",
     "output_type": "stream",
     "text": [
      "[0]\n",
      "[1]\n"
     ]
    }
   ],
   "source": [
    "# better set the default to None, check if None and then assign value\n",
    "def append(n, l=None):\n",
    "    if l is None:\n",
    "        l = []\n",
    "    l.append(n)\n",
    "    return l\n",
    "\n",
    "\n",
    "l1 = append(0)  # [0]\n",
    "print(l1)\n",
    "l2 = append(1)  # [1]\n",
    "print(l2)"
   ]
  },
  {
   "cell_type": "code",
   "execution_count": 2,
   "metadata": {},
   "outputs": [],
   "source": [
    "# go over the values of container directly\n"
   ]
  },
  {
   "cell_type": "code",
   "execution_count": 4,
   "metadata": {},
   "outputs": [
    {
     "name": "stdout",
     "output_type": "stream",
     "text": [
      "1\n",
      "2\n",
      "3\n",
      "1\n",
      "2\n",
      "3\n",
      "0 1\n",
      "1 2\n",
      "2 3\n"
     ]
    }
   ],
   "source": [
    "a = [1, 2, 3]\n",
    "\n",
    "# here you go over the indicies of a container to get the values it's unnecessary\n",
    "for i in range(len(a)):\n",
    "    print(a[i])\n",
    "\n",
    "# instead go over the values directly\n",
    "for v in a:\n",
    "    print(v)\n",
    "\n",
    "# or if you wanted the index\n",
    "for i, v in enumerate(a):\n",
    "    print(i, v)"
   ]
  },
  {
   "cell_type": "markdown",
   "metadata": {},
   "source": [
    "# enumerate"
   ]
  },
  {
   "cell_type": "code",
   "execution_count": 12,
   "metadata": {},
   "outputs": [
    {
     "name": "stdout",
     "output_type": "stream",
     "text": [
      "1 Gerd\n",
      "2 Josh\n",
      "3 Karl\n",
      "0: Gardner, Gerd\n",
      "1: Smith, Josh\n",
      "2: Huber, Karl\n"
     ]
    }
   ],
   "source": [
    "names = ['Gerd', 'Josh', 'Karl']\n",
    "\n",
    "# index = 0\n",
    "# for name in names:\n",
    "#     print(index, name)\n",
    "#     index += 1\n",
    "\n",
    "# enumerate returns index and value \n",
    "# and enumerate can have an index starting at another number like 1\n",
    "for index, name in enumerate(names, start=10):\n",
    "    print(index, name)\n",
    "\n",
    "\n",
    "surnames = ['Gardner', 'Smith', 'Huber']\n",
    "# if you need index of synced objects\n",
    "for i, (a, b) in enumerate(zip(names, surnames)):\n",
    "    print(f\"{i}: {b}, {a}\")"
   ]
  },
  {
   "cell_type": "markdown",
   "metadata": {},
   "source": [
    "# run a module that is NOT in the cd\n",
    "\n",
    "this runs the smtpd module, everything after smtpd are the args of that module \n",
    "\n",
    "__python -m smtpd DebuggingServer -n localhost:1025__\n",
    "\n",
    "to find out about the args of a module run: \n",
    "**help(module_name)**\n",
    "\n",
    "if you justa want attributed and method name of a module check: **dir(module_name)**\n",
    "\n",
    "when you check a medule with dir() and want to know if smt is an attribute or a method you can: **modulename.method_name** without the () and get infos"
   ]
  },
  {
   "cell_type": "code",
   "execution_count": null,
   "metadata": {},
   "outputs": [],
   "source": [
    "from datetime import datetime\n",
    "print(help(datetime))"
   ]
  },
  {
   "cell_type": "code",
   "execution_count": null,
   "metadata": {},
   "outputs": [
    {
     "name": "stdout",
     "output_type": "stream",
     "text": [
      "['__add__', '__class__', '__delattr__', '__dir__', '__doc__', '__eq__', '__format__', '__ge__', '__getattribute__', '__gt__', '__hash__', '__init__', '__init_subclass__', '__le__', '__lt__', '__ne__', '__new__', '__radd__', '__reduce__', '__reduce_ex__', '__repr__', '__rsub__', '__setattr__', '__sizeof__', '__str__', '__sub__', '__subclasshook__', 'astimezone', 'combine', 'ctime', 'date', 'day', 'dst', 'fold', 'fromisocalendar', 'fromisoformat', 'fromordinal', 'fromtimestamp', 'hour', 'isocalendar', 'isoformat', 'isoweekday', 'max', 'microsecond', 'min', 'minute', 'month', 'now', 'replace', 'resolution', 'second', 'strftime', 'strptime', 'time', 'timestamp', 'timetuple', 'timetz', 'today', 'toordinal', 'tzinfo', 'tzname', 'utcfromtimestamp', 'utcnow', 'utcoffset', 'utctimetuple', 'weekday', 'year']\n"
     ]
    }
   ],
   "source": [
    "print(dir(datetime))"
   ]
  },
  {
   "cell_type": "code",
   "execution_count": null,
   "metadata": {},
   "outputs": [
    {
     "name": "stdout",
     "output_type": "stream",
     "text": [
      "<built-in method today of type object at 0x7fc80471ad40>\n",
      "2023-03-08 16:01:46.761279\n"
     ]
    }
   ],
   "source": [
    "print(datetime.today)\n",
    "print(datetime.today())"
   ]
  },
  {
   "cell_type": "markdown",
   "metadata": {},
   "source": [
    "# bitwise operators\n",
    "Unlike their logical counterparts, bitwise operators are evaluated eagerly:<br>\n",
    "Even though knowing the left operand is sufficient to determine the value of the <br>\n",
    "entire expression, all operands are always evaluated unconditionally.\n",
    "\n",
    "https://realpython.com/python-bitwise-operators/"
   ]
  },
  {
   "cell_type": "markdown",
   "metadata": {},
   "source": [
    "| Operator | Example  | Meaning                    |\n",
    "| -------- | -------- | -------------------------- |\n",
    "| `&`      | `a & b`  | Bitwise AND                |\n",
    "| `\\|`      | `a \\| b`| Bitwise OR                 |\n",
    "| `^`      | `a ^ b`  | Bitwise XOR (exclusive OR) |\n",
    "| `~`      | `~a`     | Bitwise NOT                |\n",
    "| `<<`     | `a << n` | Bitwise left shift         |\n",
    "| `>>`     | `a >> n` | Bitwise right shift        |\n",
    "\n",
    "<br>\n",
    "\n",
    "| Operator | Example   | Equivalent to |\n",
    "| -------- | --------- | ------------- |\n",
    "| `&=`     | `a &= b`  | `a = a & b`   |\n",
    "| `\\|=`    | `a \\|= b` | `a = a \\| b`   |\n",
    "| `^=`     | `a ^= b`  | `a = a ^ b`   |\n",
    "| `<<=`    | `a <<= n` | `a = a << n`  |\n",
    "| `>>=`    | `a >>= n` | `a = a >> n`  |"
   ]
  },
  {
   "attachments": {},
   "cell_type": "markdown",
   "metadata": {},
   "source": [
    "# Check python version"
   ]
  },
  {
   "cell_type": "code",
   "execution_count": 3,
   "metadata": {},
   "outputs": [
    {
     "name": "stdout",
     "output_type": "stream",
     "text": [
      "3.10.5 | packaged by conda-forge | (main, Jun 14 2022, 07:04:59) [GCC 10.3.0]\n"
     ]
    }
   ],
   "source": [
    "# The software we use regularly receives feature upgrades, API changes, and bug fixes.\n",
    "# It is worthwhile to know which version of the Python environment was used to evaluate all the code\n",
    "import sys\n",
    "print(sys.version)"
   ]
  },
  {
   "attachments": {},
   "cell_type": "markdown",
   "metadata": {},
   "source": [
    "#  Check versions of the packages"
   ]
  },
  {
   "cell_type": "code",
   "execution_count": 1,
   "metadata": {},
   "outputs": [
    {
     "name": "stdout",
     "output_type": "stream",
     "text": [
      "1.23.2\n"
     ]
    }
   ],
   "source": [
    "import numpy as np\n",
    "print(np.__version__)"
   ]
  },
  {
   "attachments": {},
   "cell_type": "markdown",
   "metadata": {},
   "source": [
    "# Slicing & reverse(), reversed()"
   ]
  },
  {
   "cell_type": "code",
   "execution_count": 7,
   "metadata": {},
   "outputs": [
    {
     "name": "stdout",
     "output_type": "stream",
     "text": [
      "C\n",
      "n\n",
      "Cal\n",
      "noi\n",
      "noitacinrofilaC\n"
     ]
    }
   ],
   "source": [
    "s = \"Californication\"\n",
    "\n",
    "print(s[0])\n",
    "print(s[-1])\n",
    "print(s[:3])\n",
    "print(s[-1:-4:-1]) # begin at the end, go 3 to the left and reverse\n",
    "\n",
    "a = s[::-1] # reverse all\n",
    "print(a)"
   ]
  },
  {
   "cell_type": "code",
   "execution_count": 13,
   "metadata": {},
   "outputs": [
    {
     "name": "stdout",
     "output_type": "stream",
     "text": [
      "['water', 'wind', 'fire', 'earth']\n",
      "<reversed object at 0x7f3354566f20>\n",
      "noitacinrofilaC\n"
     ]
    }
   ],
   "source": [
    "lst = [\"earth\", \"fire\", \"wind\", \"water\"]\n",
    "\n",
    "# reverse method can only be used with lists as its a list method only.\n",
    "lst.reverse()\n",
    "print(lst)\n",
    "\n",
    "# reversed function can reverse and iterable object and returns a \n",
    "# reversed object as data type.\n",
    "s = \"Californication\"\n",
    "a = reversed(s)\n",
    "print(a)\n",
    "print((\"\".join(a)))"
   ]
  },
  {
   "attachments": {},
   "cell_type": "markdown",
   "metadata": {},
   "source": [
    "# Chain Operators"
   ]
  },
  {
   "cell_type": "code",
   "execution_count": 4,
   "metadata": {},
   "outputs": [
    {
     "name": "stdout",
     "output_type": "stream",
     "text": [
      "True\n"
     ]
    }
   ],
   "source": [
    "distance = 100\n",
    "checker = 50 < distance < 250\n",
    "\n",
    "print(checker)"
   ]
  },
  {
   "attachments": {},
   "cell_type": "markdown",
   "metadata": {},
   "source": [
    "# shorten if-else statements"
   ]
  },
  {
   "attachments": {},
   "cell_type": "markdown",
   "metadata": {},
   "source": [
    "## unnecessary else blocks\n",
    "Most of the time there is no need for an else block. <br>\n",
    "When you want to do something if a certain condition is met and return immediately."
   ]
  },
  {
   "cell_type": "code",
   "execution_count": 23,
   "metadata": {},
   "outputs": [
    {
     "name": "stdout",
     "output_type": "stream",
     "text": [
      "Yes\n"
     ]
    }
   ],
   "source": [
    "if 15 > 9: print(\"Yes\")\n",
    "# else "
   ]
  },
  {
   "attachments": {},
   "cell_type": "markdown",
   "metadata": {},
   "source": [
    "## value assignment with condition\n",
    "If you want to assign a new value to a variable based on some provided input <br>\n",
    "leave the if-else stuff out"
   ]
  },
  {
   "cell_type": "code",
   "execution_count": 35,
   "metadata": {},
   "outputs": [
    {
     "name": "stdout",
     "output_type": "stream",
     "text": [
      "man\n"
     ]
    }
   ],
   "source": [
    "def wo_or_man(g: int)-> str:\n",
    "    if g==0: return print(\"woman\") # fast return\n",
    "    elif g==1: return print(\"man\") # there is no else\n",
    "\n",
    "wo_or_man(1)"
   ]
  },
  {
   "attachments": {},
   "cell_type": "markdown",
   "metadata": {},
   "source": [
    "## Guard Clause - Defensive Coding\n",
    "assert before execution"
   ]
  },
  {
   "cell_type": "code",
   "execution_count": 40,
   "metadata": {},
   "outputs": [
    {
     "name": "stdout",
     "output_type": "stream",
     "text": [
      "woman\n"
     ]
    }
   ],
   "source": [
    "def wo_or_man(g: int) -> str:\n",
    "    # assert if input is in a set, if not throw message\n",
    "    assert g in {0, 1}, print(\"Insert either 0 or 1\")\n",
    "    # ternary operator\n",
    "    return print(\"woman\")  if g == 0 else print(\"man\")  \n",
    "\n",
    "wo_or_man(0)"
   ]
  },
  {
   "attachments": {},
   "cell_type": "markdown",
   "metadata": {},
   "source": [
    "## Conditional expressions (“ternary operator”)\n",
    "*x if C else y* first evaluates the condition, C; if C is true, x is evaluated <br>\n",
    "and its value is returned; otherwise, y is evaluated and its value is returned."
   ]
  },
  {
   "cell_type": "code",
   "execution_count": 4,
   "metadata": {},
   "outputs": [
    {
     "name": "stdout",
     "output_type": "stream",
     "text": [
      "A\n",
      "C > B\n"
     ]
    }
   ],
   "source": [
    "a = 50; b = 40; c = 60\n",
    "\n",
    "print(\"A\") if a > b else print(\"B\")\n",
    "\n",
    "print(\"B > C\") if b > c else print(\"B=C\") if b == c else print(\"C > B\")"
   ]
  },
  {
   "attachments": {},
   "cell_type": "markdown",
   "metadata": {},
   "source": [
    "## dictionary and named expression"
   ]
  },
  {
   "cell_type": "code",
   "execution_count": 15,
   "metadata": {},
   "outputs": [
    {
     "name": "stdout",
     "output_type": "stream",
     "text": [
      "10.25\n"
     ]
    }
   ],
   "source": [
    "def average(seq):\n",
    "    return sum(seq) / len(seq)\n",
    "\n",
    "numbers = [1, 4, 16, 20]\n",
    "\n",
    "# dict to map stings to functions\n",
    "options = { \"add\": sum, \"avg\": average, \"max\": max }\n",
    "\n",
    "# add the dict keys in your promt text\n",
    "option_texts = ' | '.join(options.keys())\n",
    "\n",
    "action = input(f\"What would you like to do with {numbers}? ({option_texts}) \")\n",
    "\n",
    "# Walrus operator: Merge assignment followed by conditional check using a named expression.\n",
    "if operation := options.get(action):\n",
    "    print(operation(numbers))\n",
    "else:\n",
    "    print(\"Action not recognized\")"
   ]
  },
  {
   "attachments": {},
   "cell_type": "markdown",
   "metadata": {},
   "source": [
    "## Boolean Evaluation of Numeric Types\n",
    "all integers and floats except 0 and 0.0 would return True"
   ]
  },
  {
   "cell_type": "code",
   "execution_count": 20,
   "metadata": {},
   "outputs": [
    {
     "name": "stdout",
     "output_type": "stream",
     "text": [
      "Conditions met!\n",
      "The list is not empty\n"
     ]
    }
   ],
   "source": [
    "a = 1\n",
    "if a:  # instead of: if a == True:\n",
    "    print(\"Conditions met!\")"
   ]
  },
  {
   "attachments": {},
   "cell_type": "markdown",
   "metadata": {},
   "source": [
    "## Boolean Evaluation of Iterables\n",
    "it is also possible to evaluate dict, set, list, tuple, and str as booleans (namedtuple is not among them)"
   ]
  },
  {
   "cell_type": "code",
   "execution_count": null,
   "metadata": {},
   "outputs": [],
   "source": [
    "x = [0, 1, 2, 3]\n",
    "if x:  # instead of: len(x) > 0:\n",
    "    print(\"The list is not empty\")"
   ]
  },
  {
   "attachments": {},
   "cell_type": "markdown",
   "metadata": {},
   "source": [
    "## macth ... case\n",
    "- The match case statement in Python is more powerful than if-else and allows for \n",
    "more complicated pattern matching. \n",
    "- match and case are better described as “soft” keywords, meaning they only work \n",
    "as keywords in a match case statement. <br> You can keep using “match” or “case”\n",
    " as a variable name in other parts of your program.  \n",
    "- The case other is equivalent to else in an if-elif-else statement and can be \n",
    "more simply written as case _.\n",
    "- For more complex statements like the final example above, the order in which \n",
    "you have the cases changes the behavior of the program.<br> To demonstrate this \n",
    "swap the positions of the second and third cases. You’ll find the --ask flag is never matched. "
   ]
  },
  {
   "cell_type": "code",
   "execution_count": 1,
   "metadata": {},
   "outputs": [
    {
     "name": "stdout",
     "output_type": "stream",
     "text": [
      "Please confirm: Removing files: ['file1.txt', 'file2.jpg', 'file3.pdf']\n"
     ]
    }
   ],
   "source": [
    "def file_handler_v2(command):\n",
    "    match command.split():\n",
    "        case ['show']:\n",
    "            print('List all files and directories: ')\n",
    "            # code to list files\n",
    "        case ['remove' | 'delete', *files] if '--ask' in files:\n",
    "            del_files = [f for f in files if len(f.split('.')) > 1]\n",
    "            print('Please confirm: Removing files: {}'.format(del_files))\n",
    "            # code to accept user input, then remove files\n",
    "        case ['remove' | 'delete', *files]:\n",
    "            print(f'Removing files: {files}')\n",
    "            # code to remove files\n",
    "        case _:\n",
    "            print('Command not recognized')\n",
    "            \n",
    "\n",
    "file_handler_v2('remove --ask file1.txt file2.jpg file3.pdf')"
   ]
  },
  {
   "cell_type": "code",
   "execution_count": null,
   "metadata": {},
   "outputs": [
    {
     "name": "stdout",
     "output_type": "stream",
     "text": [
      " π = 3.14159265 e = 2.71828183 \n"
     ]
    }
   ],
   "source": [
    "# “ 10.8f ” means that a value should be formatted as a float, be of width at least ten\n",
    "# characters (text columns), and use eight fractional digits.\n",
    "π = 3.14159265358979323846\n",
    "e = 2.71828182845904523536\n",
    "print(f\"\"\" π = {π:10.8f} e = {e:10.8f} \"\"\")"
   ]
  },
  {
   "attachments": {},
   "cell_type": "markdown",
   "metadata": {},
   "source": [
    "# Exception\n",
    "PEP 8 recommends that we should avoid catching exceptions using a bare except clause.\n",
    "\n",
    "The problem with these is that they catch SystemExit and KeyboardInterrupt exceptions, which makes it harder to interrupt a program using CTRL-C, and can also disguise other problems.\n",
    "\n",
    "The PEP recommends catching Exception, which will catch all program errors,"
   ]
  },
  {
   "cell_type": "code",
   "execution_count": null,
   "metadata": {},
   "outputs": [],
   "source": [
    "def bare_except():\n",
    "    while True:\n",
    "        try:\n",
    "            s = input(\"Input a number: \")\n",
    "            x = int(s)\n",
    "            break\n",
    "        except:  # oops! can't CTRL-C to exit, user is trapped\n",
    "            print(\"Not a number, try again\")\n",
    "\n",
    "    while True:\n",
    "        try:\n",
    "            s = input(\"Input a number: \")\n",
    "            x = int(s)\n",
    "            break\n",
    "        except Exception:  # still better to use ValueError, catch the Exception that will bethrown\n",
    "            print(\"Not a number, try again\")"
   ]
  },
  {
   "attachments": {},
   "cell_type": "markdown",
   "metadata": {},
   "source": [
    "# Replaces use of default mutable arguments \n",
    "\n",
    "Default arguments in Python are evaluated only once. The evaluation happens when the function is defined, instead of every time the function is called. This can inadvertently create hidden shared state, if you use a mutable default argument and mutate it at some point. This means that the mutated argument is now the default for all future calls to the function as well. This is usually unintended behaviour, though it can be useful in limited circumstances for writing  \n",
    "caches."
   ]
  },
  {
   "cell_type": "code",
   "execution_count": 52,
   "metadata": {},
   "outputs": [
    {
     "name": "stdout",
     "output_type": "stream",
     "text": [
      "['Stephan']\n",
      "['Stephan', 'Gisela']\n"
     ]
    }
   ],
   "source": [
    "# We pass an empty list as the default argument for the emp_list\n",
    "# bc. we want the the lsit to start from scratch when only a employee names is passed\n",
    "# but the second tim the fct is called WITHOUT passing an emp_list the old entry still is in the list\n",
    "# this is bc. default arguments are evaluated once in Python when the fct is created\n",
    "\n",
    "def add_new_employee(employee, emp_list=[]):\n",
    "    emp_list.append(employee)\n",
    "    print(emp_list)\n",
    "\n",
    "\n",
    "add_new_employee('Stephan')\n",
    "add_new_employee( 'Gisela' )  # the 'Hello' from the previous fct call still lingers in the list"
   ]
  },
  {
   "cell_type": "code",
   "execution_count": 60,
   "metadata": {},
   "outputs": [
    {
     "name": "stdout",
     "output_type": "stream",
     "text": [
      "['Stephan']\n",
      "['Gisela']\n"
     ]
    },
    {
     "data": {
      "text/plain": [
       "['Gisela', 'Gustav']"
      ]
     },
     "execution_count": 60,
     "metadata": {},
     "output_type": "execute_result"
    }
   ],
   "source": [
    "# if you want mutable default, first set it to None and then assign value in the fct.\n",
    "def add_new_employee(employee, emp_list=None):\n",
    "    if emp_list is None: emp_list = []\n",
    "    emp_list.append(employee)\n",
    "    return emp_list\n",
    "\n",
    "\n",
    "emp_list1 =add_new_employee('Stephan')\n",
    "print(emp_list1)\n",
    "\n",
    "emp_list2 = add_new_employee('Gisela')\n",
    "print(emp_list2)\n",
    "\n",
    "emp_list = add_new_employee('Gisela')\n",
    "add_new_employee('Gustav', emp_list)"
   ]
  },
  {
   "attachments": {},
   "cell_type": "markdown",
   "metadata": {},
   "source": [
    "# comprehensions\n",
    "- Comprehension are mostly in one line, cutting out the clutter of declaration and adding items.\n",
    "- The syntax it is actually more readable than the for loop version\n",
    "- Comprehensions will usually execute more quickly than building the collection in a loop"
   ]
  },
  {
   "cell_type": "code",
   "execution_count": null,
   "metadata": {},
   "outputs": [],
   "source": [
    "# for loop\n",
    "squares = {} # dict declaration \n",
    "for i in range(10): # for loop \n",
    "    squares[i] = i * i # adding items\n",
    "\n",
    "# all can be done in one line with comprehensions\n",
    "odd_squares = {x: x * x for x in range(10)}\n",
    "\n",
    "dict_comp = {i: i * i for i in range(10)}  # dictionary comprehension\n",
    "list_comp = [x * x for x in range(10)]  # list comprehension\n",
    "set_comp = {i % 3 for i in range(10)}  # set comprehension\n",
    "gen_comp = (2 * x + 5 for x in range(10))  # generator comprehension"
   ]
  },
  {
   "cell_type": "code",
   "execution_count": null,
   "metadata": {},
   "outputs": [],
   "source": [
    "# [f(x) if condition else g(x) for x in sequence]\n",
    "[f(x) if x is not None else '' for x in xs]"
   ]
  },
  {
   "cell_type": "code",
   "execution_count": null,
   "metadata": {},
   "outputs": [],
   "source": [
    "\"\"\"matrix product of a, b of length n x n\"\"\"\n",
    "# list comprehension can get messy, and un-readable\n",
    "c = [ sum(a[n * i + k] * b[n * k + j] for k in range(n)) for i in range(n) for j in range(n) ]\n",
    "\n",
    "# think about readability\n",
    "c = []\n",
    "for i in range(n):\n",
    "    for j in range(n):\n",
    "        ij_entry = sum(a[n * i + k] * b[n * k + j] for k in range(n))\n",
    "        c.append(ij_entry)\n",
    "    return c"
   ]
  },
  {
   "attachments": {},
   "cell_type": "markdown",
   "metadata": {},
   "source": [
    "# type() vs isinstance\n",
    "isinstance caters for inheritance (an instance of a derived class is an instance of a base class, too),\n",
    "while checking for equality of type does not (it demands identity of types and rejects instances of \n",
    "subtypes, AKA subclasses).<br>\n",
    "https://stackoverflow.com/questions/1549801/what-are-the-differences-between-type-and-isinstance"
   ]
  },
  {
   "cell_type": "code",
   "execution_count": 2,
   "metadata": {},
   "outputs": [
    {
     "name": "stdout",
     "output_type": "stream",
     "text": [
      "it's not a tuple\n",
      "it's a: <class '__main__.Point'>\n",
      "it's a tuple\n"
     ]
    }
   ],
   "source": [
    "from collections import namedtuple\n",
    "\n",
    "# Liskov substiution principle:\n",
    "# states that you should program in a way where you can substitute\n",
    "# a subclass for  it's parent witout breaking the program\n",
    "\n",
    "# namedtuple is a tuple\n",
    "Point = namedtuple('Point', ['x', 'y'])  \n",
    "# so Point class is a tuple, but it is a subclass of the built-in tuple\n",
    "p = Point(1, 2)  \n",
    "\n",
    "\n",
    "# Liskov substiution violation: \n",
    "# namedtuple is not equal to a tuple\n",
    "if type(p) == tuple:  # Liskov substiution violation\n",
    "    print(\"it's a tuple\")\n",
    "else:\n",
    "    print(\"it's not a tuple\")\n",
    "    print(f\"it's a: {type(p)}\")\n",
    "\n",
    "# check if is instance of tuple, namedtuple is an instance of a tuple (base class)\n",
    "if isinstance(p, tuple):\n",
    "    print(\"it's a tuple\")\n",
    "else:\n",
    "    print(\"it's not a tuple\")"
   ]
  },
  {
   "attachments": {},
   "cell_type": "markdown",
   "metadata": {},
   "source": [
    "# Identity (is) vs  Equality (==) \n",
    "\n",
    "There is a simple rule of thumb to tell you when to use **==** or **is**.<br>\n",
    "\n",
    "**==** is for **value equality** (same value). <br>\n",
    "Use it when you would like to know if two objects have the same value.<br>\n",
    "is will return True if two variables point to the same object (in memory), <br>\n",
    "> The operators <, >, ==, >=, <=, and != compare the values of two objects.\n",
    "\n",
    "**is** is for **object identity**. <br>\n",
    "Use it when you would like to know if two references refer to the same object.<br>\n",
    "is will return True if two variables point to the same object (in memory)<br>\n",
    "Object identity is determined using the id() function.<br>\n",
    "In Python the None object is a singleton, so it is correct to use *is* when comparing to it.\n",
    "\n",
    "> Thus, the check for identity is the same as checking for the equality of the IDs of the objects. That is, <br>\n",
    ">a is b<br>\n",
    ">is the same as:<br>\n",
    ">id(a) == id(b)<br>\n",
    "\n"
   ]
  },
  {
   "cell_type": "code",
   "execution_count": 15,
   "metadata": {},
   "outputs": [
    {
     "name": "stdout",
     "output_type": "stream",
     "text": [
      "False\n",
      "False\n",
      "True\n",
      "False\n",
      "False\n",
      "True\n"
     ]
    }
   ],
   "source": [
    "def  equal_or_identical(x):\n",
    "    print(x == None)\n",
    "    print(x == True)\n",
    "    print(x == False)\n",
    "\n",
    "    # better\n",
    "    print(x is None)\n",
    "    print(x is True)\n",
    "    print(x is False)\n",
    "\n",
    "\n",
    "equal_or_identical(False)"
   ]
  },
  {
   "cell_type": "code",
   "execution_count": 19,
   "metadata": {},
   "outputs": [
    {
     "name": "stdout",
     "output_type": "stream",
     "text": [
      "True\n",
      "True\n",
      "Not False and not empty\n"
     ]
    }
   ],
   "source": [
    "def checking_bool_or_len(x):\n",
    "    print(bool(x))  # bool is True if not False \n",
    "    print(len(x) != 0) # len is True if x is not empty\n",
    "\n",
    "    # Both can be substitued with a plain if x\n",
    "    # usually equivalent to\n",
    "    if x: print(\"Not False and not empty\")\n",
    "\n",
    "checking_bool_or_len(\"hello\")"
   ]
  },
  {
   "attachments": {},
   "cell_type": "markdown",
   "metadata": {},
   "source": [
    "# iterating over the list directly"
   ]
  },
  {
   "cell_type": "code",
   "execution_count": 20,
   "metadata": {},
   "outputs": [
    {
     "name": "stdout",
     "output_type": "stream",
     "text": [
      "1\n",
      "2\n",
      "3\n",
      "0 1\n",
      "1 2\n",
      "2 3\n"
     ]
    }
   ],
   "source": [
    "a = [1, 2, 3]\n",
    "\n",
    "# # this is unnecessary\n",
    "# for i in range(len(a)):\n",
    "#     v = a[i]\n",
    "#     print(v)\n",
    "\n",
    "# instead go over the values directly\n",
    "for v in a:\n",
    "    print(v)\n",
    "\n",
    "# or if you wanted the index\n",
    "for i, v in enumerate(a):\n",
    "    print(i, v)"
   ]
  },
  {
   "attachments": {},
   "cell_type": "markdown",
   "metadata": {},
   "source": [
    "# zip"
   ]
  },
  {
   "cell_type": "code",
   "execution_count": 9,
   "metadata": {},
   "outputs": [
    {
     "name": "stdout",
     "output_type": "stream",
     "text": [
      "the tedious way:    1 & 4\n",
      "the tedious way:    2 & 5\n",
      "the zip way:    1 / 4\n",
      "the zip way:    2 / 5\n",
      "itertools.zip_longest():    [(1, 4), (2, 5), (3, None), (4, None), (5, None), (6, None), (7, None)]\n",
      "zip returns a tuple:    (1, 4)\n",
      "zip returns a tuple:    (2, 5)\n",
      "zip + enumerate:    0: 1 / 4\n",
      "zip + enumerate:    1: 2 / 5\n"
     ]
    }
   ],
   "source": [
    "# using i to sync between two things?\n",
    "a = [1, 2]\n",
    "b = [4, 5]\n",
    "\n",
    "# # this is very tedious\n",
    "# for i in range(len(b)):\n",
    "#     av = a[i]\n",
    "#     bv = b[i]\n",
    "\n",
    "#     print(f\"the tedious way:    {av} & {bv}\")\n",
    "\n",
    "# INSTEAD USE zip, it's cleaner, zip creates an iterator\n",
    "for av, bv in zip(a, b):\n",
    "    print(f\"the zip way:    {av} / {bv}\")\n",
    "\n",
    "# zip stops when the shortest list is exhausted\n",
    "# if you want to go as far as the longest list you have to use\n",
    "# the zip_longest fct from itertools\n",
    "from itertools import zip_longest\n",
    "\n",
    "c = [1, 2, 3, 4, 5, 6, 7]\n",
    "z = list(zip_longest(c, b))\n",
    "print(f\"itertools.zip_longest():    {z}\")\n",
    "\n",
    "# if we just give one variable to zip to write to it returns a tuple\n",
    "for tup in zip(a, b):\n",
    "    print(f\"zip returns a tuple:    {tup}\")\n",
    "\n",
    "# if you need index of synced objects\n",
    "for i, (av, bv) in enumerate(zip(a, b)):\n",
    "    print(f\"zip + enumerate:    {i}: {av} / {bv}\")"
   ]
  },
  {
   "attachments": {},
   "cell_type": "markdown",
   "metadata": {},
   "source": [
    "# logging module\n",
    "- levels indicating the severity of events: DEBUG, INFO, WARNING, ERROR, CRITICAL\n",
    "- for logging to a file rather than the console, filename and filemode can be used\n",
    "- you can decide the format of the message using format"
   ]
  },
  {
   "cell_type": "code",
   "execution_count": 1,
   "metadata": {},
   "outputs": [
    {
     "name": "stderr",
     "output_type": "stream",
     "text": [
      "WARNING:root:This is a warning message\n",
      "ERROR:root:This is an error message\n",
      "CRITICAL:root:This is a critical message\n"
     ]
    }
   ],
   "source": [
    "import logging\n",
    "\n",
    "# set up logging in main function\n",
    "# format your error meassages\n",
    "level = logging.DEBUG\n",
    "fmt = '[%(levelname)s] %(asctime)s - %(message)s'\n",
    "logging.basicConfig(level=level, format=fmt)\n",
    "\n",
    "# this shows level, name, and message separated by a colon (:)\n",
    "# debug() and info() messages didn’t get logged. \n",
    "# bc. the logging module logs the messages with a severity level of WARNING or above\n",
    "logging.debug('This is a debug message')\n",
    "logging.info('This is an info message')\n",
    "logging.warning('This is a warning message')\n",
    "logging.error('This is an error message')\n",
    "logging.critical('This is a critical message')"
   ]
  },
  {
   "attachments": {},
   "cell_type": "markdown",
   "metadata": {},
   "source": [
    "- Be aware that, basicConfig() can only be called once.\n",
    "- debug(), info(), warning(), error(), and critical() also call basicConfig() without arguments <br>\n",
    "automatically if it has not been called before."
   ]
  },
  {
   "cell_type": "code",
   "execution_count": 13,
   "metadata": {},
   "outputs": [
    {
     "name": "stderr",
     "output_type": "stream",
     "text": [
      "DEBUG:root:This will get logged\n"
     ]
    }
   ],
   "source": [
    "# you can set what level of log messages you want to record\n",
    "import logging\n",
    "\n",
    "# Remove all handlers associated with the root logger object.\n",
    "for handler in logging.root.handlers[:]:\n",
    "    logging.root.removeHandler(handler)\n",
    "\n",
    "logging.basicConfig(level=logging.DEBUG)\n",
    "logging.debug('This will get logged')"
   ]
  },
  {
   "attachments": {},
   "cell_type": "markdown",
   "metadata": {},
   "source": [
    "- The filemode is set to w, which means the log file is opened in “write mode” \n",
    "each time basicConfig() is called, and each run of the program will rewrite the file. \n",
    "- The default configuration for filemode is a, which is append."
   ]
  },
  {
   "cell_type": "code",
   "execution_count": 22,
   "metadata": {},
   "outputs": [],
   "source": [
    "import logging\n",
    "\n",
    "# Remove all handlers associated with the root logger object.\n",
    "[logging.root.removeHandler(handler) for handler in logging.root.handlers[:]]\n",
    "\n",
    "logging.basicConfig(\n",
    "    filename='app.log',\n",
    "    level=logging.INFO,\n",
    "    filemode='w',\n",
    "    format='%(process)d - %(name)s - %(levelname)s - %(message)s',\n",
    "    force = True)\n",
    "\n",
    "logging.info('This will get logged to a file')"
   ]
  },
  {
   "cell_type": "code",
   "execution_count": 23,
   "metadata": {},
   "outputs": [
    {
     "name": "stderr",
     "output_type": "stream",
     "text": [
      "2770 - root - [DEBUG] 2023-03-10 00:02:55,650 - debug info\n",
      "2770 - root - [INFO] 2023-03-10 00:02:55,652 - just some info\n",
      "2770 - root - [ERROR] 2023-03-10 00:02:55,653 - uh oh :(\n"
     ]
    }
   ],
   "source": [
    "# set up logging in main function\n",
    "\n",
    "# Remove all handlers associated with the root logger object.\n",
    "[logging.root.removeHandler(handler) for handler in logging.root.handlers[:]]\n",
    "\n",
    "level = logging.DEBUG\n",
    "fmt = '%(process)d - %(name)s - [%(levelname)s] %(asctime)s - %(message)s'  # format your error meassages\n",
    "logging.basicConfig(level=level, format=fmt)\n",
    "\n",
    "# wherever\n",
    "logging.debug(\"debug info\")\n",
    "logging.info(\"just some info\")\n",
    "logging.error(\"uh oh :(\")"
   ]
  },
  {
   "attachments": {},
   "cell_type": "markdown",
   "metadata": {},
   "source": [
    "# subprocesses \n",
    "- subprocess should be used for accessing system commands\n",
    "- Python’s subprocess library is designed to launch processes to run external programs,\n",
    "regardless of the languages used to write them. It interacts with the operating system and can issue shell commands like ls or dir.\n",
    "- A **process** is the operating system’s abstraction of a running program.\n",
    "- **Subprocess** is the child of a (Python) process \n",
    "- Python subprocess module should be used for accessing system commands, <br>\n",
    "it's an alternative to using the os module\n",
    "- Most of your interaction with the Python subprocess module will be via the **run()** function, <br>\n",
    "while all functions in the subprocess module are convenience wrappers around the **Popen()** <br>\n",
    "constructor and its instance methods."
   ]
  },
  {
   "cell_type": "code",
   "execution_count": null,
   "metadata": {},
   "outputs": [],
   "source": [
    "# You can call any application that you can with the Start menu or app bar,\n",
    "# as long as you know the precise name or path of the program\n",
    "import subprocess\n",
    "\n",
    "# subprocess.run('ls')\n",
    "subprocess.run([\"nano\"])\n",
    "\n",
    "\n",
    "\n",
    "def subprocess_with_shell_true():\n",
    "    # shell= True causes security problems leave it out\n",
    "    # subprocess.run([\"ls -l\"], capture_output=True, shell=True)\n",
    "    subprocess.run([\"ls\", \"-l\"], capture_output=True)\n",
    "\n",
    "\n",
    "subprocess_with_shell_true()"
   ]
  },
  {
   "cell_type": "code",
   "execution_count": 48,
   "metadata": {},
   "outputs": [
    {
     "name": "stdout",
     "output_type": "stream",
     "text": [
      "4:test\n",
      "\n"
     ]
    }
   ],
   "source": [
    "import subprocess\n",
    "# subprocess commands are tokenized by putting them in a list\n",
    "# p1 = subprocess.run([\"ls\", \"-l\"])\n",
    "# print(p1.returncode) # shows errors, 0 means zero errors\n",
    "# print(p1.args) # passes arguments\n",
    "# print(p1.stdout) # None, means nothing was captured\n",
    "\n",
    "# # now stdout is captured in the varibale and not printed in console\n",
    "# # text=True decodes the byte output to string\n",
    "# p2 = subprocess.run([\"ls\", \"-l\"], capture_output=True, text=True)\n",
    "# print(p2.stdout)\n",
    "\n",
    "# # write stdout to a file\n",
    "# with open('output.txt', 'w') as f:\n",
    "#     p2 = subprocess.run([\"ls\", \"-l\"], stdout=f, text=True)\n",
    "\n",
    "# # In cas of an error python will NOT throw an error message\n",
    "# # but we can see that the returncode is not equal to zero\n",
    "# p2 = subprocess.run([\"ls\", \"-l\", 'dne'], capture_output=True, text=True)\n",
    "# print(p2.returncode)  # see the errorcode\n",
    "# print(p2.stderr)  # see the error\n",
    "\n",
    "# # you can write smt like this in your code\n",
    "# # to check if your subprocess failed\n",
    "# if p2.returncode != 0: print('You have an error sir')\n",
    "\n",
    "# # if you want python to throw an error we can pass the argument\n",
    "# # check=True\n",
    "# p2 = subprocess.run([\"ls\", \"-l\", 'dne'],\n",
    "#                     capture_output=True,\n",
    "#                     text=True,\n",
    "#                     check=True)\n",
    "\n",
    "# # we can IGNORE ERROR altogether by sending them to dev_null\n",
    "# p2 = subprocess.run([\"ls\", \"-l\", 'dne'],\n",
    "#                     stderr=subprocess.DEVNULL)\n",
    "\n",
    "# # feding the output of on process to another process as input\n",
    "# p3 = subprocess.run([\"cat\", \"test.txt\"], capture_output=True, text=True)\n",
    "# # print(p3.stdout)\n",
    "\n",
    "# # we search for the word 'test' in the output of p3\n",
    "# p4 = subprocess.run([\"grep\", \"-n\", 'test'],\n",
    "#                     capture_output=True,\n",
    "#                     text=True,\n",
    "#                     input=p3.stdout)  # p3.stdout=p4.input\n",
    "\n",
    "# print(p4.stdout)\n",
    "\n",
    "# shell=True makes it possible to write a shell command just like in the console\n",
    "# shell= True causes SECURITY PROBLEMS leave it out if possible\n",
    "p3 = subprocess.run(' cat test.txt | grep -n test', # command as a regular string one-liner\n",
    "                    capture_output=True,\n",
    "                    text=True,\n",
    "                    shell=True)\n"
   ]
  },
  {
   "attachments": {},
   "cell_type": "markdown",
   "metadata": {},
   "source": [
    "# use numpy"
   ]
  },
  {
   "cell_type": "code",
   "execution_count": null,
   "metadata": {},
   "outputs": [],
   "source": [
    "import numpy as np\n",
    "\n",
    "\n",
    "def not_using_numpy_pandas():\n",
    "    x = list(range(100))\n",
    "    y = list(range(100))\n",
    "    s = [a + b for a, b in zip(x, y)]\n",
    "\n",
    "    # better (faster)\n",
    "    x = np.arange(100)\n",
    "    y = np.arange(100)\n",
    "    s = x + y"
   ]
  },
  {
   "attachments": {},
   "cell_type": "markdown",
   "metadata": {},
   "source": [
    "# getpass() to hide input"
   ]
  },
  {
   "cell_type": "code",
   "execution_count": null,
   "metadata": {},
   "outputs": [],
   "source": [
    "from getpass import getpass\n",
    "\n",
    "username = input('Username: ')\n",
    "# instead of input('Passwort: ') put getpass(...) and the password \n",
    "# is hidden in the console while writing\n",
    "password = getpass('Password: ')\n",
    "print('Logging In...')"
   ]
  },
  {
   "attachments": {},
   "cell_type": "markdown",
   "metadata": {},
   "source": [
    "# python -m\n",
    "- run a module that is NOT in the cd\n",
    "- this runs the smtpd module, everything after smtpd are the args of that module \n",
    "\n",
    "`python -m smtpd DebuggingServer -n localhost:1025`\n",
    "\n",
    "to find out about the args of a module run: \n",
    "**help(module_name)**\n",
    "\n",
    "if you justa want attributed and method name of a module check: **dir(module_name)**\n",
    "\n",
    "when you check a medule with dir() and want to know if smt is an attribute or a method you can: **modulename.method_name** without the () and get infos"
   ]
  },
  {
   "cell_type": "code",
   "execution_count": null,
   "metadata": {},
   "outputs": [],
   "source": [
    "from datetime import datetime\n",
    "print(help(datetime))"
   ]
  },
  {
   "cell_type": "code",
   "execution_count": null,
   "metadata": {},
   "outputs": [
    {
     "name": "stdout",
     "output_type": "stream",
     "text": [
      "['__add__', '__class__', '__delattr__', '__dir__', '__doc__', '__eq__', '__format__', '__ge__', '__getattribute__', '__gt__', '__hash__', '__init__', '__init_subclass__', '__le__', '__lt__', '__ne__', '__new__', '__radd__', '__reduce__', '__reduce_ex__', '__repr__', '__rsub__', '__setattr__', '__sizeof__', '__str__', '__sub__', '__subclasshook__', 'astimezone', 'combine', 'ctime', 'date', 'day', 'dst', 'fold', 'fromisocalendar', 'fromisoformat', 'fromordinal', 'fromtimestamp', 'hour', 'isocalendar', 'isoformat', 'isoweekday', 'max', 'microsecond', 'min', 'minute', 'month', 'now', 'replace', 'resolution', 'second', 'strftime', 'strptime', 'time', 'timestamp', 'timetuple', 'timetz', 'today', 'toordinal', 'tzinfo', 'tzname', 'utcfromtimestamp', 'utcnow', 'utcoffset', 'utctimetuple', 'weekday', 'year']\n"
     ]
    }
   ],
   "source": [
    "print(dir(datetime))"
   ]
  },
  {
   "cell_type": "code",
   "execution_count": null,
   "metadata": {},
   "outputs": [
    {
     "name": "stdout",
     "output_type": "stream",
     "text": [
      "<built-in method today of type object at 0x7fc80471ad40>\n",
      "2023-03-08 16:01:46.761279\n"
     ]
    }
   ],
   "source": [
    "print(datetime.today)\n",
    "print(datetime.today())"
   ]
  },
  {
   "attachments": {},
   "cell_type": "markdown",
   "metadata": {},
   "source": [
    "# module names\n",
    "import errors often come up when you named your own modules the same as standard library modules\n",
    "\n",
    "# variable names\n",
    "the same applies for variable names if you accidentally name a varibale the as a function that function \n",
    "is not available anymore\n",
    "\n",
    "# use `from ... import ...`\n",
    "- import * is not recommended just import what you need\n",
    "- some modules even have functions with the same name and one overwrites the other when you imported the entire module\n",
    "\n",
    "# learn to package your code \n",
    "and install it in the current environment\n",
    "\n",
    "# python is compiled\n",
    "-  .pyc files or __pyache__ are compiled python code\n",
    "- but python is also an interpreted language\n",
    "- python is compiled to bytecode which is then run by the interpreter\n",
    "\n",
    "# adhere to pep8 \n",
    "- pep8 is a styleguide\n",
    "- pro's use it\n",
    "- pep8 is a styleguide and pro's use it\n",
    "https://peps.python.org/pep-0008/#introduction\n",
    "\n",
    "# use python 3\n",
    "- check the python changes"
   ]
  },
  {
   "attachments": {},
   "cell_type": "markdown",
   "metadata": {},
   "source": [
    "# **SOLID** Principles<br>\n",
    "- Single Responsibility Principle<br>\n",
    "- Open/Closed Principle<br>\n",
    "- Liskov Substitution Principle<br>\n",
    "- Interface Segregation Principle<br>\n",
    "- Dependency Inversion<br>\n",
    "\n",
    "**Single Responsibility Principle** <br>\n",
    "A class should have one, and only one, reason to change.\n",
    "\n",
    "**Open/Closed Principle**<br>\n",
    "“Software entities (classes, modules, functions, etc.) should be open for extension, but closed for modification.”\n",
    "\n",
    "**Liskov Substitution Principle**<br>\n",
    "The principle defines that objects of a superclass shall be replaceable with objects of its subclasses without breaking the application. That requires the objects of your subclasses to behave in the same way as the objects of your superclass.\n",
    "\n",
    "**Interface Segregation Principle**<br>\n",
    "\"Clients should not be forced to depend upon interfaces that they do not use.\"\n",
    "\n",
    "**Dependency Inversion Principle** consists of two parts:\n",
    "1. High-level modules should not depend on low-level modules. Both should depend on abstractions.\n",
    "2. Abstractions should not depend on details. Details should depend on abstractions.\n",
    "\n"
   ]
  },
  {
   "cell_type": "code",
   "execution_count": null,
   "metadata": {},
   "outputs": [],
   "source": [
    "import logging\n",
    "import socket\n",
    "import subprocess\n",
    "import time\n",
    "from collections import namedtuple\n",
    "\n",
    "import numpy as np\n",
    "\n",
    "\n",
    "def manual_str_formatting(name, subscribers):\n",
    "    if subscribers > 100000:\n",
    "        print(\"Wow \" + name + \"! you have \" + str(subscribers) + \" subscribers!\")\n",
    "    else:\n",
    "        print(\"Lol \" + name + \" that's not many subs\")\n",
    "\n",
    "    # better\n",
    "    if subscribers > 100000:\n",
    "        print(f\"Wow {name}! you have {subscribers} subscribers!\")\n",
    "    else:\n",
    "        print(f\"Lol {name} that's not many subs\")\n",
    "\n",
    "\n",
    "def manually_calling_close_on_a_file(filename):\n",
    "    f = open(filename, \"w\")\n",
    "    f.write(\"hello!\\n\")\n",
    "    f.close()\n",
    "\n",
    "    with open(filename, \"w\") as f:\n",
    "        f.write(\"hello!\\n\")\n",
    "    # close automatic, even if exception\n",
    "\n",
    "def finally_instead_of_context_manager(host, port):\n",
    "    s = socket.socket(socket.AF_INET, socket.SOCK_STREAM)\n",
    "    try:\n",
    "        s.connect((host, port))\n",
    "        s.sendall(b'Hello, world')\n",
    "    finally:\n",
    "        s.close()\n",
    "\n",
    "    # close even if exception\n",
    "    with socket.socket(socket.AF_INET, socket.SOCK_STREAM) as s:\n",
    "        s.connect((host, port))\n",
    "        s.sendall(b'Hello, world')\n",
    "\n",
    "\n",
    "def bare_except():\n",
    "    while True:\n",
    "        try:\n",
    "            s = input(\"Input a number: \")\n",
    "            x = int(s)\n",
    "            break\n",
    "        except:  # oops! can't CTRL-C to exit\n",
    "            print(\"Not a number, try again\")\n",
    "\n",
    "    while True:\n",
    "        try:\n",
    "            s = input(\"Input a number: \")\n",
    "            x = int(s)\n",
    "            break\n",
    "        except Exception:  # still better to use ValueError\n",
    "            print(\"Not a number, try again\")\n",
    "\n",
    "\n",
    "def caret_and_exponentiation(x, p):\n",
    "    y = x ^ p  # bitwise xor of x and p, not exponentiation\n",
    "    y = x ** p\n",
    "\n",
    "\n",
    "def mutable_default_arguments():\n",
    "    def append(n, l=[]):\n",
    "        l.append(n)\n",
    "        return l\n",
    "\n",
    "    l1 = append(0)  # [0]\n",
    "    l2 = append(1)  # [0, 1]\n",
    "\n",
    "    def append(n, l=None):\n",
    "        if l is None:\n",
    "            l = []\n",
    "        l.append(n)\n",
    "        return l\n",
    "\n",
    "    l1 = append(0)  # [0]\n",
    "    l2 = append(1)  # [1]\n",
    "\n",
    "def never_using_comprehensions():\n",
    "    squares = {}\n",
    "    for i in range(10):\n",
    "        squares[i] = i * i\n",
    "\n",
    "    # same\n",
    "    odd_squares = {i: i * i for i in range(10)}\n",
    "\n",
    "def always_using_comprehensions(a, b, n):\n",
    "    \"\"\"matrix product of a, b of length n x n\"\"\"\n",
    "    c = [\n",
    "        sum(a[n * i + k] * b[n * k + j] for k in range(n))\n",
    "        for i in range(n)\n",
    "        for j in range(n)\n",
    "    ]\n",
    "\n",
    "    c = []\n",
    "    for i in range(n):\n",
    "        for j in range(n):\n",
    "            ij_entry = sum(a[n * i + k] * b[n * k + j] for k in range(n))\n",
    "            c.append(ij_entry)\n",
    "\n",
    "    return c\n",
    "\n",
    "def checking_type_equality():\n",
    "    Point = namedtuple('Point', ['x', 'y'])\n",
    "    p = Point(1, 2)\n",
    "\n",
    "    if type(p) == tuple:\n",
    "        print(\"it's a tuple\")\n",
    "    else:\n",
    "        print(\"it's not a tuple\")\n",
    "\n",
    "    # probably meant to check if is instance of tuple\n",
    "    if isinstance(p, tuple):\n",
    "        print(\"it's a tuple\")\n",
    "    else:\n",
    "        print(\"it's not a tuple\")\n",
    "\n",
    "\n",
    "def equality_for_singletons(x):\n",
    "    if x == None:\n",
    "        pass\n",
    "\n",
    "    if x == True:\n",
    "        pass\n",
    "\n",
    "    if x == False:\n",
    "        pass\n",
    "\n",
    "    # better\n",
    "    if x is None:\n",
    "        pass\n",
    "\n",
    "    if x is True:\n",
    "        pass\n",
    "\n",
    "    if x is False:\n",
    "        pass\n",
    "\n",
    "def checking_bool_or_len(x):\n",
    "    if bool(x):\n",
    "        pass\n",
    "\n",
    "    if len(x) != 0:\n",
    "        pass\n",
    "\n",
    "    # usually equivalent to\n",
    "    if x:\n",
    "        pass\n",
    "\n",
    "def range_len_pattern():\n",
    "    a = [1, 2, 3]\n",
    "    for i in range(len(a)):\n",
    "        v = a[i]\n",
    "        ...\n",
    "\n",
    "    # instead\n",
    "    for v in a:\n",
    "        ...\n",
    "\n",
    "    # or if you wanted the index\n",
    "    for i, v in enumerate(a):\n",
    "        ...\n",
    "\n",
    "    # using i to sync between two things?\n",
    "    b = [4, 5, 6]\n",
    "    for i in range(len(b)):\n",
    "        av = a[i]\n",
    "        bv = b[i]\n",
    "        ...\n",
    "\n",
    "    # instead use zip\n",
    "    for av, bv in zip(a, b):\n",
    "        ...\n",
    "\n",
    "def for_key_in_dict_keys():\n",
    "    d = {\"a\": 1, \"b\": 2, \"c\": 3}\n",
    "    for key in d.keys():\n",
    "        ...\n",
    "\n",
    "    # that's the default\n",
    "    for key in d:\n",
    "        ...\n",
    "\n",
    "    # or if you meant to make a copy of keys\n",
    "    for key in list():\n",
    "        ...\n",
    "\n",
    "def not_using_dict_items():\n",
    "    d = {\"a\": 1, \"b\": 2, \"c\": 3}\n",
    "    for key in d:\n",
    "        val = d[key]\n",
    "        ...\n",
    "\n",
    "    for key, val in d.items():\n",
    "        ...\n",
    "\n",
    "def tuple_unpacking():\n",
    "    x = 0\n",
    "    y = 1\n",
    "\n",
    "    tmp = x\n",
    "    x = y\n",
    "    y = tmp\n",
    "\n",
    "    x, y = 0, 1\n",
    "    x, y = y, x\n",
    "\n",
    "    mytuple = 1, 2\n",
    "    x = mytuple[0]\n",
    "    y = mytuple[1]\n",
    "\n",
    "    x, y = mytuple\n",
    "\n",
    "\n",
    "def index_counter_variable():\n",
    "    l = [1, 2, 3]\n",
    "\n",
    "    i = 0\n",
    "    for x in l:\n",
    "        ...\n",
    "        i += 1\n",
    "\n",
    "    for i, x in enumerate(l):\n",
    "        ...\n",
    "\n",
    "def timing_with_time():\n",
    "    start = time.time()\n",
    "    time.sleep(1)\n",
    "    end = time.time()\n",
    "    print(end - start)\n",
    "\n",
    "    # more accurate\n",
    "    start = time.perf_counter()\n",
    "    time.sleep(1)\n",
    "    end = time.perf_counter()\n",
    "    print(end - start)\n",
    "\n",
    "\n",
    "\n",
    "def print_vs_logging():\n",
    "    print(\"debug info\")\n",
    "    print(\"just some info\")\n",
    "    print(\"bad error\")\n",
    "\n",
    "    # versus\n",
    "    # in main\n",
    "    level = logging.DEBUG\n",
    "    fmt = '[%(levelname)s] %(asctime)s - %(message)s'\n",
    "    logging.basicConfig(level=level, format=fmt)\n",
    "\n",
    "    # wherever\n",
    "    logging.debug(\"debug info\")\n",
    "    logging.info(\"just some info\")\n",
    "    logging.error(\"uh oh :(\")\n",
    "\n",
    "def subprocess_with_shell_true():\n",
    "    subprocess.run([\"ls -l\"], capture_output=True, shell=True)\n",
    "\n",
    "    subprocess.run([\"ls\", \"-l\"], capture_output=True)\n",
    "\n",
    "def not_using_numpy_pandas():\n",
    "    x = list(range(100))\n",
    "    y = list(range(100))\n",
    "    s = [a + b for a, b in zip(x, y)]\n",
    "\n",
    "    # better (faster)\n",
    "    x = np.arange(100)\n",
    "    y = np.arange(100)\n",
    "    s = x + y\n",
    "\n",
    "\n",
    "def not_following_pep8():\n",
    "    x = (1, 2)\n",
    "    y=5\n",
    "    l = [1,2,3]\n",
    "\n",
    "    def func(x=5):\n",
    "        ...\n",
    "\n",
    "\n",
    "def python2_thinking():\n",
    "    x = 10000000000000000000\n",
    "    print(x in range(2 * x))  # ranges are lazy, this will be fast\n",
    "\n",
    "    d = {\"a\": 1, \"b\": 2, \"c\": 3}\n",
    "    keys = d.keys()\n",
    "    del d[\"a\"]\n",
    "    print(\"a\" in keys)  # keys is a \"view\", not a copy"
   ]
  },
  {
   "cell_type": "code",
   "execution_count": null,
   "metadata": {},
   "outputs": [],
   "source": []
  }
 ],
 "metadata": {
  "kernelspec": {
   "display_name": "lewagon",
   "language": "python",
   "name": "python3"
  },
  "language_info": {
   "codemirror_mode": {
    "name": "ipython",
    "version": 3
   },
   "file_extension": ".py",
   "mimetype": "text/x-python",
   "name": "python",
   "nbconvert_exporter": "python",
   "pygments_lexer": "ipython3",
   "version": "3.11.5"
  },
  "orig_nbformat": 4,
  "vscode": {
   "interpreter": {
    "hash": "ad7afd56c4a9327988b254949fc9ff6c4de57fd051da33a62b5f87e3ddafe8d2"
   }
  }
 },
 "nbformat": 4,
 "nbformat_minor": 2
}
