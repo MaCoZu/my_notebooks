{
 "cells": [
  {
   "attachments": {},
   "cell_type": "markdown",
   "metadata": {},
   "source": [
    "# regex \n",
    "https://developers.google.com/edu/python/regular-expressions\n",
    "\n",
    "| sign | explanation |\n",
    "|----------------|-----------------|\n",
    "|{ }|curly braces { } are used by a quantifier with specific limits|\n",
    "|[ ]| Square brackets* [ ] define a character class|\n",
    "|( )|Parentheses ( ) can be used for grouping. |\n",
    "|\\\\(| A literal parentheses has to be escaped|\n",
    "|.| matches any single character except newline '\\n'|\n",
    "|\\w|Matches a Non-Alpha numeric character [a-zA-Z0-9_] including underscore  _|\n",
    "| \\W| Matches a Non-Alpha numeric character (letters, numbers, regardless of case) excluding underscore  _ |\n",
    "|\\b | boundary between word and non-word |\n",
    "|\\t, \\n, \\r | tab, newline, return\n",
    "|*| Zero or more occurances of a particular character |\n",
    "|+ | One or more instances of a particular character |\n",
    "|?| Zero or One occurance of a particular character. If this is used after a * or a +, it tries to do a lazy match and tries to match as few characters as possible, to fit the regex.|\n",
    "| [a-z] or [A-Z] | Matches any character between, and including, [a to z] or [A to Z]|\n",
    "| [0-9]|Matches any digit between, and including [0-9]| \n",
    "| \\D| Matches a Non-Digit character|\n",
    "|\\d|Matches a Digit Character|\n",
    "|$| End of string or line|\n",
    "|\\Z| End of string|\n",
    "|\\s|Whitespace|\n",
    "|^|Beginning of a string|\n",
    "|{m, n}| Between m and n occurences of a particular character|\n",
    "|[^...]|Matches every character other than the ones inside the box brackets.|"
   ]
  },
  {
   "attachments": {},
   "cell_type": "markdown",
   "metadata": {},
   "source": [
    "## Basic Examples\n",
    "\n",
    "The basic rules of regular expression search for a pattern within a string are:\n",
    "- The search proceeds through the string from start to end, stopping at the first match found\n",
    "- All of the pattern must be matched, but not all of the string\n",
    "- If match = re.search(pat, str) is successful, match is not None and in particular match.group() is the matching text "
   ]
  },
  {
   "cell_type": "code",
   "execution_count": 3,
   "metadata": {},
   "outputs": [
    {
     "data": {
      "text/plain": [
       "<re.Match object; span=(1, 4), match='iii'>"
      ]
     },
     "execution_count": 3,
     "metadata": {},
     "output_type": "execute_result"
    }
   ],
   "source": [
    "## Search for pattern 'iii' in string 'piiig'.\n",
    "## All of the pattern must match, but it may appear anywhere.\n",
    "## On success, match.group() is matched text.\n",
    "import re\n",
    "re.search(r'igs', 'piiig') # not found, match == None\n",
    "re.search(r'iii', 'piiig') # found, match.group() == \"iii\""
   ]
  },
  {
   "cell_type": "code",
   "execution_count": 6,
   "metadata": {},
   "outputs": [
    {
     "data": {
      "text/plain": [
       "<re.Match object; span=(2, 5), match='iig'>"
      ]
     },
     "execution_count": 6,
     "metadata": {},
     "output_type": "execute_result"
    }
   ],
   "source": [
    "re.search(r'..g', 'piiig')  # . finds any char except newline \\n"
   ]
  },
  {
   "cell_type": "code",
   "execution_count": 5,
   "metadata": {},
   "outputs": [
    {
     "data": {
      "text/plain": [
       "<re.Match object; span=(2, 5), match='abc'>"
      ]
     },
     "execution_count": 5,
     "metadata": {},
     "output_type": "execute_result"
    }
   ],
   "source": [
    "re.search(r'\\d\\d\\d', 'p123g')  # \\d = digit\n",
    "re.search(r'\\w\\w\\w', '@@abcd!!')  # \\w = letter, digit or underscore char"
   ]
  },
  {
   "attachments": {},
   "cell_type": "markdown",
   "metadata": {},
   "source": [
    "## Repetition\n",
    "\n",
    "Things get more interesting when you use + and * to specify repetition in the pattern\n",
    "\n",
    "    + -- 1 or more occurrences of the pattern to its left, e.g. 'i+' = one or more i's\n",
    "    * -- 0 or more occurrences of the pattern to its left\n",
    "    ? -- match 0 or 1 occurrences of the pattern to its left \n",
    "\n",
    "Leftmost & Largest<br>\n",
    "First the search finds the leftmost match for the pattern, and second it tries to use up as much of the <br>\n",
    "string as possible -- i.e. + and * go as far as possible (the + and * are said to be \"greedy\")."
   ]
  },
  {
   "cell_type": "code",
   "execution_count": 10,
   "metadata": {},
   "outputs": [
    {
     "name": "stdout",
     "output_type": "stream",
     "text": [
      "1 2   3 \n",
      "12  3 \n",
      "123\n"
     ]
    }
   ],
   "source": [
    "match1= re.search(r'\\d\\s*\\d\\s*\\d', 'xx1 2   3xx') # finds digits \\d and whitespaces \\s*\n",
    "match2= re.search(r'\\d\\s*\\d\\s*\\d', 'xx12  3xx') \n",
    "match3= re.search(r'\\d\\s*\\d\\s*\\d', 'xx123xx') \n",
    "print(f\"{match1[0]} \\n{match2[0]} \\n{match3[0]}\")"
   ]
  },
  {
   "cell_type": "code",
   "execution_count": 11,
   "metadata": {},
   "outputs": [
    {
     "name": "stdout",
     "output_type": "stream",
     "text": [
      "ll\n"
     ]
    }
   ],
   "source": [
    "# one or more instances of a char\n",
    "import re\n",
    "match = re.search(r\"(l+)\",\"Hello\") # finds \"l\" and possible one \"l\" more\n",
    "print(match[1])"
   ]
  },
  {
   "cell_type": "code",
   "execution_count": null,
   "metadata": {},
   "outputs": [],
   "source": [
    "  ## i+ = one or more i's, as many as possible.\n",
    "  match = re.search(r'pi+', 'piiig') # found, match.group() == \"piii\"\n",
    "\n",
    "  ## Finds the first/leftmost solution, and within it drives the +\n",
    "  ## as far as possible (aka 'leftmost and largest').\n",
    "  ## In this example, note that it does not get to the second set of i's.\n",
    "  match = re.search(r'i+', 'piigiiii') # found, match.group() == \"ii\""
   ]
  },
  {
   "attachments": {},
   "cell_type": "markdown",
   "metadata": {},
   "source": [
    "## Capturing Parentheses"
   ]
  },
  {
   "cell_type": "code",
   "execution_count": null,
   "metadata": {},
   "outputs": [
    {
     "name": "stdout",
     "output_type": "stream",
     "text": [
      "Okke Bartholomäo\n",
      "Okke\n",
      "Bartholomäo\n"
     ]
    }
   ],
   "source": [
    "name = 'Okke Bartholomäo'\n",
    "ma = re.search(r\"(\\D+) (\\D+)\", name) # matches in () are seperable\n",
    "print(ma[0])\n",
    "print(ma[1])\n",
    "print(ma[2])"
   ]
  },
  {
   "cell_type": "code",
   "execution_count": null,
   "metadata": {},
   "outputs": [
    {
     "name": "stdout",
     "output_type": "stream",
     "text": [
      "can't\n",
      "'t\n"
     ]
    }
   ],
   "source": [
    "m = re.search(r\"can('t)\", \"We can't do it!\")\n",
    "print(m[0])\n",
    "print(m[1])"
   ]
  },
  {
   "cell_type": "code",
   "execution_count": null,
   "metadata": {},
   "outputs": [
    {
     "name": "stdout",
     "output_type": "stream",
     "text": [
      "(303)555-1212\n",
      "303\n"
     ]
    }
   ],
   "source": [
    "# \\((\\d{3})\\) finds (303) seperatly\n",
    "m = re.search( r\"\\((\\d{3})\\)\\d{3}-\\d{4}\", \"(303)555-1212\" )\n",
    "print(m[0])\n",
    "print(m[1])"
   ]
  },
  {
   "attachments": {},
   "cell_type": "markdown",
   "metadata": {},
   "source": [
    "## Non-capturing Parentheses\n",
    "?: create a non-capturing group: that simplyfies and ignores the stuff after :? in the output<br>\n",
    "the final ? makes the the previous token optional -- it would find \"can\" as well as \"can't\"<br>"
   ]
  },
  {
   "cell_type": "code",
   "execution_count": null,
   "metadata": {},
   "outputs": [
    {
     "name": "stdout",
     "output_type": "stream",
     "text": [
      "can\n",
      "can't\n"
     ]
    }
   ],
   "source": [
    "import re\n",
    "match1 = re.search(\"can(?:'t)?\",\"We can do it\" )\n",
    "match2 = re.search(\"can(?:'t)?\",\"We can't do it\" )\n",
    "print(match1[0])\n",
    "print(match2[0])"
   ]
  },
  {
   "cell_type": "code",
   "execution_count": null,
   "metadata": {},
   "outputs": [
    {
     "name": "stdout",
     "output_type": "stream",
     "text": [
      "llo\n"
     ]
    }
   ],
   "source": [
    "# any char\n",
    "import re\n",
    "matchObj = re.search(r\"(..o)\",\"Hello\") # match and as many characters \n",
    "print (matchObj.group(1))"
   ]
  },
  {
   "cell_type": "code",
   "execution_count": null,
   "metadata": {},
   "outputs": [
    {
     "name": "stdout",
     "output_type": "stream",
     "text": [
      "ll\n"
     ]
    }
   ],
   "source": [
    "# zero or more of that char\n",
    "import re\n",
    "matchObj = re.search(r\"e(l*)\",\"Hello\")\n",
    "print (matchObj.group(1))"
   ]
  },
  {
   "cell_type": "code",
   "execution_count": null,
   "metadata": {},
   "outputs": [
    {
     "name": "stdout",
     "output_type": "stream",
     "text": [
      "http://www.thehindu.com\n",
      "www.thehindu.com\n"
     ]
    }
   ],
   "source": [
    "# ?: non-capturing, 's' is optional, the whole first group is optional, \n",
    "testString=\"http://www.thehindu.com/features/education/issues\"\n",
    "matchObj = re.search(r\"(?:https?\\:\\/\\/)?([^\\/]*)\",testString)\n",
    "print (matchObj.group(0))\n",
    "print (matchObj.group(1))"
   ]
  },
  {
   "cell_type": "code",
   "execution_count": null,
   "metadata": {},
   "outputs": [],
   "source": [
    "  ## ^ = matches the start of string, so this fails:\n",
    "  match = re.search(r'^b\\w+', 'foobar') # not found, match == None\n",
    "  ## but without the ^ it succeeds:\n",
    "  match = re.search(r'b\\w+', 'foobar') # found, match.group() == \"bar\""
   ]
  }
 ],
 "metadata": {
  "kernelspec": {
   "display_name": "bayes",
   "language": "python",
   "name": "python3"
  },
  "language_info": {
   "codemirror_mode": {
    "name": "ipython",
    "version": 3
   },
   "file_extension": ".py",
   "mimetype": "text/x-python",
   "name": "python",
   "nbconvert_exporter": "python",
   "pygments_lexer": "ipython3",
   "version": "3.10.5"
  },
  "orig_nbformat": 4
 },
 "nbformat": 4,
 "nbformat_minor": 2
}
