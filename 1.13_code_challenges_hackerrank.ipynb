{
 "cells": [
  {
   "attachments": {},
   "cell_type": "markdown",
   "metadata": {},
   "source": [
    "# Timer Code"
   ]
  },
  {
   "cell_type": "code",
   "execution_count": null,
   "metadata": {},
   "outputs": [],
   "source": [
    "import time\n",
    "\n",
    "start = time.perf_counter()\n",
    "\n",
    "# Code here \n",
    "\n",
    "end = time.perf_counter()\n",
    "print(end - start)"
   ]
  },
  {
   "cell_type": "code",
   "execution_count": 19,
   "metadata": {},
   "outputs": [
    {
     "name": "stdout",
     "output_type": "stream",
     "text": [
      "[]\n",
      "[[0, 0, 0], [0, 0, 1], [0, 1, 0], [0, 1, 1], [1, 0, 0], [1, 0, 1], [1, 1, 0], [1, 1, 1]]\n"
     ]
    }
   ],
   "source": [
    "'''List comprehensions! You are given three integers and representing the dimensions of a cuboid along \n",
    "with an integer. Print a list of all possiblecoordinates given by on a 3D grid where the sum of is not equal to '''\n",
    "\n",
    "if __name__ == '__main__':\n",
    "\n",
    "    # x = int(input())\n",
    "    # y = int(input())\n",
    "    # z = int(input())\n",
    "    # n = int(input())\n",
    "\n",
    "    x = 1\n",
    "    y = 1\n",
    "    z = 1\n",
    "    n = 2\n",
    "\n",
    "    x = [x for x in rstringnge(x + 1)]\n",
    "    y = [y for y in range(y + 1)]\n",
    "    z = [z for z in rstringnge(z + 1)]\n",
    "\n",
    "    perm = [[i, j, k] for i in x for j in y for k in z]  # permutstringtions\n",
    "\n",
    "    # the upper list comprehension does not produce duplicates - test it yourself\n",
    "    #duplicates = [d for d in perm if perm.count(d) > 1]\n",
    "    # print(duplicates)\n",
    "\n",
    "    #only those which do not sum to n\n",
    "    res = [p for p in per if sum(p) != n]\n",
    "    print(perm)"
   ]
  },
  {
   "cell_type": "code",
   "execution_count": null,
   "metadata": {},
   "outputs": [],
   "source": [
    "\"\"\"Given the participants' score sheet for your University Sports Day, you are\n",
    "required to find the runner-up score. You are given scores. Store them in a\n",
    "list and find the score of the runner-up.\"\"\"\n",
    "\n",
    "if __name__ == '__main__':\n",
    "    n = int(input())\n",
    "    arr = map(int, input().split())\n",
    "    d = []\n",
    "    [d.append(i) for i in arr if i not in d]\n",
    "    print(sorted(d)[-2])"
   ]
  },
  {
   "cell_type": "code",
   "execution_count": null,
   "metadata": {},
   "outputs": [],
   "source": [
    "\"\"\"Given the names and grades for each student in a class of students, store them in a nested list and\n",
    "print the name(s) of any student(s) having the second lowest grade. Note: If there are multiple students\n",
    "with the second lowest grade, order their names alphabetically and print each name on a new line.\"\"\"\n",
    "\n",
    "if __name__ == '__main__':\n",
    "\n",
    "    students = []\n",
    "\n",
    "    for _ in range(int(input())):\n",
    "        name = input()\n",
    "        score = float(input())\n",
    "        students.append([name, score])\n",
    "\n",
    "# key is a keyword for the max() fct.\n",
    "# lambda i: i[1] creates an anonymous fct. that returns the second element\n",
    "last = min(students, key=lambda i: i[1])\n",
    "\n",
    "second_up = []\n",
    "# all but the lowest score\n",
    "# don't use 'not in' with numbers use: operators (=, ==, !=, etc.)\n",
    "[second_up.append(i) for i in students if i[1] != last[1]]\n",
    "\n",
    "# sort each inner of the nested list by the element at the given index number\n",
    "second_up.sort(key=lambda i: i[1])\n",
    "\n",
    "sec = []\n",
    "# pick only the second lowest grades wich are equal to the first in the list\n",
    "[sec.append(i) for i in second_up if i[1] == second_up[0][1]]\n",
    "\n",
    "# order the secod lowest grades by name\n",
    "sec.sort(key=lambda i: i[0])\n",
    "\n",
    "for s in sec:\n",
    "    print(s[0])"
   ]
  },
  {
   "cell_type": "code",
   "execution_count": 9,
   "metadata": {},
   "outputs": [
    {
     "name": "stdout",
     "output_type": "stream",
     "text": [
      "40.0\n"
     ]
    }
   ],
   "source": [
    "\"\"\"The provided code stub will read in a dictionary containing key/value pairs of name:[marks]\n",
    "for a list of students. Print the average of the marks array for the student name provided,\n",
    "showing 2 places after the decimal.\n",
    "Input format: \n",
    "3\n",
    "Krishna 67 68 69\n",
    "Arjun 70 98 63\n",
    "Malika 52 56 60\n",
    "Malika\"\"\"\n",
    "\n",
    "if __name__ == '__main__':\n",
    "    n = int(input())\n",
    "    student_marks = {}\n",
    "    for _ in range(n):\n",
    "        name, *line = input().split()\n",
    "        scores = list(map(float, line))\n",
    "        student_marks[name] = scores\n",
    "    query_name = input()\n",
    "\n",
    "    s = student_marks[query_name]\n",
    "    avg = sum(s) / len(s)\n",
    "    print(\"%.2f\" % avg)"
   ]
  },
  {
   "cell_type": "code",
   "execution_count": 26,
   "metadata": {},
   "outputs": [
    {
     "ename": "SyntaxError",
     "evalue": "invalid syntax (3776028102.py, line 19)",
     "output_type": "error",
     "traceback": [
      "\u001b[0;36m  Input \u001b[0;32mIn [26]\u001b[0;36m\u001b[0m\n\u001b[0;31m    else: flag=0\u001b[0m\n\u001b[0m    ^\u001b[0m\n\u001b[0;31mSyntaxError\u001b[0m\u001b[0;31m:\u001b[0m invalid syntax\n"
     ]
    }
   ],
   "source": [
    "''' You are given a set A and other sets. Your job is to find whether set A is a strict superset of each of the\n",
    "sets. Print True, if A is a strict superset of each of the sets. Otherwise, print False. A strict superset has at \n",
    "least one element that does not exist in its subset.'''\n",
    "\n",
    "# if __name__ == '__main__':\n",
    "#     a = set(input().split()) # set {} does not work here\n",
    "#     if not 0 < len(a) < 501: flag=0 # check constraint\n",
    "#     else:\n",
    "#         n = int(input())\n",
    "#         if not 0 < n < 21: flag=0 # check constraint\n",
    "#         else:\n",
    "#             for i in range(n): # number of sets\n",
    "#                 set_= set(input().split())\n",
    "#                 if not 0 < len(set_) < 101: flag=0 # check constraint\n",
    "#                 else:\n",
    "#                           if not set_.issubset(a): flag=0\n",
    "#                           if not len(a) > len(set_) : flag=0\n",
    "#\n",
    "#         if flag==1: print('True')\n",
    "#         else: print('False')\n",
    "\n",
    "if __name__ == '__main__':\n",
    "    a = set(input().split())  # {} does not work here\n",
    "    flag = 1\n",
    "    for i in range(int(input())):  # number of sets\n",
    "        set_ = set(input().split())\n",
    "        if not set_.issubset(a): flag = 0\n",
    "        if not len(a) > len(set_): flag = 0\n",
    "\n",
    "    if flag == 1: print('True')\n",
    "    else: print('False')"
   ]
  },
  {
   "cell_type": "code",
   "execution_count": 32,
   "metadata": {},
   "outputs": [
    {
     "name": "stdout",
     "output_type": "stream",
     "text": [
      "1\n"
     ]
    }
   ],
   "source": [
    "'''There is an array of integers. There are also disjoint sets, and , each containing integers. You like all the\n",
    " integers in set and dislike all the integers in set . Your initial happiness is . For each integer in the array, \n",
    " if , you add to your happiness. If , you add to your happiness. Otherwise, your happiness does not change. \n",
    "Output your final happiness at the end.'''\n",
    "\n",
    "n, m = input().split()\n",
    "arr = list(input().split())\n",
    "set_a = set(input().split())\n",
    "set_b = set(input().split())\n",
    "happiness = 0\n",
    "happiness += sum([1 for x in arr if x in set_a])\n",
    "happiness += sum([-1 for x in arr if x in set_b])\n",
    "print(happiness)"
   ]
  },
  {
   "cell_type": "code",
   "execution_count": 37,
   "metadata": {},
   "outputs": [
    {
     "name": "stdout",
     "output_type": "stream",
     "text": [
      "1\n"
     ]
    }
   ],
   "source": [
    "'''count the distinct countries of n entered country names'''\n",
    "n = int(input())\n",
    "countries = set()\n",
    "\n",
    "for i in range(n):\n",
    "    countries.add(str(input()))\n",
    "\n",
    "print(len(countries))"
   ]
  },
  {
   "cell_type": "code",
   "execution_count": 8,
   "metadata": {},
   "outputs": [
    {
     "name": "stdout",
     "output_type": "stream",
     "text": [
      "[3]\n",
      "[3]\n"
     ]
    }
   ],
   "source": [
    "'''Consider a list (list = []). You can perform the following commands:\n",
    "- insert i e: Insert integer e at position i.\n",
    "- print: Print the list.\n",
    "- remove e: Delete the first occurrence of integer.\n",
    "- append e: Insert integer e at the end of the list.\n",
    "- sort: Sort the list.\n",
    "- pop: Pop the last element from the list.\n",
    "- reverse: Reverse the list.\n",
    "Initialize your list and read in the value of followed by lines of commands where each command will be \n",
    "of the types listed above. Iterate through each command in order and perform the corresponding operation on your list. '''\n",
    "\n",
    "if __name__ == '__main__':\n",
    "    no_commands = int(input())\n",
    "    lst = []\n",
    "    for x in range(no_commands):\n",
    "        command, *number = input().split()\n",
    "        command = str(command)\n",
    "        if command == 'append':\n",
    "            lst.append(int(number[0]))\n",
    "        elif command == 'insert':\n",
    "            lst.insert(int(number[0]), int(number[1]))\n",
    "        elif command == 'remove':\n",
    "            lst.remove(int(number[0]))\n",
    "        elif command == 'pop':\n",
    "            lst.pop()\n",
    "        elif command == 'sort':\n",
    "            lst.sort()\n",
    "        elif command == 'reverse':\n",
    "            lst.reverse()\n",
    "        elif command == 'print':\n",
    "            print(lst)"
   ]
  },
  {
   "cell_type": "code",
   "execution_count": 11,
   "metadata": {},
   "outputs": [
    {
     "name": "stdout",
     "output_type": "stream",
     "text": [
      "-3550055125485641917\n"
     ]
    }
   ],
   "source": [
    "'''n = len of tuple, space-divided int building a tuple, return the hash of the tuple'''\n",
    "\n",
    "if __name__ == '__main__':\n",
    "    n = int(input())\n",
    "    integer_list = map(int, input().split())\n",
    "    t = tuple(integer_list)\n",
    "    print(hash(t))"
   ]
  },
  {
   "cell_type": "code",
   "execution_count": 4,
   "metadata": {},
   "outputs": [
    {
     "name": "stdout",
     "output_type": "stream",
     "text": [
      "True\n"
     ]
    }
   ],
   "source": [
    "#  Validate the Roman numeral\n",
    "import re\n",
    "\n",
    "\n",
    "def ValRoman(string):\n",
    "    # {0, 3} zero or 4,\n",
    "    pattern = r\"^M{0,3}(CM|CD|D?C{0,3})(XC|XL|L?X{0,3})(IX|IV|V?I{0,3})$\"\n",
    "    print(bool(re.search(pattern, string)))\n",
    "\n",
    "\n",
    "string = input()\n",
    "\n",
    "ValRoman(string)"
   ]
  },
  {
   "cell_type": "code",
   "execution_count": null,
   "metadata": {},
   "outputs": [],
   "source": [
    "## Swap upper and Lower Case"
   ]
  },
  {
   "cell_type": "code",
   "execution_count": 45,
   "metadata": {},
   "outputs": [
    {
     "data": {
      "text/plain": [
       "'hACKERrANK.COM PRESENTS \"pYTHONIST 2\".'"
      ]
     },
     "execution_count": 45,
     "metadata": {},
     "output_type": "execute_result"
    }
   ],
   "source": [
    "# convert all lowercase letters to uppercase letters and vice versa.\n",
    "def swap_case(s):\n",
    "    return \"\".join([x.upper() if x.islower() else x.lower() for x in s])\n",
    "\n",
    "\n",
    "swap_case('HackerRank.com presents \"Pythonist 2\".')"
   ]
  },
  {
   "cell_type": "code",
   "execution_count": 46,
   "metadata": {},
   "outputs": [
    {
     "data": {
      "text/plain": [
       "'this-is-a-string'"
      ]
     },
     "execution_count": 46,
     "metadata": {},
     "output_type": "execute_result"
    }
   ],
   "source": [
    "# Split and Join\n",
    "def split_and_join(line):\n",
    "    return \"-\".join(line.split(\" \"))\n",
    "\n",
    "\n",
    "split_and_join(\"this is a string\")"
   ]
  },
  {
   "cell_type": "code",
   "execution_count": 47,
   "metadata": {},
   "outputs": [
    {
     "data": {
      "text/plain": [
       "'Hello Ross Taylor! You just delved into python.'"
      ]
     },
     "execution_count": 47,
     "metadata": {},
     "output_type": "execute_result"
    }
   ],
   "source": [
    "# What's Your Name?\n",
    "def print_full_name(first, last):\n",
    "    return print(f\"Hello {first} {last}! You just delved into python.\")\n",
    "\n",
    "\n",
    "print_full_name(\"Ross\", \"Taylor\")"
   ]
  },
  {
   "cell_type": "code",
   "execution_count": 6,
   "metadata": {},
   "outputs": [
    {
     "data": {
      "text/plain": [
       "2"
      ]
     },
     "execution_count": 6,
     "metadata": {},
     "output_type": "execute_result"
    }
   ],
   "source": [
    "# Find strings\n",
    "def count_substring(a, b):\n",
    "    if 0 < len(a) <= 200 and 0 < len(b) <= 200:\n",
    "        cnt = sum(a[i:i + len(b)] == b for i in range(len(a)))\n",
    "    return cnt\n",
    "\n",
    "\n",
    "def count_substring2(a, b):\n",
    "    return sum(a[i:i + len(b)] == b for i in range(len(a) - len(b) + 1))\n",
    "\n",
    "\n",
    "count_substring('ABCDCDC', 'CDC')"
   ]
  },
  {
   "cell_type": "code",
   "execution_count": 3,
   "metadata": {},
   "outputs": [
    {
     "name": "stdout",
     "output_type": "stream",
     "text": [
      "True\n",
      "True\n",
      "True\n",
      "True\n",
      "True\n"
     ]
    }
   ],
   "source": [
    "# String Validators\n",
    "# the task is to find out if the string contains any: alphanumeric characters, alphabetical characters,\n",
    "# digits, lowercase and uppercase characters.\n",
    "if __name__ == '__main__':\n",
    "    s = input()\n",
    "    tests = [str.isalnum, str.isalpha, str.isdigit, str.islower, str.isupper]\n",
    "    for test in tests:\n",
    "        print(any(test(a) for a in s))\n"
   ]
  },
  {
   "cell_type": "code",
   "execution_count": 17,
   "metadata": {},
   "outputs": [
    {
     "name": "stdout",
     "output_type": "stream",
     "text": [
      "    H    \n",
      "   HHH   \n",
      "  HHHHH  \n",
      " HHHHHHH \n",
      "HHHHHHHHH\n",
      "  HHHHH               HHHHH             \n",
      "  HHHHH               HHHHH             \n",
      "  HHHHH               HHHHH             \n",
      "  HHHHH               HHHHH             \n",
      "  HHHHH               HHHHH             \n",
      "  HHHHH               HHHHH             \n",
      "  HHHHHHHHHHHHHHHHHHHHHHHHH   \n",
      "  HHHHHHHHHHHHHHHHHHHHHHHHH   \n",
      "  HHHHHHHHHHHHHHHHHHHHHHHHH   \n",
      "  HHHHH               HHHHH             \n",
      "  HHHHH               HHHHH             \n",
      "  HHHHH               HHHHH             \n",
      "  HHHHH               HHHHH             \n",
      "  HHHHH               HHHHH             \n",
      "  HHHHH               HHHHH             \n",
      "                    HHHHHHHHH \n",
      "                     HHHHHHH  \n",
      "                      HHHHH   \n",
      "                       HHH    \n",
      "                        H     \n"
     ]
    }
   ],
   "source": [
    "#Replace all ______ with rjust, ljust or center.\n",
    "\n",
    "thickness = int(input())  #This must be an odd number\n",
    "c = 'H'\n",
    "\n",
    "#Top Cone\n",
    "for i in range(thickness):\n",
    "    print((c * i).rjust(thickness - 1) + c + (c * i).ljust(thickness - 1))\n",
    "\n",
    "#Top Pillars\n",
    "for i in range(thickness + 1):\n",
    "    print((c * thickness).center(thickness * 2) +\n",
    "          (c * thickness).center(thickness * 6))\n",
    "\n",
    "#Middle Belt\n",
    "for i in range((thickness + 1) // 2):\n",
    "    print((c * thickness * 5).center(thickness * 6))\n",
    "\n",
    "#Bottom Pillars\n",
    "for i in range(thickness + 1):\n",
    "    print((c * thickness).center(thickness * 2) +\n",
    "          (c * thickness).center(thickness * 6))\n",
    "\n",
    "#Bottom Cone\n",
    "for i in range(thickness):\n",
    "    print(((c * (thickness - i - 1)).rjust(thickness) + c +\n",
    "           (c * (thickness - i - 1)).ljust(thickness)).rjust(thickness * 6))\n"
   ]
  },
  {
   "cell_type": "code",
   "execution_count": 28,
   "metadata": {},
   "outputs": [
    {
     "data": {
      "text/plain": [
       "'Saute'"
      ]
     },
     "execution_count": 28,
     "metadata": {},
     "output_type": "execute_result"
    }
   ],
   "source": [
    "# String Mutation\n",
    "def mutate_string(string, position, character):\n",
    "    return string[:position] + character + string[position + 1:]\n",
    "\n",
    "\n",
    "mutate_string(\"Sauce\", 3, \"t\")"
   ]
  },
  {
   "cell_type": "code",
   "execution_count": 1,
   "metadata": {},
   "outputs": [
    {
     "name": "stdout",
     "output_type": "stream",
     "text": [
      "Hell\n",
      "o\n",
      "you \n",
      "smoo\n",
      "th\n",
      "code\n",
      "rat\n"
     ]
    }
   ],
   "source": [
    "from textwrap import fill\n",
    "\n",
    "\n",
    "def wrap(string, max_width):\n",
    "    return fill(text=string, width=max_width)\n",
    "\n",
    "\n",
    "print(wrap(\"Hello you smooth code rat\", 4))"
   ]
  },
  {
   "cell_type": "code",
   "execution_count": 24,
   "metadata": {},
   "outputs": [
    {
     "name": "stdout",
     "output_type": "stream",
     "text": [
      "---------.|.---------\n",
      "------.|..|..|.------\n",
      "---.|..|..|..|..|.---\n",
      "-------WELCOME-------\n",
      "---.|..|..|..|..|.---\n",
      "------.|..|..|.------\n",
      "---------.|.---------\n"
     ]
    }
   ],
   "source": [
    "# doormat\n",
    "height, width = map(int,input().split())\n",
    "\n",
    "middle = (height//2)+1\n",
    "\n",
    "for i in range(1, middle):\n",
    "    pattern = (i*2)-1\n",
    "    print((\".|.\"*pattern).center(width, \"-\"))\n",
    "\n",
    "print(\"WELCOME\".center(width, \"-\"))\n",
    "\n",
    "for i in reversed(range(1, middle)):\n",
    "    pattern = (i * 2) - 1\n",
    "    print((\".|.\" * pattern).center(width, \"-\"))\n",
    "\n",
    "\n",
    "## another solution\n",
    "# x, y = map(int, input().split())\n",
    "# items = list(range(1, x + 1, 2))\n",
    "# items = items + items[::-1][1:]\n",
    "# for i in items:\n",
    "#     text = \"WELCOME\" if i == x else '.|.' * i\n",
    "#     print(text.center(y, '-'))\n"
   ]
  },
  {
   "cell_type": "code",
   "execution_count": null,
   "metadata": {},
   "outputs": [],
   "source": [
    "# formatted string\n",
    "def print_formatted(number):\n",
    "    if 1 <= number <= 99:\n",
    "        for i in range(1, number+1):\n",
    "            pad = number.bit_length()\n",
    "            print(str(i).rjust(pad),\n",
    "                  oct(i)[2:].rjust(pad), \n",
    "                  f'{i:X}'.rjust(pad),\n",
    "                  bin(i)[2:].rjust(pad))\n",
    "\n",
    "\n",
    "print_formatted(20)"
   ]
  },
  {
   "cell_type": "code",
   "execution_count": 187,
   "metadata": {},
   "outputs": [
    {
     "name": "stdout",
     "output_type": "stream",
     "text": [
      "--------e--------\n",
      "------e-d-e------\n",
      "----e-d-c-d-e----\n",
      "--e-d-c-b-c-d-e--\n",
      "e-d-c-b-a-b-c-d-e\n",
      "--e-d-c-b-c-d-e--\n",
      "----e-d-c-d-e----\n",
      "------e-d-e------\n",
      "--------e--------\n"
     ]
    }
   ],
   "source": [
    "# rangoli\n",
    "def print_rangoli(size):\n",
    "    alphabet = [\n",
    "        'a', 'b', 'c', 'd', 'e', 'f', 'g', 'h', 'i', 'j', 'k', 'l', 'm', 'n',\n",
    "        'o', 'p', 'q', 'r', 's', 't', 'u', 'v', 'w', 'x', 'y', 'z']\n",
    "    width = (((size*2)-1)*2)-1\n",
    "    seq = alphabet[:size][::-1]\n",
    "\n",
    "    for i in range(1, size):\n",
    "        s= (seq[:i]+seq[:i-1][::-1])\n",
    "        print(\"-\".join(s).center(width,\"-\"))\n",
    "\n",
    "    sf = seq[:size] + seq[:size - 1][::-1]\n",
    "    print(\"-\".join(sf).center(width, \"-\"))\n",
    "\n",
    "    for i in reversed(range(1, size)):\n",
    "        s = (seq[:i] + seq[:i - 1][::-1])\n",
    "        print(\"-\".join(s).center(width, \"-\"))\n",
    "\n",
    "\n",
    "print_rangoli(5)"
   ]
  },
  {
   "cell_type": "code",
   "execution_count": 206,
   "metadata": {},
   "outputs": [
    {
     "data": {
      "text/plain": [
       "'12abc Frankel'"
      ]
     },
     "execution_count": 206,
     "metadata": {},
     "output_type": "execute_result"
    }
   ],
   "source": [
    "# Capitlize\n",
    "def solve(s):\n",
    "    if 0 < len(s) < 1000:\n",
    "        return \" \".join( [word.capitalize() for word in s.split(\" \")])\n",
    "\n",
    "solve(\"12abc frankel\")"
   ]
  },
  {
   "cell_type": "code",
   "execution_count": 63,
   "metadata": {},
   "outputs": [
    {
     "data": {
      "text/plain": [
       "'Draw'"
      ]
     },
     "execution_count": 63,
     "metadata": {},
     "output_type": "execute_result"
    }
   ],
   "source": [
    "#  Code to Slow\n",
    "def minion_game(s):\n",
    "    if 0 < len(s) <= 10**6:\n",
    "        word = s.upper()\n",
    "        stuart = kevin = 0\n",
    "        vowels = \"AEIOU\"\n",
    "\n",
    "    # generator comprehension\n",
    "    words = (list(word)[start:end + 1] for start in range(len(word))\n",
    "             for end in range(start, len(word)))\n",
    "\n",
    "    for w in words:\n",
    "        if w[0] in vowels: kevin +=1\n",
    "        if w[0] not in vowels: stuart +=1\n",
    "\n",
    "    if kevin == stuart: return print(\"Draw\")\n",
    "    print(f\"Kevin {kevin}\") if kevin > stuart else print(f\"Stuart {stuart}\")\n",
    "\n",
    "\n",
    "minion_game(\"BANANANAAAS\")"
   ]
  },
  {
   "cell_type": "code",
   "execution_count": 65,
   "metadata": {},
   "outputs": [
    {
     "name": "stdout",
     "output_type": "stream",
     "text": [
      "Draw\n"
     ]
    }
   ],
   "source": [
    "# faster Solution\n",
    "def minion_game2(s):\n",
    "    if 0 < len(s) <= 10**6:\n",
    "        word = s.upper()\n",
    "        stuart = kevin = 0\n",
    "        vowels = \"AEIOU\"\n",
    "\n",
    "    for i, letter in enumerate(list(word)):\n",
    "        if letter in vowels:\n",
    "            # \"ANANA\" can be 5 words (\"ANANA\", \"ANAN\", \"ANA\"...) kevin gets 6 - 1 points for those,\n",
    "            # in the second iteration, in the fourth he gets 6 - 3 points for (\"ANA\", \"AN\", \"A\")\n",
    "            kevin += len(word) - i\n",
    "        else:\n",
    "            # \"BANANA\" ca be divided into 6 substrings beginning with \"B\", (\"BANAN\", \"BANA\"...)\n",
    "            # stuart gets 6 - 0 points in the first iteration, in the third iteration he gets\n",
    "            # 4 points for (\"NANA\", \"NAN\", \"NA\", \"N\")\n",
    "            stuart += len(word) - i\n",
    "\n",
    "    if kevin == stuart: return print(\"Draw\")\n",
    "    print(f\"Kevin {kevin}\") if kevin > stuart else print(f\"Stuart {stuart}\")\n",
    "\n",
    "\n",
    "minion_game2(\"BANANANAAAS\")"
   ]
  },
  {
   "cell_type": "code",
   "execution_count": 96,
   "metadata": {},
   "outputs": [
    {
     "name": "stdout",
     "output_type": "stream",
     "text": [
      "AHZTR\n",
      "AGB\n",
      "NKSZT\n"
     ]
    }
   ],
   "source": [
    "def merge_the_tools(string, k):\n",
    "    nk = len(string)//k\n",
    "    for i in range(nk):\n",
    "        # fromkeys creates a dictionary with keys and dummy values, \"BAN\" become three keys\n",
    "        # keys in a dict are unique but their order is sustained, by joinig the keys we get words\n",
    "        # keys are the default returned when the dict is called without specification\n",
    "        print(''.join(dict.fromkeys(string[i*k: (i*k)+k])))\n",
    "\n",
    "merge_the_tools(\"AHZTRAGABANKSZTG\", 5)"
   ]
  },
  {
   "cell_type": "code",
   "execution_count": 131,
   "metadata": {},
   "outputs": [
    {
     "name": "stdout",
     "output_type": "stream",
     "text": [
      "(1, 2) (1, 3) (2, 2) (2, 3)\n"
     ]
    }
   ],
   "source": [
    "# itertools product\n",
    "from itertools import product\n",
    "\n",
    "A = map(int, input().split())\n",
    "B = map(int, input().split())\n",
    "print(*list(product(A,B)))"
   ]
  },
  {
   "cell_type": "code",
   "execution_count": null,
   "metadata": {},
   "outputs": [],
   "source": [
    "# itertools permutations\n",
    "# return permutations in lexicographic sorted order.\n",
    "from itertools import permutations\n",
    "\n",
    "s, k = input().split()\n",
    "for x in (permutations(sorted(str(s)), int(k))):\n",
    "    print(\"\".join(x))"
   ]
  },
  {
   "cell_type": "code",
   "execution_count": 6,
   "metadata": {},
   "outputs": [
    {
     "name": "stdout",
     "output_type": "stream",
     "text": [
      "A\n",
      "C\n",
      "H\n",
      "K\n",
      "AC\n",
      "AH\n",
      "AK\n",
      "CH\n",
      "CK\n",
      "HK\n"
     ]
    }
   ],
   "source": [
    "# itertools.combinations(iterable, r)\n",
    "from itertools import combinations\n",
    "\n",
    "s, k = input().split()\n",
    "\n",
    "for k_ in range(1, int(k)+1):\n",
    "    for x in (combinations(sorted(str(s)), int(k_))):\n",
    "        print(\"\".join(x))"
   ]
  },
  {
   "cell_type": "code",
   "execution_count": 7,
   "metadata": {},
   "outputs": [
    {
     "name": "stdout",
     "output_type": "stream",
     "text": [
      "AA\n",
      "AC\n",
      "AH\n",
      "AK\n",
      "CC\n",
      "CH\n",
      "CK\n",
      "HH\n",
      "HK\n",
      "KK\n"
     ]
    }
   ],
   "source": [
    "# itertools.combinations_with_replacement(iterable, r)\n",
    "# print all possible size replacement combinations of a string in lexicographic sorted order\n",
    "from itertools import combinations_with_replacement as cwr\n",
    "\n",
    "s, k = input().split()\n",
    "\n",
    "for x in (cwr(sorted(str(s)), int(k))):\n",
    "    print(\"\".join(x))"
   ]
  },
  {
   "cell_type": "code",
   "execution_count": 22,
   "metadata": {},
   "outputs": [
    {
     "name": "stdout",
     "output_type": "stream",
     "text": [
      "99\n"
     ]
    }
   ],
   "source": [
    "# Counter - shoes sales\n",
    "from collections import Counter\n",
    "\n",
    "shoes = int(input())\n",
    "c = Counter((input().split()))\n",
    "no_cust = int(input())\n",
    "\n",
    "sales = 0\n",
    "\n",
    "for _ in range(no_cust):\n",
    "    size, price = input().split()\n",
    "    if c[size] >0:\n",
    "        c[size] -= 1\n",
    "        sales += int(price)\n",
    "\n",
    "print(sales)"
   ]
  },
  {
   "cell_type": "code",
   "execution_count": 39,
   "metadata": {},
   "outputs": [
    {
     "name": "stdout",
     "output_type": "stream",
     "text": [
      "1 3\n",
      "-1\n",
      "-1\n"
     ]
    },
    {
     "data": {
      "text/plain": [
       "defaultdict(list, {'A': ['1', '2', '1', '3'], 'B': ['1', '5', '5']})"
      ]
     },
     "execution_count": 39,
     "metadata": {},
     "output_type": "execute_result"
    }
   ],
   "source": [
    "# defaultdict\n",
    "from collections import defaultdict\n",
    "\n",
    "n, m    = map(int, input().split())\n",
    "def_dict = defaultdict(list)\n",
    "\n",
    "for _ in range(n):\n",
    "    v = input()\n",
    "    def_dict[\"A\"].append(v)\n",
    "\n",
    "for _ in range(m):\n",
    "    v = input()\n",
    "    def_dict[\"B\"].append(v)\n",
    "\n",
    "for val in def_dict[\"B\"]:\n",
    "    if val in def_dict[\"A\"]:\n",
    "        print(*[i+1 for i, e in enumerate(def_dict[\"A\"]) if e == val])\n",
    "    else: print(-1)\n",
    "\n",
    "def_dict"
   ]
  },
  {
   "cell_type": "code",
   "execution_count": 57,
   "metadata": {},
   "outputs": [
    {
     "name": "stdout",
     "output_type": "stream",
     "text": [
      "4.50\n"
     ]
    }
   ],
   "source": [
    "from collections import namedtuple\n",
    "\n",
    "n, Student = int(input()), namedtuple('Student', input())\n",
    "print(\n",
    "    \"%.2f\"\n",
    "    % (\n",
    "        sum(\n",
    "            float(stud.MARKS)\n",
    "            for stud in [Student(*input().split()) for _ in range(n)]\n",
    "        )\n",
    "        / n\n",
    "    )\n",
    ")\n"
   ]
  },
  {
   "cell_type": "code",
   "execution_count": 66,
   "metadata": {},
   "outputs": [
    {
     "name": "stdout",
     "output_type": "stream",
     "text": [
      "7.00\n"
     ]
    }
   ],
   "source": [
    "# student table\n",
    "\n",
    "from collections import namedtuple\n",
    "N, S = int(input()), namedtuple('S', input())\n",
    "print(\"%.2f\" % (sum(int(S(*input().split()).MARKS) for _ in range(N)) / N))"
   ]
  },
  {
   "cell_type": "code",
   "execution_count": 12,
   "metadata": {},
   "outputs": [
    {
     "name": "stdout",
     "output_type": "stream",
     "text": [
      "8.00\n"
     ]
    }
   ],
   "source": [
    "# wstudent table without namedtuple\n",
    "N, C = int(input()), list(input().split())\n",
    "print(\"%.2f\" %float(sum((int(list(input().split())[C.index('MARKS')])) for _ in range(N)) / N))"
   ]
  },
  {
   "cell_type": "code",
   "execution_count": null,
   "metadata": {},
   "outputs": [],
   "source": [
    "from collections import OrderedDict\n",
    "import re\n",
    "\n",
    "N = int(input())\n",
    "od = OrderedDict()\n",
    "\n",
    "for _ in range(N):\n",
    "    item_name, price = re.split(r'(\\d+)', input())[:2]\n",
    "    item_name = item_name.strip()\n",
    "    if item_name not in od:\n",
    "        od[item_name] = int(price)\n",
    "    else:\n",
    "        od[item_name] += int(price)\n",
    "\n",
    "for k,v in od.items():\n",
    "    print(k, v)"
   ]
  },
  {
   "cell_type": "code",
   "execution_count": 43,
   "metadata": {},
   "outputs": [
    {
     "name": "stdout",
     "output_type": "stream",
     "text": [
      "2\n",
      "2 2\n"
     ]
    }
   ],
   "source": [
    "# Word Order\n",
    "from collections import defaultdict as dd\n",
    "N, d= int(input()), dd(int)\n",
    "\n",
    "for _ in range(N):\n",
    "    d[input()] +=1\n",
    "\n",
    "print(len(d))\n",
    "print(*list(d.values()))\n",
    "\n",
    "# # second solution\n",
    "# from collections import Counter\n",
    "\n",
    "# N = int(input())\n",
    "# cnt = Counter([input() for _ in range(N)])\n",
    "# print(len(cnt))\n",
    "# print(*cnt.values())\n"
   ]
  },
  {
   "cell_type": "code",
   "execution_count": 56,
   "metadata": {},
   "outputs": [
    {
     "name": "stdout",
     "output_type": "stream",
     "text": [
      "6\n"
     ]
    }
   ],
   "source": [
    "from collections import deque\n",
    "\n",
    "N, dq = int(input()), deque()\n",
    "\n",
    "for _ in range(N):\n",
    "    fct, *val = input().split()\n",
    "    getattr(dq, fct)(*val)\n",
    "\n",
    "print(*dq)"
   ]
  },
  {
   "cell_type": "code",
   "execution_count": 10,
   "metadata": {},
   "outputs": [
    {
     "name": "stdout",
     "output_type": "stream",
     "text": [
      "2.23606797749979\n",
      "1.1071487177940904\n"
     ]
    }
   ],
   "source": [
    "# polar coordinates\n",
    "from cmath import polar\n",
    "r, phi = polar(complex(input()))\n",
    "print(f\"{r}\\n{phi}\")"
   ]
  },
  {
   "cell_type": "code",
   "execution_count": 89,
   "metadata": {},
   "outputs": [
    {
     "name": "stdout",
     "output_type": "stream",
     "text": [
      "1.5707963267948966\n",
      "0.7853981633974483\n",
      "45°\n"
     ]
    }
   ],
   "source": [
    "from math import atan2, degrees, pi\n",
    "AB, BC = int(input()), int(input())\n",
    "gamma = degrees(pi/2-atan2(BC,AB))\n",
    "print(round(gamma), chr(176), sep=\"\")"
   ]
  },
  {
   "cell_type": "code",
   "execution_count": 90,
   "metadata": {},
   "outputs": [
    {
     "name": "stdout",
     "output_type": "stream",
     "text": [
      "45°\n"
     ]
    }
   ],
   "source": [
    "from math import atan2, degrees\n",
    "\n",
    "AB, BC = int(input()), int(input())\n",
    "gamma = degrees(atan2(AB, BC))\n",
    "print(round(gamma), chr(176), sep=\"\")"
   ]
  },
  {
   "cell_type": "code",
   "execution_count": 93,
   "metadata": {},
   "outputs": [
    {
     "name": "stdout",
     "output_type": "stream",
     "text": [
      "45°\n"
     ]
    }
   ],
   "source": [
    "from math import acos, asin, degrees, hypot\n",
    "\n",
    "AB, BC = int(input()), int(input())\n",
    "hypo = hypot(AB,BC)\n",
    "# gamma = degrees(asin(AB/hypo))\n",
    "gamma = degrees(acos(BC/hypo))\n",
    "print(round(gamma), chr(176), sep=\"\")"
   ]
  },
  {
   "cell_type": "code",
   "execution_count": 76,
   "metadata": {},
   "outputs": [
    {
     "name": "stdout",
     "output_type": "stream",
     "text": [
      "1\n",
      "1 2 1\n",
      "1 2 3 2 1\n",
      "1 2 3 4 3 2 1\n",
      "1 2 3 4 5 4 3 2 1\n"
     ]
    }
   ],
   "source": [
    "# Triangle Quest 2, my solution didi not work\n",
    "for i in range(1, int(input())+1):\n",
    "    print(*[*range(1, i+1), *range(i-1, 0, -1)])"
   ]
  },
  {
   "cell_type": "code",
   "execution_count": 124,
   "metadata": {},
   "outputs": [
    {
     "name": "stdout",
     "output_type": "stream",
     "text": [
      "1\n",
      "121\n",
      "12321\n",
      "1234321\n",
      "123454321\n"
     ]
    }
   ],
   "source": [
    "# Triangle Quest 2, official solution\n",
    "for i in range(1, int(input()) + 1):\n",
    "    print((10**i // 9)**2)\n"
   ]
  },
  {
   "cell_type": "code",
   "execution_count": 80,
   "metadata": {},
   "outputs": [
    {
     "name": "stdout",
     "output_type": "stream",
     "text": [
      "3\n",
      "1\n",
      "(3, 1)\n"
     ]
    }
   ],
   "source": [
    "# Mod Divmod\n",
    "x, y = int(input()), int(input())\n",
    "print(x//y)\n",
    "print(x%y)\n",
    "print(divmod(x, y))"
   ]
  },
  {
   "cell_type": "code",
   "execution_count": 108,
   "metadata": {},
   "outputs": [
    {
     "name": "stdout",
     "output_type": "stream",
     "text": [
      "81\n",
      "1\n"
     ]
    }
   ],
   "source": [
    "# pow()\n",
    "from math import pow\n",
    "\n",
    "a, b, m = int(input()), int(input()), int(input())\n",
    "p = int(pow(a, b))\n",
    "print(p)\n",
    "print(p%m)"
   ]
  },
  {
   "cell_type": "code",
   "execution_count": 115,
   "metadata": {},
   "outputs": [
    {
     "name": "stdout",
     "output_type": "stream",
     "text": [
      "34182189187166852111368841966145792\n"
     ]
    }
   ],
   "source": [
    "a, b, c, d = int(input()), int(input()), int(input()), int(input())\n",
    "assert all(i < 1000 for i in (a, b, c, d)), print(\"All inputs have to be < 1000\")\n",
    "print(a**b + c**d)"
   ]
  },
  {
   "cell_type": "code",
   "execution_count": 125,
   "metadata": {},
   "outputs": [
    {
     "name": "stdout",
     "output_type": "stream",
     "text": [
      "1\n",
      "22\n",
      "333\n",
      "4444\n"
     ]
    }
   ],
   "source": [
    "for i in range(1, int(input())):\n",
    "    print((10**i // 9)*i)"
   ]
  },
  {
   "cell_type": "code",
   "execution_count": 4,
   "metadata": {},
   "outputs": [
    {
     "name": "stdout",
     "output_type": "stream",
     "text": [
      "[[1 3]\n",
      " [1 5]\n",
      " [6 7]\n",
      " [1 8]]\n"
     ]
    }
   ],
   "source": [
    "# numpy concatenate\n",
    "import numpy as np\n",
    "\n",
    "N, M, P = map(int, input().split())\n",
    "nn = np.array([input().split() for _ in range(N)], int)\n",
    "mm = np.array([input().split() for _ in range(M)], int)\n",
    "print(np.concatenate((nn, mm), axis=0))"
   ]
  },
  {
   "cell_type": "code",
   "execution_count": 9,
   "metadata": {},
   "outputs": [
    {
     "name": "stdout",
     "output_type": "stream",
     "text": [
      "[[[0 0 0]\n",
      "  [0 0 0]\n",
      "  [0 0 0]]\n",
      "\n",
      " [[0 0 0]\n",
      "  [0 0 0]\n",
      "  [0 0 0]]\n",
      "\n",
      " [[0 0 0]\n",
      "  [0 0 0]\n",
      "  [0 0 0]]]\n",
      "[[[1 1 1]\n",
      "  [1 1 1]\n",
      "  [1 1 1]]\n",
      "\n",
      " [[1 1 1]\n",
      "  [1 1 1]\n",
      "  [1 1 1]]\n",
      "\n",
      " [[1 1 1]\n",
      "  [1 1 1]\n",
      "  [1 1 1]]]\n"
     ]
    }
   ],
   "source": [
    "# numpy zeros & ones\n",
    "import numpy as np\n",
    "shape = tuple(map(int, input().split()))\n",
    "x = np.zeros(shape, dtype=np.int64)\n",
    "y = np.ones(shape, dtype=np.int64)\n",
    "print(x)\n",
    "print(y)"
   ]
  },
  {
   "cell_type": "code",
   "execution_count": 15,
   "metadata": {},
   "outputs": [
    {
     "name": "stdout",
     "output_type": "stream",
     "text": [
      "51.2\n"
     ]
    }
   ],
   "source": [
    "def average(a):\n",
    "    return round(sum(set(a)) / len(set(a)), 3)\n",
    "\n",
    "\n",
    "if __name__ == '__main__':\n",
    "    arr = list(map(int, input().split()))\n",
    "    print(average(arr))"
   ]
  },
  {
   "cell_type": "code",
   "execution_count": 21,
   "metadata": {},
   "outputs": [
    {
     "name": "stdout",
     "output_type": "stream",
     "text": [
      "{1, 2, 3, 4, 5, 6, 23}\n",
      "{65, 10, 13, 17, 87}\n",
      "{1, 2, 3, 4, 5, 6, 65, 10, 13, 17, 87, 23}\n"
     ]
    }
   ],
   "source": [
    "# symmetric difference\n",
    "m, a = input(), set(map(int, input().split()))\n",
    "n, b = input(), set(map(int, input().split()))\n",
    "\n",
    "x = a.difference(b)\n",
    "y = b.difference(a)\n",
    "\n",
    "for i in sorted(list(x.union(y))):\n",
    "    print(i)"
   ]
  },
  {
   "cell_type": "code",
   "execution_count": 22,
   "metadata": {},
   "outputs": [
    {
     "name": "stdout",
     "output_type": "stream",
     "text": [
      "1\n",
      "2\n",
      "3\n",
      "4\n",
      "6\n",
      "7\n",
      "8\n",
      "9\n",
      "10\n",
      "18\n",
      "23\n",
      "45\n"
     ]
    }
   ],
   "source": [
    "m, a = input(), set(map(int, input().split()))\n",
    "n, b = input(), set(map(int, input().split()))\n",
    "diff = sorted(a.symmetric_difference(b))\n",
    "print('\\n'.join([str(x) for x in diff]))"
   ]
  },
  {
   "cell_type": "code",
   "execution_count": 1,
   "metadata": {},
   "outputs": [
    {
     "name": "stdout",
     "output_type": "stream",
     "text": [
      "7\n"
     ]
    }
   ],
   "source": [
    "# set - remove(x)\n",
    "n = int(input())\n",
    "s = set(map(int, input().strip().split()))\n",
    "m = int(input())\n",
    "\n",
    "for _ in range(m):\n",
    "    f, *x = input().split()\n",
    "    x = int(*x)\n",
    "    if f == 'discard': s.discard(x)\n",
    "    elif f == 'remove':\n",
    "        try: s.remove(x)\n",
    "        except KeyError: continue\n",
    "    elif f == 'pop':\n",
    "        try: s.pop()\n",
    "        except KeyError: continue\n",
    "\n",
    "print(sum(s))"
   ]
  },
  {
   "cell_type": "code",
   "execution_count": 9,
   "metadata": {},
   "outputs": [
    {
     "name": "stdout",
     "output_type": "stream",
     "text": [
      "5\n"
     ]
    }
   ],
   "source": [
    "# set operations, intersection, difference, symmetric_difference, union\n",
    "n = int(input())\n",
    "eng = set(map(int, input().strip().split()))\n",
    "m = int(input())\n",
    "fr = set(map(int, input().strip().split()))\n",
    "\n",
    "# print(len(eng.union(fr)))\n",
    "# print(len(eng.intersection(fr))) # \n",
    "# print(len(eng.difference(fr))) # a-b\n",
    "# print(len(eng.symmetric_difference(fr)))\n",
    "print(len(eng^fr)) # same as symmetric_difference\n"
   ]
  },
  {
   "cell_type": "code",
   "execution_count": 10,
   "metadata": {},
   "outputs": [
    {
     "name": "stdout",
     "output_type": "stream",
     "text": [
      "SATURDAY\n"
     ]
    }
   ],
   "source": [
    "from calendar import weekday, day_name\n",
    "m, d, y = map(int, input().strip().split())\n",
    "wd = day_name[weekday(y, m, d)]\n",
    "print(wd.upper())"
   ]
  },
  {
   "cell_type": "code",
   "execution_count": null,
   "metadata": {},
   "outputs": [],
   "source": [
    "from datetime import datetime\n",
    "\n",
    "\n",
    "def delta(d1, d2):\n",
    "    f = '%a %d %b %Y %H:%M:%S %z'\n",
    "    d1 = datetime.strptime(d1, f)\n",
    "    d2 = datetime.strptime(d2, f)\n",
    "    diff = (d2 - d1).total_seconds()\n",
    "    return abs(int(diff))\n",
    "\n",
    "\n",
    "for _ in range(int(input())):\n",
    "    print(delta(input(), input()))"
   ]
  },
  {
   "cell_type": "code",
   "execution_count": 13,
   "metadata": {},
   "outputs": [
    {
     "name": "stdout",
     "output_type": "stream",
     "text": [
      "Error Code: invalid literal for int() with base 10: '$'\n",
      "Error Code: integer division or modulo by zero\n"
     ]
    }
   ],
   "source": [
    "# Error handling\n",
    "t = int(input())\n",
    "\n",
    "for _ in range(t):\n",
    "    try: \n",
    "        a, b = map(int, input().split())\n",
    "        print(a//b)\n",
    "    except Exception as e:\n",
    "        print(\"Error Code:\",e)"
   ]
  },
  {
   "cell_type": "code",
   "execution_count": 16,
   "metadata": {},
   "outputs": [
    {
     "name": "stdout",
     "output_type": "stream",
     "text": [
      "True\n",
      "False\n"
     ]
    }
   ],
   "source": [
    "import re\n",
    "\n",
    "t = int(input())\n",
    "\n",
    "for _ in range(t):\n",
    "    try:\n",
    "        rg = input()\n",
    "        if re.compile(rg): print(\"True\")\n",
    "    \n",
    "    except re.error:\n",
    "        print(\"False\")\n"
   ]
  },
  {
   "attachments": {},
   "cell_type": "markdown",
   "metadata": {},
   "source": [
    "# Compress the String! "
   ]
  },
  {
   "cell_type": "code",
   "execution_count": 16,
   "metadata": {},
   "outputs": [
    {
     "name": "stdout",
     "output_type": "stream",
     "text": [
      "(3, 1) (3, 2) (3, 3) (3, 2)\n"
     ]
    }
   ],
   "source": [
    "from itertools import groupby\n",
    "\n",
    "t = input()\n",
    "kg = [(len((list(group))), int(key)) for key, group in groupby(t)]\n",
    "print(*kg)\n"
   ]
  },
  {
   "attachments": {},
   "cell_type": "markdown",
   "metadata": {},
   "source": [
    "# Company Logo"
   ]
  },
  {
   "cell_type": "code",
   "execution_count": 24,
   "metadata": {},
   "outputs": [
    {
     "name": "stdout",
     "output_type": "stream",
     "text": [
      "G 2\n",
      "O 2\n",
      "E 1\n"
     ]
    }
   ],
   "source": [
    "from collections import Counter\n",
    "\n",
    "t = list(input())\n",
    "c = Counter(sorted(t))\n",
    "\n",
    "for k, v in c.most_common(3):\n",
    "    print(k, v)"
   ]
  },
  {
   "attachments": {},
   "cell_type": "markdown",
   "metadata": {},
   "source": [
    "# Re.start() & Re.end()"
   ]
  },
  {
   "cell_type": "code",
   "execution_count": 144,
   "metadata": {},
   "outputs": [
    {
     "name": "stdout",
     "output_type": "stream",
     "text": [
      "(0, 1)\n",
      "(1, 2)\n",
      "(4, 5)\n"
     ]
    }
   ],
   "source": [
    "import re\n",
    "\n",
    "s = input()\n",
    "k = input()\n",
    "matches = list(re.finditer(f'(?={k})', s))\n",
    "if matches:\n",
    "    for match in matches:\n",
    "        print((match.start(), match.start() + len(k) - 1))\n",
    "else:\n",
    "    print('(-1, -1)')\n"
   ]
  },
  {
   "cell_type": "code",
   "execution_count": 40,
   "metadata": {},
   "outputs": [
    {
     "name": "stdout",
     "output_type": "stream",
     "text": [
      "[1, 2, 3, 4]\n"
     ]
    },
    {
     "ename": "IndexError",
     "evalue": "list index out of range",
     "output_type": "error",
     "traceback": [
      "\u001b[0;31m---------------------------------------------------------------------------\u001b[0m",
      "\u001b[0;31mIndexError\u001b[0m                                Traceback (most recent call last)",
      "\u001b[1;32m/home/mz/code/MaCoZu/python_notebooks/1.13_code_challenges_hackerrank.ipynb Cell 68\u001b[0m line \u001b[0;36m2\n\u001b[1;32m     <a href='vscode-notebook-cell://wsl%2Bubuntu/home/mz/code/MaCoZu/python_notebooks/1.13_code_challenges_hackerrank.ipynb#Y124sdnNjb2RlLXJlbW90ZQ%3D%3D?line=23'>24</a>\u001b[0m i, j \u001b[39m=\u001b[39m \u001b[39m0\u001b[39m, n\u001b[39m-\u001b[39m\u001b[39m1\u001b[39m\n\u001b[1;32m     <a href='vscode-notebook-cell://wsl%2Bubuntu/home/mz/code/MaCoZu/python_notebooks/1.13_code_challenges_hackerrank.ipynb#Y124sdnNjb2RlLXJlbW90ZQ%3D%3D?line=24'>25</a>\u001b[0m \u001b[39mwhile\u001b[39;00m i \u001b[39m<\u001b[39m\u001b[39m=\u001b[39m j:\n\u001b[0;32m---> <a href='vscode-notebook-cell://wsl%2Bubuntu/home/mz/code/MaCoZu/python_notebooks/1.13_code_challenges_hackerrank.ipynb#Y124sdnNjb2RlLXJlbW90ZQ%3D%3D?line=25'>26</a>\u001b[0m     \u001b[39mif\u001b[39;00m (blocks[i] \u001b[39m>\u001b[39m\u001b[39m=\u001b[39m blocks[j] \u001b[39mand\u001b[39;00m blocks[i]\u001b[39m<\u001b[39m\u001b[39m=\u001b[39mtop_block):\n\u001b[1;32m     <a href='vscode-notebook-cell://wsl%2Bubuntu/home/mz/code/MaCoZu/python_notebooks/1.13_code_challenges_hackerrank.ipynb#Y124sdnNjb2RlLXJlbW90ZQ%3D%3D?line=26'>27</a>\u001b[0m         top_block\u001b[39m=\u001b[39mblocks[i]\n\u001b[1;32m     <a href='vscode-notebook-cell://wsl%2Bubuntu/home/mz/code/MaCoZu/python_notebooks/1.13_code_challenges_hackerrank.ipynb#Y124sdnNjb2RlLXJlbW90ZQ%3D%3D?line=27'>28</a>\u001b[0m         i \u001b[39m+\u001b[39m\u001b[39m=\u001b[39m \u001b[39m1\u001b[39m\n",
      "\u001b[0;31mIndexError\u001b[0m: list index out of range"
     ]
    }
   ],
   "source": [
    "# piling up\n",
    "\n",
    "'''\n",
    "input looks like this:\n",
    "\n",
    "t = 2\n",
    "n = 6\n",
    "blocks = [4, 3, 2, 1, 3, 4]\n",
    "n = 3\n",
    "blocks = [1, 3, 2]\n",
    "\n",
    "'''\n",
    "\n",
    "\n",
    "for t in range(int(input())):\n",
    "    n = int(input())\n",
    "    blocks = list(set(map(int, input().split())))\n",
    "    print(blocks)\n",
    "    result = 'yes'\n",
    "    top_block = sum(blocks)\n",
    "\n",
    "    i, j = 0, n-1\n",
    "    while i <= j:\n",
    "        if (blocks[i] >= blocks[j] and blocks[i]<=top_block):\n",
    "            top_block=blocks[i]\n",
    "            i += 1\n",
    "            print(i)\n",
    "        elif (blocks[j] >= blocks[i] and blocks[j]<=top_block):\n",
    "            top_block=blocks[j]\n",
    "            j -= 1\n",
    "            print(j)\n",
    "        else:\n",
    "            result = 'no'\n",
    "            break\n",
    "\n",
    "    print(result)\n"
   ]
  },
  {
   "cell_type": "code",
   "execution_count": null,
   "metadata": {},
   "outputs": [],
   "source": [
    "for t in range(int(input())):\n",
    "    input()\n",
    "    lst = [int(i) for i in input().split()]\n",
    "    min_list = lst.index(min(lst))\n",
    "    left = lst[:min_list]\n",
    "    right = lst[min_list+1:]\n",
    "    if left == sorted(left,reverse=True) and right == sorted(right):\n",
    "        print(\"Yes\")\n",
    "    else:\n",
    "        print(\"No\")"
   ]
  },
  {
   "cell_type": "code",
   "execution_count": 44,
   "metadata": {},
   "outputs": [
    {
     "data": {
      "text/plain": [
       "[4, 3, 2]"
      ]
     },
     "execution_count": 44,
     "metadata": {},
     "output_type": "execute_result"
    }
   ],
   "source": [
    "a = [4, 3, 2, 1, 3, 4]\n",
    "min_list = a.index(min(a))\n",
    "left = a[:min_list]\n",
    "a[min_list+1:]\n",
    "sorted(left,reverse=True)"
   ]
  },
  {
   "cell_type": "code",
   "execution_count": 1,
   "metadata": {},
   "outputs": [
    {
     "name": "stdout",
     "output_type": "stream",
     "text": [
      "ooo\n"
     ]
    }
   ],
   "source": [
    "\n",
    "import re\n",
    "\n",
    "# define a string of vowels\n",
    "v = 'AEIOUaeiou'\n",
    "\n",
    "# read the input string\n",
    "S = input()\n",
    "\n",
    "# define a pattern that will match the middle vowels in a string\n",
    "p = f'(?<=[^{v}])([{v}]{{2,}})[^{v}]'\n",
    "\n",
    "# find all matches of the pattern in the input string\n",
    "m = re.findall(p, S)\n",
    "\n",
    "# if there are matches print them, otherwise print -1\n",
    "if m:\n",
    "    for i in m:\n",
    "        print(i)\n",
    "else:\n",
    "    print('-1')"
   ]
  }
 ],
 "metadata": {
  "kernelspec": {
   "display_name": "Python 3.8.12 64-bit ('lewagon')",
   "language": "python",
   "name": "python3"
  },
  "language_info": {
   "codemirror_mode": {
    "name": "ipython",
    "version": 3
   },
   "file_extension": ".py",
   "mimetype": "text/x-python",
   "name": "python",
   "nbconvert_exporter": "python",
   "pygments_lexer": "ipython3",
   "version": "3.11.5"
  },
  "orig_nbformat": 4,
  "vscode": {
   "interpreter": {
    "hash": "ad7afd56c4a9327988b254949fc9ff6c4de57fd051da33a62b5f87e3ddafe8d2"
   }
  }
 },
 "nbformat": 4,
 "nbformat_minor": 2
}
