{
 "cells": [
  {
   "cell_type": "markdown",
   "metadata": {},
   "source": [
    "# Pointers\n",
    "A pointer is an object that stores the memory address of another object\n",
    "\n",
    "```python\n",
    "pointer = 0\n",
    "arr = [10, 30, 50, 70, 100]\n",
    "arr[pointer] = arr[0] = 10\n",
    "```\n",
    "\n",
    "Use multiple pointers to keep track of multiple indices of our input. It allows us to look at the values of two different indices at the same time. \n",
    "\n",
    "- Reduces time complexity to linear time \\(O(n)\\).\n",
    "- Two methods:\n",
    "    - Same direction: used for scanning data in a single pass (e.g., fast and slow pointers to detect cycles or find middle elements).\n",
    "    - Opposite directions: used for finding pairs (e.g., sum of two numbers in a sorted array)."
   ]
  },
  {
   "cell_type": "markdown",
   "metadata": {},
   "source": [
    "## Palindrom"
   ]
  },
  {
   "cell_type": "code",
   "execution_count": null,
   "metadata": {},
   "outputs": [],
   "source": [
    "def is_palindrome(string):    # Initialize pointers\n",
    "    left = 0 \n",
    "    right = len(string) - 1  \n",
    "    # Check all letters in the string    \n",
    "    while left < right:       \n",
    "        # If letters are not equal\n",
    "        # Decision -> Return False\n",
    "        if string[left] != string[right]:\n",
    "            return False          \n",
    "        # Else, the letters are equal\n",
    "        # Decision -> Bring left and right closer and compare again\n",
    "        else:\n",
    "            left += 1        \n",
    "            right -= 1    \n",
    "            return True  "
   ]
  },
  {
   "cell_type": "markdown",
   "metadata": {},
   "source": [
    "## Sum of two"
   ]
  },
  {
   "cell_type": "code",
   "execution_count": null,
   "metadata": {},
   "outputs": [],
   "source": [
    "# Function to check whether any pair exists\n",
    "# whose sum is equal to the given target value\n",
    "def two_sum(arr, target):\n",
    "    n = len(arr)\n",
    "\n",
    "    # Iterate through each element in the array\n",
    "    for i in range(n):\n",
    "      \n",
    "        # For each element arr[i], check every\n",
    "        # other element arr[j] that comes after it\n",
    "        for j in range(i + 1, n):\n",
    "          \n",
    "            # Check if the sum of the current pair\n",
    "            # equals the target\n",
    "            if arr[i] + arr[j] == target:\n",
    "                return True\n",
    "              \n",
    "    # If no pair is found after checking\n",
    "    # all possibilities\n",
    "    return False\n",
    "\n",
    "arr = [0, -1, 2, -3, 1]\n",
    "target = -2\n",
    "\n",
    "# Call the two_sum function and print the result\n",
    "if two_sum(arr, target):\n",
    "    print(\"true\")\n",
    "else:\n",
    "    print(\"false\")\n"
   ]
  },
  {
   "cell_type": "markdown",
   "metadata": {},
   "source": [
    "# Sliding Window:\n",
    "- Refines two pointers to manage a window of elements dynamically.\n",
    "- Expands or contracts the window to meet specific conditions (e.g., longest substring without repeating characters).\n",
    "- Often combined with hashmaps."
   ]
  },
  {
   "cell_type": "markdown",
   "metadata": {},
   "source": [
    "## Max sum of a contiguous subarray of size K."
   ]
  },
  {
   "cell_type": "code",
   "execution_count": 2,
   "metadata": {},
   "outputs": [
    {
     "name": "stdout",
     "output_type": "stream",
     "text": [
      "9\n"
     ]
    }
   ],
   "source": [
    "def max_sum_subarray(arr, k):\n",
    "    max_sum, window_sum = 0, sum(arr[:k]) # window sum is initialized with the first k values\n",
    "\n",
    "    # len(arr) - k is the number of different window positions besides the initial one -- here 6 - 3 = 3\n",
    "    for i in range(len(arr) - k): \n",
    "        # remove the value at the start of the window end add the value on the window end\n",
    "        window_sum = window_sum - arr[i] + arr[i + k] \n",
    "        max_sum = max(max_sum, window_sum)\n",
    "\n",
    "    return max_sum\n",
    "\n",
    "# Example usage\n",
    "arr = [2, 1, 5, 1, 3, 2]\n",
    "k = 3\n",
    "print(max_sum_subarray(arr, k))"
   ]
  },
  {
   "cell_type": "markdown",
   "metadata": {},
   "source": [
    "# Binary Search:\n",
    "- Efficiently finds target in logarithmic time \\(O(\\log n)\\).\n",
    "- Extends to lists with monotonic conditions, not just sorted numbers.\n",
    "- Example: finding the minimum in a rotated sorted array.\n",
    "- *Nonlinear Data Structure Patterns:"
   ]
  },
  {
   "cell_type": "markdown",
   "metadata": {},
   "source": [
    "# Breadth-First Search (BFS):\n",
    "- Explores nodes level by level.\n",
    "- Uses a queue to keep track of visited nodes (ideal for level order traversal)."
   ]
  },
  {
   "cell_type": "markdown",
   "metadata": {},
   "source": [
    "# Depth-First Search (DFS):\n",
    "- Dives deep into one path before exploring others.\n",
    "- Often uses recursion and is memory efficient for exploring all paths.\n",
    "- Example: counting islands in a grid.\n"
   ]
  },
  {
   "cell_type": "markdown",
   "metadata": {},
   "source": [
    "# Backtracking:\n",
    "- Extension of DFS, explores all possible solutions.\n",
    "- Builds the solution dynamically by making decisions and backtracking on invalid paths.\n",
    "- Example: letter combinations of a phone number.\n",
    "- *Heaps (Priority Queue):\n"
   ]
  },
  {
   "cell_type": "markdown",
   "metadata": {},
   "source": [
    "# Heaps:\n",
    "- Used for questions related to top K, K smallest/largest.\n",
    "- *Min Heap:* smallest value at the root.\n",
    "- *Max Heap:* largest value at the root.\n",
    "- Max Heap is used to find K smallest values, and vice versa for K largest.\n"
   ]
  },
  {
   "cell_type": "markdown",
   "metadata": {},
   "source": [
    "# Dynamic Programming (DP):\n",
    "- Optimizes solutions by breaking problems into overlapping subproblems.\n",
    "- Two approaches:\n",
    "  - *Top-down:* recursive with memoization to store results.\n",
    "  - *Bottom-up:* solves smaller subproblems iteratively using a table."
   ]
  }
 ],
 "metadata": {
  "kernelspec": {
   "display_name": "Python 3",
   "language": "python",
   "name": "python3"
  },
  "language_info": {
   "codemirror_mode": {
    "name": "ipython",
    "version": 3
   },
   "file_extension": ".py",
   "mimetype": "text/x-python",
   "name": "python",
   "nbconvert_exporter": "python",
   "pygments_lexer": "ipython3",
   "version": "3.12.5"
  }
 },
 "nbformat": 4,
 "nbformat_minor": 2
}
